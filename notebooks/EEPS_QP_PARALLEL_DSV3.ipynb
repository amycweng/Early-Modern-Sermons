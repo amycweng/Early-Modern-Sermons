{
 "cells": [
  {
   "cell_type": "code",
   "execution_count": 2,
   "metadata": {},
   "outputs": [],
   "source": [
    "import os \n",
    "import time \n",
    "import json,math,sys,re\n",
    "import pandas as pd "
   ]
  },
  {
   "cell_type": "code",
   "execution_count": null,
   "metadata": {},
   "outputs": [],
   "source": [
    "folder = \"../..\"\n",
    "from dotenv import load_dotenv\n",
    "env_path = f'{folder}/deepseek.env'\n",
    "load_dotenv(dotenv_path=env_path)\n",
    "DEEPSEEK_KEY = os.getenv('DEEPSEEK_KEY')\n",
    "from openai import OpenAI\n",
    "client = OpenAI(api_key=DEEPSEEK_KEY, base_url=\"https://api.deepseek.com\")"
   ]
  },
  {
   "cell_type": "code",
   "execution_count": null,
   "metadata": {},
   "outputs": [],
   "source": [
    "fname = \"parallel_predictions_SAMPLE - FALSE\"\n",
    "parallel = pd.read_csv(f\"{folder}/Early-Modern-Sermons/assets/QP_Datasets/{fname}.csv\").fillna('')\n",
    "parallel = parallel.to_dict(orient='records')\n",
    "parallel[0], len(parallel)"
   ]
  },
  {
   "cell_type": "code",
   "execution_count": null,
   "metadata": {},
   "outputs": [],
   "source": [
    "fname = \"parallel_verses_UNCONFIDENT - HNDPR\"\n",
    "parallel = pd.read_csv(f\"{folder}/QP/{fname}.csv\").fillna('')\n",
    "parallel = parallel.to_dict(orient='records')\n",
    "for item in parallel: \n",
    "    item['text'] = item['ESV'] + \" \" + item['text']\n",
    "parallel[0], len(parallel)"
   ]
  },
  {
   "cell_type": "code",
   "execution_count": null,
   "metadata": {},
   "outputs": [],
   "source": [
    "prompt = \"\"\"You are given pairs of Bible verses from different Bible versions. \n",
    "            Verse 1 is always from the English Standard Version. Verse 2 comes from a different version. \n",
    "            As an Early Modern English and Latin expert, you determine whether they have similar meanings or very similar language. \n",
    "            If Verse 2 is in Latin, compare its translation with Verse 1 to see if it refers to the same idea, even if the numbering might differ. \n",
    "            For example, \"Psalms 113.2 facta est Judaea sanctificatio ejus; Israel potestas ejus.\" from the Vulgate is equivalent to \"Psalms 114.2 Judah became his sanctuary, Israel his dominion.\" from the ESV.\n",
    "            Return a True/False answer without giving any of your reasoning. \n",
    "        \"\"\""
   ]
  },
  {
   "cell_type": "markdown",
   "metadata": {},
   "source": [
    "You are given pairs of Bible verses from different Bible versions. \n",
    "Verse 1 is always from the English Standard Version. Verse 2 comes from a different version. \n",
    "As an Early Modern English and Latin expert, you determine whether they have similar meanings or very similar language. \n",
    "If Verse 2 is in Latin, compare its translation with Verse 1 to see if it refers to the same idea, even if the numbering might differ. \n",
    "For example, \"Psalms 113.2 facta est Judaea sanctificatio ejus; Israel potestas ejus.\" from the Vulgate is equivalent to \"Psalms 114.2 Judah became his sanctuary, Israel his dominion.\" from the ESV.\n",
    "Return a True/False answer without giving any of your reasoning. \n",
    "\n",
    "Input Verse 1 from the ESV: \"Genesis 4.21 His brother's name was Jubal; he was the father of all those who play the lyre and pipe.\"\n",
    "Input Verse 2 from the Wycliffe version: 'Genesis 4.21 and the name of his brother was Tubal, he was the fadir of syngeris in harpe and orgun.'\n",
    "\n",
    "Output:\n"
   ]
  },
  {
   "cell_type": "code",
   "execution_count": null,
   "metadata": {},
   "outputs": [],
   "source": [
    "with open(f\"{folder}/QP/predictions/{fname}_DSV3.json\",'r') as f: \n",
    "    responses = json.load(f) \n",
    "model = \"V3\" "
   ]
  },
  {
   "cell_type": "code",
   "execution_count": null,
   "metadata": {},
   "outputs": [],
   "source": [
    "from tqdm import tqdm \n",
    "\n",
    "for idx, item in enumerate(tqdm(parallel)):\n",
    "    key = \"{}; {} ({})\".format(item['ESV'], item['Parallel'], item['version'])\n",
    "    if key in responses: continue \n",
    "\n",
    "    response = client.chat.completions.create(\n",
    "        model='deepseek-chat',\n",
    "        max_tokens = 2, \n",
    "        messages=[ \n",
    "            {\"role\": \"user\",  \n",
    "             \"content\": f\"{prompt}\\n\\nInput Verse 1 from the ESV: {item['text']}\\nInput Verse 2 from the {item['version']}: {item['verse_text']}\\n\\nOutput:\"\n",
    "            }\n",
    "        ],\n",
    "        stream=False\n",
    "    )\n",
    "    \n",
    "    responses[key] = response.choices[0].message.content\n",
    "    if (idx+1) % 500 == 0: \n",
    "        with open(f\"{folder}/QP/predictions/{fname}_DS{model}.json\",'w') as f: \n",
    "            json.dump(responses,f) \n",
    "\n",
    "with open(f\"{folder}/QP/predictions/{fname}_DS{model}.json\",'w') as f: \n",
    "    json.dump(responses,f) \n",
    "    # 100%|██████████| 4380/4380 [4:56:13<00:00,  4.06s/it] \n",
    "    # 100%|██████████| 3291/3291 [3:09:16<00:00,  3.45s/it]"
   ]
  },
  {
   "cell_type": "code",
   "execution_count": null,
   "metadata": {},
   "outputs": [],
   "source": [
    "output = []\n",
    "found = {}\n",
    "for item in parallel:\n",
    "  key = \"{}; {} ({})\".format(item['ESV'], item['Parallel'], item['version'])\n",
    "  if key in responses: \n",
    "    key2 = (item['ESV'],item['version'])\n",
    "    item['prediction'] = responses[key].capitalize()\n",
    "    if item['prediction'] == 'True': \n",
    "      found[key2] = True \n",
    "    output.append(item)\n",
    "  else: \n",
    "    item['prediction'] = None \n",
    "    output.append(item)\n",
    "\n",
    "for item in parallel: \n",
    "  key2 = (item['ESV'],item['version'])\n",
    "  if key2 in found: \n",
    "    item['toCheck'] = False\n",
    "  else: \n",
    "    item['toCheck'] = True \n",
    "output = pd.DataFrame(output)\n",
    "output = output.sort_values(by='ESV')\n",
    "output['correction'] = ''\n",
    "print(len(output[output['toCheck'] == True]))\n",
    "output.to_csv(f\"{folder}/Early-Modern-Sermons/assets/QP_Datasets/parallel_verses_UNCONFIDENT - LABELED.csv\",index=False)\n",
    "output"
   ]
  },
  {
   "cell_type": "code",
   "execution_count": null,
   "metadata": {},
   "outputs": [],
   "source": [
    "output = []\n",
    "preds = responses\n",
    "for idx, entry in enumerate(parallel):\n",
    "  if idx in preds:\n",
    "    entry['prediction'] = preds[idx].capitalize()\n",
    "  output.append(entry)\n",
    "\n",
    "items = pd.read_csv(f\"{folder}/Early-Modern-Sermons/assets/QP_Datasets/parallel_predictions_SAMPLE - FALSE.csv\").fillna('').to_dict(orient='records')\n",
    "output.extend(items) \n",
    "output = pd.DataFrame(output)\n",
    "output = output.sort_values(by=\"index\")\n",
    "output.to_csv(f\"{folder}/Early-Modern-Sermons/assets/QP_Datasets/parallel_predictions_SAMPLE - FALSE.csv\",index=False)\n",
    "output"
   ]
  },
  {
   "cell_type": "code",
   "execution_count": null,
   "metadata": {},
   "outputs": [],
   "source": [
    "output.to_csv(f\"{folder}/Early-Modern-Sermons/assets/QP_Datasets/parallel_predictions_SAMPLE - FALSE.csv\",index=False)\n"
   ]
  },
  {
   "cell_type": "code",
   "execution_count": null,
   "metadata": {},
   "outputs": [],
   "source": [
    "os.remove(\"../assets/QP_Datasets/parallel_predictions_SAMPLE - NEW.csv\")"
   ]
  }
 ],
 "metadata": {
  "kernelspec": {
   "display_name": "openai",
   "language": "python",
   "name": "python3"
  },
  "language_info": {
   "codemirror_mode": {
    "name": "ipython",
    "version": 3
   },
   "file_extension": ".py",
   "mimetype": "text/x-python",
   "name": "python",
   "nbconvert_exporter": "python",
   "pygments_lexer": "ipython3",
   "version": "3.9.19"
  }
 },
 "nbformat": 4,
 "nbformat_minor": 2
}
