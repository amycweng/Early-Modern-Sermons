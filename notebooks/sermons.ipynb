{
 "cells": [
  {
   "cell_type": "code",
   "execution_count": 1,
   "metadata": {},
   "outputs": [],
   "source": [
    "import csv, os, re, shutil,json, sys\n",
    "import pandas as pd \n",
    "TCP = '/Users/amycweng/DH/TCP'\n",
    "sys.path.append('../')\n",
    "\n",
    "def findTextTCP(id):\n",
    "    if re.match('B1|B4',id[0:2]):\n",
    "        path = f'{TCP}/P2{id[0:2]}/{id}.P4.xml'\n",
    "    else: \n",
    "        if f'{id}.P4.xml' in os.listdir(f'{TCP}/P1{id[0:2]}'):\n",
    "            path = f'{TCP}/P1{id[0:2]}/{id}.P4.xml'\n",
    "        elif f'{id}.P4.xml' in os.listdir(f'{TCP}/P2{id[0:2]}'): \n",
    "            path = f'{TCP}/P2{id[0:2]}/{id}.P4.xml'\n",
    "    return path "
   ]
  },
  {
   "cell_type": "markdown",
   "metadata": {},
   "source": [
    "Find texts that contain sermons (DIV tag with attribute \"TYPE\"='sermon')"
   ]
  },
  {
   "cell_type": "code",
   "execution_count": null,
   "metadata": {},
   "outputs": [],
   "source": [
    "from bs4 import BeautifulSoup, SoupStrainer\n",
    "def is_sermon(filepath):\n",
    "    # read the input XML file \n",
    "    with open(filepath,'r') as file: \n",
    "        data = file.read()\n",
    "    # use soupstrainer to only parse the main body\n",
    "    tag = SoupStrainer(\"DIV1\")\n",
    "    soup = BeautifulSoup(data,features=\"xml\",parse_only=tag)\n",
    "    sermons = soup.findAll(attrs={\"TYPE\": \"sermon\"})\n",
    "    if len(sermons) > 0:      \n",
    "        return True\n",
    "    return False"
   ]
  },
  {
   "cell_type": "code",
   "execution_count": null,
   "metadata": {},
   "outputs": [
    {
     "name": "stdout",
     "output_type": "stream",
     "text": [
      "P1B0.csv\n",
      "P1A9.csv\n",
      "P1A8.csv\n",
      "P2B2.csv\n",
      "P2B3.csv\n",
      "P2B1.csv\n",
      "P2B0.csv\n",
      "P2B4.csv\n",
      "P2A8.csv\n",
      "P2A9.csv\n",
      "P2A7.csv\n",
      "P2A6.csv\n",
      "P2A4.csv\n",
      "P2A5.csv\n",
      "P2A1.csv\n",
      "P2A0.csv\n",
      "P2A2.csv\n",
      "P2A3.csv\n",
      "P1A6.csv\n",
      "P1A7.csv\n",
      "P1A5.csv\n",
      "P1A4.csv\n",
      "P1A0.csv\n",
      "P1A1.csv\n",
      "P1A3.csv\n",
      "P1A2.csv\n"
     ]
    }
   ],
   "source": [
    "metadataFolder = '/Users/amycweng/DH/ECBC-Data-2022/TCP metadata'\n",
    "sermons = []\n",
    "for csvFile in os.listdir(metadataFolder):\n",
    "    data = pd.read_csv(os.path.join(metadataFolder,csvFile))\n",
    "    for idx,tcpID in enumerate(data['id']):\n",
    "        if tcpID == \"id\": continue\n",
    "        filepath = findTextTCP(tcpID)\n",
    "        if is_sermon(filepath): \n",
    "            subject_headings = data['keywords'][idx].replace(\" -- \",\"; \").replace(\"  \",\" \")\n",
    "            sermons.append( {\"id\": tcpID, \n",
    "                            \"estc\":data['estc'][idx],\n",
    "                            \"stc\":data['stc'][idx],\n",
    "                            \"title\": data['title'][idx],\n",
    "                            \"authors\": \"; \".join(set(data['author'][idx].split(\"; \"))),\n",
    "                            \"publisher\": data['publisher'][idx],\n",
    "                            \"pubplace\":data['pubplace'][idx],\n",
    "                            \"subject_headings\":subject_headings,\n",
    "                            \"date\":data['date'][idx]\n",
    "                            }\n",
    "            )\n",
    "    print(csvFile)"
   ]
  },
  {
   "cell_type": "code",
   "execution_count": null,
   "metadata": {},
   "outputs": [
    {
     "name": "stdout",
     "output_type": "stream",
     "text": [
      "4239 TCP XML files contain sermons.\n"
     ]
    }
   ],
   "source": [
    "# store relevant metadata in a CSV file \n",
    "with open(\"../assets/sermons.csv\",\"w+\") as outfile: \n",
    "    writer = csv.DictWriter(outfile, fieldnames=sermons[0].keys())\n",
    "    writer.writeheader()\n",
    "    writer.writerows(sermons)\n",
    "\n",
    "print(f\"{len(sermons)} TCP XML files contain sermons.\") "
   ]
  },
  {
   "cell_type": "code",
   "execution_count": 9,
   "metadata": {},
   "outputs": [
    {
     "name": "stdout",
     "output_type": "stream",
     "text": [
      "377\n"
     ]
    }
   ],
   "source": [
    "# get catechisms and the Bible, as well as concordances \n",
    "import os \n",
    "import pandas as pd \n",
    "metadataFolder = '/Users/amycweng/DH/ECBC-Data-2022/TCP metadata'\n",
    "texts = []\n",
    "sermons_metadata = pd.read_csv(\"../assets/sermons.csv\")\n",
    "sermons = sermons_metadata[\"id\"]\n",
    "for csvFile in os.listdir(metadataFolder):\n",
    "    data = pd.read_csv(os.path.join(metadataFolder,csvFile))\n",
    "    for idx,tcpID in enumerate(data['id']):\n",
    "        title = data['title'][idx]\n",
    "        subject_headings = data['keywords'][idx].replace(\" -- \",\"; \").replace(\"  \",\" \")\n",
    "        if \"Catechism\" in subject_headings or re.search(r\"The Holy Bible|Index Biblicus|Annotations upon the Holy Bible\",title): \n",
    "            texts.append( {\"id\": tcpID, \n",
    "                                        \"estc\":data['estc'][idx],\n",
    "                                        \"stc\":data['stc'][idx],\n",
    "                                        \"title\": data['title'][idx],\n",
    "                                        \"authors\": \"; \".join(set(data['author'][idx].split(\"; \"))),\n",
    "                                        \"publisher\": data['publisher'][idx],\n",
    "                                        \"pubplace\":data['pubplace'][idx],\n",
    "                                        \"subject_headings\":subject_headings,\n",
    "                                        \"date\":data['date'][idx]\n",
    "                                        }\n",
    "                        )\n",
    "print(len(texts))\n",
    "for t in texts: \n",
    "    t = t[\"id\"]\n",
    "    path = findTextTCP(t)\n",
    "    shutil.copy(path,'/Users/amycweng/DH/bibleTCP')"
   ]
  },
  {
   "cell_type": "code",
   "execution_count": 10,
   "metadata": {},
   "outputs": [],
   "source": [
    "# store relevant metadata in a CSV file \n",
    "with open(\"../assets/bible_and_catechisms.csv\",\"w+\") as outfile: \n",
    "    writer = csv.DictWriter(outfile, fieldnames=texts[0].keys())\n",
    "    writer.writeheader()\n",
    "    writer.writerows(texts)"
   ]
  },
  {
   "cell_type": "markdown",
   "metadata": {},
   "source": [
    "Copy all the TCP XML files of the texts to a separate folder for easy browsing and extract plain text with proper delimiters  "
   ]
  },
  {
   "cell_type": "code",
   "execution_count": 2,
   "metadata": {},
   "outputs": [],
   "source": [
    "sermons_metadata = pd.read_csv(\"../assets/sermons.csv\")\n",
    "sermons = sermons_metadata[\"id\"]"
   ]
  },
  {
   "cell_type": "code",
   "execution_count": null,
   "metadata": {},
   "outputs": [],
   "source": [
    "for s in sermons: \n",
    "    path = findTextTCP(s)\n",
    "    shutil.copy(path,'/Users/amycweng/DH/sermonsTCP')"
   ]
  },
  {
   "cell_type": "code",
   "execution_count": 5,
   "metadata": {},
   "outputs": [],
   "source": [
    "from bs4 import BeautifulSoup, SoupStrainer\n",
    "sermon_counts = {} # tcpID to a count \n",
    "def extract(tcpID, filepath):\n",
    "    # read the input XML file \n",
    "    with open(filepath,'r') as file: \n",
    "        data = file.read()\n",
    "    # use soupstrainer to only parse the main body\n",
    "    tag = SoupStrainer(\"DIV1\")\n",
    "    soup = BeautifulSoup(data,features=\"xml\",parse_only=tag)\n",
    "    sermons = soup.findAll(attrs={\"TYPE\": \"sermon\"})\n",
    "    sermon_text = []\n",
    "    # need to place delimiters between each sermon, marginal note, and page\n",
    "    p_idx = 0 \n",
    "    for idx, sermon in enumerate(sermons):\n",
    "        n_idx = 0 # note's relative position within sermon\n",
    "        for t in sermon.find_all(['PB']):\n",
    "            # page numbers \n",
    "            if t.name == \"PB\" and \"N\" in t.attrs: \n",
    "                page = t[\"N\"]\n",
    "                t.string = f' PAGE{page} '\n",
    "            else: \n",
    "                page = t[\"REF\"]\n",
    "                t.string = f' PAGEIMAGE{page}'\n",
    "\n",
    "        for t in sermon.find_all(['P']):\n",
    "            # show display characters for GAP elements (illegible characters, non-Latin alphabet) \n",
    "            for gap in t.find_all(\"GAP\"):\n",
    "                if gap[\"DESC\"] == \"foreign\": \n",
    "                    gap.string = \" NONLATINALPHABET \" # 〈 in non-Latin alphabet 〉\n",
    "                elif \"DISP\" in gap.attrs: \n",
    "                    disp = gap[\"DISP\"]\n",
    "                    disp = re.sub(\"•\",\"^\",disp) # illegible letters \n",
    "                    disp = re.sub(\"◊\",\"*\",disp) # illegible words \n",
    "                    gap.string = disp\n",
    "            for italics in t.find_all(\"HI\"):\n",
    "                italics.string = f\" STARTITALICS {italics.text} ENDITALICS \"\n",
    "            for item in t.find_all([\"NOTE\"]):\n",
    "                if item.name == \"NOTE\":\n",
    "                    # add note delimiters \n",
    "                    item.string = f\" STARTNOTE{n_idx} {item.text} ENDNOTE{n_idx} \"\n",
    "                    n_idx += 1 \n",
    "            t.string = f\" STARTPARAGRAPH{p_idx} {t.text} \"\n",
    "            p_idx += 1 \n",
    "        text = re.sub(r\"[^\\x00-\\x7F]\",\"\",str(sermon.text))\n",
    "        text = re.sub(r\"[\\{\\}\\[\\]]\",\"\",text)\n",
    "        text = f\"{f' SERMON{idx}'} {text}\"\n",
    "        text = re.sub(r\"\\s+\",\" \",text)\n",
    "        sermon_text.append(text)\n",
    "    with open(f\"../assets/plain/{tcpID}.txt\",\"w+\") as file:\n",
    "        file.writelines(\" \".join(sermon_text)) # write as one long string          \n",
    "    return len(sermons)"
   ]
  },
  {
   "cell_type": "code",
   "execution_count": 6,
   "metadata": {},
   "outputs": [
    {
     "name": "stdout",
     "output_type": "stream",
     "text": [
      "Processed 1000\n",
      "Processed 2000\n",
      "Processed 3000\n",
      "Processed 4000\n"
     ]
    }
   ],
   "source": [
    "sermon_counts = {} # tcpID to a count of its sections labeled as sermons \n",
    "for tcpID in sermons: \n",
    "    path = findTextTCP(tcpID)\n",
    "    sermon_counts[tcpID] = extract(tcpID, path)\n",
    "    if len(sermon_counts) % 1000 == 0: print(f\"Processed {len(sermon_counts)}\")"
   ]
  },
  {
   "cell_type": "code",
   "execution_count": 7,
   "metadata": {},
   "outputs": [],
   "source": [
    "with open(\"../assets/sermon_counts.csv\",\"w+\") as outfile:\n",
    "    json.dump(sermon_counts, outfile)"
   ]
  },
  {
   "cell_type": "code",
   "execution_count": 8,
   "metadata": {},
   "outputs": [],
   "source": [
    "import matplotlib.pyplot as plt \n",
    "import numpy as np \n",
    "def visualize(x,y,title,xlabel,ylabel,color):\n",
    "    plt.figure(figsize = (15, 10))\n",
    "    plt.bar(x,y,color=color)\n",
    "    plt.title(title, fontsize=20)\n",
    "    plt.xlabel(xlabel, fontsize=15)\n",
    "    plt.xticks(np.arange(min(x), max(x)+1, 10.0), fontsize=12)\n",
    "    plt.ylabel(ylabel, fontsize=15)\n",
    "    plt.yticks(fontsize=10)\n",
    "    plt.show()"
   ]
  },
  {
   "cell_type": "code",
   "execution_count": 9,
   "metadata": {},
   "outputs": [
    {
     "data": {
      "image/png": "[encoded data removed]",
      "text/plain": [
       "<Figure size 1500x1000 with 1 Axes>"
      ]
     },
     "metadata": {},
     "output_type": "display_data"
    }
   ],
   "source": [
    "counts = {}\n",
    "for s, count in sermon_counts.items(): \n",
    "    # if count < 3: continue\n",
    "    if count not in counts: counts[count] = 0\n",
    "    counts[count] += 1 \n",
    "sorted_counts = {k:v for k,v in sorted(counts.items(),key=lambda k:k[1],reverse=True) if k > 2}\n",
    "visualize(sorted_counts.keys(), sorted_counts.values(), 'Count of Sermons Within Texts','Count of Sermons in a Single Text','Count of Texts','darkblue')\n"
   ]
  },
  {
   "cell_type": "code",
   "execution_count": 10,
   "metadata": {},
   "outputs": [
    {
     "name": "stdout",
     "output_type": "stream",
     "text": [
      "15248\n"
     ]
    }
   ],
   "source": [
    "print(sum(sermon_counts.values()))"
   ]
  },
  {
   "cell_type": "code",
   "execution_count": 11,
   "metadata": {},
   "outputs": [
    {
     "name": "stdout",
     "output_type": "stream",
     "text": [
      "[('17th century', 3286), ('Sermons, English', 3246), ('Sermons', 3016), ('Bible', 1871), ('Early works to 1800', 1741), ('N.T', 935), ('O.T', 916), ('Funeral sermons', 461), ('Church of England', 322), ('Great Britain', 205), ('Fast-day sermons', 198), ('16th century', 195), ('History', 188), ('England', 158), ('Controversial literature', 104), ('Christian life', 99), ('Religious aspects', 78), ('Charles', 73), ('Commentaries', 63), ('Catholic Church', 63)]\n"
     ]
    }
   ],
   "source": [
    "subjects = sermons_metadata[\"subject_headings\"]\n",
    "all_subjects = []\n",
    "for s in subjects: \n",
    "    all_subjects.extend([_.strip('.') for _ in s.split(\"; \")])\n",
    "from collections import Counter\n",
    "print(Counter(all_subjects).most_common(n=20))\n"
   ]
  }
 ],
 "metadata": {
  "kernelspec": {
   "display_name": "base",
   "language": "python",
   "name": "python3"
  },
  "language_info": {
   "codemirror_mode": {
    "name": "ipython",
    "version": 3
   },
   "file_extension": ".py",
   "mimetype": "text/x-python",
   "name": "python",
   "nbconvert_exporter": "python",
   "pygments_lexer": "ipython3",
   "version": "3.9.18"
  }
 },
 "nbformat": 4,
 "nbformat_minor": 2
}
