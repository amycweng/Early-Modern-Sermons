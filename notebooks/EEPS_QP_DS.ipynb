{
 "cells": [
  {
   "cell_type": "code",
   "execution_count": null,
   "metadata": {},
   "outputs": [],
   "source": [
    "import os \n",
    "import time \n",
    "import json,math,sys,re\n",
    "import pandas as pd "
   ]
  },
  {
   "cell_type": "code",
   "execution_count": null,
   "metadata": {},
   "outputs": [],
   "source": [
    "qp_folder = \"/Users/amycweng/Downloads/QP\"\n",
    "from dotenv import load_dotenv\n",
    "env_path = '/Users/amycweng/DH/deepseek.env'\n",
    "load_dotenv(dotenv_path=env_path)\n",
    "DEEPSEEK_KEY = os.getenv('DEEPSEEK_KEY')\n",
    "from openai import OpenAI\n",
    "client = OpenAI(api_key=DEEPSEEK_KEY, base_url=\"https://api.deepseek.com\")"
   ]
  },
  {
   "cell_type": "code",
   "execution_count": null,
   "metadata": {},
   "outputs": [],
   "source": [
    "inputfname = \"preE_qp\"\n",
    "fname = f\"{inputfname}_DS\"\n",
    "data = pd.read_csv(f\"{qp_folder}/{inputfname}.csv\")\n",
    "data = data.drop(columns=['0','1','2','3','4','5','Unnamed: 7'])\n",
    "data = data.rename(columns = {'6':'text','8':'verse_text','9':'my_label'})\n",
    "data = data.to_dict(orient=\"records\")"
   ]
  },
  {
   "cell_type": "code",
   "execution_count": null,
   "metadata": {},
   "outputs": [],
   "source": [
    "inputfname = \"Vul_notPriorInCited\"\n",
    "# inputfname = \"preE_Vul\"\n",
    "fname = f\"{inputfname}_DS\"\n",
    "data = pd.read_csv(f\"{qp_folder}/{inputfname}.csv\")\n",
    "data = data.to_dict(orient=\"records\")"
   ]
  },
  {
   "cell_type": "code",
   "execution_count": 90,
   "metadata": {},
   "outputs": [
    {
     "data": {
      "text/plain": [
       "({'text': 'Death is swalowed into victory.',\n",
       "  'verse_text': 'And when this mortal hath put on immortality, then shall come to pass the saying that is written: Death is swallowed up in victory.',\n",
       "  'my_label': 'TRUE',\n",
       "  'index': 196},\n",
       " 4842,\n",
       " 3000,\n",
       " 'TRUE')"
      ]
     },
     "execution_count": 90,
     "metadata": {},
     "output_type": "execute_result"
    }
   ],
   "source": [
    "for idx, item in enumerate(data): \n",
    "    item['index'] = idx \n",
    "with open(f\"/Users/amycweng/DH/Early-Modern-Sermons/assets/QP_labels/{fname}.json\",'r') as f: \n",
    "    labels = json.load(f) \n",
    "data[196], len(data), len(labels),labels['196']"
   ]
  },
  {
   "cell_type": "code",
   "execution_count": 84,
   "metadata": {},
   "outputs": [
    {
     "name": "stderr",
     "output_type": "stream",
     "text": [
      "100%|██████████| 488/488 [1:25:42<00:00, 10.54s/it]\n"
     ]
    }
   ],
   "source": [
    "from tqdm import tqdm \n",
    "start = 2512 #\n",
    "end = 3000\n",
    "my_qp = data[start:end] \n",
    "\n",
    "for qp_pair in tqdm(my_qp):\n",
    "    response = client.chat.completions.create(\n",
    "        model=\"deepseek-chat\",\n",
    "        messages=[\n",
    "            {\"role\": \"system\", \"content\": \"You are an English and Latin scholar working on Biblical language in early modern texts. You determine whether the first sentence is a quotation/paraphrase of a given Biblical verse in the SAME LANGUAGE. You give a single TRUE or FALSE output FOR EACH USER MESSAGE without any reasoning.\"},\n",
    "            {\"role\": \"user\",  \"content\": f\"SENTENCE: '{qp_pair['text']}'; 'VERSE: {qp_pair['verse_text']}'\"}\n",
    "        ],\n",
    "        stream=False\n",
    "    )\n",
    "    labels[qp_pair['index']] = response.choices[0].message.content\n",
    "\n",
    "with open(f\"/Users/amycweng/DH/Early-Modern-Sermons/assets/QP_labels/{fname}.json\",'w') as f: \n",
    "    json.dump(labels,f) # 13mins for 100 entries; 50mins for 400 entries  # 13 secs per entry"
   ]
  },
  {
   "cell_type": "code",
   "execution_count": 91,
   "metadata": {},
   "outputs": [],
   "source": [
    "for idx, entry in labels.items(): \n",
    "    entry = entry.strip()\n",
    "    if entry not in [\"TRUE\",\"FALSE\"]: \n",
    "        qp_pair = data[int(idx)]\n",
    "        print(idx)\n",
    "        print(qp_pair)\n",
    "        print(entry)\n",
    "        # response = client.chat.completions.create(\n",
    "        #     model=\"deepseek-chat\",\n",
    "        #     messages=[\n",
    "        #         {\"role\": \"system\", \"content\": \"You are an English and Latin scholar working on Biblical language in early modern texts. You determine whether the first sentence is a quotation/paraphrase of a given Biblical verse in the SAME LANGUAGE. You give a single TRUE or FALSE output FOR EACH USER MESSAGE without any reasoning.\"},\n",
    "        #         {\"role\": \"user\",  \"content\": f\"SENTENCE: '{qp_pair['text']}'; 'VERSE: {qp_pair['verse_text']}'\"}\n",
    "        #     ],\n",
    "        #     stream=False\n",
    "        # )\n",
    "        # labels[str(qp_pair['index'])] = response.choices[0].message.content\n",
    "        # print(response.choices[0].message.content)"
   ]
  },
  {
   "cell_type": "code",
   "execution_count": 86,
   "metadata": {},
   "outputs": [
    {
     "data": {
      "text/plain": [
       "3001"
      ]
     },
     "execution_count": 86,
     "metadata": {},
     "output_type": "execute_result"
    }
   ],
   "source": [
    "with open(f\"/Users/amycweng/DH/Early-Modern-Sermons/assets/QP_labels/{fname}.json\",'w') as f: \n",
    "    json.dump(labels,f)\n",
    "\n",
    "len(labels)"
   ]
  }
 ],
 "metadata": {
  "kernelspec": {
   "display_name": "openai",
   "language": "python",
   "name": "python3"
  },
  "language_info": {
   "codemirror_mode": {
    "name": "ipython",
    "version": 3
   },
   "file_extension": ".py",
   "mimetype": "text/x-python",
   "name": "python",
   "nbconvert_exporter": "python",
   "pygments_lexer": "ipython3",
   "version": "3.9.19"
  }
 },
 "nbformat": 4,
 "nbformat_minor": 2
}
