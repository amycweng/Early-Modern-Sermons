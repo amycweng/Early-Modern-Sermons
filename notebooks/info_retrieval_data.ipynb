{
 "cells": [
  {
   "cell_type": "markdown",
   "metadata": {},
   "source": [
    "# Prepare data for information retrieval fine-tuning "
   ]
  },
  {
   "cell_type": "markdown",
   "metadata": {},
   "source": [
    "## Map Bible verse to body segments with the relevant citations"
   ]
  },
  {
   "cell_type": "code",
   "execution_count": 1,
   "metadata": {},
   "outputs": [],
   "source": [
    "import re,json,os\n",
    "import pandas as pd \n",
    "from tqdm import tqdm "
   ]
  },
  {
   "cell_type": "code",
   "execution_count": 7,
   "metadata": {},
   "outputs": [],
   "source": [
    "def process(era,c_type=\"verse\"): \n",
    "    relevant = {}\n",
    "    with open(f\"../assets/citations/{era}_citation_segments.json\") as file:\n",
    "        c_to_seg = json.load(file)\n",
    "    seg_to_c = {}\n",
    "    for cited, segments in c_to_seg.items():\n",
    "        if \"Ibidem\" in cited: continue \n",
    "        cited = \" \".join(cited.split(\"-\"))\n",
    "        if re.search(r\"\\d+ \\d+\",cited):\n",
    "            cited = cited.split(\" \")\n",
    "            if c_type == \"verse\": \n",
    "                cited = \" \".join(cited[:-2]) +\" \" + \".\".join(cited[-2:])\n",
    "            else: cited = \" \".join(cited)\n",
    "        for s in segments: \n",
    "            seg_id = (s.split(\",\")[0],int(s.split(\",\")[1]))\n",
    "            if seg_id not in seg_to_c: \n",
    "                seg_to_c[seg_id] = []\n",
    "            seg_to_c[seg_id].append(cited)\n",
    "    print(era, len(c_to_seg),'citations',len(seg_to_c),\"segments\")\n",
    "\n",
    "    for fp in tqdm(os.listdir(f\"/Users/amycweng/DH/SERMONS_APP/db/data/{era}\")):\n",
    "        if \"body\" not in fp: continue \n",
    "        text = pd.read_csv(f\"/Users/amycweng/DH/SERMONS_APP/db/data/{era}/{fp}\", header=None)\n",
    "        for idx, tcpID in enumerate(text[0]):\n",
    "            sidx = str(text[1][idx])\n",
    "            \n",
    "            close_to_citation = False \n",
    "            citation_sidx = []\n",
    "            # window of 2 segments \n",
    "            if (tcpID,int(sidx)) in seg_to_c:\n",
    "                close_to_citation = True\n",
    "                citation_sidx.append(int(sidx))\n",
    "            else: \n",
    "                i = 1 \n",
    "                if (tcpID,int(sidx)-i) in seg_to_c:\n",
    "                    close_to_citation = True\n",
    "                    citation_sidx.append(int(sidx)-i)\n",
    "                elif (tcpID,int(sidx)+i) in seg_to_c:\n",
    "                    close_to_citation = True \n",
    "                    citation_sidx.append(int(sidx)+i)\n",
    "            if close_to_citation: \n",
    "                s = text[7][idx]\n",
    "                t = text[6][idx]\n",
    "                t = re.sub(r\"\\<\\/i\\>|\\<NOTE\\>|NONLATINALPHABET|\\<i\\>\",\"\",t)\n",
    "                t = re.sub(r\"\\s+\",\" \",t)\n",
    "                t = t.strip(\" \")\n",
    "                if len(t.split(\" \"))< 5: continue # at least 5 words long\n",
    "                if s not in relevant: \n",
    "                    relevant[s] = ({},{},{}) # citations, original, location \n",
    "                relevant[s][2][(tcpID,sidx)] = None \n",
    "                relevant[s][1][t] = None \n",
    "                for entry in citation_sidx: \n",
    "                    for c in seg_to_c[(tcpID,entry)]:\n",
    "                        relevant[s][0][c] = None \n",
    "    for s,r in relevant.items(): \n",
    "        relevant[s] = (list(r[0].keys()), list(r[1].keys()), list(r[2].keys()))\n",
    "    print(len(set(relevant)),'unique passages')\n",
    "    with open(f\"../assets/relevant/{era}_citations.json\",\"w+\") as file: \n",
    "        json.dump(relevant, file)\n"
   ]
  },
  {
   "cell_type": "code",
   "execution_count": 8,
   "metadata": {},
   "outputs": [
    {
     "name": "stdout",
     "output_type": "stream",
     "text": [
      "pre-Elizabethan 1255 citations 5335 segments\n"
     ]
    },
    {
     "name": "stderr",
     "output_type": "stream",
     "text": [
      "100%|██████████| 19/19 [00:01<00:00, 10.75it/s]\n"
     ]
    },
    {
     "name": "stdout",
     "output_type": "stream",
     "text": [
      "13180 unique passages\n",
      "Elizabethan 18612 citations 66304 segments\n"
     ]
    },
    {
     "name": "stderr",
     "output_type": "stream",
     "text": [
      "100%|██████████| 19/19 [00:18<00:00,  1.05it/s]\n"
     ]
    },
    {
     "name": "stdout",
     "output_type": "stream",
     "text": [
      "157078 unique passages\n",
      "Jacobean 28028 citations 128122 segments\n"
     ]
    },
    {
     "name": "stderr",
     "output_type": "stream",
     "text": [
      "100%|██████████| 22/22 [00:23<00:00,  1.05s/it]\n"
     ]
    },
    {
     "name": "stdout",
     "output_type": "stream",
     "text": [
      "282511 unique passages\n",
      "Carolinian 29558 citations 125648 segments\n"
     ]
    },
    {
     "name": "stderr",
     "output_type": "stream",
     "text": [
      "100%|██████████| 33/33 [00:23<00:00,  1.41it/s]\n"
     ]
    },
    {
     "name": "stdout",
     "output_type": "stream",
     "text": [
      "279490 unique passages\n",
      "CivilWar 24626 citations 76868 segments\n"
     ]
    },
    {
     "name": "stderr",
     "output_type": "stream",
     "text": [
      "100%|██████████| 29/29 [00:14<00:00,  1.97it/s]\n"
     ]
    },
    {
     "name": "stdout",
     "output_type": "stream",
     "text": [
      "182425 unique passages\n",
      "Interregnum 29512 citations 137974 segments\n"
     ]
    },
    {
     "name": "stderr",
     "output_type": "stream",
     "text": [
      " 82%|████████▏ | 23/28 [00:19<00:05,  1.02s/it]/var/folders/3_/ylrg8wdj20l755p4921q0wg80000gp/T/ipykernel_49079/1534402195.py:23: DtypeWarning: Columns (3) have mixed types. Specify dtype option on import or set low_memory=False.\n",
      "  text = pd.read_csv(f\"/Users/amycweng/DH/SERMONS_APP/db/data/{era}/{fp}\", header=None)\n",
      "100%|██████████| 28/28 [00:28<00:00,  1.02s/it]\n"
     ]
    },
    {
     "name": "stdout",
     "output_type": "stream",
     "text": [
      "313682 unique passages\n",
      "CharlesII 36222 citations 260707 segments\n"
     ]
    },
    {
     "name": "stderr",
     "output_type": "stream",
     "text": [
      "100%|██████████| 30/30 [00:59<00:00,  1.98s/it]\n"
     ]
    },
    {
     "name": "stdout",
     "output_type": "stream",
     "text": [
      "600644 unique passages\n",
      "JamesII 11290 citations 17852 segments\n"
     ]
    },
    {
     "name": "stderr",
     "output_type": "stream",
     "text": [
      "100%|██████████| 28/28 [00:04<00:00,  6.97it/s]\n"
     ]
    },
    {
     "name": "stdout",
     "output_type": "stream",
     "text": [
      "42781 unique passages\n",
      "WilliamAndMary 24357 citations 160023 segments\n"
     ]
    },
    {
     "name": "stderr",
     "output_type": "stream",
     "text": [
      "100%|██████████| 32/32 [00:24<00:00,  1.32it/s]\n"
     ]
    },
    {
     "name": "stdout",
     "output_type": "stream",
     "text": [
      "333484 unique passages\n"
     ]
    }
   ],
   "source": [
    "with open('../assets/corpora.json',\"r\") as file: \n",
    "    eras = json.load(file)\n",
    "for era in eras: \n",
    "    process(era)"
   ]
  },
  {
   "cell_type": "markdown",
   "metadata": {},
   "source": [
    "## Get non-citation segments "
   ]
  },
  {
   "cell_type": "code",
   "execution_count": 13,
   "metadata": {},
   "outputs": [],
   "source": [
    "# Body Texts  \n",
    "from tqdm import tqdm \n",
    "\n",
    "def get_era(era):\n",
    "    parts = {}\n",
    "    for fp in tqdm(os.listdir(f\"/Users/amycweng/DH/SERMONS_APP/db/data/{era}\")):\n",
    "        if \"body\" not in fp: continue \n",
    "        text = pd.read_csv(f\"/Users/amycweng/DH/SERMONS_APP/db/data/{era}/{fp}\", header=None)\n",
    "        text = text.to_dict(orient=\"records\")\n",
    "        for item in text:\n",
    "            original = item[6]\n",
    "            original = re.sub(r\"\\<\\/i\\>|\\<NOTE\\>|NONLATINALPHABET|\\<i\\>\",\"\",original)\n",
    "            original = re.sub(r\"\\s+\",\" \",original)\n",
    "            original = original.strip(\" \")\n",
    "            tcpID, sidx = item[0], item[1]\n",
    "            s = item[7]\n",
    "            if not isinstance(s,str): continue \n",
    "            if len(s) == 0: continue \n",
    "            if s not in parts: \n",
    "                parts[s] = ({},{}) # original, locations \n",
    "            parts[s][1][(tcpID,str(sidx))] = None \n",
    "            parts[s][0][original] = None \n",
    "    for s,r in parts.items(): \n",
    "        parts[s] = [[str(k) for k in r[0]], list(r[1].keys())]\n",
    "\n",
    "    with open(f\"../assets/unique/{era}.json\",\"w+\") as file: \n",
    "        json.dump(parts,file)\n",
    "\n",
    "    print(f\"{era}: Total {len(parts)} parts.\")\n",
    "\n",
    "    # Marginalia \n",
    "    parts = {}\n",
    "    for fp in tqdm(os.listdir(f\"/Users/amycweng/DH/SERMONS_APP/db/data/{era}\")):\n",
    "        if \"margin\" not in fp: continue \n",
    "        margin = pd.read_csv(f\"/Users/amycweng/DH/SERMONS_APP/db/data/{era}/{fp}\", header=None, names=[\"tcpID\",\"sidx\",\"nidx\",\"original\",\"standardized\"])\n",
    "        margin = margin.to_dict(orient=\"records\")\n",
    "        for m in margin:\n",
    "            t = m[\"original\"]\n",
    "            if isinstance(t,float): continue\n",
    "            original = re.sub(r\"\\<\\/i\\>|\\<NOTE\\>|NONLATINALPHABET|\\<i\\>\",\"\",t)\n",
    "            original = re.sub(r\"\\s+\",\" \",original)\n",
    "            t = original.strip(\" \")\n",
    "            tcpID, sidx, nidx = m[\"tcpID\"], m[\"sidx\"], m[\"nidx\"]\n",
    "            s = m[\"standardized\"]\n",
    "            if not isinstance(s,str): continue \n",
    "            if len(s) == 0: continue \n",
    "            if s not in parts: \n",
    "                parts[s] = ({},{}) # original, locations \n",
    "            parts[s][1][(tcpID,str(sidx),str(nidx))] = None \n",
    "            parts[s][0][t] = None \n",
    "    for s,r in parts.items(): \n",
    "        parts[s] = [[str(k) for k in r[0]], list(r[1].keys())]\n",
    "    with open(f\"../assets/unique/{era}_margin.json\",\"w+\") as file: \n",
    "        json.dump(parts,file)\n",
    "    print(f\"{era} marginalia: Total {len(parts)} parts.\")"
   ]
  },
  {
   "cell_type": "code",
   "execution_count": 10,
   "metadata": {},
   "outputs": [
    {
     "name": "stderr",
     "output_type": "stream",
     "text": [
      "100%|██████████| 19/19 [00:02<00:00,  6.42it/s]\n"
     ]
    },
    {
     "name": "stdout",
     "output_type": "stream",
     "text": [
      "pre-Elizabethan: Total 109838 parts.\n"
     ]
    },
    {
     "name": "stderr",
     "output_type": "stream",
     "text": [
      "100%|██████████| 19/19 [00:00<00:00, 148.54it/s]\n"
     ]
    },
    {
     "name": "stdout",
     "output_type": "stream",
     "text": [
      "pre-Elizabethan marginalia: Total 7066 parts.\n"
     ]
    }
   ],
   "source": [
    "get_era(\"pre-Elizabethan\")"
   ]
  },
  {
   "cell_type": "code",
   "execution_count": 14,
   "metadata": {},
   "outputs": [
    {
     "name": "stderr",
     "output_type": "stream",
     "text": [
      "100%|██████████| 19/19 [00:29<00:00,  1.55s/it]\n"
     ]
    },
    {
     "name": "stdout",
     "output_type": "stream",
     "text": [
      "Elizabethan: Total 1038558 parts.\n"
     ]
    },
    {
     "name": "stderr",
     "output_type": "stream",
     "text": [
      "100%|██████████| 19/19 [00:01<00:00, 12.75it/s]\n"
     ]
    },
    {
     "name": "stdout",
     "output_type": "stream",
     "text": [
      "Elizabethan marginalia: Total 93532 parts.\n"
     ]
    }
   ],
   "source": [
    "get_era(\"Elizabethan\")"
   ]
  },
  {
   "cell_type": "code",
   "execution_count": 15,
   "metadata": {},
   "outputs": [
    {
     "name": "stderr",
     "output_type": "stream",
     "text": [
      "100%|██████████| 28/28 [00:18<00:00,  1.54it/s]\n"
     ]
    },
    {
     "name": "stdout",
     "output_type": "stream",
     "text": [
      "CivilWar: Total 719282 parts.\n"
     ]
    },
    {
     "name": "stderr",
     "output_type": "stream",
     "text": [
      "100%|██████████| 28/28 [00:00<00:00, 32.93it/s]\n"
     ]
    },
    {
     "name": "stdout",
     "output_type": "stream",
     "text": [
      "CivilWar marginalia: Total 50047 parts.\n"
     ]
    }
   ],
   "source": [
    "get_era(\"CivilWar\")"
   ]
  },
  {
   "cell_type": "code",
   "execution_count": 16,
   "metadata": {},
   "outputs": [
    {
     "name": "stderr",
     "output_type": "stream",
     "text": [
      "100%|██████████| 22/22 [00:28<00:00,  1.27s/it]\n"
     ]
    },
    {
     "name": "stdout",
     "output_type": "stream",
     "text": [
      "Jacobean: Total 1114983 parts.\n"
     ]
    },
    {
     "name": "stderr",
     "output_type": "stream",
     "text": [
      "100%|██████████| 22/22 [00:02<00:00,  9.28it/s]\n"
     ]
    },
    {
     "name": "stdout",
     "output_type": "stream",
     "text": [
      "Jacobean marginalia: Total 109834 parts.\n"
     ]
    }
   ],
   "source": [
    "get_era(\"Jacobean\")"
   ]
  },
  {
   "cell_type": "code",
   "execution_count": 17,
   "metadata": {},
   "outputs": [
    {
     "name": "stderr",
     "output_type": "stream",
     "text": [
      "100%|██████████| 33/33 [00:29<00:00,  1.13it/s]\n"
     ]
    },
    {
     "name": "stdout",
     "output_type": "stream",
     "text": [
      "Carolinian: Total 1167333 parts.\n"
     ]
    },
    {
     "name": "stderr",
     "output_type": "stream",
     "text": [
      "100%|██████████| 33/33 [00:01<00:00, 17.19it/s]\n"
     ]
    },
    {
     "name": "stdout",
     "output_type": "stream",
     "text": [
      "Carolinian marginalia: Total 96211 parts.\n"
     ]
    }
   ],
   "source": [
    "get_era(\"Carolinian\")"
   ]
  },
  {
   "cell_type": "code",
   "execution_count": 18,
   "metadata": {},
   "outputs": [
    {
     "name": "stderr",
     "output_type": "stream",
     "text": [
      " 82%|████████▏ | 23/28 [00:21<00:05,  1.15s/it]/var/folders/3_/ylrg8wdj20l755p4921q0wg80000gp/T/ipykernel_54307/2248434086.py:8: DtypeWarning: Columns (3) have mixed types. Specify dtype option on import or set low_memory=False.\n",
      "  text = pd.read_csv(f\"/Users/amycweng/DH/SERMONS_APP/db/data/{era}/{fp}\", header=None)\n",
      "100%|██████████| 28/28 [00:31<00:00,  1.13s/it]\n"
     ]
    },
    {
     "name": "stdout",
     "output_type": "stream",
     "text": [
      "Interregnum: Total 1210755 parts.\n"
     ]
    },
    {
     "name": "stderr",
     "output_type": "stream",
     "text": [
      "100%|██████████| 28/28 [00:01<00:00, 20.16it/s]\n"
     ]
    },
    {
     "name": "stdout",
     "output_type": "stream",
     "text": [
      "Interregnum marginalia: Total 60876 parts.\n"
     ]
    }
   ],
   "source": [
    "get_era(\"Interregnum\")"
   ]
  },
  {
   "cell_type": "code",
   "execution_count": 19,
   "metadata": {},
   "outputs": [
    {
     "name": "stderr",
     "output_type": "stream",
     "text": [
      "100%|██████████| 28/28 [00:06<00:00,  4.66it/s]\n"
     ]
    },
    {
     "name": "stdout",
     "output_type": "stream",
     "text": [
      "JamesII: Total 230192 parts.\n"
     ]
    },
    {
     "name": "stderr",
     "output_type": "stream",
     "text": [
      "100%|██████████| 28/28 [00:00<00:00, 72.92it/s]\n"
     ]
    },
    {
     "name": "stdout",
     "output_type": "stream",
     "text": [
      "JamesII marginalia: Total 11589 parts.\n"
     ]
    }
   ],
   "source": [
    "get_era(\"JamesII\")"
   ]
  },
  {
   "cell_type": "code",
   "execution_count": 20,
   "metadata": {},
   "outputs": [
    {
     "name": "stderr",
     "output_type": "stream",
     "text": [
      "100%|██████████| 30/30 [01:07<00:00,  2.26s/it]\n"
     ]
    },
    {
     "name": "stdout",
     "output_type": "stream",
     "text": [
      "CharlesII: Total 2575232 parts.\n"
     ]
    },
    {
     "name": "stderr",
     "output_type": "stream",
     "text": [
      "100%|██████████| 30/30 [00:01<00:00, 16.40it/s]\n"
     ]
    },
    {
     "name": "stdout",
     "output_type": "stream",
     "text": [
      "CharlesII marginalia: Total 90319 parts.\n"
     ]
    }
   ],
   "source": [
    "get_era(\"CharlesII\")"
   ]
  },
  {
   "cell_type": "code",
   "execution_count": 21,
   "metadata": {},
   "outputs": [
    {
     "name": "stderr",
     "output_type": "stream",
     "text": [
      "100%|██████████| 32/32 [00:32<00:00,  1.02s/it]\n"
     ]
    },
    {
     "name": "stdout",
     "output_type": "stream",
     "text": [
      "WilliamAndMary: Total 1123151 parts.\n"
     ]
    },
    {
     "name": "stderr",
     "output_type": "stream",
     "text": [
      "100%|██████████| 32/32 [00:00<00:00, 70.48it/s]\n"
     ]
    },
    {
     "name": "stdout",
     "output_type": "stream",
     "text": [
      "WilliamAndMary marginalia: Total 25198 parts.\n"
     ]
    }
   ],
   "source": [
    "get_era(\"WilliamAndMary\")"
   ]
  }
 ],
 "metadata": {
  "kernelspec": {
   "display_name": "base",
   "language": "python",
   "name": "python3"
  },
  "language_info": {
   "codemirror_mode": {
    "name": "ipython",
    "version": 3
   },
   "file_extension": ".py",
   "mimetype": "text/x-python",
   "name": "python",
   "nbconvert_exporter": "python",
   "pygments_lexer": "ipython3",
   "version": "3.11.5"
  }
 },
 "nbformat": 4,
 "nbformat_minor": 2
}
