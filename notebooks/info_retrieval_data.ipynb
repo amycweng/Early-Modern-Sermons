{
 "cells": [
  {
   "cell_type": "markdown",
   "metadata": {},
   "source": [
    "# Prepare data for information retrieval fine-tuning \n",
    "\n",
    "Map Bible verse to body segments with the relevant citations"
   ]
  },
  {
   "cell_type": "code",
   "execution_count": 55,
   "metadata": {},
   "outputs": [],
   "source": [
    "import re,json,os\n",
    "import pandas as pd \n",
    "def combine_punc_with_text(segment):\n",
    "    segment = re.sub(r'\\s+([,.?!;:)])', r'\\1', segment)\n",
    "    segment = re.sub(r'([(])\\s+', r'\\1', segment)\n",
    "    segment = re.sub(r\"\\s+\",\" \",segment)\n",
    "    return segment\n",
    "\n",
    "convert_book = {\"KJV\":\n",
    "                        {\"Wisdom-of-Solomon\":\"Wisdom\",\"Prayer-of-Azariah\":\"Azariah\",\n",
    "                        \"Song-of-Solomon\":\"Canticles\",\"Epistle-of-Jeremiah\":\"Jeremiah\",\n",
    "                        \"Prayer-of-Manasseh\":\"Manasseh\",\"Acts-of-the-Apostles\":\"Acts\"},\n",
    "                \"Douay-Rheims\": \n",
    "                        {\"Psalm\":\"Psalms\",\"Song-of-Solomon\":\"Canticles\"},\n",
    "                \"LV\": {'Gen': \"Genesis\", 'Exo': \"Exodus\", 'Lev': \"Leviticus\", \n",
    "                        'Num': \"Numbers\", 'Deu': \"Deuteronomy\", 'Jos': \"Joshua\", \n",
    "                        'Jdg': \"Judges\", 'Rut': \"Ruth\", 'Sa1': \"1 Samuel\", \n",
    "                        'Sa2': \"2 Samuel\", 'Kg1': \"1 Kings\", 'Kg2': \"2 Kings\", \n",
    "                        'Ch1': \"1 Chronicles\", 'Ch2': \"2 Chronicles\", 'Ezr': \"Ezra\", \n",
    "                        'Neh': \"Nehemiah\", 'Tob': \"Tobit\", 'Jdt': \"Judith\", \n",
    "                        'Est': \"Esther\", 'Job': \"Job\", 'Psa': \"Psalms\", \n",
    "                        'Pro': \"Proverbs\", 'Ecc': \"Ecclesiastes\", 'Sol': \"Canticles\", \n",
    "                        'Wis': \"Wisdom\", 'Sir': \"Ecclesiasticus\", 'Isa': \"Isaiah\", \n",
    "                        'Jer': \"Jeremiah\", 'Lam': \"Lamentations\", 'Bar': \"Baruch\", \n",
    "                        'Eze': \"Ezekiel\", 'Dan': \"Daniel\", 'Hos': \"Hosea\", \n",
    "                        'Joe': \"Joel\", 'Amo': \"Amos\", 'Oba': \"Obadiah\", \n",
    "                        'Jon': \"Jonah\", 'Mic': \"Micah\", 'Nah': \"Nahum\", \n",
    "                        'Hab': \"Habakkuk\", 'Zep': \"Zephaniah\", 'Hag': \"Haggai\", \n",
    "                        'Zac': \"Zechariah\", 'Mal': \"Malachi\", 'Ma1': \"1 Maccabees\", \n",
    "                        'Ma2': \"2 Maccabees\", 'Mat': \"Matthew\", 'Mar': \"Mark\", \n",
    "                        'Luk': \"Luke\", 'Joh': \"John\", 'Act': \"Acts\", \n",
    "                        'Rom': \"Romans\", 'Co1': \"1 Corinthians\", 'Co2': \"2 Corinthians\", \n",
    "                        'Gal': \"Galatians\", 'Eph': \"Ephesians\", 'Phi': \"Philippians\", \n",
    "                        'Col': \"Colossians\", 'Th1': \"1 Thessalonians\", 'Th2': \"2 Thessalonians\", \n",
    "                        'Ti1': \"1 Timothy\", 'Ti2': \"2 Timothy\", 'Tit': \"Titus\", \n",
    "                        'Plm': \"Philemon\", 'Heb': \"Hebrews\", 'Jam': \"James\", \n",
    "                        'Pe1': \"1 Peter\", 'Pe2': \"2 Peter\", 'Jo1': \"1 John\", \n",
    "                        'Jo2': \"2 John\", 'Jo3': \"3 John\", 'Jde': \"Jude\", \n",
    "                        'Rev': \"Revelation\"}\n",
    "                }\n",
    "\n",
    "def read_bible(ver):\n",
    "    bible = pd.read_csv(f'../assets/bible/{ver}.csv')\n",
    "    bible_dict = {}\n",
    "    bible_books = {}\n",
    "    for idx,verse_id in enumerate(bible['doc_id']): \n",
    "        verse_id = verse_id.split(\"(KJV)\")[0].strip(\" \")\n",
    "        verse_id = re.sub(r\"[\\s\\:]\",\"-\",verse_id)\n",
    "        book = \"-\".join(bible['book'][idx].split(\" \"))\n",
    "        if book in convert_book[ver]: \n",
    "            verse_id = re.sub(book,convert_book[ver][book],verse_id)\n",
    "            book = convert_book[ver][book]\n",
    "        bible_dict[verse_id] = bible['text'][idx]\n",
    "        bible_books[book] = bible['part'][idx]\n",
    "    return bible_dict, bible_books\n",
    "\n",
    "\n",
    "kjv, kjv_books = read_bible(\"KJV\")\n",
    "drv, drv_books = read_bible(\"Douay-Rheims\")\n",
    "\n",
    "\n",
    "def read_vulgate(): \n",
    "    with open(\"../assets/bible/vuldat.txt\") as file: \n",
    "        bible = file.readlines()\n",
    "    bible_dict = {}\n",
    "    bible_books = {}\n",
    "    for b in bible: \n",
    "        book,chapter,verse,text = b.split(\"|\")\n",
    "        if book in convert_book[\"LV\"]: \n",
    "            book = convert_book[\"LV\"][book]\n",
    "            book = \"-\".join(book.split(\" \"))\n",
    "        verse_id = \"-\".join([book,chapter,verse])\n",
    "        bible_dict[verse_id] = text \n",
    "        bible_books[book] = None # drv_books[book] \n",
    "    return bible_dict, bible_books\n",
    "\n",
    "lv, lv_books = read_vulgate()"
   ]
  },
  {
   "cell_type": "code",
   "execution_count": 8,
   "metadata": {},
   "outputs": [
    {
     "name": "stdout",
     "output_type": "stream",
     "text": [
      "CivilWar 15625 verses 16766 segments\n"
     ]
    },
    {
     "data": {
      "text/plain": [
       "(15417, 236465)"
      ]
     },
     "execution_count": 8,
     "metadata": {},
     "output_type": "execute_result"
    }
   ],
   "source": [
    "relevant = {}\n",
    "for era in os.listdir('../assets/processed'):\n",
    "    if era == \".DS_Store\": continue\n",
    "    if era not in [\"CivilWar\"]: continue\n",
    "    with open(f\"../assets/citations/{era}_verse_citation_segments.json\") as file:\n",
    "        c_to_seg = json.load(file)\n",
    "    seg_to_c = {}\n",
    "    for verse, segments in c_to_seg.items():\n",
    "        if \"Ibidem\" in verse: continue \n",
    "        for s in segments: \n",
    "            seg_id = (s.split(\",\")[0],s.split(\",\")[1])\n",
    "            if seg_id not in seg_to_c: \n",
    "                seg_to_c[seg_id] = []\n",
    "            seg_to_c[seg_id].append(verse)\n",
    "    print(era, len(c_to_seg),'verses',len(seg_to_c),\"segments\")\n",
    "    \n",
    "    count = 0 \n",
    "    for prefix in os.listdir(f\"../assets/processed/{era}/sub-segments\"):\n",
    "        if prefix == \".DS_Store\": continue\n",
    "        with open(f\"../assets/processed/{era}/sub-segments/{prefix}\",'r') as file:\n",
    "            s_ids, s_text, _ = json.load(file)\n",
    "        \n",
    "        for idx, s_id in enumerate(s_ids):\n",
    "            tcpID, sidx, nidx = s_id[0][0], str(s_id[0][1]), s_id[0][2]\n",
    "            if nidx >= 0: continue # only body content\n",
    "            if (tcpID,sidx) in seg_to_c:  # must have a verse citation\n",
    "                s = combine_punc_with_text(s_text[idx])\n",
    "                for c in seg_to_c[(tcpID,sidx)]:\n",
    "                    if len(s.split(\" \"))< 10: continue # at least ten words long \n",
    "                    if c not in relevant: relevant[c] = []\n",
    "                    relevant[c].append(s)\n",
    "relevant = {c:list(set(r)) for c,r in relevant.items()}\n",
    "len(set(relevant)), sum([len(v) for v in relevant.values()])\n",
    "\n",
    "# over two million across all eras \n",
    "# over one million across all pre-Restoration eras \n",
    "# over 700k across all pre-CW eras\n",
    "# CW & IR: 706k  \n",
    "# CW: 236465"
   ]
  },
  {
   "cell_type": "code",
   "execution_count": 21,
   "metadata": {},
   "outputs": [],
   "source": [
    "import sys\n",
    "sys.path.append('../')\n",
    "from lib.standardization import * "
   ]
  },
  {
   "cell_type": "code",
   "execution_count": 58,
   "metadata": {},
   "outputs": [
    {
     "name": "stderr",
     "output_type": "stream",
     "text": [
      "12633: 100%|██████████| 236465/236465 [11:52<00:00, 331.92it/s]\n"
     ]
    },
    {
     "name": "stdout",
     "output_type": "stream",
     "text": [
      "{'All': 12354, 'KJV': 243, 'DRV': 0, 'LV': 36, 'Catholic': 0}\n"
     ]
    }
   ],
   "source": [
    "all_parts = []\n",
    "for r in relevant.values(): \n",
    "    all_parts.extend(r)\n",
    "has_citations = {\"All\": [], \"KJV\":[], \"DRV\":[], \"LV\":[],\"Catholic\":[]} # Catholic is both DRV & LV \n",
    "\n",
    "no_citations = []\n",
    "from tqdm import tqdm \n",
    "progress =tqdm(all_parts)\n",
    "count = 0 \n",
    "for r in progress: \n",
    "    progress.set_description(str(count))\n",
    "    cited = extract_citations(r)\n",
    "    if len(cited[0]) > 0:\n",
    "        for cidx, clist in cited[0].items(): \n",
    "            for c in clist: \n",
    "                if \".\" in c:\n",
    "                    c = \"-\".join(c.split(\".\")) \n",
    "                    c = \"-\".join(c.split(\" \"))\n",
    "                    if c in kjv and (c in drv or c in lv): \n",
    "                        has_citations[\"All\"].append((c,r))\n",
    "                        count += 1 \n",
    "                    elif c in kjv and c not in drv and c not in lv:\n",
    "                        has_citations['KJV'].append((c,r))\n",
    "                        count += 1 \n",
    "                    elif c not in kjv and c not in drv and c in lv: \n",
    "                        has_citations[\"LV\"].append((c,r))\n",
    "                        count += 1 \n",
    "                    elif c not in kjv and (c in drv or c in lv): \n",
    "                        has_citations[\"Catholic\"].append((c,r))\n",
    "                        count += 1 \n",
    "    else: \n",
    "        no_citations.append(r)\n",
    "print({k:len(v) for k,v in has_citations.items()})"
   ]
  },
  {
   "cell_type": "code",
   "execution_count": 59,
   "metadata": {},
   "outputs": [],
   "source": [
    "with open(\"../assets/relevant/CivilWar.json\",\"w+\") as file: \n",
    "    json.dump((has_citations,no_citations), file)"
   ]
  },
  {
   "cell_type": "code",
   "execution_count": 45,
   "metadata": {},
   "outputs": [],
   "source": [
    "books = {\"-\".join(r.split(\"-\")[:-2]) for r,v in relevant.items()}"
   ]
  }
 ],
 "metadata": {
  "kernelspec": {
   "display_name": "base",
   "language": "python",
   "name": "python3"
  },
  "language_info": {
   "codemirror_mode": {
    "name": "ipython",
    "version": 3
   },
   "file_extension": ".py",
   "mimetype": "text/x-python",
   "name": "python",
   "nbconvert_exporter": "python",
   "pygments_lexer": "ipython3",
   "version": "3.11.5"
  }
 },
 "nbformat": 4,
 "nbformat_minor": 2
}
