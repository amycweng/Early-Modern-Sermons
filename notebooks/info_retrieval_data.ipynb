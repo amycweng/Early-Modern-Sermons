{
 "cells": [
  {
   "cell_type": "markdown",
   "metadata": {},
   "source": [
    "# Prepare data for information retrieval fine-tuning "
   ]
  },
  {
   "cell_type": "markdown",
   "metadata": {},
   "source": [
    "## Map Bible verse to body segments with the relevant citations"
   ]
  },
  {
   "cell_type": "code",
   "execution_count": 184,
   "metadata": {},
   "outputs": [],
   "source": [
    "import re,json,os\n",
    "import pandas as pd \n",
    "from tqdm import tqdm \n",
    "import warnings\n",
    "warnings.filterwarnings(\"ignore\", category=pd.errors.DtypeWarning)"
   ]
  },
  {
   "cell_type": "code",
   "execution_count": 189,
   "metadata": {},
   "outputs": [
    {
     "name": "stdout",
     "output_type": "stream",
     "text": [
      "pre-Elizabeth 23.30138346735817 [18, 17, 20, 19, 16, 21, 22, 23, 24, 14] 1 187\n",
      "Elizabeth 23.098793841457343 [18, 19, 17, 16, 20, 21, 22, 23, 24, 25] 1 196\n",
      "##############\n",
      "A10059 JamesI whē the <i> Evening </i> of our life is even at the ende, and shutting vp, this is a <i> sweet smelling savour, </i> to <i> remember </i> that all our <i> holy friends, </i> that we leaue <i> behind vs, </i> shal follow vs, all that are gone before shall meet <i> with vs, </i> none faile for <i> following, </i> none want for <i> meeting, </i> <NOTE> & therefore not to feare <i> death </i> to be so <i> horrid, </i> thinke thy <i> sicknesse </i> thy <i> prison, </i> thy <i> pangs </i> of <i> death, </i> thy last <i> fits, </i> thou art vpō <i> recovery, </i> thy <i> Pantings </i> be but the <i> sem briefes, </i> the notes of <i> division </i> of the harmony that they ever haue in <i> heauen, </i> the <i> bells </i> that call for thee be but to tole thee to the <i> triūphant </i> Church, thy <i> friends </i> that weep <i> greeue </i> because they cannot go with thee, <i> Divels </i> that gape vpon thee looke but for <i> legacies, </i> leaue one thy <i> pride, </i> another thy <i> lust, </i> another thy <i> ambition, </i>\n",
      "##############\n",
      "JamesI 23.107530967398738 [18, 19, 20, 21, 17, 16, 22, 23, 24, 25] 1 202\n",
      "CharlesI 23.442013801964556 [18, 19, 20, 21, 22, 17, 16, 23, 24, 25] 1 197\n",
      "CivilWar 23.973176982132912 [18, 20, 19, 21, 17, 16, 22, 23, 24, 25] 1 182\n",
      "##############\n",
      "A50410 Interregnum That an <i> Assembly </i> of profest <i> Protestant Divines, </i> h• … ve <i> advised </i> ◊ <i> Two Parliaments </i> of <i> England </i> • … nd <i> Scotland, </i> confe• … <i> Subiects, </i> to take • … p Ar• … ◊ ◊ <i> King, </i> their <i> Lawfull Severaigne ▪ </i> H• … e ◊ ◊ <i> Three Kingdoms </i> in a <i> • … lame ▪ </i> been the <i> A• … rs </i> o• … more <i> Prot• … stants ◊ ◊ ◊ Civi• …, </i> th• … n ◊ • … ave served to • … ver the <i> Pala• … ate </i> by a <i> ◊ ◊, </i> ◊ ◊ bu• … thi• … <i> vnn• … cessary • … vell, accidentall Consider• … on, </i> T• … t the <i> King </i> (◊ <i> compell'd </i> by <i> Force) </i> would never cons• … nt, (not indeed without <i> Perjury </i> could) to the <i> Change </i> ◊ ◊ <i> Ancient, Primitive, Apostolike, Vn• … versally received Government </i> of this <i> Church </i> by <i> Bishop ◊ ◊ new, vpstart• … ▪ Mushrome ▪ Calvinisticall Government, ◊ ◊ Pre• … bytery, of Spirituall & Lay-Elders. </i>\n",
      "##############\n",
      "##############\n",
      "A91743 Interregnum in the sweet and intimate <i> relations </i> of an Husband, <NOTE> an Head, a Saviour, a Brother, a Father, a Friend, a Surety, a Mediator, a Propitiation, an Advocate, <i> Pretious </i> in the great things he hath <i> done for us, </i> in the rich <i> supplies </i> of <i> grace </i> and <i> peace </i> he doth bestow upon us, in the high <i> dignity </i> whereunto he advanceth us, <i> John 1. 12. 1 Iohn 3. 1. Rom. </i> 8. 15, 16. in the <i> great promises </i> he makes unto us, 2 <i> Pet. </i> 1. 2, 3, 4. in the <i> glorious hope </i> which he sets before us, and blessed <i> mansions </i> which he prepareth for us, <i> Col. 1. 27. Iohn </i> 14. 2. in the <i> light </i> of his countenance shining on us, in the <i> fruits </i> of his spirit wrought in us, in the <i> present life </i> of <i> faith, </i> in the <i> hidden </i> life of <i> glory, </i> <NOTE> in the great <i> price </i> he paid for us, in the great <i> care </i> which he takes of us, in the effusions and <i> manifestations </i> of the love of God unto us:\n",
      "##############\n",
      "Interregnum 23.83514934159747 [18, 20, 19, 21, 22, 17, 16, 23, 24, 25] 1 211\n",
      "##############\n",
      "A88808 CharlesII <i> Pharaoh </i> causing the male children of the <i> Hebrews </i> to be drowned in a River, was at last drowned with all his Host in the Red Sea, <i> Exod. </i> 14. 28. <i> Gideon </i> slaying the Seventy Elders of <i> Succoth </i> with unreasonable and unmeasurable torments, had his own seventy sons murthered by the hands of <i> Abimelech </i> his Bastard, <i> Judg. </i> 9. 5. <i> Haman </i> prepared a Gallows to hang <i> Mordecai </i> thereon, but his foot is taken in the same snare he laid, and he suffers on it, <i> Esth. </i> 7. 10. <i> Darius </i> Governors that conspired <i> Daniels </i> death, are torn into pieces by the Lions they had provided to devour him, <i> Dan. </i> 6. 24. <i> David </i> lying with <i> Ʋriahs </i> wife, had his own wives defloured by his own son <i> Absalom </i> in the sight of all <i> Israel, </i> 2 <i> Sam. </i> 16. 22. <i> Bajazet </i> the first, who resolved in the pride of his heart, that if he should conquer <i> Tamberlain, </i> to carry him in an iron Cage thorow his whole Kingdom in Triumph, being overcome was served in the same kind by <i> Tamberlain. </i>\n",
      "##############\n",
      "##############\n",
      "A25343 CharlesII so he is said to be of that wicked One, in whose posterity Satan had his Kingdom, called the World of <i> (y) </i> ungodly, which perished in the Flood, and their Spirits remain in prison in expectation of endless woe, to have their portion with him they served. (a) <i> Rom. </i> 13.2. (b) <i> Psal. </i> 149.6, 7, 8, 9. <i> Mat. </i> 18.18. (c) <i> Rev. </i> 16.10. <i> Eph. </i> 6.12. (d) <i> John. </i> 14.30. (e) <i> Eph. </i> 2.2. (f) <i> Gen. </i> 3.1. <i> John </i> 3.8 (g) <i> Luke </i> 11.21. (h) <i> Gen. </i> 3.15. (i) <i> Heb. </i> 2.14, 15. (k) <i> John </i> 6.37, 39. (l) <i> Eph. </i> 3.17. (m) <i> Cant. </i> 4.12. (n) <i> Luke </i> 23.43. (o) <i> Rev. </i> 12.7. <i> Dan. </i> 12.1. (p) <i> Col. </i> 2.15. (q) 1 <i> John </i> 3.8. (r) <i> Acts </i> 3.22. (s) <i> Phil. </i> 2.13. (t) <i> Rom. </i> 12.1. (u) <i> Heb. </i> 10.4. <i> Psal. </i> 40.6, 7. <i> Gal. </i> 3.24. (w) <i> Prov. </i> 15.8. <i> Isa. </i> 66.3. (x) 1 <i> John </i> 3.12. (y) 2 <i> Pet. </i> 2.5. 1 <i> Pet. </i> 3.19. <i> Mat. </i> 25.41.\n",
      "##############\n",
      "CharlesII 23.54662259058555 [18, 20, 19, 21, 17, 16, 22, 23, 24, 25] 1 213\n",
      "JamesII 24.496741915926656 [19, 20, 18, 21, 22, 17, 16, 23, 24, 25] 1 177\n",
      "WilliamAndMary 23.550204156077076 [18, 19, 20, 21, 17, 16, 22, 23, 24, 25] 1 167\n"
     ]
    }
   ],
   "source": [
    "import numpy as np\n",
    "from collections import Counter \n",
    "\n",
    "first_words = []\n",
    "eras = [\"pre-Elizabeth\",\"Elizabeth\",\"JamesI\",  \"CharlesI\", \"CivilWar\",\"Interregnum\",\"CharlesII\",'JamesII',\"WilliamAndMary\"]\n",
    "for era in eras: \n",
    "    segment_lengths = [] \n",
    "    for fp in os.listdir(f\"/Users/amycweng/DH/SERMONS_APP/db/data/{era}\"):\n",
    "        if \"body\" not in fp: continue \n",
    "        # if 'A0' not in fp: continue  \n",
    "        text = pd.read_csv(f\"/Users/amycweng/DH/SERMONS_APP/db/data/{era}/{fp}\", header=None)\n",
    "        for idx, item in enumerate(text[6]): \n",
    "            items = item.split(\" \")\n",
    "            length = len(items)\n",
    "            # first = items[0]\n",
    "            # if first[0].isupper():\n",
    "            #     first = first.strip(\",\")\n",
    "            #     if first not in start_words: \n",
    "            #         first_words.append(first)\n",
    "            if length >= 200:\n",
    "                print(\"##############\") \n",
    "                print(text[0][idx],era, item)\n",
    "                print(\"##############\") \n",
    "            segment_lengths.append(length)\n",
    "    print(era, np.mean(segment_lengths), [x[0] for x in Counter(segment_lengths).most_common(n=10)], min(segment_lengths), max(segment_lengths))\n",
    "# print(sorted([x[0] for x in Counter(first_words).most_common(n=100)]))"
   ]
  },
  {
   "cell_type": "code",
   "execution_count": 7,
   "metadata": {},
   "outputs": [],
   "source": [
    "def process(era,c_type=\"verse\"): \n",
    "    relevant = {}\n",
    "    with open(f\"../assets/citations/{era}_citation_segments.json\") as file:\n",
    "        c_to_seg = json.load(file)\n",
    "    seg_to_c = {}\n",
    "    for cited, segments in c_to_seg.items():\n",
    "        if \"Ibidem\" in cited: continue \n",
    "        cited = \" \".join(cited.split(\"-\"))\n",
    "        if re.search(r\"\\d+ \\d+\",cited):\n",
    "            cited = cited.split(\" \")\n",
    "            if c_type == \"verse\": \n",
    "                cited = \" \".join(cited[:-2]) +\" \" + \".\".join(cited[-2:])\n",
    "            else: cited = \" \".join(cited)\n",
    "        for s in segments: \n",
    "            seg_id = (s.split(\",\")[0],int(s.split(\",\")[1]))\n",
    "            if seg_id not in seg_to_c: \n",
    "                seg_to_c[seg_id] = []\n",
    "            seg_to_c[seg_id].append(cited)\n",
    "    print(era, len(c_to_seg),'citations',len(seg_to_c),\"segments\")\n",
    "\n",
    "    for fp in tqdm(os.listdir(f\"/Users/amycweng/DH/SERMONS_APP/db/data/{era}\")):\n",
    "        if \"body\" not in fp: continue \n",
    "        text = pd.read_csv(f\"/Users/amycweng/DH/SERMONS_APP/db/data/{era}/{fp}\", header=None)\n",
    "        for idx, tcpID in enumerate(text[0]):\n",
    "            sidx = str(text[1][idx])\n",
    "            \n",
    "            close_to_citation = False \n",
    "            citation_sidx = []\n",
    "            # window of 2 segments \n",
    "            if (tcpID,int(sidx)) in seg_to_c:\n",
    "                close_to_citation = True\n",
    "                citation_sidx.append(int(sidx))\n",
    "            else: \n",
    "                i = 1 \n",
    "                if (tcpID,int(sidx)-i) in seg_to_c:\n",
    "                    close_to_citation = True\n",
    "                    citation_sidx.append(int(sidx)-i)\n",
    "                elif (tcpID,int(sidx)+i) in seg_to_c:\n",
    "                    close_to_citation = True \n",
    "                    citation_sidx.append(int(sidx)+i)\n",
    "            if close_to_citation: \n",
    "                s = text[7][idx]\n",
    "                t = text[6][idx]\n",
    "                t = re.sub(r\"\\<\\/i\\>|\\<NOTE\\>|NONLATINALPHABET|\\<i\\>\",\"\",t)\n",
    "                t = re.sub(r\"\\s+\",\" \",t)\n",
    "                t = t.strip(\" \")\n",
    "                if len(t.split(\" \"))< 5: continue # at least 5 words long\n",
    "                if s not in relevant: \n",
    "                    relevant[s] = ({},{},{}) # citations, original, location \n",
    "                relevant[s][2][(tcpID,sidx)] = None \n",
    "                relevant[s][1][t] = None \n",
    "                for entry in citation_sidx: \n",
    "                    for c in seg_to_c[(tcpID,entry)]:\n",
    "                        relevant[s][0][c] = None \n",
    "    for s,r in relevant.items(): \n",
    "        relevant[s] = (list(r[0].keys()), list(r[1].keys()), list(r[2].keys()))\n",
    "    print(len(set(relevant)),'unique passages')\n",
    "    with open(f\"../assets/relevant/{era}_citations.json\",\"w+\") as file: \n",
    "        json.dump(relevant, file)\n"
   ]
  },
  {
   "cell_type": "code",
   "execution_count": 8,
   "metadata": {},
   "outputs": [
    {
     "name": "stdout",
     "output_type": "stream",
     "text": [
      "pre-Elizabethan 1255 citations 5335 segments\n"
     ]
    },
    {
     "name": "stderr",
     "output_type": "stream",
     "text": [
      "100%|██████████| 19/19 [00:01<00:00, 10.75it/s]\n"
     ]
    },
    {
     "name": "stdout",
     "output_type": "stream",
     "text": [
      "13180 unique passages\n",
      "Elizabethan 18612 citations 66304 segments\n"
     ]
    },
    {
     "name": "stderr",
     "output_type": "stream",
     "text": [
      "100%|██████████| 19/19 [00:18<00:00,  1.05it/s]\n"
     ]
    },
    {
     "name": "stdout",
     "output_type": "stream",
     "text": [
      "157078 unique passages\n",
      "Jacobean 28028 citations 128122 segments\n"
     ]
    },
    {
     "name": "stderr",
     "output_type": "stream",
     "text": [
      "100%|██████████| 22/22 [00:23<00:00,  1.05s/it]\n"
     ]
    },
    {
     "name": "stdout",
     "output_type": "stream",
     "text": [
      "282511 unique passages\n",
      "Carolinian 29558 citations 125648 segments\n"
     ]
    },
    {
     "name": "stderr",
     "output_type": "stream",
     "text": [
      "100%|██████████| 33/33 [00:23<00:00,  1.41it/s]\n"
     ]
    },
    {
     "name": "stdout",
     "output_type": "stream",
     "text": [
      "279490 unique passages\n",
      "CivilWar 24626 citations 76868 segments\n"
     ]
    },
    {
     "name": "stderr",
     "output_type": "stream",
     "text": [
      "100%|██████████| 29/29 [00:14<00:00,  1.97it/s]\n"
     ]
    },
    {
     "name": "stdout",
     "output_type": "stream",
     "text": [
      "182425 unique passages\n",
      "Interregnum 29512 citations 137974 segments\n"
     ]
    },
    {
     "name": "stderr",
     "output_type": "stream",
     "text": [
      " 82%|████████▏ | 23/28 [00:19<00:05,  1.02s/it]/var/folders/3_/ylrg8wdj20l755p4921q0wg80000gp/T/ipykernel_49079/1534402195.py:23: DtypeWarning: Columns (3) have mixed types. Specify dtype option on import or set low_memory=False.\n",
      "  text = pd.read_csv(f\"/Users/amycweng/DH/SERMONS_APP/db/data/{era}/{fp}\", header=None)\n",
      "100%|██████████| 28/28 [00:28<00:00,  1.02s/it]\n"
     ]
    },
    {
     "name": "stdout",
     "output_type": "stream",
     "text": [
      "313682 unique passages\n",
      "CharlesII 36222 citations 260707 segments\n"
     ]
    },
    {
     "name": "stderr",
     "output_type": "stream",
     "text": [
      "100%|██████████| 30/30 [00:59<00:00,  1.98s/it]\n"
     ]
    },
    {
     "name": "stdout",
     "output_type": "stream",
     "text": [
      "600644 unique passages\n",
      "JamesII 11290 citations 17852 segments\n"
     ]
    },
    {
     "name": "stderr",
     "output_type": "stream",
     "text": [
      "100%|██████████| 28/28 [00:04<00:00,  6.97it/s]\n"
     ]
    },
    {
     "name": "stdout",
     "output_type": "stream",
     "text": [
      "42781 unique passages\n",
      "WilliamAndMary 24357 citations 160023 segments\n"
     ]
    },
    {
     "name": "stderr",
     "output_type": "stream",
     "text": [
      "100%|██████████| 32/32 [00:24<00:00,  1.32it/s]\n"
     ]
    },
    {
     "name": "stdout",
     "output_type": "stream",
     "text": [
      "333484 unique passages\n"
     ]
    }
   ],
   "source": [
    "with open('../assets/corpora.json',\"r\") as file: \n",
    "    eras = json.load(file)\n",
    "for era in eras: \n",
    "    process(era)"
   ]
  },
  {
   "cell_type": "markdown",
   "metadata": {},
   "source": [
    "## Get non-citation segments "
   ]
  },
  {
   "cell_type": "code",
   "execution_count": 13,
   "metadata": {},
   "outputs": [],
   "source": [
    "# Body Texts  \n",
    "from tqdm import tqdm \n",
    "\n",
    "def get_era(era):\n",
    "    parts = {}\n",
    "    for fp in tqdm(os.listdir(f\"/Users/amycweng/DH/SERMONS_APP/db/data/{era}\")):\n",
    "        if \"body\" not in fp: continue \n",
    "        text = pd.read_csv(f\"/Users/amycweng/DH/SERMONS_APP/db/data/{era}/{fp}\", header=None)\n",
    "        text = text.to_dict(orient=\"records\")\n",
    "        for item in text:\n",
    "            original = item[6]\n",
    "            original = re.sub(r\"\\<\\/i\\>|\\<NOTE\\>|NONLATINALPHABET|\\<i\\>\",\"\",original)\n",
    "            original = re.sub(r\"\\s+\",\" \",original)\n",
    "            original = original.strip(\" \")\n",
    "            tcpID, sidx = item[0], item[1]\n",
    "            s = item[7]\n",
    "            if not isinstance(s,str): continue \n",
    "            if len(s) == 0: continue \n",
    "            if s not in parts: \n",
    "                parts[s] = ({},{}) # original, locations \n",
    "            parts[s][1][(tcpID,str(sidx))] = None \n",
    "            parts[s][0][original] = None \n",
    "    for s,r in parts.items(): \n",
    "        parts[s] = [[str(k) for k in r[0]], list(r[1].keys())]\n",
    "\n",
    "    with open(f\"../assets/unique/{era}.json\",\"w+\") as file: \n",
    "        json.dump(parts,file)\n",
    "\n",
    "    print(f\"{era}: Total {len(parts)} parts.\")\n",
    "\n",
    "    # Marginalia \n",
    "    parts = {}\n",
    "    for fp in tqdm(os.listdir(f\"/Users/amycweng/DH/SERMONS_APP/db/data/{era}\")):\n",
    "        if \"margin\" not in fp: continue \n",
    "        margin = pd.read_csv(f\"/Users/amycweng/DH/SERMONS_APP/db/data/{era}/{fp}\", header=None, names=[\"tcpID\",\"sidx\",\"nidx\",\"original\",\"standardized\"])\n",
    "        margin = margin.to_dict(orient=\"records\")\n",
    "        for m in margin:\n",
    "            t = m[\"original\"]\n",
    "            if isinstance(t,float): continue\n",
    "            original = re.sub(r\"\\<\\/i\\>|\\<NOTE\\>|NONLATINALPHABET|\\<i\\>\",\"\",t)\n",
    "            original = re.sub(r\"\\s+\",\" \",original)\n",
    "            t = original.strip(\" \")\n",
    "            tcpID, sidx, nidx = m[\"tcpID\"], m[\"sidx\"], m[\"nidx\"]\n",
    "            s = m[\"standardized\"]\n",
    "            if not isinstance(s,str): continue \n",
    "            if len(s) == 0: continue \n",
    "            if s not in parts: \n",
    "                parts[s] = ({},{}) # original, locations \n",
    "            parts[s][1][(tcpID,str(sidx),str(nidx))] = None \n",
    "            parts[s][0][t] = None \n",
    "    for s,r in parts.items(): \n",
    "        parts[s] = [[str(k) for k in r[0]], list(r[1].keys())]\n",
    "    with open(f\"../assets/unique/{era}_margin.json\",\"w+\") as file: \n",
    "        json.dump(parts,file)\n",
    "    print(f\"{era} marginalia: Total {len(parts)} parts.\")"
   ]
  },
  {
   "cell_type": "code",
   "execution_count": 10,
   "metadata": {},
   "outputs": [
    {
     "name": "stderr",
     "output_type": "stream",
     "text": [
      "100%|██████████| 19/19 [00:02<00:00,  6.42it/s]\n"
     ]
    },
    {
     "name": "stdout",
     "output_type": "stream",
     "text": [
      "pre-Elizabethan: Total 109838 parts.\n"
     ]
    },
    {
     "name": "stderr",
     "output_type": "stream",
     "text": [
      "100%|██████████| 19/19 [00:00<00:00, 148.54it/s]\n"
     ]
    },
    {
     "name": "stdout",
     "output_type": "stream",
     "text": [
      "pre-Elizabethan marginalia: Total 7066 parts.\n"
     ]
    }
   ],
   "source": [
    "get_era(\"pre-Elizabethan\")"
   ]
  },
  {
   "cell_type": "code",
   "execution_count": 14,
   "metadata": {},
   "outputs": [
    {
     "name": "stderr",
     "output_type": "stream",
     "text": [
      "100%|██████████| 19/19 [00:29<00:00,  1.55s/it]\n"
     ]
    },
    {
     "name": "stdout",
     "output_type": "stream",
     "text": [
      "Elizabethan: Total 1038558 parts.\n"
     ]
    },
    {
     "name": "stderr",
     "output_type": "stream",
     "text": [
      "100%|██████████| 19/19 [00:01<00:00, 12.75it/s]\n"
     ]
    },
    {
     "name": "stdout",
     "output_type": "stream",
     "text": [
      "Elizabethan marginalia: Total 93532 parts.\n"
     ]
    }
   ],
   "source": [
    "get_era(\"Elizabethan\")"
   ]
  },
  {
   "cell_type": "code",
   "execution_count": 15,
   "metadata": {},
   "outputs": [
    {
     "name": "stderr",
     "output_type": "stream",
     "text": [
      "100%|██████████| 28/28 [00:18<00:00,  1.54it/s]\n"
     ]
    },
    {
     "name": "stdout",
     "output_type": "stream",
     "text": [
      "CivilWar: Total 719282 parts.\n"
     ]
    },
    {
     "name": "stderr",
     "output_type": "stream",
     "text": [
      "100%|██████████| 28/28 [00:00<00:00, 32.93it/s]\n"
     ]
    },
    {
     "name": "stdout",
     "output_type": "stream",
     "text": [
      "CivilWar marginalia: Total 50047 parts.\n"
     ]
    }
   ],
   "source": [
    "get_era(\"CivilWar\")"
   ]
  },
  {
   "cell_type": "code",
   "execution_count": 16,
   "metadata": {},
   "outputs": [
    {
     "name": "stderr",
     "output_type": "stream",
     "text": [
      "100%|██████████| 22/22 [00:28<00:00,  1.27s/it]\n"
     ]
    },
    {
     "name": "stdout",
     "output_type": "stream",
     "text": [
      "Jacobean: Total 1114983 parts.\n"
     ]
    },
    {
     "name": "stderr",
     "output_type": "stream",
     "text": [
      "100%|██████████| 22/22 [00:02<00:00,  9.28it/s]\n"
     ]
    },
    {
     "name": "stdout",
     "output_type": "stream",
     "text": [
      "Jacobean marginalia: Total 109834 parts.\n"
     ]
    }
   ],
   "source": [
    "get_era(\"Jacobean\")"
   ]
  },
  {
   "cell_type": "code",
   "execution_count": 17,
   "metadata": {},
   "outputs": [
    {
     "name": "stderr",
     "output_type": "stream",
     "text": [
      "100%|██████████| 33/33 [00:29<00:00,  1.13it/s]\n"
     ]
    },
    {
     "name": "stdout",
     "output_type": "stream",
     "text": [
      "Carolinian: Total 1167333 parts.\n"
     ]
    },
    {
     "name": "stderr",
     "output_type": "stream",
     "text": [
      "100%|██████████| 33/33 [00:01<00:00, 17.19it/s]\n"
     ]
    },
    {
     "name": "stdout",
     "output_type": "stream",
     "text": [
      "Carolinian marginalia: Total 96211 parts.\n"
     ]
    }
   ],
   "source": [
    "get_era(\"Carolinian\")"
   ]
  },
  {
   "cell_type": "code",
   "execution_count": 18,
   "metadata": {},
   "outputs": [
    {
     "name": "stderr",
     "output_type": "stream",
     "text": [
      " 82%|████████▏ | 23/28 [00:21<00:05,  1.15s/it]/var/folders/3_/ylrg8wdj20l755p4921q0wg80000gp/T/ipykernel_54307/2248434086.py:8: DtypeWarning: Columns (3) have mixed types. Specify dtype option on import or set low_memory=False.\n",
      "  text = pd.read_csv(f\"/Users/amycweng/DH/SERMONS_APP/db/data/{era}/{fp}\", header=None)\n",
      "100%|██████████| 28/28 [00:31<00:00,  1.13s/it]\n"
     ]
    },
    {
     "name": "stdout",
     "output_type": "stream",
     "text": [
      "Interregnum: Total 1210755 parts.\n"
     ]
    },
    {
     "name": "stderr",
     "output_type": "stream",
     "text": [
      "100%|██████████| 28/28 [00:01<00:00, 20.16it/s]\n"
     ]
    },
    {
     "name": "stdout",
     "output_type": "stream",
     "text": [
      "Interregnum marginalia: Total 60876 parts.\n"
     ]
    }
   ],
   "source": [
    "get_era(\"Interregnum\")"
   ]
  },
  {
   "cell_type": "code",
   "execution_count": 19,
   "metadata": {},
   "outputs": [
    {
     "name": "stderr",
     "output_type": "stream",
     "text": [
      "100%|██████████| 28/28 [00:06<00:00,  4.66it/s]\n"
     ]
    },
    {
     "name": "stdout",
     "output_type": "stream",
     "text": [
      "JamesII: Total 230192 parts.\n"
     ]
    },
    {
     "name": "stderr",
     "output_type": "stream",
     "text": [
      "100%|██████████| 28/28 [00:00<00:00, 72.92it/s]\n"
     ]
    },
    {
     "name": "stdout",
     "output_type": "stream",
     "text": [
      "JamesII marginalia: Total 11589 parts.\n"
     ]
    }
   ],
   "source": [
    "get_era(\"JamesII\")"
   ]
  },
  {
   "cell_type": "code",
   "execution_count": 20,
   "metadata": {},
   "outputs": [
    {
     "name": "stderr",
     "output_type": "stream",
     "text": [
      "100%|██████████| 30/30 [01:07<00:00,  2.26s/it]\n"
     ]
    },
    {
     "name": "stdout",
     "output_type": "stream",
     "text": [
      "CharlesII: Total 2575232 parts.\n"
     ]
    },
    {
     "name": "stderr",
     "output_type": "stream",
     "text": [
      "100%|██████████| 30/30 [00:01<00:00, 16.40it/s]\n"
     ]
    },
    {
     "name": "stdout",
     "output_type": "stream",
     "text": [
      "CharlesII marginalia: Total 90319 parts.\n"
     ]
    }
   ],
   "source": [
    "get_era(\"CharlesII\")"
   ]
  },
  {
   "cell_type": "code",
   "execution_count": 21,
   "metadata": {},
   "outputs": [
    {
     "name": "stderr",
     "output_type": "stream",
     "text": [
      "100%|██████████| 32/32 [00:32<00:00,  1.02s/it]\n"
     ]
    },
    {
     "name": "stdout",
     "output_type": "stream",
     "text": [
      "WilliamAndMary: Total 1123151 parts.\n"
     ]
    },
    {
     "name": "stderr",
     "output_type": "stream",
     "text": [
      "100%|██████████| 32/32 [00:00<00:00, 70.48it/s]\n"
     ]
    },
    {
     "name": "stdout",
     "output_type": "stream",
     "text": [
      "WilliamAndMary marginalia: Total 25198 parts.\n"
     ]
    }
   ],
   "source": [
    "get_era(\"WilliamAndMary\")"
   ]
  }
 ],
 "metadata": {
  "kernelspec": {
   "display_name": "base",
   "language": "python",
   "name": "python3"
  },
  "language_info": {
   "codemirror_mode": {
    "name": "ipython",
    "version": 3
   },
   "file_extension": ".py",
   "mimetype": "text/x-python",
   "name": "python",
   "nbconvert_exporter": "python",
   "pygments_lexer": "ipython3",
   "version": "3.11.5"
  }
 },
 "nbformat": 4,
 "nbformat_minor": 2
}
