{
 "cells": [
  {
   "cell_type": "code",
   "execution_count": 2,
   "metadata": {},
   "outputs": [],
   "source": [
    "import os \n",
    "import time \n",
    "import json,math,sys,re\n",
    "import pandas as pd "
   ]
  },
  {
   "cell_type": "code",
   "execution_count": 3,
   "metadata": {},
   "outputs": [],
   "source": [
    "qp_folder = \"/Users/amycweng/Downloads/QP\"\n",
    "from dotenv import load_dotenv\n",
    "env_path = '/Users/amycweng/DH/openai.env'\n",
    "load_dotenv(dotenv_path=env_path)\n",
    "OPENAI_API_KEY = os.getenv('SECRET_KEY')\n",
    "from openai import OpenAI\n",
    "client = OpenAI(api_key=OPENAI_API_KEY)"
   ]
  },
  {
   "cell_type": "code",
   "execution_count": null,
   "metadata": {},
   "outputs": [],
   "source": [
    "inputfname = \"preE_qp\"\n",
    "fname = f\"{inputfname}_GPT\"\n",
    "data = pd.read_csv(f\"{qp_folder}/{inputfname}.csv\")\n",
    "data = data.drop(columns=['0','1','2','4','5','Unnamed: 7'])\n",
    "data = data.rename(columns = {'3': 'verse_id','6':'text','8':'verse_text','9':'my_label'})\n",
    "data = data.to_dict(orient=\"records\")"
   ]
  },
  {
   "cell_type": "code",
   "execution_count": 26,
   "metadata": {},
   "outputs": [],
   "source": [
    "inputfname = \"Vul_notPriorInCited\"\n",
    "# inputfname = \"preE_Vul\"\n",
    "fname = f\"{inputfname}_GPT\"\n",
    "data = pd.read_csv(f\"{qp_folder}/{inputfname}.csv\")\n",
    "data = data.to_dict(orient=\"records\")"
   ]
  },
  {
   "cell_type": "code",
   "execution_count": 27,
   "metadata": {},
   "outputs": [
    {
     "data": {
      "text/plain": [
       "({'verse_id': \"['Amos 7.11 (Geneva)']\",\n",
       "  'score': 0.9228106737,\n",
       "  'text': 'Perditio tua ex te Israel, Ho. 13. that is, from vs, and of vs,',\n",
       "  'verse_text': 'For thus Amos saith, Ieroboam shall die by the sworde, and Israel shalbe led away captiue out of their owne land.',\n",
       "  'label': False,\n",
       "  'index': 196},\n",
       " 615)"
      ]
     },
     "execution_count": 27,
     "metadata": {},
     "output_type": "execute_result"
    }
   ],
   "source": [
    "for idx, item in enumerate(data): \n",
    "    item['index'] = idx \n",
    "with open(f\"/Users/amycweng/DH/Early-Modern-Sermons/assets/QP_labels/{fname}.json\",'r') as f: \n",
    "    labels = json.load(f) \n",
    "data[196], len(data)"
   ]
  },
  {
   "cell_type": "code",
   "execution_count": 6,
   "metadata": {},
   "outputs": [],
   "source": [
    "EEPS_QP_assistant = client.beta.assistants.create(\n",
    "  name=\"EEPS Quotations/Paraphrase Identifier\",\n",
    "  instructions=\"You are an English and Latin scholar working on Biblical language in 16th and 17th century texts from England. You can determine whether a given sentence is a quotation/paraphrase of another given Biblical verse in the SAME LANGUAGE. You give TRUE/FALSE outputs FOR EACH USER MESSAGE without any reasoning.\",\n",
    "  model=\"gpt-4o\",\n",
    ")"
   ]
  },
  {
   "cell_type": "code",
   "execution_count": 7,
   "metadata": {},
   "outputs": [],
   "source": [
    "def add_QP(qp_pairs):\n",
    "    qp = client.beta.threads.create(\n",
    "        messages=[{\"role\": \"user\", \n",
    "                   \"content\": f\"SENTENCE: '{qp_pair['text']}'; 'VERSE: {qp_pair['verse_text']}'\"} for qp_pair in qp_pairs]\n",
    "    )\n",
    "    return qp.id\n",
    "\n",
    "def run_QP(thread_id):\n",
    "    run = client.beta.threads.runs.create(\n",
    "        thread_id=thread_id,\n",
    "        assistant_id=EEPS_QP_assistant.id\n",
    "    )\n",
    "    return run.id  \n",
    "\n",
    "def wait_for_run_completion(thread_id, run_id):\n",
    "    while True:\n",
    "        run_status = client.beta.threads.runs.retrieve(\n",
    "            thread_id=thread_id,\n",
    "            run_id=run_id\n",
    "        )\n",
    "        if run_status.status in [\"completed\", \"failed\", \"cancelled\"]:\n",
    "            return run_status.status\n",
    "        time.sleep(1)  \n",
    "\n",
    "def get_thread_messages(thread_id):\n",
    "    messages = client.beta.threads.messages.list(thread_id=thread_id)\n",
    "    return [(msg.role, msg.content[0].text.value) for msg in messages.data]"
   ]
  },
  {
   "cell_type": "code",
   "execution_count": 22,
   "metadata": {},
   "outputs": [
    {
     "name": "stderr",
     "output_type": "stream",
     "text": [
      "100%|██████████| 60/60 [07:38<00:00,  7.65s/it]\n"
     ]
    }
   ],
   "source": [
    "from tqdm import tqdm \n",
    "start = 555 \n",
    "end = len(data)\n",
    "my_qp = data[start:end] \n",
    "\n",
    "for qp_pair in tqdm(my_qp): \n",
    "    thread_id = add_QP([qp_pair]) \n",
    "    run_id = run_QP(thread_id)  \n",
    "    status = wait_for_run_completion(thread_id, run_id) \n",
    "    if status == \"completed\":\n",
    "        responses = get_thread_messages(thread_id)\n",
    "        for role, text in responses:\n",
    "            if role == 'assistant': \n",
    "                labels[qp_pair['index']] = text \n",
    "    else:\n",
    "        print(f\"Run {qp_pair['index']} failed or was cancelled.\")\n",
    "\n",
    "with open(f\"/Users/amycweng/DH/Early-Modern-Sermons/assets/QP_labels/{fname}.json\",'w') as f: \n",
    "    json.dump(labels,f) \n",
    "# takes 30 mins for 250 entries; 11 mins for 100 "
   ]
  },
  {
   "cell_type": "code",
   "execution_count": 23,
   "metadata": {},
   "outputs": [
    {
     "data": {
      "text/plain": [
       "(615, 'Vul_notPriorInCited_GPT')"
      ]
     },
     "execution_count": 23,
     "metadata": {},
     "output_type": "execute_result"
    }
   ],
   "source": [
    "with open(f\"/Users/amycweng/DH/Early-Modern-Sermons/assets/QP_labels/{fname}.json\",'w') as f: \n",
    "    json.dump(labels,f)\n",
    "len(labels),fname"
   ]
  }
 ],
 "metadata": {
  "kernelspec": {
   "display_name": "openai",
   "language": "python",
   "name": "python3"
  },
  "language_info": {
   "codemirror_mode": {
    "name": "ipython",
    "version": 3
   },
   "file_extension": ".py",
   "mimetype": "text/x-python",
   "name": "python",
   "nbconvert_exporter": "python",
   "pygments_lexer": "ipython3",
   "version": "3.9.19"
  }
 },
 "nbformat": 4,
 "nbformat_minor": 2
}
