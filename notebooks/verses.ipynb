{
 "cells": [
  {
   "cell_type": "code",
   "execution_count": 1,
   "metadata": {},
   "outputs": [],
   "source": [
    "import sys\n",
    "sys.path.append('../')\n",
    "from lib.citation_info import * \n",
    "citations = get_citations('../outputs/citations.csv')"
   ]
  },
  {
   "cell_type": "code",
   "execution_count": 2,
   "metadata": {},
   "outputs": [
    {
     "name": "stdout",
     "output_type": "stream",
     "text": [
      "156\n",
      "9 {'title': 'A tryall of faith by the touch-stone of the Gospel, the word of faith. Whereby Christians may discerne whether or no, they have a saving faith. First preached in the parish church of St Nic. Col. Abby London, by William Chibald pastor there; and now published for the further benefit of that his congregation, and all other that confesse with their mouth the Lord Iesus, and with their heart beleeve on him vnto salvation.', 'author': 'Chibald, William, 1575-1641.', 'pubplace': 'London', 'subject_headings': 'Faith; Early works to 1800.; Sermons, English; 17th century.', 'date': '1622'}\n",
      "5 {'title': \"Meditations upon Our Saviour's parable of The prodigal son being several sermons on the fifteenth chapter of St. Luke's Gospel / by Obadiah Grew ...\", 'author': 'Grew, Obadiah, 1607-1689.', 'pubplace': 'London', 'subject_headings': 'Bible.; N.T.; Luke XV; Sermons.; Bible.; N.T.; Parables.; Sermons, English; 17th century.', 'date': '1678'}\n",
      "5 {'title': 'The happines of the church, or, A description of those spirituall prerogatiues vvherewith Christ hath endowed her considered in some contemplations vpon part of the 12. chapter of the Hebrewes : together with certain other meditations and discourses vpon other portions of Holy Scriptures, the titles wherof immediately precede the booke : being the summe of diuerse sermons preached in S. Gregories London / by Thomas Adams ...', 'author': 'Adams, Thomas, fl. 1612-1653.', 'pubplace': 'London', 'subject_headings': 'Church of England; Sermons.; Bible.; N.T.; Hebrews XII, 22-24; Sermons.; Sermons, English; 17th century.', 'date': '1619'}\n",
      "5 {'title': 'The true vvay of a Christian, to the nevv Ierusalem Or, a three-folde demonstration: first, of the excellencie of the true and sauing knowledge of Christ; and the meanes to attaine it: with the antiquitie, necesitie, and benefit of catechisme. Secondly, of our vnion and communion with Christ, and his Church. Thirdly, of our new creation in Christ, by the blessed Spirit. With diuers questions, and cases of conscience, most comfortable for a Christian. Deliuered first in briefe, in a sermon preached at Paules-Crosse, the first Sunday in the new yeere, 1617. And newly reuised and enlarged by Immanuel Bourne ...', 'author': 'Bourne, Immanuel, 1590-1672.', 'pubplace': 'London', 'subject_headings': 'Christian life; Early works to 1800.', 'date': '1622'}\n",
      "4 {'title': 'The autumne part from the twelfth Sundy [sic] after Trinitie, to the last in the whole yeere dedicated vnto the much honoured and most worthy Doctor Iohn Overal ...', 'author': 'Boys, John, 1571-1625.', 'pubplace': 'London', 'subject_headings': 'Sermons, English; 17th century.', 'date': '1613'}\n",
      "3 {'title': 'XCVI. sermons by the Right Honorable and Reverend Father in God, Lancelot Andrevves, late Lord Bishop of Winchester. Published by His Majesties speciall command', 'author': 'Buckeridge, John, 1562?-1631.; Laud, William, 1573-1645.; Andrewes, Lancelot, 1555-1626.', 'pubplace': 'London', 'subject_headings': 'Sermons, English; 17th century.', 'date': '1629'}\n",
      "3 {'title': \"A golden mine opened, or, The glory of God's rich grace displayed in the mediator to believers, and his direful wrath against impenitent sinners containing the substance of near forty sermons upon several subjects / by Benjamin Keach.\", 'author': 'Keach, Benjamin, 1640-1704.', 'pubplace': 'London', 'subject_headings': 'Grace (Theology); Sermons.; Sin; Sermons.; Sermons, English; 17th century.', 'date': '1694'}\n",
      "3 {'title': 'The preachers tripartite in three books. The first to raise devotion in divine meditations upon Psalm XXV : the second to administer comfort by conference with the soul, in particular cases of conscience : the third to establish truth and peace, in several sermons agianst the present heresies and schisms / by R. Mossom ...', 'author': 'Mossom, Robert, d. 1679.', 'pubplace': 'London', 'subject_headings': 'Church of England; Sermons.; Bible.; O.T.; Psalms; Meditations.; Spiritual life.', 'date': '1657'}\n",
      "3 {'title': 'Ekthesis pisteōs, or, An exposition of the Apostles Creed delivered in several sermons by William Nicholson ...', 'author': 'Nicholson, William, 1591-1672.', 'pubplace': 'London', 'subject_headings': \"Apostles' Creed; Sermons.; Sermons, English; 17th century.\", 'date': '1661'}\n",
      "3 {'title': 'The Lord Jesus Christ the Lord our righteousness, or, Christ the righteousness of a sinner before God delivered in several sermons some years since by Obadiah Grew.', 'author': 'Grew, Obadiah, 1607-1689.', 'pubplace': 'London', 'subject_headings': 'Sermons, English; 17th century.', 'date': '1669'}\n",
      "3 {'title': 'Essays about general and special grace y way of distinction between; or distinct consideration of 1. The object of divine faith, or the truth to be preached to, and believed by men. And, 2. Gods purposes for dispensing. And, 3. His dispensations of the said truth, and the knowledge of it to men. And, 4. The operations of God with it in men in the dispensation of it. By Jo. Horne, late of Lin-Allhallows.', 'author': 'Horn, John, 1614-1676.', 'pubplace': 'London', 'subject_headings': 'Grace (Theology); Early works to 1800.', 'date': '1685'}\n"
     ]
    }
   ],
   "source": [
    "found,positions = find_target('Matthew 11.28',citations)\n",
    "print(len(found))\n",
    "for tcpID, count in sorted(found.items(),key=lambda x: x[1],reverse=True)[:11]: \n",
    "    # top 10 \n",
    "    print(count, info[tcpID])"
   ]
  },
  {
   "cell_type": "code",
   "execution_count": 8,
   "metadata": {},
   "outputs": [
    {
     "name": "stdout",
     "output_type": "stream",
     "text": [
      "Processed 10 texts\n",
      "Processed 20 texts\n",
      "Processed 30 texts\n",
      "Processed 40 texts\n",
      "Processed 50 texts\n",
      "Processed 60 texts\n",
      "Processed 70 texts\n",
      "Processed 80 texts\n",
      "Processed 90 texts\n",
      "Processed 100 texts\n",
      "Processed 110 texts\n",
      "Processed 120 texts\n",
      "Processed 130 texts\n",
      "Processed 140 texts\n",
      "Processed 150 texts\n"
     ]
    }
   ],
   "source": [
    "outputs = []\n",
    "for idx,tcpID in enumerate(found): \n",
    "    notes_contexts = context(tcpID, positions)\n",
    "    for sourceline, c_dict in notes_contexts.items():\n",
    "        for sourcepos, sentence in c_dict.items(): \n",
    "            outputs.append({\"tcpID\":tcpID, \n",
    "                            \"sourceline\":sourceline,\n",
    "                            \"sourcepos\":sourcepos,\n",
    "                            \"context\": sentence})\n",
    "    if (idx+1) % 10 == 0: print(f\"Processed {idx+1} texts\")\n",
    "\n",
    "outfile = open(\"../outputs/Matthew_11.28.csv\",\"w+\")\n",
    "writer = csv.DictWriter(outfile, fieldnames=[\"tcpID\",\"sourceline\",\"sourcepos\",\"context\"])\n",
    "writer.writeheader()\n",
    "for dict in outputs: \n",
    "    writer.writerow(dict)\n",
    "outfile.close()"
   ]
  }
 ],
 "metadata": {
  "kernelspec": {
   "display_name": "base",
   "language": "python",
   "name": "python3"
  },
  "language_info": {
   "codemirror_mode": {
    "name": "ipython",
    "version": 3
   },
   "file_extension": ".py",
   "mimetype": "text/x-python",
   "name": "python",
   "nbconvert_exporter": "python",
   "pygments_lexer": "ipython3",
   "version": "3.9.18"
  }
 },
 "nbformat": 4,
 "nbformat_minor": 2
}
