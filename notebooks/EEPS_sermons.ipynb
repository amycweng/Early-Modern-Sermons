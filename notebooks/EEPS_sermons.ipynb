{
 "cells": [
  {
   "cell_type": "code",
   "execution_count": 85,
   "metadata": {},
   "outputs": [],
   "source": [
    "import csv, os, re, shutil,json, sys\n",
    "import pandas as pd \n",
    "sys.path.append('../')\n",
    "\n",
    "TCP = '/Users/amycweng/DH/TCP'\n",
    "metadataFolder = '/Users/amycweng/DH/ECBC-Data-2022/TCP metadata'\n",
    "\n",
    "def findTextTCP(id):\n",
    "    if re.match('B1|B4',id[0:2]):\n",
    "        path = f'{TCP}/P2{id[0:2]}/{id}.P4.xml'\n",
    "    else: \n",
    "        if f'{id}.P4.xml' in os.listdir(f'{TCP}/P1{id[0:2]}'):\n",
    "            path = f'{TCP}/P1{id[0:2]}/{id}.P4.xml'\n",
    "        elif f'{id}.P4.xml' in os.listdir(f'{TCP}/P2{id[0:2]}'): \n",
    "            path = f'{TCP}/P2{id[0:2]}/{id}.P4.xml'\n",
    "    return path "
   ]
  },
  {
   "cell_type": "markdown",
   "metadata": {},
   "source": [
    "## Find texts that contain sermons (DIV tag with attribute \"TYPE\"='sermon' or containing key terms in the title or subject headings)"
   ]
  },
  {
   "cell_type": "code",
   "execution_count": 84,
   "metadata": {},
   "outputs": [],
   "source": [
    "from bs4 import BeautifulSoup, SoupStrainer\n",
    "def is_sermon(filepath):\n",
    "    # read the input XML file \n",
    "    with open(filepath,'r') as file: \n",
    "        data = file.read()\n",
    "    # use soupstrainer to only parse the main body\n",
    "    tag = SoupStrainer(\"DIV1\")\n",
    "    soup = BeautifulSoup(data,features=\"xml\",parse_only=tag)\n",
    "    sermons = soup.findAll(attrs={\"TYPE\": re.compile(\"^(?!list|reply|catalogue|calendar)(sermon)\")})\n",
    "    if len(sermons) > 0:      \n",
    "        return True\n",
    "    return False\n",
    "\n",
    "def get_lang(filepath): \n",
    "    # read the input XML file \n",
    "    with open(filepath,'r') as file: \n",
    "        data = file.read()\n",
    "    # use soupstrainer to only parse the main body\n",
    "    tag = SoupStrainer(\"LANGUSAGE\")\n",
    "    soup = BeautifulSoup(data,features=\"xml\",parse_only=tag)\n",
    "    return soup.text"
   ]
  },
  {
   "cell_type": "code",
   "execution_count": null,
   "metadata": {},
   "outputs": [],
   "source": [
    "sermons = []\n",
    "for csvFile in os.listdir(metadataFolder):\n",
    "    data = pd.read_csv(os.path.join(metadataFolder,csvFile))\n",
    "    for idx,tcpID in enumerate(data['id']):\n",
    "        if tcpID == \"id\": continue\n",
    "        filepath = findTextTCP(tcpID)\n",
    "        subject_headings = data['keywords'][idx].replace(\" -- \",\"; \").replace(\"  \",\" \")\n",
    "        if is_sermon(filepath): \n",
    "            sermons.append( {\"id\": tcpID, \n",
    "                            \"estc\":data['estc'][idx],\n",
    "                            \"stc\":data['stc'][idx],\n",
    "                            \"title\": data['title'][idx],\n",
    "                            \"authors\": \"; \".join(set(data['author'][idx].split(\"; \"))),\n",
    "                            \"publisher\": data['publisher'][idx],\n",
    "                            \"pubplace\":data['pubplace'][idx],\n",
    "                            \"subject_headings\":subject_headings,\n",
    "                            \"date\":data['date'][idx]\n",
    "                            }\n",
    "            )\n",
    "    print(csvFile)"
   ]
  },
  {
   "cell_type": "code",
   "execution_count": null,
   "metadata": {},
   "outputs": [],
   "source": [
    "for csvFile in os.listdir(metadataFolder):\n",
    "    data = pd.read_csv(os.path.join(metadataFolder,csvFile))\n",
    "    for idx,tcpID in enumerate(data['id']):\n",
    "        if tcpID == \"id\": continue\n",
    "        filepath = findTextTCP(tcpID)\n",
    "        subject_headings = data['keywords'][idx].replace(\" -- \",\"; \").replace(\"  \",\" \")\n",
    "        if re.search('sermon', subject_headings.lower()): \n",
    "            if is_sermon(filepath):\n",
    "                sermons.append( {\"id\": tcpID, \n",
    "                                \"estc\":data['estc'][idx],\n",
    "                                \"stc\":data['stc'][idx],\n",
    "                                \"title\": data['title'][idx],\n",
    "                                \"authors\": \"; \".join(set(data['author'][idx].split(\"; \"))),\n",
    "                                \"publisher\": data['publisher'][idx],\n",
    "                                \"pubplace\":data['pubplace'][idx],\n",
    "                                \"subject_headings\":subject_headings,\n",
    "                                \"date\":data['date'][idx]\n",
    "                                }\n",
    "                )\n",
    "    print(csvFile)"
   ]
  },
  {
   "cell_type": "code",
   "execution_count": null,
   "metadata": {},
   "outputs": [],
   "source": [
    "sermons = pd.DataFrame(sermons)\n",
    "sermons.to_csv(\"../assets/sermons.csv\",index=False)\n",
    "print(f\"{len(sermons)} TCP XML files contain sermons.\") \n",
    "# 399 without sermons in their subject headings \n",
    "# 4253 total TCP XML files contain sermons "
   ]
  },
  {
   "cell_type": "markdown",
   "metadata": {},
   "source": [
    "## Read sermon metadata files "
   ]
  },
  {
   "cell_type": "code",
   "execution_count": 86,
   "metadata": {},
   "outputs": [
    {
     "data": {
      "text/plain": [
       "(4231, 1526)"
      ]
     },
     "execution_count": 86,
     "metadata": {},
     "output_type": "execute_result"
    }
   ],
   "source": [
    "sermons_metadata = pd.read_csv(\"../assets/sermons.csv\")\n",
    "sermons = sermons_metadata.to_dict(orient='records')\n",
    "sermons = {entry['id']: entry for entry in sermons}\n",
    "sermons_missing = pd.read_csv(\"../assets/sermons_missing.csv\")\n",
    "sermons_missing = sermons_missing.to_dict(orient='records')\n",
    "sermons_missing = {s['id']: s for s in sermons_missing}\n",
    "len(sermons),len(sermons_missing)"
   ]
  },
  {
   "cell_type": "markdown",
   "metadata": {},
   "source": [
    "## Find missing sermons but exclude foreign language texts"
   ]
  },
  {
   "cell_type": "code",
   "execution_count": null,
   "metadata": {},
   "outputs": [
    {
     "name": "stdout",
     "output_type": "stream",
     "text": [
      "1793\n"
     ]
    }
   ],
   "source": [
    "# Find the texts that most likely contain sermons but do not have the proper div tag in the XML \n",
    "sermons_missing = {}\n",
    "\n",
    "by_subj, by_title, by_both = [],[],[]\n",
    "for csvFile in os.listdir(metadataFolder):\n",
    "    data = pd.read_csv(os.path.join(metadataFolder,csvFile))\n",
    "    for idx,tcpID in enumerate(data['id']):\n",
    "        if tcpID not in sermons or tcpID in ['A28579','A50799']: \n",
    "            title = data['title'][idx]\n",
    "            clean_title = title.lower().replace(\"'\",'')\n",
    "            subject_headings = data['keywords'][idx]\n",
    "            unique_subjects = \" -- \".join(set(subject_headings.split(\" -- \")))\n",
    "            subject_hit, title_hit = False, False\n",
    "            \n",
    "\n",
    "            if re.search('sermon', subject_headings.lower()): \n",
    "                subject_hit = True \n",
    "            if re.search(r'sermon|preached|preacht|preachd', clean_title): \n",
    "                title_hit = True\n",
    "            if subject_hit and title_hit: \n",
    "                by_both.append(tcpID)\n",
    "            elif subject_hit: \n",
    "                by_subj.append(tcpID)\n",
    "            elif title_hit: \n",
    "                by_title.append(tcpID)\n",
    "            if subject_hit or title_hit or tcpID in ['A28579','A50799']: \n",
    "                sermons_missing[tcpID] =  {\"id\": tcpID, \n",
    "                                \"estc\":data['estc'][idx],\n",
    "                                \"stc\":data['stc'][idx],\n",
    "                                \"title\": data['title'][idx],\n",
    "                                \"authors\": \"; \".join(set(data['author'][idx].split(\"; \"))),\n",
    "                                \"publisher\": data['publisher'][idx],\n",
    "                                \"pubplace\":data['pubplace'][idx],\n",
    "                                \"subject_headings\":unique_subjects,\n",
    "                                \"date\":data['date'][idx]\n",
    "                                }\n",
    "print(len(sermons_missing))"
   ]
  },
  {
   "cell_type": "code",
   "execution_count": 214,
   "metadata": {},
   "outputs": [
    {
     "data": {
      "text/plain": [
       "(1085, 316, 390)"
      ]
     },
     "execution_count": 214,
     "metadata": {},
     "output_type": "execute_result"
    }
   ],
   "source": [
    "len(by_both), len(by_subj), len(by_title)"
   ]
  },
  {
   "cell_type": "code",
   "execution_count": null,
   "metadata": {},
   "outputs": [],
   "source": [
    "foreign = {}\n",
    "foreign_missing = {}\n",
    "for csvFile in os.listdir(metadataFolder):\n",
    "    data = pd.read_csv(os.path.join(metadataFolder,csvFile))\n",
    "    for idx,tcpID in enumerate(data['id']):\n",
    "        if tcpID in sermons: \n",
    "            # continue\n",
    "            filepath = findTextTCP(tcpID)\n",
    "            tcpIDlang = get_lang(filepath)\n",
    "            if tcpIDlang != 'eng': \n",
    "                foreign[tcpID] = tcpIDlang\n",
    "        elif tcpID in sermons_missing: # texts\n",
    "            filepath = findTextTCP(tcpID)\n",
    "            tcpIDlang = get_lang(filepath)\n",
    "            if tcpIDlang != 'eng': \n",
    "                foreign_missing[tcpID] = tcpIDlang\n",
    "    print(csvFile)"
   ]
  },
  {
   "cell_type": "markdown",
   "metadata": {},
   "source": [
    "## Items to exclude"
   ]
  },
  {
   "cell_type": "code",
   "execution_count": 107,
   "metadata": {},
   "outputs": [],
   "source": [
    "# foreign texts\n",
    "exclude_foreign = {'A95346': 'wel', 'B34542': 'fre', 'B10302': 'wel', 'B02801': 'fre', \n",
    "                   'B07519': 'wel', 'A87349': 'wel', 'A81783': 'fre', 'A81315': 'wel', \n",
    "                   'A91720': 'sco', 'A95629': 'fre', 'A91479': 'fre', 'A91847': 'fre', \n",
    "                   'A62564': 'fre', 'A52002': 'fre', 'A29335': 'fre', 'A29334': 'fre', \n",
    "                   'A31429': 'new', 'A64645': 'wel', 'A76482': 'wel', 'A72359': 'wel', \n",
    "                   'A00687': 'sco', 'A17050': 'sco', 'A95720': 'wel', 'B04329': 'wel', \n",
    "                   'B09870': 'fre', 'A60308': 'fre', 'A50422': 'wel', 'A59547': 'fre', \n",
    "                   'A29332': 'fre', 'A00164': 'lat', 'A00156': 'lat', 'A45574': 'lat', \n",
    "                   'A65588': 'lat', 'A07584': 'lat', 'A02379': 'lat', 'A06325': 'lat', \n",
    "                   'A19485': 'lat', 'A80884': 'lat', 'A09748': 'lat', 'A67819': 'lat', \n",
    "                   'A44316': 'lat', 'A19744': 'lat'}\n",
    "exclude_annotated = [\n",
    "    'A96361', # commentary on the Sermon on the Mount \n",
    "    'A16204', # only a title page & colophon of a 16th cent. sermon\n",
    "    'A53661', # remarks on a sermon \n",
    "    'A42786', # remarks on remarks on a sermon\n",
    "    'A43674', # discourses upon a funeral sermon\n",
    "    'A17423', # musical compositions (even tho title mentions a sermon)\n",
    "    'B03994', # letter w/ an account of some preacher w/ hymns that they sing\n",
    "    'A76964', # catechism; does not contain the sermon promised in the title\n",
    "    'A68730', # does not actually contain the sermon promised in the title \n",
    "    'B03688', # narrative account\n",
    "    'A31468', # censure\n",
    "    'A15864', # guide to hearing sermons first written in Latin\n",
    "    'A34897', # reply to sermon\n",
    "    'B17774', # Psalms \n",
    "    'A13551', # chapter \n",
    "    'A52900', # response to sermon\n",
    "    'A52284', # letters & hymns sung at a funeral sermon\n",
    "    'A50287', # petition, embassage\n",
    "    'A96439', # Quaker letters & remarks \n",
    "    'A39120', # reply to sermon\n",
    "    'A53461', # broadside mock sermon\n",
    "    'A22477', # royal proclamation\n",
    "    'A33382', # book catalogue \n",
    "    'A62876', # dissenting polemic\n",
    "    'A86098', # speech against a sermon\n",
    "    'A83515', # Tho. Edwards' Gangraena \n",
    "    'A53708', # meditations & discourses \n",
    "    'A34396', # mock sermon\n",
    "    'A40761', # Quaker testimony \n",
    "    'A03927', # reasons & answers about the book of common prayer \n",
    "    'A10581', # dialogue\n",
    "    'A49230', # reply to a treatise \n",
    "    'A35266', # catalogue of writers \n",
    "    'A32938', # articles of enquiry in Diocese of Carlisle; visitation sermon\n",
    "    'A86442', # Quaker reply to sermon\n",
    "    'A01012', # response to an accident that occurred at a Catholic sermon \n",
    "    'A35017', # criticism of Scotch sermons\n",
    "    'A83979', # monsters & accounts of portentous events; brief relation of her funeral sermon\n",
    "    'A82859', # parliamentary_declaration\n",
    "    'A14186', # Psalms\n",
    "    'A07105', # treatise about the schism\n",
    "    'A26870', # actual funeral sermon is missing from the microfilm \n",
    "    'A09426', # William Perkins' The foundation of Christian religion; 'religious_tract', not labeled as a sermon & no place of preaching \n",
    "    'A20733', # Downame's defense of his sermon\n",
    "    'A10341', # reply to Downame's defense \n",
    "    'A68172', # critique of a 'wicked sermon',\n",
    "    'A44239', # discourse referring back to an earlier printed sermon\n",
    "    'A52641', # primarily narrative of death & burial; funeral sermon hard to extract and identify \n",
    "    'A74862', # letter exposing how a writer contradicted with his past sermons \n",
    "    'A97284', # primarily a narrative & history about the Dutch fleet for the Commonwealth \n",
    "    'A84987', # mineral waters in Germany \n",
    "    'A61076', # response to 'a late scurrilous libel, prefix'd to a sermon preach'd nine and thirty years ago'\n",
    "    'A25580', # \"An ansvver to\" sermons\n",
    "    'A67000', # \"Against the doctrine of\" a preacher in his sermons \n",
    "    'A41398', # Letter \"modestly accepting the challenge by him made in his sermon of repentance preached\"\n",
    "    'A37425', # narrative account w/ \"divers familiar letters, both Latin and English sermons, poems, essays\"; pilgrimage\n",
    "    'B29264', # dissertation upon water-baptism \n",
    "    'A60334', # response to a sermon  \n",
    "    'A36211', # response to a sermon  \n",
    "    'A53674', # response to a sermon  \n",
    "    'A16999', # response to a sermon \n",
    "    'A71053', # response to a sermon \n",
    "    'A27407', # response to a sermon \n",
    "    'A32910', # response to a sermon; \"The female advocate...Being reflections on a late rude and disingenuous discourse, delivered by Mr. John Sprint, in a sermon at a wedding\"\n",
    "    'A80756', # the promised \"annexed sermon\" is not found in the text; conversation between a minister and a converted recusant  \n",
    "    'A68566', # response to a sermon; \"A briefe discouery of the vntruthes and slanders...contained in a sermon\"\n",
    "    'A26579', # response to a sermon \n",
    "    'A76800', # contains a response to a sermon \n",
    "    'A79931', # response to a sermon; biblical commentary responding to certain writers \n",
    "    'A68078', # includes a response to a sermon\n",
    "    'A04207', # responses to divines \n",
    "    'A56659', # response to a sermon\n",
    "    'A53040', # response to a slanderous sermon \n",
    "    'A42574', # answer to a text \n",
    "    'A01006', # response to W. Crashawe's sermon \n",
    "    'A19895', # response to a sermon \n",
    "    'A60334', # defense of Catholicism against several books \n",
    "    'A36211', # remarks on a sermon\n",
    "    'A53674', # defense of non-conformists against a sermon \n",
    "    'A76800', # huge volume containing a reply to a sermon \n",
    "    'A79931', # defense of some preacher's proof-text \n",
    "    'A26579', # includes a reply to a sermon \n",
    "    'A68566', # response to a sermon\n",
    "    'A80756', # response to a sermon \n",
    "    'A32910', # a lady of quality's response to rude remarks in a sermon\n",
    "    'A27407', # reply to a sermon \n",
    "    'A71053', # response to a sermon \n",
    "    'A78088', # response to a sermon \n",
    "    'A88806', # preacher's protests againsts responses to his sermons \n",
    "    'A16999', # response to a sermon\n",
    "    'A04214', # response to another preacher's writings \n",
    "    'A27593', # responses to two preachers' sermons \n",
    "    'A91807', # response to a sermon \n",
    "    'A38139', # remarks on a response to a sermon \n",
    "    'A54794', # commentary on preaching  \n",
    "    'A36116', # response to a sermon \n",
    "    'A54793', # response to several sermons \n",
    "    'A77374', # response to a preacher's book; does not contain the three sermons which the title mentions \n",
    "    'A69662', # remarks on Laud's final sermon\n",
    "    'A81905', # commentary on \"ministers medling with state matters in or out of their sermons\"\n",
    "    'A66436', # vindication of two preachers' sermons \n",
    "    'A61415', # contains a letter that comments on sermons \n",
    "    'A45400', # letters & excerpts from letters; does not contain the two added sermons \n",
    "    'A41330', # contains observations upon a sermon \n",
    "    'A44665', # response to a letter that remarked upon a sermon \n",
    "    'A64572', # household manual of piety (contains a section on the \"repeating of sermons\")\n",
    "    'A28590', # response to a sermon \n",
    "    'A51087', # respnose to a sermon \n",
    "    'A25563', # response to a sermon by the \"gentleman who took the said sermon in short-hand\"\n",
    "    'A51787', # contains reflections upon a sermon\n",
    "    'A10320', # response to a sermon \n",
    "    'A09101', # contains a reproof of a sermon \n",
    "    'A49336', # contains a letter & reflections upon letters regarding sermons \n",
    "    'A47737', # reflections upon a preacher's sermons \n",
    "    'A49256', # Christopher Love's replies to William Dell's sermons \n",
    "    'A94741', # contains remarks on a sermon \n",
    "    'A36257', # a vindication of a sermon regarding organ music in churches \n",
    "    'A58375', # reflections on a sermon by a \"gentleman who took the said sermon in short-hand\"\n",
    "    'A00514', # contains a commentary on St. Bernard's sermon \n",
    "    'A34868', # history of Biblical events \n",
    "    'A49667', # a testament \"taken in short-hand by a zealous scribe who used to take sermon notes\"\n",
    "    'A27592', # discourse upon a preacher's sermon \n",
    "    'A30987', # a treatise of fornication; does not contain the added \"penitentiary sermon upon John viii. II\" \n",
    "    'A06202', # \"Sundry Christian passions contained in two hundred sonnets.\"\n",
    "    'A47758', # \"Remarks on some late sermons, and in particular on Dr. Sherlock's sermon\"\n",
    "    'A44658', # contains remarks on a sermon; mostly a vindication \n",
    "    'A92420', # contains remarks on a sermon \n",
    "    'A31766', # remarks on a sermon \n",
    "    'A60515', # \"In opposition to a counterfeit sermon pretended to be preached before the people called Quakers\"\n",
    "    'A76517', # remarks on two sermons \n",
    "    'A33070', # remarks on a sermon \n",
    "    'A57569', # remarks upon a sermon \n",
    "    'A41625', # reply to an answer \n",
    "    'A65714', # \"A reply to what S.C. (or Serenus Cressy) a Roman Catholick hath returned to Dr. Pierces sermon\"\n",
    "    'A21332', # translation of a French text by Portugal's prince \n",
    "    'A31518', # queries upon a sermon \n",
    "    'A30410', # reflections on a pamphlet that responds to a sermon \n",
    "    'A84572', # a request to a preacher in response to his sermon  \n",
    "    'A97256', # a text on the preaching and hearing of sermons \n",
    "    'A77003', # response to a sermon falsely published on the author's name \n",
    "    'A93805', # commentary on Laud's last sermon \n",
    "    'A55506', # \"The Pourtraicture of K. Charles I illuminated with several of his memorable actions, very proper to be read on the 30th of January, before sermon\"\n",
    "    'A59248', # animadversions on a sermon\n",
    "    'A69663', # commentary on Laud's last sermon \n",
    "    'A64152', # commentary on separatists who made a scene at a sermon \n",
    "    'A59589', # response to another minister's writings \n",
    "    'A62867', # remarks on a sermon \n",
    "    'A47892', # \"No blinde guides, in answer to a seditious pamphlet of J. Milton's\"\n",
    "    'A85385', # \"Delivered by way of prologue before a sermon the last publique fast-day\"\n",
    "    'A93736', # treatise on the judgment of God that differs from \"any other books or sermons upon this subject.\"\n",
    "    'A64355', # \"A defence of Dr. Tenison's sermon of discretion in giving alms\"\n",
    "    'A56654', # \"A discourse of profiting by sermons\"\n",
    "    'A10173', # \"Protestants demonstrations, for Catholiks recusance All taken from such English Protestant bishops, doctors, ministers, parlaments, lawes, decrees, and proceedings\"\n",
    "    'A44682', # \"A letter written out of the countrey to a person of quality in the city who took offence at the late sermon of Dr. Stillingfleet\"\n",
    "    'A43648', # remarks on a farewell sermon \n",
    "    'A15195', # the whole book of Psalms \n",
    "    'B09664', # broadside for the University of Oxford advertising a sermon for coronation \n",
    "    'A64159', # remarks on separatists gathering to hear a sermon \n",
    "    'A32109', # \"His Maiesties speciall command under the great seale of England to the Lord Major of the honourable city of London\"\n",
    "    'A38590', # \"Catechistical discovrses\"\n",
    "    'A89171', # \"Occasioned by a seditious sermon lately preached.\"\n",
    "    'A28185', # \"Some animadversions upon his sermon\"\n",
    "    'A11933', # commentaries on Ecclesiastes \n",
    "    'A53902', # Maxims, aphorisms and apothegms for prayers before or after his sermons \n",
    "    'A65863', # contains remarks on a sermon preached by Edward Stillingfleet before the king \n",
    "    'A34032', # \"some considerations upon the sermons of a divine\" \n",
    "    'A90551', # remarks \"upon the publishing a pretended sermon\"\n",
    "    'A47223', # a letter in response to a sermon  \n",
    "    'A08483', # an exposition adapted from \"the catechising sermons of Gasper Oleuvian Treuir, and now translated out of the Latine tongue into the English\"\n",
    "    'A69915', # contains a letter that responds to a sermon \n",
    "    'A81846', # propositions addressed to Oliver Cromwell \n",
    "    'A10686', # an elegy on the death of a hundred persons \"who were lamentably slaine by the fall of a house in the Blacke-Fryers being all assembled there (after the manner of their deuotions) to heare a sermon on Sunday night\"\n",
    "    'A35016', # responses to sermons \n",
    "    'A68106', # \"A declaration of Henry Marc de Gouffier Marquise of Boniuet, Lord of Creuecœur, &c. Made in the consistorie of Rochell, in the presence of the pastors and elders of the said towne\"\n",
    "    'B22921', # \"with an appendix in vindication of a sermon\"\n",
    "    'A10724', # \"The true report of a late practise enterprised by a papist with a yong maiden in Wales\"\n",
    "    'B04689', # catechism \n",
    "    'A81375', # Message from the Isle of Wight, brought by Major Cromwell.\n",
    "    'A52918', # treatise on dissenters; \"Vox clamantis, or, A cry to Protestant dissenters calling them from some unwarrantable ways, with which they are vulgarly, and perhaps too truly charged\"\n",
    "    'A18948', # \"The recantation of Thomas Clarke (sometime a Seminarie Priest of the English Colledge in Rhemes; and nowe by the great mercy of God conuerted vnto the profession of the gospell of Iesus Christ) made at Paules Crosse, after the sermon made by Master Buckeridge preacher\"\n",
    "    'A90877', # \"The Portraiture of Mr. George Keith the Quaker, in opposition to Mr. George Keith the parson.\"\n",
    "    'A87716', # letter \n",
    "    'A10442', # \"A confutation of a sermon\"\n",
    "    'A10443', # \"Confutation of a sermon, pronounced by M. Juell, at Paules crosse\"\n",
    "    'A44801', # an answer to a sermon\n",
    "    'A90899', # three dialogues; does not contain the two added sermons mentioned in the title \n",
    "    'A27029', # breviate about controversies regarding justification, antinomianism, the reprinting of a preacher's sermons \n",
    "    'A34230', # does not contain the \"brief notes of two sermons\", only a narrative \n",
    "    'A93510', # \"Some plain directions for the more profitable hearing of the vvord preached\"\n",
    "    'A52614', # only contains a life; does not contain the \"sermon on Luke X. 36, 37 preach'd on the occasion of his death\"\n",
    "    'A85774', # an exposition; does not contain the \"two sermons preached before the University at Oxford, some years since\"\n",
    "    'A56520', # narrative about infanticide; does not contain the appendixed sermon \n",
    "    'A76180', # list of advice to Parliament from Richard Baxter at the end of his sermon \n",
    "    'A17683', # translation out of Latin of Calvin's lectures  \n",
    "    'A27494', # does not contain the added \"sermon of regal power\" \n",
    "    'A86886', # \"The foure wishes of Mr. John Humphrey, in conclusion of his sermons printed 1653.\"\n",
    "    'A67822', # several poems, including a poetical translation of a Latin sermon by Edward Young\n",
    "    'A81581', # \"Queries upon queries: or Enquiries into Certain queries upon Dr. Pierce's sermon at Whitehall, Feb. 1\"\n",
    "    'A71091', # Refutation of a sermon preached by Stephen Marshall before the House of Commons (Meroz Cursed)\n",
    "    'A28579', # contains a list of \"Choyce Occasional Sermons\"\n",
    "    'A50799', # contains a list of recommended sermons \n",
    "    'A13812', # answer to remarks on a sermon \n",
    "    'A21069', # treatise proving \"it to be absolutely sinfull to heare the word preached in any false state\"\n",
    "    'A43399', # \"A reply in the defence of Oxford Petition\"\n",
    "    'A44308', # reply to a sermon \n",
    "    'A44843', # \"The record of sufferings for tythes in England\"\n",
    "    'A46371', # reflections of a learned man on the \"strange and miraculous exstasies\" of a woman \n",
    "    'A48172',  # a letter reply to a sermon \n",
    "    'A58328', # response to a sermon \n",
    "    'B01388', # \"An answer to Clemens Alexandrinus's sermon\"\n",
    "    'A89416', # \"A true relation of the proceedings from York and Beverley.\"\n",
    "    'B03839', # \"The Jacobite's new creed, containing the articles of their faith, and doctrine of salvation, as now preach'd and practised, &c. Licensed according to order.\"\n",
    "    'B06138', # \"To the Reverend Dr. Beveridge, an eucharisticon, occasion'd by his seasonable and excellent sermon\"\n",
    "    'B09463', # \"In a letter, which impartially discovers the manifold haeresies and blasphemies, and the strong delusions of even the most refined Quakerism\"\n",
    "    'A81906', # \"A case of conscience resolved: concerning ministers medling with state matters in their sermons\"\n",
    "    'A88596', # \"The true and perfect speec [sic] of Mr. Christopher Love on the scaffold on Tower-Hill\"\n",
    "    'A81417', # \"A dialogue; between George Keith, and an eminent Quaker relating to his coming over to the Church of England. With some modest reflections on Mr. Keith's two first sermons\" \n",
    "    'A85341', # \"The good Catholick no bad subject. Or, A letter from a Catholick gentleman to Mr. Richard Baxter. Modestly accepting the challenge by him made in his Sermon of repentance\"\n",
    "    'A96864', # \"Divine poems being meditations upon several sermons\"\n",
    "    'A93332', # \"A reply to a pamphlet called, Oaths no gospel-ordinance\"\n",
    "    'A95939', # \"...Occasioned, by their attesting his delivering of certain positions, in a sermon at the leaguer\"\n",
    "    'A79568', # \"The church defended, against Mr. Skingle's assize-sermon at Hertford In a letter to a friend. By a true lover of the orthodox clergie.\"\n",
    "    'A77100', # \"Paideia Thriamous. The triumph of learning over ignorance, and of truth over faleshood. Being an answer to foure quæries. Whether there be any need of universities? Who is to be accounted an hæretick? Whether it be lawfull to use coventicles? Whether a lay-man may preach? VVhich were lately proposed by a zelot, in the parish church at Swacie neere Cambridge, after the second sermon...\"\n",
    "    'A63877', # \"A letter to the clergy of the diœcess of Ely from the Bishop of Ely ; before, and preparatory to his visitation.\"\n",
    "    'A62992', # reply to a sermon \n",
    "    'A60864', # remarks on an answer to a sermon\n",
    "    'A64639', # a letter with remarks on a sermon \n",
    "    'A64197', # \"a soft answer to an angry sermon\" \n",
    "    'A61683', # a letter with refllections on a book \n",
    "    'A48191', # a letter occasioned by a sermon \n",
    "    'A43685', # a vindication occasioned by a sermon \n",
    "    'A43806', # a letter and an answer \n",
    "    'A46883', # letters on Turkey, Jews, and Ethnic relations \n",
    "    'A40538', # an account of the Popish Plot, 1678 \n",
    "    'A41496', # a letter occasioned by a sermon\n",
    "    'A45149', # remarks occasioned  by a sermon\n",
    "    'A48968', # answer to a late farewell sermon \n",
    "    'A55289', # poems occasioned by other poems and sermons upon the queen's death \n",
    "    'A54939', # a letter occasioned by a sermon \n",
    "    'A57258', # a letter concerning passages of a sermon \n",
    "    'A56278', # prayers used by preachers before or after sermons \n",
    "    'A58892', # a letter remarking to a sermon\n",
    "    'A16497', # catechism regarding piety, including how \"to heare sermons with profit\"\n",
    "    'A18267', # a dictionary of words borrowed from other languages \n",
    "    'A06013', # defence of a sermon \n",
    "    'A31039', # defence against a sermon \n",
    "    'A64394', # Terence's Latin dramas \n",
    "    'A77638', # a letter occasioned by a sermon\n",
    "    'A78013', # a letter occasioned by Christopher Love's sermon \n",
    "    'A42577', # a letter examining a sermon \n",
    "    'A47973', # \"A letter from a clergy-man in the country, to a minister in the city, concerning ministers intermedling with state-affairs in their sermons & discourse\"\n",
    "    'A42539', # \"Upon the meeting of the sons of the clergy at a sermon preached before them in Saint Pauls church\"\n",
    "    'A09418', # how to \"hear sermons with profit\" \n",
    "    'A13299', # contains the preface and postscript before and after a sermon \n",
    "    'A30903', # apology for Quakerism \n",
    "    'A36190', # \"Queries upon queries\" regarding a sermon \n",
    "    'A31459', # the life of a minister \n",
    "    'A26859', # an answer to a sermon \n",
    "    'B28836', # a letter claiming inspiration from the Holy Spirit; labeled as \"Astrology -- Sermons.\" and \"Sermons, English\" in subject headings,\n",
    "    'A83012', # \"The confident questionist questioned: or, the examination of the doctrine delivered by Mr. Thomas Willes in certain queries.\"\n",
    "    'A84063', # Pastoral letters and charges; does not actually contain a sermon despite having the subject of \"Sermons, English\"\n",
    "    'A90702', # does not actually contain the sermon text\n",
    "    'A67411', # only contains two letters; \"Theological discourses, in two parts the first containing VIII letters and III sermons concerning the blessed Trinity : the second, discourses & sermons on several occasions / by John Wallis ...\",\n",
    "    'A68546', # contains only the second half of the title, i.e., prayers of thanksgiving; \"God be thanked A sermon of thanksgiuing for the happy successe of the English fleetes, sent forth by the honourable company of aduenturers to the East Indies. Preached to the honourable gouernors and committees, and the whole company, of their good ship, the Hope Marchant happily returened: at Deptford on Maundy Thursday last being the 29th of March. 1616. Hereunto are added sundry necessary and vseful formes of prayer and thankes-giuing for the helpe of all such as trauell by sea, fitted to their seruerall occasions. By Samuel Page Dr. in Diuinitie.\"\n",
    "    'A65419', # letters occasioned by a sermon \n",
    "    'A11848', # only contains the title page; \"Fury fiered, or, Crueltie scourged preached at S. Buttolphs without Bishops-gate, Nouem. 18. 1623 / by Iohn Sedguuick ...\"\n",
    "    'A18019', # only contains the title page; \"Achitophel, or, The picture of a wicked politician devided into three parts : a treatise presented heretofore in three sermons to the Vniversitie of Oxford and now published / by Nathanael Carpent[er].\"\n",
    "    'A26426', # \"Advertisement be [sic] Agnes Campbel relict of the deceast Master William Guthrie, minister of the Gospel, unto whose hands some printed papers called sermons, bearing the said Master William his name, may come.\"\n",
    "    'B26622', # only contains a decree from a council \n",
    "    'A02216', # poem; \"An Oration or funerall sermon vttered at Roome...faithfully translated out of the French copie\"\n",
    "]"
   ]
  },
  {
   "cell_type": "code",
   "execution_count": null,
   "metadata": {},
   "outputs": [],
   "source": [
    "for item in exclude_annotated: \n",
    "    if item not in sermons_missing.keys(): \n",
    "        print(item)"
   ]
  },
  {
   "cell_type": "code",
   "execution_count": 109,
   "metadata": {},
   "outputs": [
    {
     "name": "stdout",
     "output_type": "stream",
     "text": [
      "5729\n"
     ]
    },
    {
     "data": {
      "text/plain": [
       "(4226, 1503)"
      ]
     },
     "execution_count": 109,
     "metadata": {},
     "output_type": "execute_result"
    }
   ],
   "source": [
    "missing_df = []\n",
    "sermons_df = []\n",
    "\n",
    "for tcpID, entry in sermons.items(): \n",
    "    if tcpID in exclude_foreign: \n",
    "        continue\n",
    "    elif tcpID not in ['A28579','A50799']: \n",
    "        sermons_df.append(entry)\n",
    "\n",
    "for tcpID, entry in sermons_missing.items():\n",
    "    if tcpID in exclude_foreign: \n",
    "        continue\n",
    "    elif tcpID in exclude_annotated: \n",
    "        continue\n",
    "    else: \n",
    "        missing_df.append(entry)\n",
    "\n",
    "missing_df = pd.DataFrame(missing_df)\n",
    "missing_df.to_csv(\"../assets/sermons_missing.csv\",index=False)\n",
    "sermons_df = pd.DataFrame(sermons_df)\n",
    "sermons_df.to_csv(\"../assets/sermons.csv\", index=False)\n",
    "\n",
    "print(len(sermons_df)+ len(missing_df))\n",
    "len(sermons_df), len(missing_df)"
   ]
  },
  {
   "cell_type": "markdown",
   "metadata": {},
   "source": [
    "## Examine section names "
   ]
  },
  {
   "cell_type": "code",
   "execution_count": null,
   "metadata": {},
   "outputs": [],
   "source": [
    "import os,re\n",
    "import pandas as pd \n",
    "from collections import Counter \n",
    "sys.path.append('../') \n",
    "from lib.dictionaries.sermon_annotations import * \n",
    "\n",
    "sermons_missing = pd.read_csv(\"../assets/sermons_missing.csv\")\n",
    "sermons_missing = sermons_missing.to_dict(orient='records')\n",
    "sermons_missing = {s['id']: s for s in sermons_missing}\n",
    "\n",
    "num_oral = 0 \n",
    "sections = [] # tcpID to section to index \n",
    "info_dict = sermons_missing\n",
    "# info_dict = sermons \n",
    "\n",
    "for fp in os.listdir(\"../assets/plain_all\"): \n",
    "    if fp == \".DS_Store\": continue \n",
    "    tcpID = fp.split(\".\")[0]\n",
    "    if tcpID not in sermons and tcpID not in sermons_missing: \n",
    "        continue \n",
    "    if tcpID in sermons: \n",
    "        continue\n",
    "    # if tcpID in sermons_missing: \n",
    "    #     continue \n",
    "     \n",
    "    with open(f\"../assets/plain_body/{fp}\",\"r\") as file: \n",
    "        text = file.read() \n",
    "    s = re.findall(r'(\\bDIV[\\d+\\_\\w+\\^]+)\\s',text)\n",
    "    \n",
    "    tcpID_sections = {}\n",
    "    title = info_dict[tcpID]['title']\n",
    "    subjects = info_dict[tcpID]['subject_headings']\n",
    "      \n",
    "    if tcpID in custom or tcpID in custom_exceptions or tcpID in custom_subsections: \n",
    "        continue \n",
    "    elif tcpID in exclude_foreign_missing or tcpID in exclude_annotated: \n",
    "        continue \n",
    "    elif re.search('Sermons|Funeral sermons|Thanksgiving sermons|Fast-day sermons|Christmas sermons|Visitation sermons',subjects):\n",
    "        continue\n",
    "    \n",
    "    skip = False \n",
    "    for name in s: \n",
    "        if re.search(r\"\\^sermon\\^\",name):\n",
    "            sections.append(name)\n",
    "            skip = True \n",
    "        if name not in tcpID_sections: \n",
    "            tcpID_sections[name] = 1 \n",
    "        else: \n",
    "            tcpID_sections[name] += 1 \n",
    "    if skip: continue \n",
    "    isStandard = False \n",
    "    for item in wanted_sections: \n",
    "        if item in tcpID_sections: \n",
    "            isStandard = True\n",
    "    if not isStandard: \n",
    "        print(f\"\\'{tcpID}\\':\", tcpID_sections) \n",
    "\n",
    "    print(tcpID, \"-----------\",\n",
    "          sermons_missing[tcpID]['authors'],\"-----------\",\n",
    "          sermons_missing[tcpID]['title'],\"-----------\",\n",
    "          sermons_missing[tcpID]['subject_headings'])"
   ]
  },
  {
   "cell_type": "code",
   "execution_count": null,
   "metadata": {},
   "outputs": [],
   "source": [
    "for name, _ in Counter(sections).items(): \n",
    "    # if not re.search(r\"^sermon\",name): \n",
    "    #     if name not in wanted_sections: \n",
    "            print(name, _)\n"
   ]
  },
  {
   "cell_type": "code",
   "execution_count": 52,
   "metadata": {},
   "outputs": [
    {
     "data": {
      "text/plain": [
       "5757"
      ]
     },
     "execution_count": 52,
     "metadata": {},
     "output_type": "execute_result"
    }
   ],
   "source": [
    "all_sermons = sermons.copy()\n",
    "sermons_missing = pd.read_csv(\"../assets/sermons_missing.csv\")\n",
    "sermons_missing = sermons_missing.to_dict(orient='records')\n",
    "sermons_missing = {s['id']: s for s in sermons_missing}\n",
    "all_sermons.update(sermons_missing)\n",
    "len(all_sermons)"
   ]
  },
  {
   "cell_type": "code",
   "execution_count": null,
   "metadata": {},
   "outputs": [],
   "source": [
    "missing = []\n",
    "found = []\n",
    "for tcpID in missing: \n",
    "    print(all_sermons[tcpID]['authors'])\n",
    "    print(all_sermons[tcpID]['title'])\n",
    "    print(all_sermons[tcpID]['subject_headings'])\n",
    "    print(all_sermons[tcpID]['date'])\n",
    "    if f\"{tcpID}.txt\" not in os.listdir(\"../assets/plain_body\"): continue \n",
    "    with open(f\"../assets/plain_body/{tcpID}.txt\",\"r\") as file: \n",
    "        text = file.read() \n",
    "        s = re.findall(r'(\\bDIV[\\d+\\_\\w+\\^]+)\\s',text)\n",
    "        items = []\n",
    "        for item in s: \n",
    "            # if \"sermon\" in item: \n",
    "                items.append(item)\n",
    "        \n",
    "        print(tcpID, Counter(items),'\\n\\n')\n"
   ]
  },
  {
   "cell_type": "code",
   "execution_count": null,
   "metadata": {},
   "outputs": [],
   "source": [
    "for fp in os.listdir(f\"../assets/plain_body\"):\n",
    "    tcpID = fp.split(\".txt\")[0]\n",
    "    if tcpID not in sermons and tcpID not in sermons_missing: \n",
    "        print(tcpID)\n",
    "        os.remove(f\"../assets/plain_body/{tcpID}.txt\")"
   ]
  },
  {
   "cell_type": "markdown",
   "metadata": {},
   "source": [
    "# There are 5,729 XML files in this corpus\n",
    "- 15179 sermon-related sections (DIV1-7)\n",
    "- 98174 instances of foreign language gaps (\"< in non-Latin alphabet >)"
   ]
  },
  {
   "cell_type": "code",
   "execution_count": 121,
   "metadata": {},
   "outputs": [
    {
     "name": "stderr",
     "output_type": "stream",
     "text": [
      "100%|██████████| 5729/5729 [00:07<00:00, 727.24it/s]"
     ]
    },
    {
     "name": "stdout",
     "output_type": "stream",
     "text": [
      "98092\n"
     ]
    },
    {
     "name": "stderr",
     "output_type": "stream",
     "text": [
      "\n"
     ]
    }
   ],
   "source": [
    "import os,re\n",
    "from collections import Counter \n",
    "from tqdm import tqdm \n",
    "tcpIDs = {fp.split(\".txt\")[0]:None for fp in os.listdir(f\"../assets/plain_body\")}\n",
    "total = {}\n",
    "for tcpID in tqdm(tcpIDs): \n",
    "    with open(f\"../assets/plain_body/{tcpID}.txt\",\"r\") as file: \n",
    "        text = file.read() \n",
    "        s = re.findall(\"NONLATINALPHABET\",text)\n",
    "        # if len(s) > 0: \n",
    "        #     print(tcpID, Counter(s))\n",
    "        total[tcpID] = len(s)\n",
    "print(sum(total.values()))"
   ]
  },
  {
   "cell_type": "code",
   "execution_count": null,
   "metadata": {},
   "outputs": [],
   "source": [
    "for tcpID, freq in Counter(total).most_common(n=10):\n",
    "    print(\"###############\")\n",
    "    print(tcpID,freq)\n",
    "    print(all_sermons[tcpID]['title'])\n"
   ]
  },
  {
   "cell_type": "code",
   "execution_count": null,
   "metadata": {},
   "outputs": [],
   "source": [
    "import os,re\n",
    "from collections import Counter \n",
    "from tqdm import tqdm \n",
    "tcpIDs = {fp.split(\".txt\")[0]:None for fp in os.listdir(f\"../assets/plain_body\")}\n",
    "total = []\n",
    "\n",
    "for tcpID in tqdm(tcpIDs): \n",
    "    with open(f\"../assets/plain_body/{tcpID}.txt\",\"r\") as file: \n",
    "        text = file.read() \n",
    "        # s = re.findall(\" PAGE\",text)\n",
    "        s = re.findall(r\"(DIV\\d+\\^[^\\s]+)\",text)\n",
    "        s = re.findall()\n",
    "        for item in s: \n",
    "            if re.search(r\"[^\\d\\^\\\\\\'\\w]\",item):\n",
    "                total.append(tcpID)\n",
    "                break\n",
    "print(total)"
   ]
  },
  {
   "cell_type": "code",
   "execution_count": 118,
   "metadata": {},
   "outputs": [
    {
     "data": {
      "text/plain": [
       "(5729, 5729)"
      ]
     },
     "execution_count": 118,
     "metadata": {},
     "output_type": "execute_result"
    }
   ],
   "source": [
    "remove = ['A21269', 'A65588', 'A60194', 'A39579', 'A48431', 'A41202', 'A04985', 'A37045', 'A84072', 'B15303', 'A09432', 'A03696', 'A19037', 'A30895', 'A67926', 'A19036', 'A29134', 'A89195', 'A56695', 'A09434', 'A39905', 'A80396', 'A29501', 'A06521', 'A94069', 'A33980', 'A51907', 'A80637', 'A14861', 'A10650', 'A25358', 'A89517', 'A10929', 'A20637', 'A50138', 'B05977', 'A66098', 'A21258', 'A56589', 'A45330']\n",
    "exists = {fp:None for fp in os.listdir(f\"../assets/plain_body\")}\n",
    "exists_adorned = {fp:None for fp in os.listdir(f\"../assets/adorned\")}\n",
    "remove = ['A02216']\n",
    "for tcpID in remove: \n",
    "    if f\"{tcpID}.txt\" in exists: \n",
    "        os.remove(f\"../assets/plain_body/{tcpID}.txt\")\n",
    "    if f\"{tcpID}.txt\" in exists_adorned: \n",
    "        os.remove(f\"../assets/adorned/{tcpID}.txt\")\n",
    "len(os.listdir(f\"../assets/plain_body\")),len(os.listdir(f\"../assets/adorned\"))"
   ]
  },
  {
   "cell_type": "code",
   "execution_count": null,
   "metadata": {},
   "outputs": [],
   "source": [
    "remove = ['A95346', 'B34542', 'B10302', 'B02801', 'B07519', 'A87349', 'A81783', 'A81315', 'A91720', 'A95629', 'A91479', 'A91847', \n",
    "          'A62564', 'A52002', 'A29335', 'A29334', 'A31429', 'A64645', 'A76482', 'A72359', 'A00687', 'A17050', 'A95720', 'B04329', \n",
    "          'B09870', 'A60308', 'A50422', 'A59547', 'A29332', 'A00164', 'A00156', 'A45574', 'A65588', 'A07584', 'A02379', 'A06325', \n",
    "          'A19485', 'A80884', 'A09748', 'A67819', 'A44316', 'A19744', 'A02216']"
   ]
  },
  {
   "cell_type": "code",
   "execution_count": 42,
   "metadata": {},
   "outputs": [
    {
     "name": "stderr",
     "output_type": "stream",
     "text": [
      "B43856: 100%|██████████| 5757/5757 [07:24<00:00, 12.94it/s]\n"
     ]
    }
   ],
   "source": [
    "progress = tqdm(sorted(tcpIDs))\n",
    "for tcpID in progress: \n",
    "    with open(f\"../assets/plain_body/{tcpID}.txt\",\"r\") as file: \n",
    "        text = file.read() \n",
    "        text = re.sub(r\"\\||\\∣|\\〈|\\〉|\\¦\",\"\",text)\n",
    "    # print(Counter(re.findall(r\"[^\\x00-\\x7F]\",text)))\n",
    "    with open(f\"../assets/plain_body/{tcpID}.txt\",\"w+\") as file:\n",
    "        file.writelines(text) # write as one long string  \n",
    "    progress.set_description(tcpID)\n"
   ]
  }
 ],
 "metadata": {
  "kernelspec": {
   "display_name": "base",
   "language": "python",
   "name": "python3"
  },
  "language_info": {
   "codemirror_mode": {
    "name": "ipython",
    "version": 3
   },
   "file_extension": ".py",
   "mimetype": "text/x-python",
   "name": "python",
   "nbconvert_exporter": "python",
   "pygments_lexer": "ipython3",
   "version": "3.11.5"
  }
 },
 "nbformat": 4,
 "nbformat_minor": 2
}
