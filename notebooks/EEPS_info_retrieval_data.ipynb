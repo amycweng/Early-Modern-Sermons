{
 "cells": [
  {
   "cell_type": "markdown",
   "metadata": {},
   "source": [
    "# Prepare data for information retrieval fine-tuning "
   ]
  },
  {
   "cell_type": "markdown",
   "metadata": {},
   "source": [
    "## Map Bible verse to body segments with the relevant citations"
   ]
  },
  {
   "cell_type": "code",
   "execution_count": 1,
   "metadata": {},
   "outputs": [],
   "source": [
    "import re,json,os\n",
    "import pandas as pd \n",
    "from tqdm import tqdm \n",
    "import warnings\n",
    "warnings.filterwarnings(\"ignore\", category=pd.errors.DtypeWarning)\n",
    "\n",
    "def clean_text(s): \n",
    "    s = re.sub(r\"\\<\\/i\\>|\\<NOTE\\>|NONLATINALPHABET|\\<i\\>|\\d+\\^PAGE[S]*\\^MISSING\",\"\",s)\n",
    "    s = re.sub(r\"\\s+\",\" \",s)\n",
    "    s = s.strip(\" \")\n",
    "    return s "
   ]
  },
  {
   "cell_type": "code",
   "execution_count": null,
   "metadata": {},
   "outputs": [
    {
     "name": "stderr",
     "output_type": "stream",
     "text": [
      "100%|██████████| 12/12 [00:01<00:00,  6.82it/s]\n"
     ]
    },
    {
     "name": "stdout",
     "output_type": "stream",
     "text": [
      "Finished processing pre-Elizabeth 8354 unique passages\n"
     ]
    },
    {
     "name": "stderr",
     "output_type": "stream",
     "text": [
      "100%|██████████| 12/12 [00:13<00:00,  1.10s/it]\n"
     ]
    },
    {
     "name": "stdout",
     "output_type": "stream",
     "text": [
      "Finished processing Elizabeth 75689 unique passages\n"
     ]
    },
    {
     "name": "stderr",
     "output_type": "stream",
     "text": [
      "100%|██████████| 14/14 [00:22<00:00,  1.63s/it]\n"
     ]
    },
    {
     "name": "stdout",
     "output_type": "stream",
     "text": [
      "Finished processing JamesI 196188 unique passages\n"
     ]
    },
    {
     "name": "stderr",
     "output_type": "stream",
     "text": [
      "100%|██████████| 22/22 [00:18<00:00,  1.17it/s]\n"
     ]
    },
    {
     "name": "stdout",
     "output_type": "stream",
     "text": [
      "Finished processing CharlesI 300794 unique passages\n"
     ]
    },
    {
     "name": "stderr",
     "output_type": "stream",
     "text": [
      "100%|██████████| 18/18 [00:11<00:00,  1.54it/s]\n"
     ]
    },
    {
     "name": "stdout",
     "output_type": "stream",
     "text": [
      "Finished processing CivilWar 361234 unique passages\n"
     ]
    },
    {
     "name": "stderr",
     "output_type": "stream",
     "text": [
      "100%|██████████| 18/18 [00:18<00:00,  1.01s/it]\n"
     ]
    },
    {
     "name": "stdout",
     "output_type": "stream",
     "text": [
      "Finished processing Interregnum 443145 unique passages\n"
     ]
    },
    {
     "name": "stderr",
     "output_type": "stream",
     "text": [
      "100%|██████████| 20/20 [00:33<00:00,  1.70s/it]\n"
     ]
    },
    {
     "name": "stdout",
     "output_type": "stream",
     "text": [
      "Finished processing CharlesII 600117 unique passages\n"
     ]
    },
    {
     "name": "stderr",
     "output_type": "stream",
     "text": [
      "100%|██████████| 18/18 [00:03<00:00,  4.74it/s]\n"
     ]
    },
    {
     "name": "stdout",
     "output_type": "stream",
     "text": [
      "Finished processing JamesII 624026 unique passages\n"
     ]
    },
    {
     "name": "stderr",
     "output_type": "stream",
     "text": [
      "100%|██████████| 20/20 [00:14<00:00,  1.34it/s]"
     ]
    },
    {
     "name": "stdout",
     "output_type": "stream",
     "text": [
      "Finished processing WilliamAndMary 682413 unique passages\n"
     ]
    },
    {
     "name": "stderr",
     "output_type": "stream",
     "text": [
      "\n"
     ]
    }
   ],
   "source": [
    "relevant = {}\n",
    "c_type = \"verse\"\n",
    "\n",
    "with open('../assets/corpora.json',\"r\") as file: \n",
    "    eras = json.load(file)\n",
    "for era in eras: \n",
    "    with open(f\"../assets/citations/{era}_citation_segments.json\") as file:\n",
    "        c_to_seg = json.load(file)\n",
    "    seg_to_c = {}\n",
    "    for cited, segments in c_to_seg.items():\n",
    "        if \"Ibidem\" in cited or \"Verse\" in cited: continue \n",
    "        cited = \" \".join(cited.split(\"-\"))\n",
    "        if re.search(r\"\\d+ \\d+\",cited):\n",
    "            cited = cited.split(\" \")\n",
    "            if c_type == \"verse\": \n",
    "                cited = \" \".join(cited[:-2]) +\" \" + \".\".join(cited[-2:])\n",
    "            else: cited = \" \".join(cited)\n",
    "        for s in segments: \n",
    "            seg_id = (s.split(\",\")[0],int(s.split(\",\")[1]))\n",
    "            if seg_id not in seg_to_c: \n",
    "                seg_to_c[seg_id] = []\n",
    "            seg_to_c[seg_id].append(cited)\n",
    "    # print(era, len(c_to_seg),'citations',len(seg_to_c),\"segments\")\n",
    "\n",
    "    for fp in tqdm(os.listdir(f\"../../SERMONS_APP/db/data/{era}\")):\n",
    "        if \"body\" not in fp: continue \n",
    "        text = pd.read_csv(f\"../../SERMONS_APP/db/data/{era}/{fp}\", header=None)\n",
    "        for idx, tcpID in enumerate(text[0]):\n",
    "            sidx = str(text[1][idx])\n",
    "            \n",
    "            close_to_citation = False \n",
    "            citation_sidx = []\n",
    "            # window of 2 segments \n",
    "            if (tcpID,int(sidx)) in seg_to_c:\n",
    "                close_to_citation = True\n",
    "                citation_sidx.append(int(sidx))\n",
    "            else: \n",
    "                i = 1 \n",
    "                if (tcpID,int(sidx)-i) in seg_to_c:\n",
    "                    close_to_citation = True\n",
    "                    citation_sidx.append(int(sidx)-i)\n",
    "                elif (tcpID,int(sidx)+i) in seg_to_c:\n",
    "                    close_to_citation = True \n",
    "                    citation_sidx.append(int(sidx)+i)\n",
    "            if close_to_citation: \n",
    "                s = clean_text(text[6][idx])\n",
    "                if len(s.split(\" \"))< 5: continue # at least 5 words long\n",
    "                if s not in relevant: \n",
    "                    relevant[s] = ({},{}) # citations, location \n",
    "                relevant[s][1][(tcpID,sidx)] = None  \n",
    "                for entry in citation_sidx: \n",
    "                    for c in seg_to_c[(tcpID,entry)]:\n",
    "                        relevant[s][0][c] = None \n",
    "    print(\"Finished processing\",era,len(set(relevant)),'unique passages')\n",
    "\n"
   ]
  },
  {
   "cell_type": "code",
   "execution_count": 22,
   "metadata": {},
   "outputs": [],
   "source": [
    "output = {}\n",
    "for s,r in relevant.items(): \n",
    "    output[s] = (list(r[0].keys()), list(r[1].keys()))\n",
    "with open(f\"../assets/all_relevant.json\",\"w+\") as file: \n",
    "    json.dump(output, file)\n",
    "del output"
   ]
  },
  {
   "cell_type": "markdown",
   "metadata": {},
   "source": [
    "## Get non-citation segments "
   ]
  },
  {
   "cell_type": "code",
   "execution_count": 17,
   "metadata": {},
   "outputs": [
    {
     "name": "stderr",
     "output_type": "stream",
     "text": [
      "100%|██████████| 12/12 [00:02<00:00,  4.75it/s]\n"
     ]
    },
    {
     "name": "stdout",
     "output_type": "stream",
     "text": [
      "Finished pre-Elizabeth: Total 51029 body passages.\n"
     ]
    },
    {
     "name": "stderr",
     "output_type": "stream",
     "text": [
      "100%|██████████| 12/12 [00:00<00:00, 112.91it/s]\n"
     ]
    },
    {
     "name": "stdout",
     "output_type": "stream",
     "text": [
      "Finished pre-Elizabeth marginalia: Total 5150 margin passages.\n"
     ]
    },
    {
     "name": "stderr",
     "output_type": "stream",
     "text": [
      "100%|██████████| 12/12 [00:20<00:00,  1.71s/it]\n"
     ]
    },
    {
     "name": "stdout",
     "output_type": "stream",
     "text": [
      "Finished Elizabeth: Total 505904 body passages.\n"
     ]
    },
    {
     "name": "stderr",
     "output_type": "stream",
     "text": [
      "100%|██████████| 12/12 [00:00<00:00, 13.55it/s]\n"
     ]
    },
    {
     "name": "stdout",
     "output_type": "stream",
     "text": [
      "Finished Elizabeth marginalia: Total 56351 margin passages.\n"
     ]
    },
    {
     "name": "stderr",
     "output_type": "stream",
     "text": [
      "100%|██████████| 14/14 [00:28<00:00,  2.05s/it]\n"
     ]
    },
    {
     "name": "stdout",
     "output_type": "stream",
     "text": [
      "Finished JamesI: Total 1166971 body passages.\n"
     ]
    },
    {
     "name": "stderr",
     "output_type": "stream",
     "text": [
      "100%|██████████| 14/14 [00:02<00:00,  5.65it/s]\n"
     ]
    },
    {
     "name": "stdout",
     "output_type": "stream",
     "text": [
      "Finished JamesI marginalia: Total 164304 margin passages.\n"
     ]
    },
    {
     "name": "stderr",
     "output_type": "stream",
     "text": [
      "100%|██████████| 22/22 [00:29<00:00,  1.33s/it]\n"
     ]
    },
    {
     "name": "stdout",
     "output_type": "stream",
     "text": [
      "Finished CharlesI: Total 1809118 body passages.\n"
     ]
    },
    {
     "name": "stderr",
     "output_type": "stream",
     "text": [
      "100%|██████████| 22/22 [00:01<00:00, 11.31it/s]\n"
     ]
    },
    {
     "name": "stdout",
     "output_type": "stream",
     "text": [
      "Finished CharlesI marginalia: Total 247991 margin passages.\n"
     ]
    },
    {
     "name": "stderr",
     "output_type": "stream",
     "text": [
      "100%|██████████| 18/18 [00:19<00:00,  1.10s/it]\n"
     ]
    },
    {
     "name": "stdout",
     "output_type": "stream",
     "text": [
      "Finished CivilWar: Total 2242270 body passages.\n"
     ]
    },
    {
     "name": "stderr",
     "output_type": "stream",
     "text": [
      "100%|██████████| 18/18 [00:01<00:00, 17.21it/s]\n"
     ]
    },
    {
     "name": "stdout",
     "output_type": "stream",
     "text": [
      "Finished CivilWar marginalia: Total 287593 margin passages.\n"
     ]
    },
    {
     "name": "stderr",
     "output_type": "stream",
     "text": [
      "100%|██████████| 18/18 [00:33<00:00,  1.84s/it]\n"
     ]
    },
    {
     "name": "stdout",
     "output_type": "stream",
     "text": [
      "Finished Interregnum: Total 2977286 body passages.\n"
     ]
    },
    {
     "name": "stderr",
     "output_type": "stream",
     "text": [
      "100%|██████████| 18/18 [00:02<00:00,  8.67it/s]\n"
     ]
    },
    {
     "name": "stdout",
     "output_type": "stream",
     "text": [
      "Finished Interregnum marginalia: Total 335020 margin passages.\n"
     ]
    },
    {
     "name": "stderr",
     "output_type": "stream",
     "text": [
      "100%|██████████| 20/20 [01:15<00:00,  3.79s/it]\n"
     ]
    },
    {
     "name": "stdout",
     "output_type": "stream",
     "text": [
      "Finished CharlesII: Total 4547095 body passages.\n"
     ]
    },
    {
     "name": "stderr",
     "output_type": "stream",
     "text": [
      "100%|██████████| 20/20 [00:02<00:00,  9.57it/s]\n"
     ]
    },
    {
     "name": "stdout",
     "output_type": "stream",
     "text": [
      "Finished CharlesII marginalia: Total 393336 margin passages.\n"
     ]
    },
    {
     "name": "stderr",
     "output_type": "stream",
     "text": [
      "100%|██████████| 18/18 [00:06<00:00,  2.85it/s]\n"
     ]
    },
    {
     "name": "stdout",
     "output_type": "stream",
     "text": [
      "Finished JamesII: Total 4690403 body passages.\n"
     ]
    },
    {
     "name": "stderr",
     "output_type": "stream",
     "text": [
      "100%|██████████| 18/18 [00:00<00:00, 72.12it/s]\n"
     ]
    },
    {
     "name": "stdout",
     "output_type": "stream",
     "text": [
      "Finished JamesII marginalia: Total 401144 margin passages.\n"
     ]
    },
    {
     "name": "stderr",
     "output_type": "stream",
     "text": [
      "100%|██████████| 20/20 [00:33<00:00,  1.70s/it]\n"
     ]
    },
    {
     "name": "stdout",
     "output_type": "stream",
     "text": [
      "Finished WilliamAndMary: Total 5440835 body passages.\n"
     ]
    },
    {
     "name": "stderr",
     "output_type": "stream",
     "text": [
      "100%|██████████| 20/20 [00:00<00:00, 26.74it/s]"
     ]
    },
    {
     "name": "stdout",
     "output_type": "stream",
     "text": [
      "Finished WilliamAndMary marginalia: Total 417205 margin passages.\n"
     ]
    },
    {
     "name": "stderr",
     "output_type": "stream",
     "text": [
      "\n"
     ]
    }
   ],
   "source": [
    "# Body Texts  \n",
    "from tqdm import tqdm \n",
    "\n",
    "body = {}\n",
    "margin_p = {}\n",
    "\n",
    "for era in eras: \n",
    "    for fp in tqdm(os.listdir(f\"{folder}/DH/SERMONS_APP/db/data/{era}\")):\n",
    "        if \"body\" not in fp: continue \n",
    "        text = pd.read_csv(f\"{folder}/DH/SERMONS_APP/db/data/{era}/{fp}\", header=None)\n",
    "        text = text.to_dict(orient=\"records\")\n",
    "        for item in text:\n",
    "            s = clean_text(item[6])\n",
    "            if s in relevant: continue \n",
    "            tcpID, sidx = item[0], item[1]\n",
    "            if not isinstance(s,str): continue \n",
    "            if len(s) == 0: continue \n",
    "            if s not in body: \n",
    "                body[s] = {} # locations \n",
    "            body[s][(tcpID,str(sidx))] = None \n",
    "\n",
    "    print(f\"Finished {era}: Total {len(body)} body passages.\")\n",
    "\n",
    "    # Marginalia\n",
    "    \n",
    "    for fp in tqdm(os.listdir(f\"{folder}/DH/SERMONS_APP/db/data/{era}\")):\n",
    "        if \"margin\" not in fp: continue \n",
    "        margin = pd.read_csv(f\"{folder}/DH/SERMONS_APP/db/data/{era}/{fp}\", header=None, names=[\"tcpID\",\"sidx\",\"nidx\",\"original\",\"standardized\"])\n",
    "        margin = margin.to_dict(orient=\"records\")\n",
    "        for m in margin:\n",
    "            t = m[\"original\"]\n",
    "            if isinstance(t,float): continue\n",
    "            t = clean_text(t)\n",
    "            tcpID, sidx, nidx = m[\"tcpID\"], m[\"sidx\"], m[\"nidx\"]\n",
    "            if s not in margin_p: \n",
    "                margin_p[t] = {} # locations \n",
    "            margin_p[t][(tcpID,str(sidx),str(nidx))] = None \n",
    "\n",
    "    print(f\"Finished {era} marginalia: Total {len(margin_p)} margin passages.\")"
   ]
  },
  {
   "cell_type": "code",
   "execution_count": 24,
   "metadata": {},
   "outputs": [],
   "source": [
    "for s,r in body.items(): \n",
    "    body[s] = list(r.keys())\n",
    "\n",
    "with open(f\"../assets/all_unique.json\",\"w+\") as file: \n",
    "    json.dump(body,file)\n",
    "\n",
    "for s,r in margin_p.items(): \n",
    "    margin_p[s] = list(r.keys())\n",
    "with open(f\"../assets/all_unique_marginalia.json\",\"w+\") as file: \n",
    "    json.dump(margin_p,file)"
   ]
  }
 ],
 "metadata": {
  "kernelspec": {
   "display_name": "base",
   "language": "python",
   "name": "python3"
  },
  "language_info": {
   "codemirror_mode": {
    "name": "ipython",
    "version": 3
   },
   "file_extension": ".py",
   "mimetype": "text/x-python",
   "name": "python",
   "nbconvert_exporter": "python",
   "pygments_lexer": "ipython3",
   "version": "3.11.5"
  }
 },
 "nbformat": 4,
 "nbformat_minor": 2
}
