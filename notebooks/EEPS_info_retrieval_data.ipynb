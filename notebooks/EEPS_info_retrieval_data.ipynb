{
 "cells": [
  {
   "cell_type": "markdown",
   "metadata": {},
   "source": [
    "# Prepare data for information retrieval fine-tuning "
   ]
  },
  {
   "cell_type": "markdown",
   "metadata": {},
   "source": [
    "## Map Bible verse to body segments with the relevant citations"
   ]
  },
  {
   "cell_type": "code",
   "execution_count": 8,
   "metadata": {},
   "outputs": [],
   "source": [
    "import re,json,os\n",
    "import pandas as pd \n",
    "from tqdm import tqdm \n",
    "import string \n",
    "import warnings\n",
    "warnings.filterwarnings(\"ignore\", category=pd.errors.DtypeWarning)\n",
    "\n",
    "def clean_text(s): \n",
    "    s = re.sub(r\"\\<\\/i\\>|\\<NOTE\\>|NONLATINALPHABET|\\<i\\>,\",\"\",s) # \\d+\\^PAGE[S]*\\^MISSING\"\n",
    "    s = re.sub(r\"\\s+\",\" \",s)\n",
    "    return s.strip(\" \").lower()\n",
    "    ret_str = []\n",
    "    for token in s.lower().split(): \n",
    "        ret_str.append(token.strip(string.punctuation))\n",
    "    return \" \".join(ret_str).strip()\n",
    "with open('../assets/corpora.json',\"r\") as file: \n",
    "    eras = json.load(file)\n",
    "    "
   ]
  },
  {
   "cell_type": "code",
   "execution_count": null,
   "metadata": {},
   "outputs": [],
   "source": [
    "relevant = {}\n",
    "c_type = \"verse\"\n",
    "\n",
    "for era in eras: \n",
    "    with open(f\"../assets/citations/{era}_citation_segments.json\") as file:\n",
    "        c_to_seg = json.load(file)\n",
    "    seg_to_c = {}\n",
    "    for cited, segments in c_to_seg.items():\n",
    "        if \"Ibidem\" in cited or \"Verse\" in cited: continue \n",
    "        cited = \" \".join(cited.split(\"-\"))\n",
    "        if re.search(r\"\\d+ \\d+\",cited):\n",
    "            cited = cited.split(\" \")\n",
    "            if c_type == \"verse\": \n",
    "                cited = \" \".join(cited[:-2]) +\" \" + \".\".join(cited[-2:])\n",
    "            else: cited = \" \".join(cited)\n",
    "        for s in segments: \n",
    "            seg_id = (s.split(\",\")[0],int(s.split(\",\")[1]))\n",
    "            if seg_id not in seg_to_c: \n",
    "                seg_to_c[seg_id] = []\n",
    "            seg_to_c[seg_id].append(cited)\n",
    "    # print(era, len(c_to_seg),'citations',len(seg_to_c),\"segments\")\n",
    "\n",
    "    for fp in tqdm(os.listdir(f\"../../SERMONS_APP/db/data/{era}\")):\n",
    "        if \"body\" not in fp: continue \n",
    "        text = pd.read_csv(f\"../../SERMONS_APP/db/data/{era}/{fp}\", header=None)\n",
    "        for idx, tcpID in enumerate(text[0]):\n",
    "            sidx = str(text[1][idx])\n",
    "            \n",
    "            close_to_citation = False \n",
    "            citation_sidx = []\n",
    "            # window of 2 segments \n",
    "            if (tcpID,int(sidx)) in seg_to_c:\n",
    "                close_to_citation = True\n",
    "                citation_sidx.append(int(sidx))\n",
    "            else: \n",
    "                i = 1 \n",
    "                if (tcpID,int(sidx)-i) in seg_to_c:\n",
    "                    close_to_citation = True\n",
    "                    citation_sidx.append(int(sidx)-i)\n",
    "                elif (tcpID,int(sidx)+i) in seg_to_c:\n",
    "                    close_to_citation = True \n",
    "                    citation_sidx.append(int(sidx)+i)\n",
    "            if close_to_citation: \n",
    "                s = clean_text(text[6][idx])\n",
    "                if len(s.split(\" \"))< 5: continue # at least 5 words long\n",
    "                if s not in relevant: \n",
    "                    relevant[s] = ({},{}) # citations, location \n",
    "                relevant[s][1][(tcpID,sidx)] = None  \n",
    "                for entry in citation_sidx: \n",
    "                    for c in seg_to_c[(tcpID,entry)]:\n",
    "                        relevant[s][0][c] = None \n",
    "    print(\"Finished processing\",era,len(set(relevant)),'unique passages')\n",
    "\n"
   ]
  },
  {
   "cell_type": "code",
   "execution_count": 3,
   "metadata": {},
   "outputs": [],
   "source": [
    "output = {}\n",
    "for s,r in relevant.items(): \n",
    "    output[s] = (list(r[0].keys()), list(r[1].keys()))\n",
    "with open(f\"../../segments/all_relevant.json\",\"w+\") as file: \n",
    "    json.dump(output, file)\n",
    "del output"
   ]
  },
  {
   "cell_type": "markdown",
   "metadata": {},
   "source": [
    "## Get non-citation segments "
   ]
  },
  {
   "cell_type": "code",
   "execution_count": 9,
   "metadata": {},
   "outputs": [
    {
     "name": "stderr",
     "output_type": "stream",
     "text": [
      "100%|██████████| 13/13 [00:02<00:00,  6.01it/s]\n"
     ]
    },
    {
     "name": "stdout",
     "output_type": "stream",
     "text": [
      "Finished pre-Elizabeth: Total 59415 body passages.\n"
     ]
    },
    {
     "name": "stderr",
     "output_type": "stream",
     "text": [
      "100%|██████████| 13/13 [00:00<00:00, 105.63it/s]\n"
     ]
    },
    {
     "name": "stdout",
     "output_type": "stream",
     "text": [
      "Finished pre-Elizabeth marginalia: Total 5235 margin passages.\n"
     ]
    },
    {
     "name": "stderr",
     "output_type": "stream",
     "text": [
      "100%|██████████| 13/13 [00:16<00:00,  1.24s/it]\n"
     ]
    },
    {
     "name": "stdout",
     "output_type": "stream",
     "text": [
      "Finished Elizabeth: Total 582603 body passages.\n"
     ]
    },
    {
     "name": "stderr",
     "output_type": "stream",
     "text": [
      "100%|██████████| 13/13 [00:00<00:00, 14.87it/s]\n"
     ]
    },
    {
     "name": "stdout",
     "output_type": "stream",
     "text": [
      "Finished Elizabeth marginalia: Total 58360 margin passages.\n"
     ]
    },
    {
     "name": "stderr",
     "output_type": "stream",
     "text": [
      "100%|██████████| 15/15 [00:25<00:00,  1.68s/it]\n"
     ]
    },
    {
     "name": "stdout",
     "output_type": "stream",
     "text": [
      "Finished JamesI: Total 1368373 body passages.\n"
     ]
    },
    {
     "name": "stderr",
     "output_type": "stream",
     "text": [
      "100%|██████████| 15/15 [00:02<00:00,  6.97it/s]\n"
     ]
    },
    {
     "name": "stdout",
     "output_type": "stream",
     "text": [
      "Finished JamesI marginalia: Total 171017 margin passages.\n"
     ]
    },
    {
     "name": "stderr",
     "output_type": "stream",
     "text": [
      "100%|██████████| 23/23 [00:25<00:00,  1.12s/it]\n"
     ]
    },
    {
     "name": "stdout",
     "output_type": "stream",
     "text": [
      "Finished CharlesI: Total 2114885 body passages.\n"
     ]
    },
    {
     "name": "stderr",
     "output_type": "stream",
     "text": [
      "100%|██████████| 23/23 [00:01<00:00, 11.99it/s]\n"
     ]
    },
    {
     "name": "stdout",
     "output_type": "stream",
     "text": [
      "Finished CharlesI marginalia: Total 259718 margin passages.\n"
     ]
    },
    {
     "name": "stderr",
     "output_type": "stream",
     "text": [
      "100%|██████████| 19/19 [00:15<00:00,  1.22it/s]\n"
     ]
    },
    {
     "name": "stdout",
     "output_type": "stream",
     "text": [
      "Finished CivilWar: Total 2608479 body passages.\n"
     ]
    },
    {
     "name": "stderr",
     "output_type": "stream",
     "text": [
      "100%|██████████| 19/19 [00:00<00:00, 21.87it/s]\n"
     ]
    },
    {
     "name": "stdout",
     "output_type": "stream",
     "text": [
      "Finished CivilWar marginalia: Total 300726 margin passages.\n"
     ]
    },
    {
     "name": "stderr",
     "output_type": "stream",
     "text": [
      "100%|██████████| 19/19 [00:26<00:00,  1.38s/it]\n"
     ]
    },
    {
     "name": "stdout",
     "output_type": "stream",
     "text": [
      "Finished Interregnum: Total 3426736 body passages.\n"
     ]
    },
    {
     "name": "stderr",
     "output_type": "stream",
     "text": [
      "100%|██████████| 19/19 [00:01<00:00, 16.33it/s]\n"
     ]
    },
    {
     "name": "stdout",
     "output_type": "stream",
     "text": [
      "Finished Interregnum marginalia: Total 349580 margin passages.\n"
     ]
    },
    {
     "name": "stderr",
     "output_type": "stream",
     "text": [
      "100%|██████████| 20/20 [00:54<00:00,  2.71s/it]\n"
     ]
    },
    {
     "name": "stdout",
     "output_type": "stream",
     "text": [
      "Finished CharlesII: Total 5158214 body passages.\n"
     ]
    },
    {
     "name": "stderr",
     "output_type": "stream",
     "text": [
      "100%|██████████| 20/20 [00:01<00:00, 13.63it/s]\n"
     ]
    },
    {
     "name": "stdout",
     "output_type": "stream",
     "text": [
      "Finished CharlesII marginalia: Total 410640 margin passages.\n"
     ]
    },
    {
     "name": "stderr",
     "output_type": "stream",
     "text": [
      "100%|██████████| 19/19 [00:05<00:00,  3.57it/s]\n"
     ]
    },
    {
     "name": "stdout",
     "output_type": "stream",
     "text": [
      "Finished JamesII: Total 5324306 body passages.\n"
     ]
    },
    {
     "name": "stderr",
     "output_type": "stream",
     "text": [
      "100%|██████████| 19/19 [00:00<00:00, 78.25it/s]\n"
     ]
    },
    {
     "name": "stdout",
     "output_type": "stream",
     "text": [
      "Finished JamesII marginalia: Total 418776 margin passages.\n"
     ]
    },
    {
     "name": "stderr",
     "output_type": "stream",
     "text": [
      "100%|██████████| 20/20 [00:26<00:00,  1.33s/it]\n"
     ]
    },
    {
     "name": "stdout",
     "output_type": "stream",
     "text": [
      "Finished WilliamAndMary: Total 6125769 body passages.\n"
     ]
    },
    {
     "name": "stderr",
     "output_type": "stream",
     "text": [
      "100%|██████████| 20/20 [00:00<00:00, 42.63it/s]"
     ]
    },
    {
     "name": "stdout",
     "output_type": "stream",
     "text": [
      "Finished WilliamAndMary marginalia: Total 435906 margin passages.\n"
     ]
    },
    {
     "name": "stderr",
     "output_type": "stream",
     "text": [
      "\n"
     ]
    }
   ],
   "source": [
    "# Body Texts  \n",
    "from tqdm import tqdm \n",
    "\n",
    "body = {}\n",
    "margin_p = {}\n",
    "\n",
    "for era in eras: \n",
    "    for fp in tqdm(os.listdir(f\"../../SERMONS_APP/db/data/{era}\")):\n",
    "        if \"body\" not in fp: continue \n",
    "        text = pd.read_csv(f\"../../SERMONS_APP/db/data/{era}/{fp}\", header=None)\n",
    "        text = text.to_dict(orient=\"records\")\n",
    "        for item in text:\n",
    "            s = clean_text(item[6])\n",
    "            # if s in relevant: continue \n",
    "            tcpID, sidx = item[0], item[1]\n",
    "            if not isinstance(s,str): continue \n",
    "            if len(s) == 0: continue \n",
    "            if s not in body: \n",
    "                body[s] = []# locations \n",
    "            body[s].append((tcpID,str(sidx),'In-Text')) \n",
    "\n",
    "    print(f\"Finished {era}: Total {len(body)} body passages.\")\n",
    "\n",
    "    # Marginalia\n",
    "    \n",
    "    for fp in tqdm(os.listdir(f\"../../SERMONS_APP/db/data/{era}\")):\n",
    "        if \"margin\" not in fp: continue \n",
    "        margin = pd.read_csv(f\"../../SERMONS_APP/db/data/{era}/{fp}\", header=None)\n",
    "        margin = margin.to_dict(orient=\"records\")\n",
    "        for m in margin:\n",
    "            s = m[3]\n",
    "            if isinstance(s,float): continue\n",
    "            s = clean_text(s)\n",
    "            tcpID, sidx, nidx = m[0], m[1], m[2]\n",
    "            if s not in margin_p: \n",
    "                margin_p[s] = [] # locations \n",
    "            margin_p[s].append((tcpID,str(sidx),\"Note \" + str(nidx)))\n",
    "\n",
    "    print(f\"Finished {era} marginalia: Total {len(margin_p)} margin passages.\")"
   ]
  },
  {
   "cell_type": "code",
   "execution_count": 11,
   "metadata": {},
   "outputs": [],
   "source": [
    "with open(f\"../../segments/all_unique.json\",\"w+\") as file: \n",
    "    json.dump(body,file)\n",
    "\n",
    "with open(f\"../../segments/all_unique_marginalia.json\",\"w+\") as file: \n",
    "    json.dump(margin_p,file)"
   ]
  },
  {
   "cell_type": "code",
   "execution_count": 5,
   "metadata": {},
   "outputs": [],
   "source": [
    "del body, margin_p"
   ]
  }
 ],
 "metadata": {
  "kernelspec": {
   "display_name": "base",
   "language": "python",
   "name": "python3"
  },
  "language_info": {
   "codemirror_mode": {
    "name": "ipython",
    "version": 3
   },
   "file_extension": ".py",
   "mimetype": "text/x-python",
   "name": "python",
   "nbconvert_exporter": "python",
   "pygments_lexer": "ipython3",
   "version": "3.11.5"
  }
 },
 "nbformat": 4,
 "nbformat_minor": 2
}
