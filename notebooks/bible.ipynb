{
 "cells": [
  {
   "cell_type": "code",
   "execution_count": null,
   "metadata": {},
   "outputs": [],
   "source": [
    "import sys,re\n",
    "sys.path.append('../')\n",
    "\n",
    "with open(f'../assets/kjv-adorned.txt','r') as file:\n",
    "    kjv_tokens = file.readlines()\n",
    "\n",
    "bible = {}\n",
    "current_ver = None\n",
    "for t in kjv_tokens:\n",
    "    t = t.split(\"\\t\")\n",
    "    token, pos, lemma = t[0], t[2], t[4]\n",
    "    if token[0].isupper() and re.search(\"vv\",pos):\n",
    "        lemma = token\n",
    "    if re.search(r'VERSE-',token):\n",
    "        current_ver = re.sub(\"VERSE-\", \"\",token)\n",
    "        bible[current_ver] = []\n",
    "    # elif token == pos: # punctuation mark\n",
    "    #     continue\n",
    "    else:\n",
    "        bible[current_ver].append(lemma)\n",
    "bible = {k: \" \".join(v) for k,v in bible.items()}"
   ]
  }
 ],
 "metadata": {
  "language_info": {
   "name": "python"
  }
 },
 "nbformat": 4,
 "nbformat_minor": 2
}
