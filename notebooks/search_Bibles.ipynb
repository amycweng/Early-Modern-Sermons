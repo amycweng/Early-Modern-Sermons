{
 "cells": [
  {
   "cell_type": "code",
   "execution_count": 10,
   "id": "fe053451",
   "metadata": {},
   "outputs": [
    {
     "data": {
      "application/vnd.jupyter.widget-view+json": {
       "model_id": "9b00533486ab41348b6dc0f5e193af1e",
       "version_major": 2,
       "version_minor": 0
      },
      "text/plain": [
       "  0%|          | 0/14737 [00:00<?, ?it/s]"
      ]
     },
     "metadata": {},
     "output_type": "display_data"
    },
    {
     "data": {
      "application/vnd.jupyter.widget-view+json": {
       "model_id": "c290a9f64c8448cf8f20671ace5d9109",
       "version_major": 2,
       "version_minor": 0
      },
      "text/plain": [
       "  0%|          | 0/35811 [00:00<?, ?it/s]"
      ]
     },
     "metadata": {},
     "output_type": "display_data"
    },
    {
     "data": {
      "application/vnd.jupyter.widget-view+json": {
       "model_id": "172fff9167b54026a300275898856ead",
       "version_major": 2,
       "version_minor": 0
      },
      "text/plain": [
       "  0%|          | 0/7954 [00:00<?, ?it/s]"
      ]
     },
     "metadata": {},
     "output_type": "display_data"
    },
    {
     "data": {
      "application/vnd.jupyter.widget-view+json": {
       "model_id": "492035ccda864cd4b783de5ad5814528",
       "version_major": 2,
       "version_minor": 0
      },
      "text/plain": [
       "  0%|          | 0/9622 [00:00<?, ?it/s]"
      ]
     },
     "metadata": {},
     "output_type": "display_data"
    },
    {
     "data": {
      "application/vnd.jupyter.widget-view+json": {
       "model_id": "aabd35ac0091488992fe146622f2d3e2",
       "version_major": 2,
       "version_minor": 0
      },
      "text/plain": [
       "  0%|          | 0/35809 [00:00<?, ?it/s]"
      ]
     },
     "metadata": {},
     "output_type": "display_data"
    },
    {
     "data": {
      "text/plain": [
       "276627"
      ]
     },
     "execution_count": 10,
     "metadata": {},
     "output_type": "execute_result"
    }
   ],
   "source": [
    "import os, re\n",
    "import pandas as pd \n",
    "from tqdm import notebook as tqdm \n",
    "folder = \"../..\"\n",
    "\n",
    "import os \n",
    "import pandas as pd \n",
    "import json\n",
    "with open(\"../assets/Bibles/ESV.json\") as file: \n",
    "    ESV = json.load(file)\n",
    "    \n",
    "bible = {}\n",
    "\n",
    "b_versions = ['AKJV','Geneva', 'ODRV','Douay-Rheims', 'Tyndale', 'Wycliffe','Vulgate']\n",
    "for bname in b_versions:\n",
    "    data = pd.read_csv(f\"{folder}/Early-Modern-Sermons/assets/Bibles/{bname}.csv\",header=None)\n",
    "    data = data.to_dict(orient=\"records\")\n",
    "    for entry in tqdm.tqdm(data):\n",
    "        key = entry[0]\n",
    "        v_id = key.split(\" (\")[0]\n",
    "        text = entry[6]\n",
    "        if re.search(\"Douay-Rheims\",key):\n",
    "            if re.sub(\"Douay-Rheims\",\"ODRV\",key) in bible: continue\n",
    "        if len(text.split(\" \")) < 200:\n",
    "            bible[key] = f\"{v_id} {text}\"\n",
    "\n",
    "        parts = re.split(r'(?<=[\\.\\?]) (?=[A-Z])|(?<=[\\!\\:\\;])', text)\n",
    "        parts = [re.sub(r'\\s+', ' ', p).strip() for p in parts if len(p.strip(\" \")) > 0]\n",
    "        if (len(parts[0].split(\" \")) <= 5 or len(parts[-1].split(\" \")) <= 5 or re.search(r\"\\&\\w+\\;\",parts[0])): \n",
    "            for pidx, p in enumerate(parts): continue\n",
    "        elif len(parts) > 1:  \n",
    "            for pidx, p in enumerate(parts):\n",
    "              p_id = f\"{key} - {pidx}\"\n",
    "              if len(p) == 0: continue\n",
    "              if re.search(r\"\\&\\w+\\;\",p) or len(p.split(\" \")) <= 5: continue\n",
    "              bible[p_id] = f\"Part {pidx+1} of {v_id}: {p}\"\n",
    "bible_verses = list(bible.values())\n",
    "bible_ids = list(bible.keys())\n",
    "id_to_idx = {v_id:idx for idx, v_id in enumerate(bible_ids)}\n",
    "len(bible_verses)"
   ]
  },
  {
   "cell_type": "code",
   "execution_count": 16,
   "id": "f0529885",
   "metadata": {},
   "outputs": [
    {
     "name": "stdout",
     "output_type": "stream",
     "text": [
      "so you should rather turn to forgive and comfort him, or he may be overwhelmed by excessive sorrow.\n",
      "2 Corinthians 2.8 (AKJV)\t2 Corinthians 2.8 Wherefore I beseech you, that you would confirme your loue towards him.\n",
      "2 Corinthians 2.8 (Geneva)\t2 Corinthians 2.8 Wherefore, I pray you, that you woulde confirme your loue towards him.\n",
      "2 Corinthians 2.8 (ODRV)\t2 Corinthians 2.8 For the which cause I beseech you that you confirme charitie toward him.\n",
      "2 Corinthians 2.8 (Tyndale)\t2 Corinthians 2.8 Wherfore I exhorte you that love maye have stregth over him.\n",
      "2 Corinthians 2.8 (Vulgate)\t2 Corinthians 2.8 Propter quod obsecro vos, ut confirmetis in illum caritatem.\n"
     ]
    }
   ],
   "source": [
    "search = '2 Corinthians 2.8'\n",
    "if search in ESV: \n",
    "    print(ESV[search])\n",
    "for v_id in bible:\n",
    "    if re.search(rf\"^{search}\",v_id):\n",
    "        if \" - \" in v_id: continue\n",
    "        # if 'Wycliffe' not in v_id: continue \n",
    "        # if \"AKJV\" not in v_id and \"Geneva\" not in v_id: continue\n",
    "        # if \"ODRV\" not in v_id and \"Vulgate\" not in v_id and \"Douay-Rheims\" not in v_id: continue\n",
    "        # if \" - 0\" not in v_id: continue\n",
    "        # print(v_id)\n",
    "        print(f'{v_id}\\t{bible[v_id]}')"
   ]
  },
  {
   "cell_type": "code",
   "execution_count": null,
   "id": "2269b6e4",
   "metadata": {},
   "outputs": [],
   "source": [
    "fname = \"parallel_verses_UNCONFIDENT - LABELED\"\n",
    "parallel = pd.read_csv(f\"{folder}/Early-Modern-Sermons/assets/QP_Datasets/{fname}.csv\").to_dict(orient='records')\n",
    "import json "
   ]
  },
  {
   "cell_type": "code",
   "execution_count": null,
   "id": "2d653ba7",
   "metadata": {},
   "outputs": [],
   "source": [
    "output = {}\n",
    "found = {}\n",
    "save = []\n",
    "\n",
    "for item in parallel: \n",
    "  key = (item['ESV'],item['version'])\n",
    "  if item['toCheck'] is False: \n",
    "    save.append(item)\n",
    "    continue \n",
    "  key2 =  (item['ESV'],item['text'])\n",
    "  if key2 not in output: output[key2] = {}\n",
    "  output[key2][(item['Parallel'], item['version'])] = (item['prediction'], item['verse_text'])\n",
    "\n",
    "save = pd.DataFrame(save)\n",
    "save.to_csv(f\"{folder}/Early-Modern-Sermons/assets/QP_Datasets/parallel_verses_CONFIDENT - DSV3.csv\",index=False)\n",
    "len(save)"
   ]
  },
  {
   "cell_type": "code",
   "execution_count": 18,
   "id": "53111128",
   "metadata": {},
   "outputs": [
    {
     "data": {
      "text/plain": [
       "354"
      ]
     },
     "execution_count": 18,
     "metadata": {},
     "output_type": "execute_result"
    }
   ],
   "source": [
    "labeled_dict = {}\n",
    "with open(f\"{folder}/QP/PT_verified.txt\",'r') as file: \n",
    "    labels = file.read()\n",
    "labels = labels.split(\"--------------------------\")\n",
    "for item in labels:\n",
    "    if len(item) <= 1: continue \n",
    "    item = item.split(\"\\n\")\n",
    "    v_id = item[1].split(\"\\t\")[0]\n",
    "    labeled_dict[v_id] = []\n",
    "    for entry in item[2:]: \n",
    "        if entry == '': continue \n",
    "        labeled_dict[v_id].append(entry.split(\"\\t\")[0])\n",
    "with open(f\"{folder}/Early-Modern-Sermons/assets/QP_Datasets/confident_labeled.json\",'w+') as file: \n",
    "    json.dump(list(labeled_dict.values()), file)\n",
    "len(labeled_dict)"
   ]
  },
  {
   "cell_type": "code",
   "execution_count": null,
   "id": "01a76d17",
   "metadata": {},
   "outputs": [],
   "source": [
    "def fix_name(v_id):\n",
    "  if \"1 Kings\" in v_id: v_id = \"3 Kings\" + v_id.split(\"1 Kings\")[-1]\n",
    "  elif \"2 Kings\" in v_id: v_id = \"4 Kings\" + v_id.split(\"2 Kings\")[-1]\n",
    "  elif \"1 Samuel\" in v_id: v_id = \"1 Kings\" + v_id.split(\"1 Samuel\")[-1]\n",
    "  elif \"2 Samuel\" in v_id: v_id = \"2 Kings\" + v_id.split(\"2 Samuel\")[-1]\n",
    "  elif re.search(r\"^\\d+ Chronicles\",v_id): v_id = re.sub(r\"Chronicles\",\"Paralipomenon\",v_id)\n",
    "  return v_id\n",
    "with open(f\"{folder}/QP/PT_to_verify.txt\",'w+') as file: \n",
    "    for ESV_id, pt_list in output.items(): \n",
    "        if \"Psalms\" not in ESV_id[0]: continue \n",
    "        file.write(f\"{ESV_id[0]}\\t{ESV_id[1]}\\n\")\n",
    "        seen = {}\n",
    "        for pt, pt_text in pt_list.items(): \n",
    "            v_id = f\"{pt[0]} ({pt[1]})\"\n",
    "            seen[v_id] = None \n",
    "            file.write(f\"{pt_text[0]}\\t{v_id}\\t{pt_text[1]}\\n\")\n",
    "        for b in b_versions: \n",
    "            v_id = f\"{ESV_id[0]} ({b})\"\n",
    "            if b in ['Douay-Rheims','ODRV','Vulgate']: \n",
    "                v_id = fix_name(v_id)\n",
    "            if v_id in bible and v_id not in seen: \n",
    "                seen[v_id] = None \n",
    "                file.write(f\"{v_id}\\t{bible[v_id]}\\n\")\n",
    "            \n",
    "            if b in ['ODRV','Vulgate','Wycliffe']:\n",
    "                v_id = v_id.split(\" (\")[0]\n",
    "                bc = v_id.split(\".\")[0]\n",
    "                v = v_id.split(\".\")[-1]\n",
    "                v = int(v)\n",
    "                for i in range(0,2): \n",
    "                    v_id = f\"{bc}.{v+i} ({b})\"\n",
    "                    if v_id in bible: \n",
    "                        seen[v_id] = None \n",
    "                        file.write(f\"{v_id}\\t{bible[v_id]}\\n\")\n",
    "                c = re.findall('\\d+',bc)[-1]\n",
    "                bc = re.sub(c,f\"{int(c)-1}\",bc)\n",
    "                \n",
    "                for i in range(-1,3): \n",
    "                    v_id = f\"{bc}.{v+i} ({b})\"\n",
    "                    if v_id in bible: \n",
    "                        seen[v_id] = None \n",
    "                        file.write(f\"{v_id}\\t{bible[v_id]}\\n\")\n",
    "        file.write('--------------------------\\n')\n",
    "        "
   ]
  },
  {
   "cell_type": "code",
   "execution_count": null,
   "id": "7192c7f0",
   "metadata": {},
   "outputs": [],
   "source": [
    "for i in range(1,26): \n",
    "    print(f'Job 41.{i+9}','\\t',f'Job 41.{i+9}')\n",
    "    print(f'Job 41.{i+9} (AKJV)','\\t',bible[f'Job 41.{i+9} (AKJV)'])\n",
    "    for b in ['Douay-Rheims','Vulgate','Geneva']: \n",
    "        print(f\"Job 41.{i} ({b})\",'\\t',bible[f\"Job 41.{i} ({b})\"])\n",
    "    print()"
   ]
  },
  {
   "cell_type": "code",
   "execution_count": null,
   "id": "68f9a865",
   "metadata": {},
   "outputs": [],
   "source": [
    "to_verify = ['Esther 8.10 (Douay-Rheims)', 'Job 41.2 (AKJV)', 'Job 41.3 (AKJV)', 'Job 41.27 (AKJV)', 'Psalms 10.3 (Geneva)', 'Psalms 13.6 (AKJV)', 'Psalms 15.2 (Vulgate)', 'Psalms 49.18 (AKJV)', 'Psalms 49.19 (AKJV)', 'Psalms 60.4 (Geneva)', 'Psalms 68.14 (Geneva)', 'Canticles 1.1 (AKJV)', 'Canticles 6.1 (AKJV)', 'Jeremiah 46.17 (AKJV)', 'Jeremiah 48.9 (AKJV)', 'Ezekiel 21.13 (Geneva)', 'Ezekiel 42.18 (Geneva)', 'Daniel 4.1 (AKJV)', 'Daniel 4.36 (AKJV)', 'Ecclesiastes 5.8 (Geneva)']\n",
    "\n",
    "for item in to_verify: \n",
    "    search = item.split(\"(\")[0]\n",
    "    for v_id in bible:\n",
    "        if re.search(rf\"^{search}\",v_id):\n",
    "            if \" - \" in v_id: continue\n",
    "            # if 'Wycliffe' not in v_id: continue \n",
    "            # if \"AKJV\" not in v_id and \"Geneva\" not in v_id: continue\n",
    "            # if \"ODRV\" not in v_id and \"Vulgate\" not in v_id and \"Douay-Rheims\" not in v_id: continue\n",
    "            # if \" - 0\" not in v_id: continue\n",
    "            # print(v_id)\n",
    "            print(f'{v_id}\\t{bible[v_id]}')\n",
    "    print('--------------------------')"
   ]
  },
  {
   "cell_type": "code",
   "execution_count": null,
   "id": "3fe8b486",
   "metadata": {},
   "outputs": [],
   "source": [
    "search = \"Psalms 7\\.9 \"\n",
    "for v_id in bible:\n",
    "    if re.search(rf\"^{search}\",v_id):\n",
    "        if \" - \" in v_id: continue\n",
    "        # if 'Wycliffe' not in v_id: continue \n",
    "        # if \"AKJV\" not in v_id and \"Geneva\" not in v_id: continue\n",
    "        if \"ODRV\" not in v_id and \"Vulgate\" not in v_id and \"Douay-Rheims\" not in v_id: continue\n",
    "        # if \" - 0\" not in v_id: continue\n",
    "        # print(v_id)\n",
    "        print(f'{v_id}\\t{bible[v_id]}')"
   ]
  }
 ],
 "metadata": {
  "kernelspec": {
   "display_name": "base",
   "language": "python",
   "name": "python3"
  },
  "language_info": {
   "codemirror_mode": {
    "name": "ipython",
    "version": 3
   },
   "file_extension": ".py",
   "mimetype": "text/x-python",
   "name": "python",
   "nbconvert_exporter": "python",
   "pygments_lexer": "ipython3",
   "version": "3.11.5"
  }
 },
 "nbformat": 4,
 "nbformat_minor": 5
}
