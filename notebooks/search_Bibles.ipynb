{
 "cells": [
  {
   "cell_type": "code",
   "execution_count": 1,
   "id": "fe053451",
   "metadata": {},
   "outputs": [
    {
     "data": {
      "application/vnd.jupyter.widget-view+json": {
       "model_id": "c9b9af9b73854dc6a356855d7fd31eec",
       "version_major": 2,
       "version_minor": 0
      },
      "text/plain": [
       "  0%|          | 0/36702 [00:00<?, ?it/s]"
      ]
     },
     "metadata": {},
     "output_type": "display_data"
    },
    {
     "data": {
      "application/vnd.jupyter.widget-view+json": {
       "model_id": "35f12c64e7f54716826e5fc16f93c3f2",
       "version_major": 2,
       "version_minor": 0
      },
      "text/plain": [
       "  0%|          | 0/31090 [00:00<?, ?it/s]"
      ]
     },
     "metadata": {},
     "output_type": "display_data"
    },
    {
     "data": {
      "application/vnd.jupyter.widget-view+json": {
       "model_id": "621eaadae1744637bd1a9b674f151ec9",
       "version_major": 2,
       "version_minor": 0
      },
      "text/plain": [
       "  0%|          | 0/14737 [00:00<?, ?it/s]"
      ]
     },
     "metadata": {},
     "output_type": "display_data"
    },
    {
     "data": {
      "application/vnd.jupyter.widget-view+json": {
       "model_id": "8d90900c3ba34379a32b4f60f398837e",
       "version_major": 2,
       "version_minor": 0
      },
      "text/plain": [
       "  0%|          | 0/35811 [00:00<?, ?it/s]"
      ]
     },
     "metadata": {},
     "output_type": "display_data"
    },
    {
     "data": {
      "application/vnd.jupyter.widget-view+json": {
       "model_id": "9b0fcc5a7b8b45749e3c8b3c65bc517c",
       "version_major": 2,
       "version_minor": 0
      },
      "text/plain": [
       "  0%|          | 0/7954 [00:00<?, ?it/s]"
      ]
     },
     "metadata": {},
     "output_type": "display_data"
    },
    {
     "data": {
      "application/vnd.jupyter.widget-view+json": {
       "model_id": "d592199f6c194fa99c98b8045970362b",
       "version_major": 2,
       "version_minor": 0
      },
      "text/plain": [
       "  0%|          | 0/9622 [00:00<?, ?it/s]"
      ]
     },
     "metadata": {},
     "output_type": "display_data"
    },
    {
     "data": {
      "application/vnd.jupyter.widget-view+json": {
       "model_id": "b77fa2cc423b4f609879155559c8d327",
       "version_major": 2,
       "version_minor": 0
      },
      "text/plain": [
       "  0%|          | 0/35809 [00:00<?, ?it/s]"
      ]
     },
     "metadata": {},
     "output_type": "display_data"
    },
    {
     "data": {
      "text/plain": [
       "276627"
      ]
     },
     "execution_count": 1,
     "metadata": {},
     "output_type": "execute_result"
    }
   ],
   "source": [
    "import os, re\n",
    "import pandas as pd \n",
    "from tqdm import notebook as tqdm \n",
    "folder = \"../..\"\n",
    "\n",
    "import os \n",
    "import pandas as pd \n",
    "import json\n",
    "with open(\"../../Bibles/OTNT.json\") as file: \n",
    "    OTNT = json.load(file)\n",
    "\n",
    "bible = {}\n",
    "\n",
    "b_versions = ['AKJV','Geneva', 'ODRV','Douay-Rheims', 'Tyndale', 'Wycliffe','Vulgate']\n",
    "for bname in b_versions:\n",
    "    data = pd.read_csv(f\"../../Bibles/{bname}.csv\",header=None)\n",
    "    data = data.to_dict(orient=\"records\")\n",
    "    for entry in tqdm.tqdm(data):\n",
    "        key = entry[0]\n",
    "        v_id = key.split(\" (\")[0]\n",
    "        text = entry[6]\n",
    "        if re.search(\"Douay-Rheims\",key):\n",
    "            if re.sub(\"Douay-Rheims\",\"ODRV\",key) in bible: continue\n",
    "        if len(text.split(\" \")) < 200:\n",
    "            bible[key] = f\"{v_id} {text}\"\n",
    "\n",
    "        parts = re.split(r'(?<=[\\.\\?]) (?=[A-Z])|(?<=[\\!\\:\\;])', text)\n",
    "        parts = [re.sub(r'\\s+', ' ', p).strip() for p in parts if len(p.strip(\" \")) > 0]\n",
    "        if (len(parts[0].split(\" \")) <= 5 or len(parts[-1].split(\" \")) <= 5 or re.search(r\"\\&\\w+\\;\",parts[0])): \n",
    "            for pidx, p in enumerate(parts): continue\n",
    "        elif len(parts) > 1:  \n",
    "            for pidx, p in enumerate(parts):\n",
    "              p_id = f\"{key} - {pidx}\"\n",
    "              if len(p) == 0: continue\n",
    "              if re.search(r\"\\&\\w+\\;\",p) or len(p.split(\" \")) <= 5: continue\n",
    "              bible[p_id] = f\"Part {pidx+1} of {v_id}: {p}\"\n",
    "bible_verses = list(bible.values())\n",
    "bible_ids = list(bible.keys())\n",
    "id_to_idx = {v_id:idx for idx, v_id in enumerate(bible_ids)}\n",
    "len(bible_verses)"
   ]
  },
  {
   "cell_type": "code",
   "execution_count": 29,
   "id": "f0529885",
   "metadata": {},
   "outputs": [
    {
     "name": "stdout",
     "output_type": "stream",
     "text": [
      "Acts 9.1 (ODRV)\tActs 9.1 AND Saul as yet breathing forth threatnings and slaughter against the Disciples of our Lord, came to the high Priest,\n",
      "Acts 9.2 (ODRV)\tActs 9.2 and asked letters of him vnto Damascus to the Synagogues that if he had found any men and women of this way, he might bring them bound vnto Hierusalem.\n",
      "Acts 9.3 (ODRV)\tActs 9.3 And as he went on his iourney, it chanced that he drew nigh to Damascus: and sodenly a light from Heauen shined round about him.\n",
      "Acts 9.4 (ODRV)\tActs 9.4 And falling on the ground, he heard a voice saying to him Saul, Saul why persecutest thou me?\n",
      "Acts 9.5 (ODRV)\tActs 9.5 Who said: Who art thou Lord? And he: I am IESVS whom thou doest persecute. It is hard for thee to kicke against the pricke.\n",
      "Acts 9.6 (ODRV)\tActs 9.6 And trembling and being astonished he said: Lord, what wilt thou haue me to doe?\n",
      "Acts 9.7 (ODRV)\tActs 9.7 And our Lord to him: Arise and goe into the citie, & it shal be told thee what thou must doe. But the men that went in companie with him, stood amased, hearing he voice, but seeing no man.\n",
      "Acts 9.8 (ODRV)\tActs 9.8 And Saul rose vp from the ground, and his eyes being opened, he saw nothing. And they drawing him by the handes, brought him into Damascus.\n",
      "Acts 9.9 (ODRV)\tActs 9.9 And he was there three daies not seeing, and he did neither eate nor drinke.\n",
      "Acts 9.10 (ODRV)\tActs 9.10 And there was a certaine Disciple at Damascus, named Ananias: and our Lord said to him in a vision, Ananias. But he said, Loe, Here I am Lord.\n",
      "Acts 9.11 (ODRV)\tActs 9.11 And our Lord to him: Arise, and goe into the streete that is called Straight: and seeke in the house of Iudas, one named Saul of Tarsus. For behold he praieth.\n",
      "Acts 9.12 (ODRV)\tActs 9.12 (And he saw a man named Ananias, comming in and imposing handes vpon him for to receiue his sight.)\n",
      "Acts 9.13 (ODRV)\tActs 9.13 But Ananias answered: Lord, I haue heard by many of this man, how much euil he hath done to thy Saintes in Hierusalem:\n",
      "Acts 9.14 (ODRV)\tActs 9.14 and here he hath authoritie from the cheefe Priests to bind al that inuocate thy name.\n",
      "Acts 9.15 (ODRV)\tActs 9.15 And our Lord said to him: Goe, for a vessel of election is this man vnto me, to carie my name before the Gentils, and Kings, and the children of Israel.\n",
      "Acts 9.16 (ODRV)\tActs 9.16 For I wil shew him how great things he must suffer for my name.\n",
      "Acts 9.17 (ODRV)\tActs 9.17 And Ananias went, and entred into the house: and imposing hands vpon him, he said: Brother Saul, our Lord IESVS hath sent me, he that appeared to thee in the way that thou camest; that thou maiest see and be filled with the Holy Ghost.\n",
      "Acts 9.18 (ODRV)\tActs 9.18 And forthwith there fel from his eyes as it were scales, and he receiued sight: and rising he was baptized.\n",
      "Acts 9.19 (ODRV)\tActs 9.19 And when he had taken meate, he was strengthened. And he was with the Disciples that were at Damascus, for certaine daies.\n",
      "Acts 9.20 (ODRV)\tActs 9.20 And incontinent entring into the Synagogues, he preached IESVS, that this is the Sonne of God.\n",
      "Acts 9.21 (ODRV)\tActs 9.21 And al that heard, were astonished, and said: Is not this he that expunged in Hierusalem those that inuocated this name; and came hither to this purpose that he might bring them bound to the cheefe Priests?\n",
      "Acts 9.22 (ODRV)\tActs 9.22 But Saul waxed mightie much more and confounded the Iewes that dwelt at Damascus, affirming that this is CHRIST.\n",
      "Acts 9.23 (ODRV)\tActs 9.23 And when many daies were passed, the Iewes consulted that they might kil him.\n",
      "Acts 9.24 (ODRV)\tActs 9.24 But their conspiracie came to Sauls knowledge. And they kept the gates also day and night, that they might kil him.\n",
      "Acts 9.25 (ODRV)\tActs 9.25 But the Disciples taking him in the night, conueied him away by the wal, letting him downe in a basket.\n",
      "Acts 9.26 (ODRV)\tActs 9.26 And when he was come into Hierusalem, he assaied to ioyne himself to the Disciples, & al feared him, not beleeuing that he was a Disciple.\n",
      "Acts 9.27 (ODRV)\tActs 9.27 But Barnabas tooke him & brought him to the Apostles, and told them how in the way he had seen our Lord, and that he spake vnto him, & how in Damascus he dealt confidently in the name of IESVS.\n",
      "Acts 9.28 (ODRV)\tActs 9.28 And he was with them going in & going out in Hierusalem, & dealing confidently in the name of our Lord.\n",
      "Acts 9.29 (ODRV)\tActs 9.29 He spake also to the Gentils, & disputed with the Greekes: but they sought to kil him.\n",
      "Acts 9.30 (ODRV)\tActs 9.30 Which when the Brethren had knowen, they brought him downe to Cesaream & sent him away to Tarsus.\n",
      "Acts 9.31 (ODRV)\tActs 9.31 The CHVRCH truely through al Iewrie & Galilee and Samaria had peace, & was edified, walking in the feare of our Lord and was replenished with the consolation of the Holy Ghost.\n",
      "Acts 9.32 (ODRV)\tActs 9.32 And it came to passe, that Peter as he passed through al, came to the Saints that dwelt at Lydda.\n",
      "Acts 9.33 (ODRV)\tActs 9.33 and he found there a certaine man named AEneas, lying in his bed from eight yeares before, who had the palsey.\n",
      "Acts 9.34 (ODRV)\tActs 9.34 And Peter said to him: AEneas, our Lord IESVS CHRIST heale thee: arise, and make thy bed. And incontinent he arose.\n",
      "Acts 9.35 (ODRV)\tActs 9.35 And al that dwelt at Lydda and Sarona, saw him: who conuerted to our Lord.\n",
      "Acts 9.36 (ODRV)\tActs 9.36 And in Ioppe there was a certaine Disciple named Tabitha, which by interpretation is called Dorcas. This woman was ful of good workes & almes-deeds which she did.\n",
      "Acts 9.37 (ODRV)\tActs 9.37 And it came to passe in those daies, that she was sicke and died. Whom when they had washed they laid her in an vpper chamber.\n",
      "Acts 9.38 (ODRV)\tActs 9.38 And whereas Lydda was nigh to Ioppe, the Disciples hearing that Peter was in it, they sent two men vnto him, desiring him: Be not loth to come farre as to vs.\n",
      "Acts 9.39 (ODRV)\tActs 9.39 And Peter rising vp came with them. And when he was come, they brought him into the vpper chamber: and al the widowes stood about him weeping, and shewing him the coates and garments which Dorcas made them.\n",
      "Acts 9.40 (ODRV)\tActs 9.40 And al being put forth, Peter falling on his knees praied, and turning to the body he said: Tabitha, arise. And she opened her eyes: and seeing Peter, she sate vp.\n",
      "Acts 9.41 (ODRV)\tActs 9.41 And giuing her his hand, he lifted her vp. And when he had called the Saints and the widowes, he presented her aliue.\n",
      "Acts 9.42 (ODRV)\tActs 9.42 And it was made knowen throughout al Ioppe: and many beleeued in our Lord.\n",
      "Acts 9.43 (ODRV)\tActs 9.43 And it came to passe that he abode many daies in Ioppe, with one Simon a tanner.\n",
      "Acts 9.1 (Vulgate)\tActs 9.1 Saulus autem adhuc spirans minarum et cædis in discipulos Domini, accessit ad principem sacerdotum,\n",
      "Acts 9.2 (Vulgate)\tActs 9.2 et petiit ab eo epistolas in Damascum ad synagogas: ut si quos invenisset hujus viæ viros ac mulieres, vinctos perduceret in Jerusalem.\n",
      "Acts 9.3 (Vulgate)\tActs 9.3 Et cum iter faceret, contigit ut appropinquaret Damasco: et subito circumfulsit eum lux de cælo.\n",
      "Acts 9.4 (Vulgate)\tActs 9.4 Et cadens in terram audivit vocem dicentem sibi: Saule, Saule, quid me persequeris?\n",
      "Acts 9.5 (Vulgate)\tActs 9.5 Qui dixit: Quis es, domine? Et ille: Ego sum Jesus, quem tu persequeris: durum est tibi contra stimulum calcitrare.\n",
      "Acts 9.6 (Vulgate)\tActs 9.6 Et tremens ac stupens dixit: Domine, quid me vis facere?\n",
      "Acts 9.7 (Vulgate)\tActs 9.7 Et Dominus ad eum: Surge, et ingredere civitatem, et ibi dicetur tibi quid te oporteat facere. Viri autem illi qui comitabantur cum eo, stabant stupefacti, audientes quidem vocem, neminem autem videntes.\n",
      "Acts 9.8 (Vulgate)\tActs 9.8 Surrexit autem Saulus de terra, apertisque oculis nihil videbat. Ad manus autem illum trahentes, introduxerunt Damascum.\n",
      "Acts 9.9 (Vulgate)\tActs 9.9 Et erat ibi tribus diebus non videns, et non manducavit, neque bibit.\n",
      "Acts 9.10 (Vulgate)\tActs 9.10 Erat autem quidam discipulus Damasci, nomine Ananias: et dixit ad illum in visu Dominus: Anania. At ille ait: Ecce ego, Domine.\n",
      "Acts 9.11 (Vulgate)\tActs 9.11 Et Dominus ad eum: Surge, et vade in vicum qui vocatur Rectus: et quære in domo Judæ Saulum nomine Tarsensem: ecce enim orat.\n",
      "Acts 9.12 (Vulgate)\tActs 9.12 (Et vidit virum Ananiam nomine, introëuntem, et imponentem sibi manus ut visum recipiat.)\n",
      "Acts 9.13 (Vulgate)\tActs 9.13 Respondit autem Ananias: Domine, audivi a multis de viro hoc, quanta mala fecerit sanctis tuis in Jerusalem:\n",
      "Acts 9.14 (Vulgate)\tActs 9.14 et hic habet potestatem a principibus sacerdotum alligandi omnes qui invocant nomen tuum.\n",
      "Acts 9.15 (Vulgate)\tActs 9.15 Dixit autem ad eum Dominus: Vade, quoniam vas electionis est mihi iste, ut portet nomen meum coram gentibus, et regibus, et filiis Israël.\n",
      "Acts 9.16 (Vulgate)\tActs 9.16 Ego enim ostendam illi quanta oporteat eum pro nomine meo pati.\n",
      "Acts 9.17 (Vulgate)\tActs 9.17 Et abiit Ananias, et introivit in domum: et imponens ei manus, dixit: Saule frater, Dominus misit me Jesus, qui apparuit tibi in via qua veniebas, ut videas, et implearis Spiritu Sancto.\n",
      "Acts 9.18 (Vulgate)\tActs 9.18 Et confestim ceciderunt ab oculis ejus tamquam squamæ, et visum recepit: et surgens baptizatus est.\n",
      "Acts 9.19 (Vulgate)\tActs 9.19 Et cum accepisset cibum, confortatus est. Fuit autem cum discipulis qui erant Damasci per dies aliquot.\n",
      "Acts 9.20 (Vulgate)\tActs 9.20 Et continuo in synagogis prædicabat Jesum, quoniam hic est Filius Dei.\n",
      "Acts 9.21 (Vulgate)\tActs 9.21 Stupebant autem omnes qui audiebant, et dicebant: Nonne hic est qui expugnabat in Jerusalem eos qui invocabant nomen istud: et huc ad hoc venit, ut vinctos illos duceret ad principes sacerdotum?\n",
      "Acts 9.22 (Vulgate)\tActs 9.22 Saulus autem multo magis convalescebat, et confundebat Judæos qui habitabant Damasci, affirmans quoniam hic est Christus.\n",
      "Acts 9.23 (Vulgate)\tActs 9.23 Cum autem implerentur dies multi, consilium fecerunt in unum Judæi ut eum interficerent.\n",
      "Acts 9.24 (Vulgate)\tActs 9.24 Notæ autem factæ sunt Saulo insidiæ eorum. Custodiebant autem et portas die ac nocte, ut eum interficerent.\n",
      "Acts 9.25 (Vulgate)\tActs 9.25 Accipientes autem eum discipuli nocte, per murum dimiserunt eum, submittentes in sporta.\n",
      "Acts 9.26 (Vulgate)\tActs 9.26 Cum autem venisset in Jerusalem, tentabat se jungere discipulis, et omnes timebant eum, non credentes quod esset discipulus.\n",
      "Acts 9.27 (Vulgate)\tActs 9.27 Barnabas autem apprehensum illum duxit ad Apostolos: et narravit illis quomodo in via vidisset Dominum, et quia locutus est ei, et quomodo in Damasco fiducialiter egerit in nomine Jesu.\n",
      "Acts 9.28 (Vulgate)\tActs 9.28 Et erat cum illis intrans et exiens in Jerusalem, et fiducialiter agens in nomine Domini.\n",
      "Acts 9.29 (Vulgate)\tActs 9.29 Loquebatur quoque gentibus, et disputabat cum Græcis: illi autem quærebant occidere eum.\n",
      "Acts 9.30 (Vulgate)\tActs 9.30 Quod cum cognovissent fratres, deduxerunt eum Cæsaream, et dimiserunt Tarsum.\n",
      "Acts 9.31 (Vulgate)\tActs 9.31 Ecclesia quidem per totam Judæam, et Galilæam, et Samariam habebat pacem, et ædificabatur ambulans in timore Domini, et consolatione Sancti Spiritus replebatur.\n",
      "Acts 9.32 (Vulgate)\tActs 9.32 Factum est autem, ut Petrus dum pertransiret universos, deveniret ad sanctos qui habitabant Lyddæ.\n",
      "Acts 9.33 (Vulgate)\tActs 9.33 Invenit autem ibi hominem quemdam, nomine Æneam, ab annis octo jacentem in grabato, qui erat paralyticus.\n",
      "Acts 9.34 (Vulgate)\tActs 9.34 Et ait illi Petrus: Ænea, sanat te Dominus Jesus Christus: surge, et sterne tibi. Et continuo surrexit.\n",
      "Acts 9.35 (Vulgate)\tActs 9.35 Et viderunt eum omnes qui habitabant Lyddæ et Saronæ: qui conversi sunt ad Dominum.\n",
      "Acts 9.36 (Vulgate)\tActs 9.36 In Joppe autem fuit quædam discipula, nomine Tabitha, quæ interpretata dicitur Dorcas. Hæc erat plena operibus bonis et eleemosynis quas faciebat.\n",
      "Acts 9.37 (Vulgate)\tActs 9.37 Factum est autem in diebus illis ut infirmata moreretur. Quam cum lavissent, posuerunt eam in cœnaculo.\n",
      "Acts 9.38 (Vulgate)\tActs 9.38 Cum autem prope esset Lydda ad Joppen, discipuli, audientes quia Petrus esset in ea, miserunt duos viros ad eum, rogantes: Ne pigriteris venire ad nos.\n",
      "Acts 9.39 (Vulgate)\tActs 9.39 Exsurgens autem Petrus, venit cum illis. Et cum advenisset, duxerunt illum in cœnaculum: et circumsteterunt illum omnes viduæ flentes, et ostendentes ei tunicas et vestes quas faciebat illis Dorcas.\n",
      "Acts 9.40 (Vulgate)\tActs 9.40 Ejectis autem omnibus foras, Petrus ponens genua oravit: et conversus ad corpus, dixit: Tabitha, surge. At illa aperuit oculos suos: et viso Petro, resedit.\n",
      "Acts 9.41 (Vulgate)\tActs 9.41 Dans autem illi manum, erexit eam. Et cum vocasset sanctos et viduas, assignavit eam vivam.\n",
      "Acts 9.42 (Vulgate)\tActs 9.42 Notum autem factum est per universam Joppen: et crediderunt multi in Domino.\n",
      "Acts 9.43 (Vulgate)\tActs 9.43 Factum est autem ut dies multos moraretur in Joppe, apud Simonem quemdam coriarium.\n"
     ]
    }
   ],
   "source": [
    "search = 'Acts 9.'\n",
    "for v_id in bible:\n",
    "    if re.search(rf\"^{search}\",v_id):\n",
    "        if \" - \" in v_id: continue\n",
    "        # if 'Wycliffe' not in v_id: continue \n",
    "        # if \"AKJV\" not in v_id and \"Geneva\" not in v_id: continue\n",
    "        if \"ODRV\" not in v_id and \"Vulgate\" not in v_id and \"Douay-Rheims\" not in v_id: continue\n",
    "        # if \" - 0\" not in v_id: continue\n",
    "        # print(v_id)\n",
    "        print(f'{v_id}\\t{bible[v_id]}')"
   ]
  },
  {
   "cell_type": "code",
   "execution_count": null,
   "id": "2269b6e4",
   "metadata": {},
   "outputs": [],
   "source": [
    "fname = \"parallel_verses_UNCONFIDENT - LABELED\"\n",
    "parallel = pd.read_csv(f\"{folder}/Early-Modern-Sermons/assets/QP_Datasets/{fname}.csv\").to_dict(orient='records')\n",
    "import json "
   ]
  },
  {
   "cell_type": "code",
   "execution_count": null,
   "id": "2d653ba7",
   "metadata": {},
   "outputs": [],
   "source": [
    "output = {}\n",
    "found = {}\n",
    "save = []\n",
    "\n",
    "for item in parallel: \n",
    "  key = (item['ESV'],item['version'])\n",
    "  if item['toCheck'] is False: \n",
    "    save.append(item)\n",
    "    continue \n",
    "  key2 =  (item['ESV'],item['text'])\n",
    "  if key2 not in output: output[key2] = {}\n",
    "  output[key2][(item['Parallel'], item['version'])] = (item['prediction'], item['verse_text'])\n",
    "\n",
    "save = pd.DataFrame(save)\n",
    "save.to_csv(f\"{folder}/Early-Modern-Sermons/assets/QP_Datasets/parallel_verses_CONFIDENT - DSV3.csv\",index=False)\n",
    "len(save)"
   ]
  },
  {
   "cell_type": "code",
   "execution_count": 18,
   "id": "53111128",
   "metadata": {},
   "outputs": [
    {
     "data": {
      "text/plain": [
       "354"
      ]
     },
     "execution_count": 18,
     "metadata": {},
     "output_type": "execute_result"
    }
   ],
   "source": [
    "labeled_dict = {}\n",
    "with open(f\"{folder}/QP/PT_verified.txt\",'r') as file: \n",
    "    labels = file.read()\n",
    "labels = labels.split(\"--------------------------\")\n",
    "for item in labels:\n",
    "    if len(item) <= 1: continue \n",
    "    item = item.split(\"\\n\")\n",
    "    v_id = item[1].split(\"\\t\")[0]\n",
    "    labeled_dict[v_id] = []\n",
    "    for entry in item[2:]: \n",
    "        if entry == '': continue \n",
    "        labeled_dict[v_id].append(entry.split(\"\\t\")[0])\n",
    "with open(f\"{folder}/Early-Modern-Sermons/assets/QP_Datasets/confident_labeled.json\",'w+') as file: \n",
    "    json.dump(list(labeled_dict.values()), file)\n",
    "len(labeled_dict)"
   ]
  },
  {
   "cell_type": "code",
   "execution_count": null,
   "id": "01a76d17",
   "metadata": {},
   "outputs": [],
   "source": [
    "def fix_name(v_id):\n",
    "  if \"1 Kings\" in v_id: v_id = \"3 Kings\" + v_id.split(\"1 Kings\")[-1]\n",
    "  elif \"2 Kings\" in v_id: v_id = \"4 Kings\" + v_id.split(\"2 Kings\")[-1]\n",
    "  elif \"1 Samuel\" in v_id: v_id = \"1 Kings\" + v_id.split(\"1 Samuel\")[-1]\n",
    "  elif \"2 Samuel\" in v_id: v_id = \"2 Kings\" + v_id.split(\"2 Samuel\")[-1]\n",
    "  elif re.search(r\"^\\d+ Chronicles\",v_id): v_id = re.sub(r\"Chronicles\",\"Paralipomenon\",v_id)\n",
    "  return v_id\n",
    "with open(f\"{folder}/QP/PT_to_verify.txt\",'w+') as file: \n",
    "    for ESV_id, pt_list in output.items(): \n",
    "        if \"Psalms\" not in ESV_id[0]: continue \n",
    "        file.write(f\"{ESV_id[0]}\\t{ESV_id[1]}\\n\")\n",
    "        seen = {}\n",
    "        for pt, pt_text in pt_list.items(): \n",
    "            v_id = f\"{pt[0]} ({pt[1]})\"\n",
    "            seen[v_id] = None \n",
    "            file.write(f\"{pt_text[0]}\\t{v_id}\\t{pt_text[1]}\\n\")\n",
    "        for b in b_versions: \n",
    "            v_id = f\"{ESV_id[0]} ({b})\"\n",
    "            if b in ['Douay-Rheims','ODRV','Vulgate']: \n",
    "                v_id = fix_name(v_id)\n",
    "            if v_id in bible and v_id not in seen: \n",
    "                seen[v_id] = None \n",
    "                file.write(f\"{v_id}\\t{bible[v_id]}\\n\")\n",
    "            \n",
    "            if b in ['ODRV','Vulgate','Wycliffe']:\n",
    "                v_id = v_id.split(\" (\")[0]\n",
    "                bc = v_id.split(\".\")[0]\n",
    "                v = v_id.split(\".\")[-1]\n",
    "                v = int(v)\n",
    "                for i in range(0,2): \n",
    "                    v_id = f\"{bc}.{v+i} ({b})\"\n",
    "                    if v_id in bible: \n",
    "                        seen[v_id] = None \n",
    "                        file.write(f\"{v_id}\\t{bible[v_id]}\\n\")\n",
    "                c = re.findall('\\d+',bc)[-1]\n",
    "                bc = re.sub(c,f\"{int(c)-1}\",bc)\n",
    "                \n",
    "                for i in range(-1,3): \n",
    "                    v_id = f\"{bc}.{v+i} ({b})\"\n",
    "                    if v_id in bible: \n",
    "                        seen[v_id] = None \n",
    "                        file.write(f\"{v_id}\\t{bible[v_id]}\\n\")\n",
    "        file.write('--------------------------\\n')\n",
    "        "
   ]
  },
  {
   "cell_type": "code",
   "execution_count": null,
   "id": "7192c7f0",
   "metadata": {},
   "outputs": [],
   "source": [
    "for i in range(1,26): \n",
    "    print(f'Job 41.{i+9}','\\t',f'Job 41.{i+9}')\n",
    "    print(f'Job 41.{i+9} (AKJV)','\\t',bible[f'Job 41.{i+9} (AKJV)'])\n",
    "    for b in ['Douay-Rheims','Vulgate','Geneva']: \n",
    "        print(f\"Job 41.{i} ({b})\",'\\t',bible[f\"Job 41.{i} ({b})\"])\n",
    "    print()"
   ]
  },
  {
   "cell_type": "code",
   "execution_count": null,
   "id": "68f9a865",
   "metadata": {},
   "outputs": [],
   "source": [
    "to_verify = ['Esther 8.10 (Douay-Rheims)', 'Job 41.2 (AKJV)', 'Job 41.3 (AKJV)', 'Job 41.27 (AKJV)', 'Psalms 10.3 (Geneva)', 'Psalms 13.6 (AKJV)', 'Psalms 15.2 (Vulgate)', 'Psalms 49.18 (AKJV)', 'Psalms 49.19 (AKJV)', 'Psalms 60.4 (Geneva)', 'Psalms 68.14 (Geneva)', 'Canticles 1.1 (AKJV)', 'Canticles 6.1 (AKJV)', 'Jeremiah 46.17 (AKJV)', 'Jeremiah 48.9 (AKJV)', 'Ezekiel 21.13 (Geneva)', 'Ezekiel 42.18 (Geneva)', 'Daniel 4.1 (AKJV)', 'Daniel 4.36 (AKJV)', 'Ecclesiastes 5.8 (Geneva)']\n",
    "\n",
    "for item in to_verify: \n",
    "    search = item.split(\"(\")[0]\n",
    "    for v_id in bible:\n",
    "        if re.search(rf\"^{search}\",v_id):\n",
    "            if \" - \" in v_id: continue\n",
    "            # if 'Wycliffe' not in v_id: continue \n",
    "            # if \"AKJV\" not in v_id and \"Geneva\" not in v_id: continue\n",
    "            # if \"ODRV\" not in v_id and \"Vulgate\" not in v_id and \"Douay-Rheims\" not in v_id: continue\n",
    "            # if \" - 0\" not in v_id: continue\n",
    "            # print(v_id)\n",
    "            print(f'{v_id}\\t{bible[v_id]}')\n",
    "    print('--------------------------')"
   ]
  },
  {
   "cell_type": "code",
   "execution_count": null,
   "id": "3fe8b486",
   "metadata": {},
   "outputs": [],
   "source": [
    "search = \"Psalms 7\\.9 \"\n",
    "for v_id in bible:\n",
    "    if re.search(rf\"^{search}\",v_id):\n",
    "        if \" - \" in v_id: continue\n",
    "        # if 'Wycliffe' not in v_id: continue \n",
    "        # if \"AKJV\" not in v_id and \"Geneva\" not in v_id: continue\n",
    "        if \"ODRV\" not in v_id and \"Vulgate\" not in v_id and \"Douay-Rheims\" not in v_id: continue\n",
    "        # if \" - 0\" not in v_id: continue\n",
    "        # print(v_id)\n",
    "        print(f'{v_id}\\t{bible[v_id]}')"
   ]
  }
 ],
 "metadata": {
  "kernelspec": {
   "display_name": "base",
   "language": "python",
   "name": "python3"
  },
  "language_info": {
   "codemirror_mode": {
    "name": "ipython",
    "version": 3
   },
   "file_extension": ".py",
   "mimetype": "text/x-python",
   "name": "python",
   "nbconvert_exporter": "python",
   "pygments_lexer": "ipython3",
   "version": "3.11.5"
  }
 },
 "nbformat": 4,
 "nbformat_minor": 5
}
