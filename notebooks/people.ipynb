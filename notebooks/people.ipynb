{
 "cells": [
  {
   "cell_type": "code",
   "execution_count": 1,
   "metadata": {},
   "outputs": [],
   "source": [
    "import sys\n",
    "sys.path.append('../')\n",
    "from lib.people import *\n",
    "from lib.standardization import * \n",
    "from lib.citation_info import * "
   ]
  },
  {
   "cell_type": "code",
   "execution_count": 1,
   "metadata": {},
   "outputs": [
    {
     "name": "stdout",
     "output_type": "stream",
     "text": [
      "Processed 100000 entries\n",
      "Processed 200000 entries\n",
      "Processed 300000 entries\n",
      "Processed 400000 entries\n",
      "Processed 500000 entries\n",
      "Processed 600000 entries\n"
     ]
    }
   ],
   "source": [
    "v_to_p = {}\n",
    "for word, variants in people.items(): \n",
    "    v_to_p[word] = word \n",
    "    for v in variants: \n",
    "        v_to_p[v] = word \n",
    "\n",
    "outputs = [] \n",
    "with open('../assets/sermons_marginalia.csv', 'r') as file:          \n",
    "    notes = csv.reader(file, delimiter=',')\n",
    "    for idx, entry in enumerate(notes):\n",
    "        # output dictionary \n",
    "        info_dict = {'idx':idx, 'tcpID':entry[0],'citations':None,'original':entry[-1]}\n",
    "        # get note text \n",
    "        n = entry[-1]\n",
    "        n = clean_text(n)\n",
    "        note = n.split(\" \")\n",
    "        matches = []\n",
    "        match = []\n",
    "        for i, word in enumerate(note):\n",
    "            word = clean_word(word) \n",
    "            if word in v_to_p: \n",
    "                if len(match) > 0: matches.append(\" \".join(match).strip())\n",
    "                match = [v_to_p[word]]\n",
    "            elif len(match) > 0 and len(match) < 10: \n",
    "                match.append(word)\n",
    "        if len(match) > 0: \n",
    "            matches.append(\" \".join(match).strip())\n",
    "        info_dict[\"citations\"] = \"; \".join(matches)\n",
    "        \n",
    "        if len(info_dict[\"citations\"]) > 0: \n",
    "            outputs.append(info_dict)\n",
    "        if (idx+1) % 100000 == 0: \n",
    "            print(f\"Processed {idx+1} entries\")\n",
    "\n",
    "outfile = open(\"../outputs/tertullian.csv\",\"w+\")\n",
    "writer = csv.DictWriter(outfile, fieldnames=[\"idx\",\"tcpID\",\"citations\",\"original\"])\n",
    "writer.writeheader()\n",
    "for dict in outputs: \n",
    "    writer.writerow(dict)\n",
    "outfile.close()"
   ]
  },
  {
   "cell_type": "code",
   "execution_count": 3,
   "metadata": {},
   "outputs": [
    {
     "name": "stdout",
     "output_type": "stream",
     "text": [
      "824\n",
      "101 hits in the notes of A40891 {'title': 'XXX sermons lately preached at the parish church of Saint Mary Magdalen Milkstreet, London to which is annexed, A sermon preached at the funerall of George Whitmore, Knight, sometime Lord Mayor of the City / by Anthony Farindon.', 'author': 'Farindon, Anthony, 1598-1658.', 'pubplace': 'London', 'subject_headings': 'Whitmore, George,; Sir, d. 1654.; Sermons, English; 17th century.; Funeral sermons.', 'date': '1647'}\n",
      "72 hits in the notes of B27417 {'title': 'Ekthesis pisteōs, or, An exposition of the Apostles Creed delivered in several sermons by William Nicholson ...', 'author': 'Nicholson, William, 1591-1672.', 'pubplace': 'London', 'subject_headings': \"Apostles' Creed; Sermons.; Sermons, English; 17th century.\", 'date': '1661'}\n",
      "55 hits in the notes of A44334 {'title': 'The works of Mr. Richard Hooker (that learned and judicious divine), in eight books of ecclesiastical polity compleated out of his own manuscripts, never before published : with an account of his life and death ...', 'author': 'Travers, Walter, 1547 or 8-1635. Supplication made to the councel.; Gauden, John, 1605-1662.; Walton, Izaak, 1593-1683.; Hooker, Richard, 1553 or 4-1600.', 'pubplace': 'London', 'subject_headings': 'Hooker, Richard, 1553 or 4-1600.; Church of England; Apologetic works.; Ecclesiastical law; Early works to 1800.; Church polity; Early works to 1800.; Sermons, English; 17th century.', 'date': '1666'}\n",
      "53 hits in the notes of A40888 {'title': 'LXXX sermons preached at the parish-church of St. Mary Magdalene Milk-street, London whereof nine of them not till now published / by the late eminent and learned divine Anthony Farindon ... ; in two volumes, with a large table to both.', 'author': 'Farindon, Anthony, 1598-1658.', 'pubplace': 'London', 'subject_headings': 'Church of England; Sermons.; Sermons, English; 17th century.', 'date': '1672'}\n",
      "45 hits in the notes of A72143 {'title': 'Certaine sermons, first preached, and after published at severall times, by M. Thomas Gataker B. of D. and pastor at Rotherhith. And now gathered together into one volume: the severall texts and titles whereof are set downe in the leafe following', 'author': 'Gataker, Thomas, 1574-1654.', 'pubplace': 'London', 'subject_headings': 'Sermons, English; 17th century.', 'date': '1637'}\n",
      "41 hits in the notes of A57143 {'title': 'Israels prayer in time of trouble with Gods gracious answer thereunto, or, An explication of the 14th chapter of the Prophet Hosea in seven sermons preached upon so many days of solemn humiliation / by Edward Reynolds ...', 'author': 'Reynolds, Edward, 1599-1676.', 'pubplace': 'London', 'subject_headings': 'Bible.; O.T.; Hosea XIV; Sermons.; Sermons, English; 17th century.', 'date': '1649'}\n",
      "36 hits in the notes of A12481 {'title': 'Sermons of the Right Reuerend Father in God Miles Smith, late Lord Bishop of Glocester. Transcribed out of his originall manuscripts, and now published for the common good', 'author': 'Prior, Thomas, b. 1585 or 6.; Smith, Miles, d. 1624.', 'pubplace': 'London', 'subject_headings': 'Sermons, English; 17th century.', 'date': '1632'}\n",
      "35 hits in the notes of A73033 {'title': \"The booke of lamentations; or Geennēlogia a treatise of hell Wherein is shewen, the nature of it; the place where it is, so farre as probably may be conjectured; the severall punishments of the damned therein, and aggravations of the same; the justice of God maintained in sending the wicked thither; with divers other things. As also. The booke of Genesis; or Genealogia. Christ's genealogie. Discussed as 'tis set downe by S. Matthew in the 1. ver. of his Gospel. Being the summe of two sermons, preached in the Cathedral Church of Lincolne. By Thomas Phillips Master of Arts.\", 'author': 'Phillips, Thomas, Master of Arts.', 'pubplace': 'London', 'subject_headings': 'Sermons, English; 17th century.', 'date': '1639'}\n",
      "32 hits in the notes of A57873 {'title': 'Præterita, or, A summary of several sermons the greater part preached many years past, in several places, and upon sundry occasion / by John Ramsey ...', 'author': 'Ramsey, John, Minister of East Rudham.', 'pubplace': 'London', 'subject_headings': 'Sermons, English; 17th century.', 'date': '1659'}\n",
      "31 hits in the notes of A00593 {'title': 'Clavis mystica a key opening divers difficult and mysterious texts of Holy Scripture; handled in seventy sermons, preached at solemn and most celebrious assemblies, upon speciall occasions, in England and France. By Daniel Featley, D.D.', 'author': 'Featley, Daniel, 1582-1645.', 'pubplace': 'London', 'subject_headings': 'Sermons, English; 17th century.', 'date': '1636'}\n",
      "29 hits in the notes of A13078 {'title': 'A looking glasse for princes and people Delivered in a sermon of thankesgiving for the birth of the hopefull Prince Charles. And since augmented with allegations and historicall remarkes. Together with a vindication of princes from Popish tyranny. By M. William Struther preacher at Edinburgh.', 'author': 'Struther, William, 1578-1633.', 'pubplace': 'Printed at Edinburgh', 'subject_headings': 'Charles II, King of England, 1630-1685.; Catholic Church; Controversial literature; Early works to 1800.; Sermons, English; 17th century.; Popes; Primacy; Early works to 1800.', 'date': '1632'}\n"
     ]
    }
   ],
   "source": [
    "citations = get_citations('../outputs/tertullian.csv')\n",
    "found = {tcpID: 0 for tcpID in citations}\n",
    "positions = {}\n",
    "for tcpID, c_list in citations.items():\n",
    "    positions[tcpID] = [] \n",
    "    for cited in c_list:\n",
    "        pos = cited[1]\n",
    "        cited = cited[0].split(\"; \")\n",
    "        for c in cited:\n",
    "            found[tcpID] += 1 \n",
    "            positions[tcpID].append(pos)\n",
    "sorted_counts = sorted(found.items(), key = lambda x : x[1], reverse=True)\n",
    "print(len(found))\n",
    "for tcpID, count in sorted_counts[:11]:\n",
    "    print(count, \"hits in the notes of\", tcpID, info[tcpID]) "
   ]
  },
  {
   "cell_type": "code",
   "execution_count": 3,
   "metadata": {},
   "outputs": [
    {
     "name": "stderr",
     "output_type": "stream",
     "text": [
      "/opt/anaconda3/lib/python3.9/site-packages/bs4/builder/__init__.py:545: XMLParsedAsHTMLWarning: It looks like you're parsing an XML document using an HTML parser. If this really is an HTML document (maybe it's XHTML?), you can ignore or filter this warning. If it's XML, you should know that using an XML parser will be more reliable. To parse this document as XML, make sure you have the lxml package installed, and pass the keyword argument `features=\"xml\"` into the BeautifulSoup constructor.\n",
      "  warnings.warn(\n"
     ]
    },
    {
     "name": "stdout",
     "output_type": "stream",
     "text": [
      "Processed 100 texts\n",
      "Processed 200 texts\n",
      "Processed 300 texts\n",
      "Processed 400 texts\n",
      "Processed 500 texts\n",
      "Processed 600 texts\n",
      "Processed 700 texts\n",
      "Processed 800 texts\n"
     ]
    }
   ],
   "source": [
    "outputs = []\n",
    "for idx,tcpID in enumerate(found): \n",
    "    notes_contexts = context(tcpID, positions)\n",
    "    for sourceline, c_dict in notes_contexts.items():\n",
    "        for sourcepos, sentence in c_dict.items(): \n",
    "            outputs.append({\"tcpID\":tcpID, \n",
    "                            \"sourceline\":sourceline,\n",
    "                            \"sourcepos\":sourcepos,\n",
    "                            \"context\": sentence})\n",
    "    if (idx+1) % 100 == 0: print(f\"Processed {idx+1} texts\")\n",
    "\n",
    "outfile = open(\"../outputs/tertullian_contexts.csv\",\"w+\")\n",
    "writer = csv.DictWriter(outfile, fieldnames=[\"tcpID\",\"sourceline\",\"sourcepos\",\"context\"])\n",
    "writer.writeheader()\n",
    "for dict in outputs: \n",
    "    writer.writerow(dict)\n",
    "outfile.close()"
   ]
  },
  {
   "cell_type": "code",
   "execution_count": 5,
   "metadata": {},
   "outputs": [],
   "source": [
    "outfile = open(\"../outputs/tertullian_contexts.csv\",\"w+\")\n",
    "writer = csv.DictWriter(outfile, fieldnames=[\"tcpID\",\"sourceline\",\"sourcepos\",\"context\"])\n",
    "writer.writeheader()\n",
    "for dict in outputs: \n",
    "    writer.writerow(dict)\n",
    "outfile.close()"
   ]
  },
  {
   "cell_type": "markdown",
   "metadata": {},
   "source": [
    "Find variants "
   ]
  },
  {
   "cell_type": "code",
   "execution_count": 18,
   "metadata": {},
   "outputs": [],
   "source": [
    "import json\n",
    "from Levenshtein import distance \n",
    "from difflib import SequenceMatcher\n",
    "\n",
    "target = ['tertullian','ter','tert','tertul']\n",
    "\n",
    "with open(f\"../assets/lemmas.json\",\"r\") as file: \n",
    "    lemma_dict = json.load(file)\n",
    "\n",
    "possible_matches = {k:[] for k in target}\n",
    "\n",
    "for lemma in sorted(lemma_dict):\n",
    "    if lemma not in possible_matches: \n",
    "        for word in target:\n",
    "            edit_dist = distance(word, lemma)\n",
    "            similarity = SequenceMatcher(None, word, lemma).ratio()\n",
    "            if similarity >= 0.8 and edit_dist < len(word):\n",
    "                possible_matches[word].extend(list(lemma_dict[lemma].keys()))\n",
    "                break\n",
    "possible_matches"
   ]
  },
  {
   "cell_type": "code",
   "execution_count": 1,
   "metadata": {},
   "outputs": [
    {
     "data": {
      "text/plain": [
       "{'azariah': ['amariah',\n",
       "  'amariath',\n",
       "  'azaria',\n",
       "  'azariab',\n",
       "  'azarias',\n",
       "  'hazaria',\n",
       "  'jzariah',\n",
       "  'nazarath',\n",
       "  'samariah',\n",
       "  'z*cariah',\n",
       "  'zarah',\n",
       "  'zaruiah',\n",
       "  'zecariah']}"
      ]
     },
     "execution_count": 1,
     "metadata": {},
     "output_type": "execute_result"
    }
   ],
   "source": [
    "import json\n",
    "from Levenshtein import distance \n",
    "from difflib import SequenceMatcher\n",
    "import sys\n",
    "sys.path.append('../')\n",
    "\n",
    "target = ['azariah']\n",
    "\n",
    "with open(f\"../assets/nouns_ab.json\",\"r\") as file: \n",
    "    lemma_dict = json.load(file)\n",
    "\n",
    "possible_matches = {k:[] for k in target}\n",
    "\n",
    "for lemma in sorted(lemma_dict):\n",
    "    if lemma not in possible_matches: \n",
    "        for word in target:\n",
    "            edit_dist = distance(word, lemma)\n",
    "            similarity = SequenceMatcher(None, word, lemma).ratio()\n",
    "            if similarity >= 0.8 and edit_dist < len(word):\n",
    "                possible_matches[word].extend(list(lemma_dict[lemma].keys()))\n",
    "                break\n",
    "possible_matches"
   ]
  }
 ],
 "metadata": {
  "kernelspec": {
   "display_name": "base",
   "language": "python",
   "name": "python3"
  },
  "language_info": {
   "codemirror_mode": {
    "name": "ipython",
    "version": 3
   },
   "file_extension": ".py",
   "mimetype": "text/x-python",
   "name": "python",
   "nbconvert_exporter": "python",
   "pygments_lexer": "ipython3",
   "version": "3.9.18"
  }
 },
 "nbformat": 4,
 "nbformat_minor": 2
}
