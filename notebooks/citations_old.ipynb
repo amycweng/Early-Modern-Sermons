{
 "cells": [
  {
   "cell_type": "markdown",
   "metadata": {},
   "source": [
    "# Biblical and Apocryphal Citations in Sermon Marginalia "
   ]
  },
  {
   "cell_type": "code",
   "execution_count": 400,
   "metadata": {},
   "outputs": [],
   "source": [
    "import sys\n",
    "sys.path.append('../')\n",
    "from lib.visualization import * \n",
    "from lib.dictionaries.authors import * \n",
    "from lib.standardization import * \n",
    "from collections import Counter\n",
    "import pandas as pd\n",
    "sermons_metadata = pd.read_csv(\"../assets/sermons.csv\")\n",
    "excluded = ['B07519','A87349','A30293', 'A30435'] # Welsh language \n",
    "sermons = sorted(sermons_metadata[\"id\"])\n",
    "# 4237 sermons in total "
   ]
  },
  {
   "cell_type": "code",
   "execution_count": 3,
   "metadata": {},
   "outputs": [],
   "source": [
    "import json,re\n",
    "\n",
    "def read_data(tcpID): \n",
    "    with open(f'../assets/encoded/{tcpID}.json','r') as file:\n",
    "        encodings, citations, sent_info = json.load(file)\n",
    "    return encodings, citations, sent_info\n",
    "\n",
    "def get_tcpIDs(prefix): \n",
    "    return [x for x in sermons if prefix in x]"
   ]
  },
  {
   "cell_type": "code",
   "execution_count": 422,
   "metadata": {},
   "outputs": [],
   "source": [
    "import json\n",
    "def read_citations(tcpID): \n",
    "    with open(f'../assets/encoded/{tcpID}.json','r') as file:\n",
    "        text,info = json.load(file)\n",
    "    c_count = 0\n",
    "    output = []\n",
    "    for sentence in text:\n",
    "        s_idx, t_idx, is_note, encodings, citations, outliers, replaced = sentence \n",
    "        s_idx = str(s_idx)\n",
    "        sermon, paragraph = info[s_idx][0], info[s_idx][2]\n",
    "        for c_idx, c in citations.items(): \n",
    "            rep = replaced[int(c_idx)]\n",
    "            if re.search(r'^he$|^am$|^time$|$the\\^|^tyme$|^ti\\^|^i\\^|^Apol$|^ne$|^te$|^ti$|^tb$|^ac$',rep.split(\" \")[0]): continue\n",
    "            if re.search(r\"^\\w+ \\d+ , \\d+$\",rep): \n",
    "                c = [f\"{c[0]}.{c[1].split(' ')[1]}\"]\n",
    "        \n",
    "            c_count += len(c)\n",
    "            output.append({'tcpID':tcpID, \n",
    "                            'sermon': sermon,\n",
    "                            'paragraph': paragraph,\n",
    "                            'sentence': s_idx,\n",
    "                            'index': t_idx, \n",
    "                            'citation': rep,\n",
    "                            'decomposed': \"; \".join(c),\n",
    "                            'marginal': is_note})\n",
    "        for c_idx, c in outliers.items(): \n",
    "            output.append({'tcpID':tcpID, \n",
    "                            'sermon': sermon,\n",
    "                            'paragraph': paragraph,\n",
    "                            'sentence': s_idx,\n",
    "                            'index': t_idx, \n",
    "                            'citation': c,\n",
    "                            'decomposed': \"\",\n",
    "                            'marginal': is_note})\n",
    "        \n",
    "        tokens = \" \".join([x[0] for x in encodings])\n",
    "        only_verses = re.findall(r\"(.*?)\\b([Vv]er[.se]*) ([^A-Za-z]+)\",tokens)\n",
    "        only_verses.extend(re.findall(r\"(.*?)\\b([Vv][.]*) ([^A-Za-z]+)\",tokens))\n",
    "        if len(only_verses) >0: \n",
    "            for v in only_verses: \n",
    "                if not re.search(r\"\\d+\",v[-1]): continue\n",
    "                output.append({'tcpID':tcpID, \n",
    "                            'sermon': sermon,\n",
    "                            'paragraph': paragraph,\n",
    "                            'sentence': s_idx,\n",
    "                            'index': t_idx, \n",
    "                            'citation': f\"{\" \".join(v[0].split(' ')[-2:])} {v} {v[2]}\",\n",
    "                            'decomposed': \"\",\n",
    "                            'marginal': is_note})\n",
    "    print(tcpID, c_count)\n",
    "    return output "
   ]
  },
  {
   "cell_type": "code",
   "execution_count": null,
   "metadata": {},
   "outputs": [],
   "source": [
    "# save all citations\n",
    "import csv\n",
    "all_citations = []\n",
    "for idx, tcpID in enumerate(sermons): \n",
    "    all_citations.extend(read_citations(tcpID))"
   ]
  },
  {
   "cell_type": "code",
   "execution_count": 424,
   "metadata": {},
   "outputs": [],
   "source": [
    "with open(\"../outputs/citationsA0-A25248.csv\",\"w+\") as outfile: \n",
    "    writer = csv.DictWriter(outfile, fieldnames=all_citations[0].keys())\n",
    "    writer.writeheader()\n",
    "    writer.writerows(all_citations)"
   ]
  },
  {
   "cell_type": "code",
   "execution_count": null,
   "metadata": {},
   "outputs": [],
   "source": [
    "import pandas as pd\n",
    "import re\n",
    "citation_info = pd.read_csv(\"../outputs/citations.csv\")\n",
    "citations = {}\n",
    "tcpIDs = citation_info['tcpID']\n",
    "for idx, tcpID in enumerate(tcpIDs):\n",
    "    if tcpID not in citations: \n",
    "        citations[tcpID] = [[],[]]\n",
    "    else: \n",
    "        replaced = citation_info['citation'][idx].split(\" \")\n",
    "        if re.search(r'^he$|^am$|^time$|$the\\^|^tyme$|^ti\\^|^i\\^|^Apol$|^ne$|^te$|^ti$|^tb$|^ac$',replaced[0]): continue\n",
    "\n",
    "        decomposed = citation_info['decomposed'][idx]\n",
    "        if isinstance(decomposed,float): continue\n",
    "        decomposed = decomposed.split(\"; \")\n",
    "        book = decomposed[0].split(\" \")[0]\n",
    "        if book == \"Ibidem\" and len(citations[tcpID][0]) > 0: \n",
    "            # address ibidem problem; still need to address the verse/ver problem \n",
    "            prior = citations[tcpID][0][-1].split(\" \")\n",
    "            if re.search(r\"\\d|\\^\",prior[0]): \n",
    "                book = prior[0] + \" \" + prior[1]\n",
    "            else: \n",
    "                book = prior[0] \n",
    "            priornum = prior[1].split(\".\")\n",
    "            for d, decomposed_citation in enumerate(decomposed):\n",
    "                currnum = decomposed_citation.split(\" \")[1]\n",
    "                if len(priornum) == 2 and len(currnum.split(\".\")) == 1: \n",
    "                    decomposed[d] = f\"{book} {priornum[1]}.{currnum}\"\n",
    "                else: \n",
    "                    decomposed[d] = f\"{book} {currnum}\"\n",
    "        \n",
    "        if re.search(r\"^\\w+ \\d+ , \\d+$\",citation_info['citation'][idx]): \n",
    "            print(citation_info['citation'][idx])\n",
    "            decomposed = [f\"{decomposed[0]}.{decomposed[1].split(' ')[1]]}\"]\n",
    "        citations[tcpID][0].extend(decomposed)\n",
    "        locations = []\n",
    "        if citation_info['marginal'][idx]: \n",
    "            location =  \"marginal\"\n",
    "        else: location = \"in-text\"\n",
    "        citations[tcpID][1].extend([location]*len(decomposed))"
   ]
  },
  {
   "cell_type": "markdown",
   "metadata": {},
   "source": [
    "# Corruption and Uncertainty "
   ]
  },
  {
   "cell_type": "markdown",
   "metadata": {},
   "source": [
    "### Chapter and Verse Level"
   ]
  },
  {
   "cell_type": "code",
   "execution_count": 148,
   "metadata": {},
   "outputs": [],
   "source": [
    "catalog = {}\n",
    "for tcpID,cited in citations.items(): \n",
    "    cited = cited[0]\n",
    "    if len(cited) == 0: continue\n",
    "    for c in cited:\n",
    "        c = c.split(\" \")\n",
    "        if tcpID not in catalog: \n",
    "            catalog[tcpID] = {'only_chapter':0,'verse':0,'corrupted_book':0,'corrupted_ch_only':0,'corrupted_v_only':0,'all_corrupt':0}\n",
    "        if re.search(r'[\\d\\^]',c[0]): # numbered book with unknown number\n",
    "            if c[0] == '^': \n",
    "                catalog[tcpID]['corrupted_book'] += 1 \n",
    "                continue\n",
    "            book = f\"{c[0]} {c[1]}\"\n",
    "            ref = c[2]\n",
    "        else: \n",
    "            book = c[0]\n",
    "            ref = c[1]\n",
    "            # if re.search(r\"\\^\",book): \n",
    "            #     catalog[tcpID]['corrupted_book'] += 1 \n",
    "            #     continue\n",
    "        ref = ref.split(\".\")\n",
    "        chapter = ref[0]\n",
    "        if re.search(r\"\\*|\\^\",chapter) and len(ref) < 2: \n",
    "            # chapter-only citations with illegible characters \n",
    "            catalog[tcpID]['corrupted_ch_only'] += 1 \n",
    "        elif len(ref) == 2: \n",
    "            verse = ref[1] \n",
    "            if re.search(r\"\\*|\\^\",verse): \n",
    "                if re.search(r\"\\*|\\^\",chapter): \n",
    "                    # both chapter and verse are uncertain \n",
    "                    catalog[tcpID]['all_corrupt'] += 1 \n",
    "                else: \n",
    "                    # verse is uncertain \n",
    "                    catalog[tcpID]['corrupted_v_only'] += 1 \n",
    "            else: \n",
    "                catalog[tcpID]['verse'] += 1 \n",
    "        else: \n",
    "            catalog[tcpID]['only_chapter'] += 1 \n",
    "\n",
    "    for tcpID, dict in catalog.items():\n",
    "        corrupt = dict[\"all_corrupt\"] + dict[\"corrupted_v_only\"] + dict[\"corrupted_ch_only\"] + dict[\"corrupted_book\"]\n",
    "        total = dict[\"verse\"] + corrupt + dict[\"only_chapter\"]\n",
    "        corrupt_ratio = 0 \n",
    "        if total > 0: \n",
    "            corrupt_ratio = corrupt/total\n",
    "        catalog[tcpID]['corrupt_ratio'] = corrupt_ratio \n",
    "        catalog[tcpID]['total'] = total\n",
    "        \n",
    "    sorted_catalog = sorted(catalog, key= lambda x: (catalog[x]['corrupt_ratio'],\n",
    "                                                    catalog[x]['total']),reverse=True)"
   ]
  },
  {
   "cell_type": "markdown",
   "metadata": {},
   "source": [
    "Counts"
   ]
  },
  {
   "cell_type": "code",
   "execution_count": 149,
   "metadata": {},
   "outputs": [
    {
     "name": "stdout",
     "output_type": "stream",
     "text": [
      "777861 total citations, with 9046 (1.0%) corrupted\n",
      "Of uncorrupted book citations, 135523 (17.419999999999998%) are chapter-level and 641307 (82.39999999999999%) are verse-level\n",
      "\t2375 (1.7999999999999998%) chapter-only citations are corrupted\n",
      "\t5165 (1.0%) verse citations are corrupted\n",
      "\t475  (0.1%) citations are corrupted in both chapter and verse\n",
      "Of numbered book citations, 1031 (0.13%) are corrupted\n"
     ]
    }
   ],
   "source": [
    "total = sum(catalog[tcpID]['total'] for tcpID in catalog)\n",
    "clean_ch = sum(catalog[tcpID]['only_chapter'] for tcpID in catalog)\n",
    "clean_v = sum(catalog[tcpID]['verse'] for tcpID in catalog)\n",
    "corrupted_book = sum([dict['corrupted_book'] for dict in catalog.values()])\n",
    "corrupted_ch = sum([dict['corrupted_ch_only'] for dict in catalog.values()])\n",
    "corrupted_v = sum([dict['corrupted_v_only'] for dict in catalog.values()])\n",
    "all_corrupt = sum([dict['all_corrupt'] for dict in catalog.values()])\n",
    "total_corrupted = corrupted_ch + corrupted_v + all_corrupt + corrupted_book\n",
    "print(f\"{total} total citations, with {total_corrupted} ({round((total_corrupted)/total,ndigits=2)*100}%) corrupted\")\n",
    "print(f\"Of uncorrupted book citations, {clean_ch + corrupted_ch} ({round((clean_ch+corrupted_ch)/total,ndigits=4)*100}%) are chapter-level and {clean_v+corrupted_v+all_corrupt} ({round((clean_v+corrupted_v+all_corrupt)/total,ndigits=3)*100}%) are verse-level\")\n",
    "print(f\"\\t{corrupted_ch} ({round((corrupted_ch)/(clean_ch+corrupted_ch),ndigits=3)*100}%) chapter-only citations are corrupted\")\n",
    "print(f\"\\t{corrupted_v} ({round((corrupted_v)/(clean_v+corrupted_v+all_corrupt),ndigits=2)*100}%) verse citations are corrupted\")\n",
    "print(f\"\\t{all_corrupt}  ({round((all_corrupt)/(clean_v+corrupted_v+all_corrupt),ndigits=3)*100}%) citations are corrupted in both chapter and verse\")\n",
    "print(f\"Of numbered book citations, {corrupted_book} ({round((corrupted_book)/total,ndigits=4)*100}%) are corrupted\")"
   ]
  },
  {
   "cell_type": "code",
   "execution_count": 150,
   "metadata": {},
   "outputs": [
    {
     "name": "stdout",
     "output_type": "stream",
     "text": [
      "2556 texts without corrupted citations 1437 texts with a small proportion of corrupted citations\n",
      "5 texts with a high ratio of corrupted citations\n",
      "96 texts with a moderate ratio of corrupted citations\n"
     ]
    }
   ],
   "source": [
    "not_corrupted = []\n",
    "low_corruption = []\n",
    "high_corruption = []\n",
    "for tcpID in sorted_catalog: \n",
    "    if catalog[tcpID]['corrupt_ratio'] == 0: \n",
    "        not_corrupted.append(tcpID)\n",
    "    elif catalog[tcpID]['corrupt_ratio'] < 0.1: \n",
    "        low_corruption.append(tcpID)\n",
    "    elif catalog[tcpID]['corrupt_ratio'] > 0.4: \n",
    "        high_corruption.append(tcpID)\n",
    "print(len(not_corrupted), \"texts without corrupted citations\",len(low_corruption),\"texts with a small proportion of corrupted citations\")\n",
    "print(len(high_corruption), \"texts with a high ratio of corrupted citations\")\n",
    "print(len(sorted_catalog) - (len(not_corrupted) + len(low_corruption) + len(high_corruption)),'texts with a moderate ratio of corrupted citations')"
   ]
  },
  {
   "cell_type": "markdown",
   "metadata": {},
   "source": [
    "Save stats to csv"
   ]
  },
  {
   "cell_type": "code",
   "execution_count": 151,
   "metadata": {},
   "outputs": [],
   "source": [
    "import csv\n",
    "outfile = open(f\"../outputs/citation_stats.csv\",\"w+\")\n",
    "writer = csv.DictWriter(outfile, fieldnames=[\"tcpID\", \"only_chapter\",\"verse\",\"corrupted_book\",\"corrupted_ch_only\",\"corrupted_v_only\",\"all_corrupt\",\"corrupt_ratio\",\"total\"])\n",
    "writer.writeheader()\n",
    "for tcpID in sorted_catalog: \n",
    "    dict = catalog[tcpID]\n",
    "    dict['tcpID'] = tcpID\n",
    "    writer.writerow(dict)\n",
    "outfile.close()"
   ]
  },
  {
   "cell_type": "markdown",
   "metadata": {},
   "source": [
    "# Visualizations "
   ]
  },
  {
   "cell_type": "code",
   "execution_count": 232,
   "metadata": {},
   "outputs": [],
   "source": [
    "def get_citations(tcpIDs, loc=\"all\"): \n",
    "    tcpIDs = {k:None for k in tcpIDs}\n",
    "    all_books = {}\n",
    "    all_chapters = {}\n",
    "    all_verses = {}\n",
    "    for tcpID,cited in citations.items(): \n",
    "        if tcpID not in tcpIDs: continue\n",
    "        if len(cited[0]) == 0: continue\n",
    "        if loc != \"all\" and cited[1][0] != loc:  \n",
    "            continue\n",
    "        cited = cited[0]\n",
    "        for c in cited: \n",
    "            c = c.split(\" \")\n",
    "        \n",
    "            if re.match(r'[\\d\\^]',c[0]): \n",
    "                # numbered book with unknown number\n",
    "                if c[0] == '^':  \n",
    "                    continue\n",
    "                book = f\"{c[0]} {c[1]}\"\n",
    "                ref = c[2]\n",
    "            else: \n",
    "                book = c[0]\n",
    "                ref = c[1]\n",
    "            \n",
    "            if book not in all_books: \n",
    "                all_books[book] = []\n",
    "            all_books[book].append(tcpID)\n",
    "\n",
    "            ref = ref.split(\".\")\n",
    "            chapter = ref[0]\n",
    "            if '*' not in chapter and \"^\" not in chapter: \n",
    "                key = f\"{book} {chapter}\"\n",
    "                if key not in all_chapters: \n",
    "                    all_chapters[key] = []\n",
    "                all_chapters[key].append(tcpID)\n",
    "                if len(ref) == 2: \n",
    "                    verse = ref[1]\n",
    "                    if '*' not in verse and \"^\" not in verse: \n",
    "                        key = f\"{book} {chapter}.{verse}\"\n",
    "                        if key not in all_verses: \n",
    "                            all_verses[key] = []\n",
    "                        all_verses[key].append(tcpID)\n",
    "    return all_books, all_chapters, all_verses"
   ]
  },
  {
   "cell_type": "code",
   "execution_count": 229,
   "metadata": {},
   "outputs": [],
   "source": [
    "def bar(orientation,data,title,color,labels,figx,figy):\n",
    "    plt.figure(figsize = (figx, figy))\n",
    "    if orientation == 'horizontal': \n",
    "        plt.barh(data[0],data[1],color=color)\n",
    "    else: \n",
    "        plt.bar(data[0],data[1],color=color)\n",
    "    plt.title(title, fontsize=20)\n",
    "    plt.xlabel(labels[0], fontsize=15)\n",
    "    plt.xticks(fontsize=12)\n",
    "    plt.ylabel(labels[1], fontsize=15)\n",
    "    plt.yticks(fontsize=10)\n",
    "    plt.show()"
   ]
  },
  {
   "cell_type": "code",
   "execution_count": 124,
   "metadata": {},
   "outputs": [],
   "source": [
    "aut = 'Fenner, William, 1600-1640'\n",
    "all_books, all_chapters,all_verses = get_citations(aut_tcpIDs[aut])"
   ]
  },
  {
   "cell_type": "code",
   "execution_count": 233,
   "metadata": {},
   "outputs": [],
   "source": [
    "in_text_books, in_text_chapters,in_text_verses = get_citations(tcpIDs,\"in-text\")\n",
    "marg_books, marg_chapters,marg_verses = get_citations(tcpIDs,\"marginal\")\n",
    "all_books, all_chapters,all_verses = get_citations(tcpIDs)"
   ]
  },
  {
   "cell_type": "code",
   "execution_count": null,
   "metadata": {},
   "outputs": [],
   "source": [
    "def visualize(title, color, labels, dictionary): \n",
    "    x,y = [],[]\n",
    "    dictionary = {k:len(v) for k,v in dictionary.items() }\n",
    "    print(sum(dictionary.values()))\n",
    "    counts = sorted(dictionary.items(), key=lambda x:x[1],reverse=True)\n",
    "    print(counts[:26])\n",
    "    for word,freq in reversed(counts[:26]): \n",
    "        x.append(word)\n",
    "        y.append(freq)\n",
    "    bar('horizontal',(x,y),title,color,(labels[0],labels[1]),8,10)\n",
    "\n",
    "# visualize('Most Commonly Cited Books in the Text','lightgrey',('Frequency','Book'),in_text_books)\n",
    "# visualize('Most Commonly Cited Books in the Margin','lightgrey',('Frequency','Book'),marg_books)\n",
    "# visualize('Most Commonly Cited Books','lightgrey',('Frequency','Book'),all_books)\n",
    "\n",
    "# visualize('Most Commonly Cited Chapters','lightgrey',('Frequency','Chapter'),all_chapters)\n",
    "# visualize('Most Commonly Cited Chapters in the Margin','lightgrey',('Frequency','Chapter'),marg_chapters)\n",
    "# visualize('Most Commonly Cited Chapters in the Text','lightgrey',('Frequency','Chapter'),in_text_chapters)\n",
    "\n",
    "visualize('Most Commonly Cited Verses','lightgrey',('Frequency','Verse'),all_verses)\n",
    "visualize('Most Commonly Cited Verses in the Margin','lightgrey',('Frequency','Verse'),in_text_verses)\n",
    "visualize('Most Commonly Cited Verses in the Text','lightgrey',('Frequency','Verse'),marg_verses)\n",
    "\n"
   ]
  },
  {
   "cell_type": "markdown",
   "metadata": {},
   "source": [
    "## Verse over time "
   ]
  },
  {
   "cell_type": "code",
   "execution_count": 358,
   "metadata": {},
   "outputs": [],
   "source": [
    "import numpy as np\n",
    "dates = sermons_metadata[\"date\"]\n",
    "subjects = sermons_metadata[\"subject_headings\"]\n",
    "all_subjects = {}\n",
    "titles = {}\n",
    "orig_authors = {}\n",
    "pubplace = {}\n",
    "tcpID_dates = {}\n",
    "for idx,s in enumerate(subjects): \n",
    "    tcpID = sermons_metadata['id'][idx]\n",
    "    titles[tcpID] = sermons_metadata['title'][idx]\n",
    "    orig_authors[tcpID] = sermons_metadata['authors'][idx]\n",
    "    pubplace[tcpID] = sermons_metadata['pubplace'][idx]\n",
    "    all_subjects[tcpID] = [_.strip('.') for _ in s.split(\"; \")]\n",
    "    date = sermons_metadata['date'][idx]\n",
    "    if \"-\" in date: \n",
    "        date = date.split(\"-\")[0]\n",
    "    tcpID_dates[tcpID] = date\n",
    "    \n"
   ]
  },
  {
   "cell_type": "code",
   "execution_count": 243,
   "metadata": {},
   "outputs": [
    {
     "name": "stdout",
     "output_type": "stream",
     "text": [
      "[('John 3.16', 289), ('Romans 8.28', 279), ('Matthew 11.28', 273), ('Psalms 1.2', 273), ('Philippians 3.8', 273), ('Isaiah 9.6', 268), ('Psalms 1.3', 265), ('Galatians 2.20', 264), ('2 Corinthians 4.17', 262), ('2 Corinthians 5.20', 261), ('Hebrews 12.14', 258)]\n"
     ]
    }
   ],
   "source": [
    "dictionary = all_verses\n",
    "num_sermons = {k:len(set(v)) for k,v in dictionary.items()}\n",
    "num_sermons = sorted(num_sermons.items(),key=lambda x:x[1],reverse=True)\n",
    "visualize('','lightgrey',('Frequency','Chapter'),num_sermons)"
   ]
  },
  {
   "cell_type": "code",
   "execution_count": 297,
   "metadata": {},
   "outputs": [],
   "source": [
    "def verse_over_time(verses):\n",
    "    results = {}\n",
    "    for tcpID, cited in citations.items(): \n",
    "        date = tcpID_dates[tcpID]\n",
    "        locations = cited[1]\n",
    "        decomposed = cited[0]\n",
    "        for idx, citation in enumerate(decomposed): \n",
    "            if citation in verses: \n",
    "                if date not in results: \n",
    "                    results[date] = {}\n",
    "                if tcpID not in results[date]: \n",
    "                    results[date][tcpID] = [] \n",
    "                results[date][tcpID].append(locations[idx])\n",
    "    print(len(results))\n",
    "    visualize_verse_over_time(verses, results) \n",
    "    return results\n",
    "\n",
    "def visualize_verse_over_time(verses, results): \n",
    "    marg, text = [],[]\n",
    "    sermons, years = [],[]\n",
    "    for date in sorted(results): \n",
    "        marg_count, text_count = 0,0\n",
    "        num_sermons = 0\n",
    "        for tcpID, locations in results[date].items(): \n",
    "            num_sermons += 1 \n",
    "            locations = Counter(locations)\n",
    "            if \"marginal\" in locations: \n",
    "                marg_count += locations[\"marginal\"]        \n",
    "            if \"in-text\" in locations: \n",
    "                text_count += locations[\"in-text\"]\n",
    "        years.append(int(date))\n",
    "        marg.append(marg_count)\n",
    "        text.append(text_count)\n",
    "        sermons.append(num_sermons)\n",
    "\n",
    "    plt.figure(figsize = (15, 10))\n",
    "    plt.bar(years,marg,color=\"lightgrey\",label=\"Marginal\")\n",
    "    plt.bar(years,text,bottom=marg,color=\"darkgrey\",label=\"In-Text\")\n",
    "    plt.scatter(years,sermons,color=\"black\",label=\"Number of Books\")\n",
    "    if len(verses) <= 6: \n",
    "        plt.title(f\"{', '.join(verses)}\", fontsize=20)\n",
    "    plt.xlabel(\"Publication Year\", fontsize=15)\n",
    "    plt.xticks(np.arange(min(years),max(years), 10.0), fontsize=12)\n",
    "    plt.ylabel(\"Frequency\", fontsize=15)\n",
    "    plt.yticks(fontsize=10)\n",
    "    plt.legend()\n",
    "    plt.show()"
   ]
  },
  {
   "cell_type": "code",
   "execution_count": 367,
   "metadata": {},
   "outputs": [
    {
     "name": "stdout",
     "output_type": "stream",
     "text": [
      "125\n"
     ]
    },
    {
     "data": {
      "image/png": "[encoded data removed]",
      "text/plain": [
       "<Figure size 1500x1000 with 1 Axes>"
      ]
     },
     "metadata": {},
     "output_type": "display_data"
    }
   ],
   "source": [
    "# verse_over_time([\"Genesis 12.1\"])\n",
    "# results = verse_over_time([\"Genesis 9.25\"])\n",
    "# verse_over_time([\"Romans 8.28\"])\n",
    "# verse_over_time([\"2 Timothy 3.16\"])\n",
    "\n",
    "# results = verse_over_time([\"Genesis 2.18\",\"Deuteronomy 24.1\",\"Deuteronomy 24.2\",\n",
    "#                  \"Matthew 5.31\",\"Matthew 5.32\",\"1 Corinthians 7.10\"])\n",
    "# verse_over_time(['Psalms 137.9'])\n",
    "# results = verse_over_time([\"2 Corinthians 3.6\"])\n",
    "# results = verse_over_time([\"Colossians 3.1\", \"Colossians 3.2\"])\n",
    "from lib.dictionaries.charity_citations import *\n",
    "bible_charity = [re.sub(r\":\",\".\",x) for x in bible_charity]\n",
    "results = verse_over_time(bible_charity)\n",
    "# for verse in bible_charity: \n",
    "#     results = verse_over_time([verse])"
   ]
  },
  {
   "cell_type": "code",
   "execution_count": 368,
   "metadata": {},
   "outputs": [
    {
     "name": "stdout",
     "output_type": "stream",
     "text": [
      "[('N.T', 327), ('O.T', 253), ('Funeral sermons', 184), ('Church of England', 112), ('Fast-day sermons', 62), ('Christian life', 50), ('England', 45), ('History', 44), ('Great Britain', 40), ('Commentaries', 37), ('God', 24), ('Religious aspects', 23), ('Jesus Christ', 23), ('Controversial literature', 22), ('Christianity', 20), ('Sermons, American', 20), (\"Lord's Supper\", 18), ('Civil War, 1642-1649', 16), ('No Keywords', 15), ('Death', 14), ('Judgment Day', 14), ('Conduct of life', 13), ('Sin', 13), ('Salvation', 13), ('Faith', 13), ('Love', 12), ('Charity', 12), ('Grace (Theology)', 12), ('Catholic Church', 11), ('Visitation sermons', 11), ('Biblical teaching', 11), ('Repentance', 10), ('Theology, Doctrinal', 9), ('Church of Scotland', 8), ('Church and state', 8), ('Justification', 7), ('Soul', 7), ('Prayer', 7), ('Criticism, interpretation, etc', 7), ('Dissenters, Religious', 7), ('Plague', 6), (\"Lord's prayer\", 6), ('Theology', 6), ('Congregational churches', 6), ('Society of Friends', 6), ('Farewell sermons', 6), ('Judges', 5), ('London', 5), ('Tithes', 5), ('Attributes', 5), ('Contentment', 5), ('Worship and love', 5), ('Politics and government', 5), ('Acts XIII, 36', 5), ('Charles', 5), ('Presbyterian Church', 5), ('Meditations', 5), ('II,', 5), ('Revelation', 5), ('Future life', 5), ('Election sermons', 5), ('Clergy', 5), ('Scotland', 5), ('Ireland', 5), ('Conscience', 4), ('Sabbath', 4), ('Usury', 4), ('Baptism', 4), ('Catechisms, English', 4), ('New England', 4), ('Death and burial', 4), ('I,', 4), ('Massachusetts', 4), ('Mercy', 4), ('Psalms', 4), ('Church history', 4), ('Redemption', 4), ('Sermons, Irish', 4), ('Church polity', 4), ('Christian literature', 4), ('Murder', 4), ('Peace', 4), ('Justice', 4), ('Wisdom', 4), ('Providence and government of God', 4), ('Election (Theology)', 3), ('Episcopacy', 3), ('Marriage', 3), ('Resurrection', 3), (\"Apostles' Creed\", 3), ('Pride and vanity', 3), ('Second Advent', 3), ('Psalms L, 15', 3), ('Conversion', 3), ('King of England, 1600-1649', 3), ('Religious life', 3), ('Sermons, Scottish', 3), ('Doctrines', 3), ('Temptation', 3), ('17th Century', 3), ('Government', 3), ('Corinthians, 2nd', 3), ('Funeral sermons, English', 3), ('Worship', 3), ('Revelation XIV, 13', 3), ('Duty', 3), ('Devotional exercises', 3), ('Devotional literature', 3), ('Quakers', 3), ('Mary', 3), ('Queen of England, 1662-1694', 3), ('Prayers', 3), ('James', 2), ('Punishment', 2), ('Sin, Unpardonable', 2), ('Fear of God', 2), ('Fasts and feasts', 2), ('Eschatology', 2), ('Man (Theology)', 2), ('Antichrist', 2), ('Psalms XXXVII, 37', 2), ('Church buildings', 2), ('Lenten sermons', 2), ('Avarice', 2), ('Lady, d. 1605', 2), ('Mystical union', 2), ('Hosea XIV', 2), ('Proverbs XXIII, 23', 2), ('Familists', 2), ('Romans XIII, 7', 2), ('Anglican authors', 2), ('Prophecies', 2), ('Mark VIII, 36', 2), ('Peter, 1st, II, 17', 2), ('Stewardship, Christian', 2), ('Henry Frederick,', 2), ('Prince of Wales, 1594-1612', 2), ('Colossians', 2), ('Covenant theology', 2), ('Beatitudes', 2), ('Fasting', 2), ('Matthew VII, 13-14', 2), ('Jude', 2), ('Humility', 2), ('Sanctification', 2), ('Infant salvation', 2), ('Essex, Robert Devereux,', 2), ('Niclaes, Hendrik, 1502?-1580?', 2), ('Ten Commandments', 2), ('Colonial period, ca. 1600-1775', 2), ('Song of Solomon', 2), ('Protestant authors', 2), ('United States', 2), ('Psalms XV', 2), ('Jeremiah IV, 14', 2), ('Forgiveness of sin', 2), ('Fast-day sermons, English', 2), ('1642-1649', 2), ('Philippians I, 23', 2), ('London (England)', 2), ('Romans VIII, 13', 2), ('Crell, Johann, 1590-1633', 2), ('Grotius, Hugo, 1583-1645', 2), ('Atonement', 2), ('Hebrews XIII, 16', 2), ('John XVII', 2), ('Romans VIII', 2), ('Youth', 2), ('Freedom of religion', 2), ('Paraphrases, English', 2), ('Consecration of bishops', 2), ('Hall, Joseph, 1574-1656', 2), ('Restoration, 1660-1688', 2), ('King of England, 1630-1685', 2), ('English', 2), ('Job XXII, 21', 2), ('Corinthians, 2nd, IV, 18', 2), ('Spiritual life', 2), ('Corinthians, 1st, XV, 55', 2), ('Philippians I, 27', 2), ('Office', 2), ('Person and offices', 2), ('Trinity', 2), ('Zechariah VII, 5', 2), ('Acts XVII, 31', 2), ('Atherton, John, 1598-1640', 2), ('Devil', 2), ('Esther IV, 16', 2), ('Psalms LI, 17', 2), ('Ezra IX, 13-14', 2), ('Gunpowder Plot, 1605', 2), ('Warwick, Robert Rich,', 2), ('Earl of, 1587-1658', 2), ('Concord', 2), ('Galatians VI, 10', 2), ('Christmas sermons', 2), ('Charles II, 1660-1685', 2), ('Ecclesiastes XII, 1', 2), ('Coronation sermons', 2), ('1660-1688', 2), ('Jamaica', 2), ('Customs and practices', 2), ('Judgment', 2), ('Timothy, 2nd, IV, 7-8', 2), ('Warwick, Mary Rich,', 2), ('Countess of, 1625-1678', 2), ('Heresy', 2), ('Corinthians, 1st, X, 31', 2), ('Apologetics', 2), ('Acts XX, 35', 2), ('Timothy, 1st, VI, 17-19', 2), ('Acts XXVIII, 22', 2), ('Micah VI, 9', 2), ('Job XXX, 23', 2), ('Matthew VII, 12', 2), ('Baxter, Richard, 1615-1691', 2), ('Mourning customs', 2), ('John XIII, 34', 2), ('Corinthians, 2nd, I, 9-10', 2), ('Young men', 2), ('Bolton, Samuel, 1606-1654', 2), ('Peter, 2nd, I, 10', 2), ('Corinthians, 1st, XIII, 3', 2), ('Horneck, Anthony, 1641-1697', 2), ('Sermon on the mount', 2), ('Matthew V', 2), ('Matthew V, 16', 2), ('Hebrews XIII, 7', 2), ('Easter', 2), ('Isaiah LV, 6', 2), ('Matthew V, 20', 2), ('Job XXXI, 19', 2), ('Piety', 2), ('Hebrews II, 3', 2), ('Confirmation sermons', 2), ('Epistles of John, 1st, V, 4', 2), ('Psalms LXXXIX, 48', 2), ('Kings, 1st, XVII, 15', 2), ('Romans V, 1', 2), ('Presbyterianism', 2), ('Slavery and the church', 2), ('Slavery', 2), ('Socinianism', 2), ('Matthew III, 12', 2), ('Close and open communion', 2), ('Self-denial', 2), ('Wrath', 2), ('Commonwealth and Protectorate, 1649-1660', 2), ('Maynard of Estaines ad Turrim, Margaret Maynard,', 2), ('Baroness, d. 1682', 2), ('Transubstantiation', 2), ('Persecution', 2), ('Mark IX, 50', 2), ('Spottiswood, John, 1565-1639', 1), ('Psalms XIX', 1), ('Drew, John, d. 1614', 1), ('Peter, 1st, I, 17', 1), ('Luke XIII, 7', 1), ('Wives', 1), ('Psalms XIII, 1', 1), ('Hebrews XI, 7', 1), ('Romans', 1), ('t17th century', 1), ('Senhouse, Richard, d. 1626', 1), ('East India Company', 1), ('Ambon (Indonesia)', 1), ('Massacre, 1624', 1), ('Creswell, Barnabas, d. 1625', 1), ('Gouge, Elizabeth, d. 1625', 1), ('Juxon, John, d. 1626', 1), ('Sunday', 1), ('Public worship', 1), ('Numbers XI, 12', 1), ('Genesis XXXVIII, 26', 1), ('Genesis IX, 13', 1), ('Revelation XX, 12-15', 1), ('Song of Solomon I, 6-7', 1), ('Pirates', 1), ('Sin, Mortal', 1), ('Knowledge, Theory of (Religion)', 1), ('Acts', 1), ('Shipwrecks', 1), ('Food supply', 1), ('Forbes, Patrick, 1564-1635', 1), ('Posture in worship', 1), (\"St. Paul's Cathedral (London, England)\", 1), ('Buildings', 1), ('Conservation and restoration', 1), ('Luke XIV, 13-14', 1), ('Sermons, Spanish', 1), ('Kings and rulers', 1), ('Duties', 1), ('Sick', 1), ('Prayer-books and devotions', 1), ('Romans XII-XVI', 1), ('Knowableness', 1), ('Schism', 1), ('Amos I', 1), ('Luke XXI, 34', 1), ('Women', 1), ('Upton, Arthur', 1), ('Cross, Sign of the', 1), ('Lewkenor, Edward,', 1), ('Sir, d. 1605', 1), ('Lewkenor, Susan,', 1), ('Wedding sermons', 1), ('Machell, Elizabeth, d. 1639', 1), ('Corinthians, 1st, II, 28', 1), ('Song of Solomon IV-VI', 1), ('Corinthians, 1st, XI', 1), ('Sherwill, Thomas, d. 1631', 1), ('Nicols, Matthias, d. 1631', 1), ('Genesis XIX, 18-20', 1), ('Taylor, Peter, d. 1638 or 9', 1), ('Thessalonians, 1st, I, 19', 1), ('Jeremiah XV, 16', 1), ('Samuel, 2nd, XXIV, 10', 1), ('Clifton, Frances,', 1), ('Lady, 1593 or 4-1627', 1), ('Psalms CXXVI', 1), ('Amos III', 1), ('Robartes of Truro, Frances Robartes,', 1), ('Baroness, d. 1626', 1), ('Hosea II, 19', 1), ('Ecclesiastes VIII, 2', 1), ('Sermon on the Mount', 1), ('Etherington, John, fl. 1641-1645', 1), ('Matthew VII, 15', 1), ('Taxation', 1), ('Leigh, Thomas, d. 1602', 1), ('Featley, Joyce, d. 1637', 1), ('Crew, Thomas,', 1), ('Sir, 1565-1634', 1), ('Zachariah', 1), ('1 Timothy VI, 17-19', 1), ('John V, 7-13', 1), ('Hebrews XII, 16-17', 1), ('Romans VI, 1-14', 1), ('David,', 1), ('King of Israel', 1), ('Luke XVI, 1-2', 1), ('Papacy', 1), ('Description and travel', 1), ('Song of Solomon V, 2', 1), ('Obadiah', 1), ('Dorcas', 1), ('(Biblical figure),', 1), ('Elizabeth', 1), ('Queen of England, 1533-1603', 1), ('Genesis XLIX', 1), ('Romans XI, 2-8', 1), ('Brettargh, Katharine, 1579-1601', 1), ('Matthew VI, 1-4', 1), ('Proverbs VI, 12-15', 1), ('Matthew XVIII', 1), ('John I', 1), ('Sommaster, Henry, d. 1606', 1), ('Jonah I, 4-7', 1), ('Higgons, Theophilus, 1578?-1659', 1), ('Mark IX, 22-23', 1), ('Psalms II', 1), ('Psalms XXIII', 1), ('Clothing trade', 1), ('Suffolk, England', 1), ('Proverbs', 1), ('Joel', 1), ('Discontent', 1), ('Earl of, 1566-1601', 1), ('Psalms CX', 1), ('Commentaries x', 1), ('Ezekiel XLVIII, 35', 1), ('Brownists', 1), ('Evangelium regni', 1), ('Exhortatio', 1), ('Reformed Churches', 1), ('Love (Theology)', 1), ('Thessalonians, 2nd', 1), ('Puritans', 1), ('Crosse, Mary, d. 1628', 1), ('Mary,', 1), ('Blessed Virgin, Saint', 1), ('Needes,', 1), ('Mrs', 1), ('(Arthur), d. 1618', 1), ('17thcentury', 1), ('Juxon, Elizabeth, d. 1619', 1), ('Matthew VI, 33', 1), ('Crisp, Rebekka', 1), ('Rous, Philippa,', 1), ('Lady, d. 1620', 1), ('Ecclesiastes VII, 2', 1), ('Luke XXI, 25-33', 1), ('Deuteronomy', 1), ('Song of Solomon, I-III', 1), ('Leech, Humphrey, 1571-1629', 1), ('Triumph of truth', 1), ('Evangelical counsels', 1), ('Virginia', 1), ('Colonization', 1), ('Interest', 1), ('Psalms CXXXIII', 1), ('Psalms CI', 1), ('Suretyship and guaranty', 1), ('Bedford, Francis Russell,', 1), ('Earl of, 1526 or 7-1585', 1), ('Melchizedek,', 1), ('King of Salem', 1), ('Abraham', 1), ('(Biblical patriarch)', 1), ('Courtney, Elizabeth,', 1), ('Romans XII, 19', 1), ('Amos V, 15', 1), ('Reformed church', 1), ('France', 1), ('Suffering', 1), ('Reformed churches', 1), ('Essex, Walter Devereux,', 1), ('Earl of, 1541-1576', 1), ('Samuel, 1st, VII, 12', 1), ('Adams, Thomas,', 1), ('Sir, 1586-1668', 1), ('Psalms CV, 45', 1), ('Amos III, 3', 1), ('Philippians IV, 12', 1), ('Matthew XII, 25', 1), ('Sects', 1), ('Psalms XLIX, 20', 1), ('Isaiah XLIII, 14', 1), ('Strode, William, 1598 or 9-1645', 1), ('Genesis VI, 13', 1), ('Romans I, 18', 1), ('Psalms I, 3', 1), ('Acts X, 31', 1), ('Philippians II, 20-21', 1), ('Psalms CII, 17', 1), ('Timothy, 1st VI, 12', 1), ('Shute, Josias, 1588-1643', 1), ('Exodus VIII', 1), ('Timothy, 2nd IV, 7-8', 1), ('Judgment of God', 1), ('Psalms LXXIV, 20', 1), ('Jeremiah XXIX, 11', 1), ('Hope', 1), ('Timothy, 1st VI, 17-19', 1), ('Corinthians, 1st XV, 19', 1), ('Revelation II-III', 1), ('Proverbs XXI, 15', 1), ('Ashurst, Henry, 1614?-1680', 1), ('Romans VI, 3,4', 1), ('Williams, John, d. 1680', 1), ('Glanvill, Joseph, 1636-1680', 1), ('Jeremiah V, 25-26', 1), ('Tonge, Ezerel, 1621-1680', 1), ('Timothy, 2nd, II, 7-8', 1), ('Hiett, William, d. 1681', 1), ('Orrery, Roger Boyle,', 1), ('Earl of, 1621-1679', 1), ('Psalms CXIX', 1), ('Matthew XXV, 40', 1), ('Galatians VI, 9', 1), ('Acts XXIV, 25', 1), ('Revelation XIX, 10', 1), ('Psalms CXII, 5', 1), ('Nehemiah VIII, 10', 1), ('Apostasy', 1), ('Offenses against religion', 1), ('Luke XIV, 16-24', 1), ('Fordwich, Mabella Finch,', 1), ('Lady, d. 1669', 1), ('Daniel XII, 2-3', 1), ('Fire, 1666', 1), ('Philippians III, 8', 1), ('Ad librum Hugonis Grotii quem de satisfactione Christi', 1), ('Ezekiel XXXIII, 11', 1), ('Peter, 1st, III, 8', 1), ('Allestree, Richard, 1619-1681', 1), ('Marie-Thérèse,', 1), ('Queen, consort of Louis XIV, King of France, 1638-1683', 1), ('Delamer, George Booth,', 1), ('Baron, 1622-1684', 1), ('Mitchel, Nathanael, 1618 or 19-1684?', 1), ('Angels', 1), ('Denison, Daniel, 1613-1682', 1), ('Digby of Geashill, Francis Noel Digby,', 1), ('Baroness, 1660 or 61-1684', 1), ('Lightfoot, John, 1602-1675', 1), ('Galatians V, 25', 1), ('Matthew XXV', 1), ('Romans VI', 1), ('Corinthians, 2nd, V', 1), ('Quietude', 1), ('Ecclesiastes II, 6', 1), ('Galatians VI, 2', 1), ('Cooke, Edward, d. 1684', 1), ('Luke XV, 11-32', 1), ('Hebrews X, 38', 1), ('Proverbs I-X', 1), ('Samuel, 2nd, XV, 3-4', 1), ('Religion and justice', 1), ('Assize sermons', 1), ('Baker, Elizabeth, 1634-1659', 1), ('Timothy, 1st, III, 14-15', 1), ('1603-1714', 1), ('Jeremiah VIII, 2', 1), ('Puritan Revolution, 1642-1660', 1), ('Ussher, James, 1581-1656', 1), ('Capel of Hadham, Elizabeth Capel,', 1), ('Lady,', 1), ('1610-1660', 1), ('Cope, John, d. 1660', 1), ('II Samuel', 1), ('II Kings', 1), ('Restorations, Political', 1), ('Epistles of John, 1st, I', 1), ('John III, 4', 1), ('Sermons, French', 1), ('Walmisley, Martha, d. 1668', 1), ('Romans VII, 25', 1), ('Proverbs XVII, 17', 1), ('Jude I, 12', 1), ('Philippians IV, 4', 1), ('Festival-day sermons', 1), ('Timothy, 1st, IV, 7, 8', 1), ('Trust in God', 1), ('Titus II, 10', 1), ('Peter, 1st, III, 15', 1), ('Messiah', 1), ('Proverbs XXIX, 2', 1), ('Newcome, Henry, 1627-1695', 1), ('Isaiah XXXVIII, 19', 1), ('Proverbs III, 6', 1), ('Warren, John,', 1), ('minister of Hatfield Broad Oak, Essex', 1), ('Colossians III, 15', 1), ('Jeremiah XXIII, 6', 1), ('Hebrews IV, 16', 1), ('Epistles of Paul', 1), ('Ephesians I, 13', 1), ('Holy Spirit', 1), ('Isaiah XXXVIII, 1', 1), ('Peter, 1st, IV, 8', 1), ('Corinthians, 1st, IX, 26', 1), ('Janeway, James, 1636?-1674', 1), ('Connecticut', 1), ('Numbers XI, 16-17', 1), ('Job XIV, 14', 1), ('Ecclesiastes XII, 9', 1), ('Wilson, Rowland, 1613-1650', 1), ('Isaiah IX, 6', 1), ('Genesis I-IV', 1), ('Law (Theology)', 1), ('John I, 14', 1), ('Confession', 1), ('Isaiah IX, 5', 1), ('Exodus XX, 14', 1), ('Acts XXI, 39', 1), ('Acts X, 3-4', 1), ('Matthew XI, 28', 1), ('Bright, Edward,', 1), ('d. 1656', 1), ('Joshua I, 2', 1), ('Butler, Nathaniel, d. 1657', 1), ('Knight, John, d. 1657', 1), ('Dorchester (Maryland)', 1), ('Ten commandments', 1), ('Revelation II, 2-3', 1), ('Hebrews XII, 14', 1), ('Zechariah VIII, 16', 1), ('Ephesians IV, 23', 1), ('Vincent, Francis, d. 1640', 1), ('Jervoice, Lucy,', 1), ('Lady, d. 1641', 1), ('Judges XX, 26-28', 1), ('John,', 1), ('the Baptist, Saint', 1), ('Luke XXII, 31-32', 1), ('Nehemiah V, 19', 1), ('Psalms CXXII, 6', 1), ('Psalms CXIII, 5-6', 1), ('Crompton, William, 1599?-1642', 1), ('Psalms XVI, 10', 1), ('Luke XVIII, 6-8', 1), ('Psalms II, 6', 1), ('Proverbs XX, 25', 1), ('Coleman, Thomas, 1598-1647', 1), ('Malachi III, 2', 1), ('Earl of, 1591-1646', 1), ('Genesis XVIII, 19', 1), ('Oxford (England)', 1), ('Siege, 1645', 1), ('Luke X, 20', 1), ('Isaiah LII, 11', 1), ('Isaiah LIII, 10', 1), ('Philippians III, 21', 1), ('Acts XVI, 9', 1), ('Corinthians, 2nd V, 10', 1), ('Deuteronomy XVI, 20', 1), ('Numbers XXIII, 23', 1), ('Scott, ELizabeth, d. 1658', 1), ('Pentateuch', 1), ('Versions', 1), ('Luke X, 42', 1), ('Hosea IX, 12', 1), ('Luke XVI, 9', 1), ('Mulgrave, Edmund Sheffield,', 1), ('Earl of, d. 1658', 1), ('Goodwin, Thomas, d. 1658', 1), ('Funeral Sermons, English', 1), ('Habakkuk III, 2', 1), ('Revelation III, 11', 1), ('Acts VII, 8', 1), ('Drury, John, d. 1659', 1), ('John XIX, 27', 1), ('Sower (Parable)', 1), ('Thomason, Elizabeth, d. 1659', 1), ('John XX, 11-12', 1), ('Stock, Jacob, d. 1658', 1), ('Christophilus, Richard', 1), ('Manton, Thomas, 1620-1677', 1), ('Converts', 1), ('Christian converts from Islam', 1), ('Ezra IX, 9', 1), ('Sampson, Esther, d. 1689', 1), ('Lorimer, Gilbert', 1), ('Corinthians, 1st VI, 13', 1), ('Moderation', 1), (\"King William's War, 1689-1697\", 1), ('Stone, Hugh, d. 1689', 1), ('Execution sermons', 1), ('Psalms, II, 10', 1), ('Newland,', 1), ('Lady, d. 1690', 1), ('Hebrews XIII, 4', 1), ('Lethieullier, Christopher,', 1), ('Sir, d. 1690', 1), ('Thessalonians, 1st, IV, 11', 1), ('Romans XIII, 2', 1), ('John V, 14', 1), ('Obedience', 1), ('Typology (Theology)', 1), ('Acts II, 42', 1), ('Proverbs XXIV, 21', 1), ('Deuteronomy XXXIII, 18-19', 1), ('Isaiah LIII', 1), ('Matthew XV, 21-24', 1), ('Hebrews VI, 19', 1), ('Purefoy, George, d. 1661', 1), ('Revelation III, 9', 1), ('Matthew XIX, 27', 1), ('Reynardson, Abraham,', 1), ('Sir, 1590-1661', 1), ('Proverbs XI, 18', 1), ('Hymns', 1), ('Rolle, Robert', 1), ('John XI, 25', 1), ('Psalms LXXII, 4', 1), ('Whittaker, William, 1629-1672', 1), ('Isaiah XI, 1-10', 1), ('Timothy, 2nd, III, 6', 1), ('House churches', 1), ('Ethics', 1), ('Immortality', 1), ('Governors', 1), ('Thessalonians, 2nd, III, 2', 1), ('Palm Sunday', 1), ('Essence, genius, nature', 1), ('Heaven', 1), ('Romans XIII, 5', 1), ('Tappin, John, 1652 or 3-1672', 1), ('Wilson, Mary, 1652-1672', 1), ('Corinthians, 1st, II, 16', 1), ('Numbers XVI, 15', 1), ('Acts XV, 36', 1), ('Wells, John, 1623-1676', 1), ('Corinthians, 1st, VII, 29', 1), ('Matthew XXII, 21', 1), ('Hutchinson, Edward, 1613-1675', 1), (\"King Philip's War, 1675-1676\", 1), ('Brookfield (Mass.)', 1), ('Sailors', 1), ('Self-acceptance', 1), ('Psalms CI, 1', 1), ('Luke XIII, 5', 1), ('Stubbes, Henry, 1606?-1678', 1), ('Daniel III, 25', 1), ('Ecclesiastes IX, 10', 1), ('La Motte, John, 1570?-1655', 1), ('Old age', 1), ('Hebrews V, 12', 1), ('Psalms XXXVII, 13', 1), ('Joshua XXIV, 15', 1), ('Family', 1), ('Revelation XXII, 16-17', 1), ('Mickle-thwait, Anne, d. 1658', 1), ('John', 1), ('Morley, Mary, 1626-1656', 1), ('Acts IX, 31', 1), ('Timothy 2nd, I, 13', 1), ('Genesis XLVII, 29', 1), ('Romans I, 32', 1), ('Peter, 1st IV, 8', 1), ('Corinthians, 2nd XI, 14', 1), ('Shalford (Essex, England)', 1), ('Acts XIII, 2-3', 1), ('Ordination', 1), ('Vines, Richard, 1600?-1656', 1), ('Psalms CXXXVI, 23', 1), ('Hodges, Thomas, d. 1656', 1), ('Timothy, 2nd IV, 8', 1), ('Forbes, Mary, d. 1656', 1), ('Leigh, Ferdinando, d. 1655', 1), ('Revelation XII, 1-2', 1), ('Isaiah XXII, 23', 1), ('Ezekiel X, 13', 1), ('Whitmore, George,', 1), ('Sir, d. 1654', 1), ('Revelation III, 18', 1), ('Theology, Practical', 1), ('Hosea IX, 1', 1), ('Samuel, 1st XII, 24', 1), ('Revelations XI, 15', 1), ('Isaiah II, 6', 1), ('Hebrews IV, 13', 1), ('Acts XVII, 30-31', 1), ('Samuel, 2nd, XXIV, 14', 1), ('Peter, 2nd, II, 1', 1), ('Ecclesiastes VIII, 11', 1), ('Vice', 1), ('Ephesians II, 1-3', 1), ('Psalms LXXIII, 1', 1), ('Luke X, 37', 1), ('Corinthians, 2nd, V, 14-15', 1), ('Guilford, Elizabeth Greville North,', 1), ('Baroness, 1669-1699', 1), ('Sabbatarians', 1), ('King, Philip, d. 1699', 1), ('Job XIX, 25', 1), ('18th century', 1), ('Proverbs XXVIII, 4', 1), ('Song of Solomon II, 3', 1), ('Hebrews VII, 23', 1), ('Luke XIX, 41-42', 1), ('Isaiah I, 3', 1), ('Hurst, Henry, 1629-1690', 1), ('Corinthians, 2nd, V, 1', 1), ('Meekness', 1), ('Chronicles, 2nd, XXXIV, 32', 1), ('Titus II, 6', 1), ('Titus II, 2', 1), ('Matthew X, 42', 1), ('Manners and customs', 1), ('Southesk, Charles Carnegie,', 1), ('Earl of, 1661-1699', 1), ('Isaiah XXXVIII, 2-3', 1), ('Psalms LXXIII, 26', 1), ('Romans VIII, 7', 1), ('Timothy, 1st, I, 15', 1), ('Sin, Original', 1), ('Corinthians, 1st, IV, 21', 1), ('Advent sermons', 1), ('Lamb, Thomas, d. 1686', 1), ('John XVII, 4-5', 1), ('Calamy, Benjamin, 1642-1686', 1), ('Nehemiah IX, 38', 1), ('Matthew III, 8-9', 1), ('Peter, 1st, V, 10', 1), ('Reynolds, Edward, 1599-1676', 1), ('Fowler, Christopher, 1610?-1678', 1), ('Wales', 1), ('Romans XII, 1', 1), ('Psalms VII, 15', 1), ('Hinton, Anthony, d. 1678', 1), ('Timothy, 1st, II, 1-2', 1), ('Psalms CXIX, 57', 1), ('Thessalonians, 2nd, II', 1), ('Soldiers', 1), ('Peter,', 1), ('the Apostle, Saint', 1), ('Baker, George, d. 1679', 1), ('Samuel, 2nd, XIV, 12', 1), ('Church of Ireland', 1), ('Peter, 1st,', 1), ('II, 17', 1), ('Church and state in Great Britain', 1), ('Baker, William, d. 1691', 1), ('Laments', 1), ('Corinthians, 1st, VI, 14', 1), ('Toleration', 1), ('Micah VI, 8', 1), ('Revelation XX, 12', 1), ('Rosewell, Thomas, 1630-1692', 1), ('Job XXXIII, 23-24', 1), ('Faireclough, Samuel, 1625?-1691', 1), ('John II, 11', 1), ('Luke VI, 35', 1), ('Westminster Assembly (1643-1652)', 1), ('Shorter catechism', 1), ('Rebellion of 1641', 1), ('Walker, Anthony, d. 1692', 1), ('Symonds, John, d. 1693?', 1), ('Corinthians, 1st, IX, 17', 1), ('Young women', 1), ('Doolittle, Mary, d. 1692', 1), ('Corinthians, 2nd, V, 4', 1), ('Matthew VI, 34', 1), ('Anger', 1), ('Peter 2nd. I, 12', 1), ('Devotional literature, English', 1), ('Ashurst, Benjamin, d. 1687', 1), ('Revelation XXII, 12', 1), ('Morgan, James, d. 1686', 1), ('Capital punishment', 1), ('Peter, 1st, III, 13', 1), ('Self-interest', 1), ('Poetry', 1), ('Philippians III, 20-21', 1), ('Baccalaureate addresses', 1), ('Ephesians III, 19', 1), ('Psalms CVI, 19-25', 1), ('Corinthians, 2nd, VI, 8', 1), ('Malachi I, 14', 1), ('Perne, Andrew, 1594-1654', 1), ('Yorkshire', 1), ('Taylor, Daniel, ca. 1614-1655', 1), ('James II, 13', 1), ('Religion', 1), ('Arminianism', 1), ('Peter, 1st, III, 19', 1), ('Purgatory', 1), ('Matthew VII, 21', 1), ('Brookes, Elizabeth, d. 1697', 1), ('Calvinism', 1), ('Salaries, etc', 1), ('Hartley, William, d. 1698', 1), ('Education', 1), ('Baptists', 1), ('Bailey, John, 1644-1697', 1), ('Cruso, Timothy, 1656?-1697', 1), ('Fisher, Elizabeth, d. 1698', 1), ('Cutts, Elizabeth Pickering Cutts,', 1), ('Baroness, 1678 or 9-1697', 1), ('Payne, William, 1650-1696', 1), ('Psalms XVIII, 23', 1), ('Proverbs, XXIII, 5', 1), ('Charities', 1), ('John IX, 39', 1), ('Romans VIII, 38-39', 1), ('Acts VI, 4', 1), ('Philippians IV, 11-12', 1), ('Philippians, IV, 11', 1), ('Psalms CLXIII, 8', 1), ('Kingdom', 1), ('Ten virgins (Parable)', 1), ('Galatians IV, 8', 1), ('Maxwell, William, d. 1696', 1), ('Indian captivities', 1), ('Corinthians, 2nd, VIII, 12', 1), ('Oldfield, Nathaniel, 1664?-1696', 1), ('Luke XVI, 19-31', 1), ('Rich man and Lazarus (Parable)', 1), ('Corinthians, 1st, XIII, 13', 1), ('Wharton, Henry, 1664-1695', 1), ('Annesley, Samuel, 1620?-1696', 1), ('Ezekiel XVI, 49', 1), ('Chronicles, 1st, XXIX, 18', 1), ('Hardy, Nathaniel, 1618-1670', 1), ('Luke VI, 48', 1), ('Matthew XI, 12', 1), ('Samuel, 2nd XXIII, 3', 1), ('Kings, 2nd, XVIII, 4', 1), ('Matthew XIV, 22-28', 1), ('Haggai I, 7-8', 1), ('Psalms XCIX, 8', 1), ('Proverbs XXIX, 8', 1), ('Psalms LXVIII, 1-2', 1), ('Nehemiah I, 3-4', 1), ('Psalms XLVI, 1', 1), ('Wollaston, John,', 1), ('Sir', 1), ('Jeremiah VI, 16-19', 1), ('Chronicles, 1st, XII, 38-40', 1), ('Kings, 1st, III, 9', 1), ('Ezra IX-X', 1), ('Chronicles, 1st, XXI, 24', 1), ('Revelation XVI, 15', 1), ('Psalms XXXI, 24', 1), ('Comber, Thomas, 1575-1654', 1), ('Ruth', 1), ('Nichols, Charles,', 1), ('of Kent', 1), ('Matthew VI, 20-21', 1), ('Gataker, Thomas, 1574-1654', 1), ('Proverbs XVI, 31', 1), ('Corinthians, 1st VI, 19-20', 1), ('Psalms II, 10-12', 1), ('Oliver, Samuel, b. 1599 or 1600', 1), ('Crook, Samuel, 1575-1649', 1), ('Gouge, William, 1578-1653', 1), ('Job V, 26', 1), ('Whitwell, Edmund', 1), ('Romans VI, 23', 1), ('Psalms LXXXII, 2', 1), ('Corinthians, 1st XV, 55', 1), ('Tirwhytt, Anne, d. 1652', 1), ('Anderson, Sybilla, d. 1661', 1), ('Knott, Edward, 1582-1656', 1), ('Mercy and truth', 1), ('Protestantism', 1), ('Corinthians, 1st, XV, 57', 1), ('Isaiah LX, 13', 1), ('Harcourt, Ann,', 1), ('Lady, d. 1664', 1), ('Exodus XVIII, 21', 1), ('Job XXVIII, 28', 1), ('Psalms XCIII, 5', 1), ('Royalists', 1), ('Luke VII, 12-13', 1), ('Job XXIX, 14-17', 1), ('Matthew V, 8', 1), ('Hosea IX, 7', 1), ('Psalms LXXXII, 6', 1), ('Corinthians, 2nd, XIII, 11', 1), ('Zechariah II, 7', 1), ('Kings, 1st, XVIII, 21', 1), ('Revelation IV, 8', 1), ('Promises', 1), ('Good and evil', 1), ('Matthew XI, 19', 1), ('Isaiah XXXVIII, 17-19', 1), ('Hebrews XIII, 20-21', 1), ('John, 1st, III, 23', 1), ('Whitefoot, Barbara, d. 1667', 1), ('Genesis XVIII, 25', 1), ('Job XXIX, 15', 1), ('Peter, 1st, II, 7', 1), ('Corker, John, d. 1693', 1), ('Isaiah XLIII, 2', 1), ('Denton, Jonathan', 1), ('Job X, 7', 1), ('Scott, John, 1639-1695', 1), ('Corinthians, 1st, III, 5', 1), ('Luke XII, 21', 1), ('Thessalonians, 1st, IV, 10', 1), ('Atrium, Rose,', 1), ('Marchioness of, d. 1695', 1), ('Acts, VIIII, 36-37', 1), ('Romans IV, 5', 1), ('Collinges, John, 1623-1690', 1), ('Hodgson, Margaret, d. 1694', 1), ('Isaiah I, 26-27', 1), ('Gifts, Spiritual', 1), ('Revelation III, 20', 1), ('Leviticus XIX, 17', 1), ('Luke XXII, 19', 1), ('Romans XII, 5', 1), ('Isaiah XI, 6', 1), ('Matthew VI, 26', 1), ('1689-1714', 1), ('Corinthians, 2nd, V, 11', 1), ('Psalms CXXVI, 3', 1), ('Patience', 1), ('Gunning, Peter, 1614-1684', 1), ('Galatians III, 21-22', 1), ('Acts XI, 24', 1), ('Jeremiah II, 34', 1), ('Psalms XXXVII, 5', 1), ('Divinity', 1), ('Transfiguration', 1), ('Isaiah LVII', 1), ('Communion sermons', 1), ('John, 1st, IV, 16', 1), ('Ephesians II, 8', 1), ('Deuteronomy VIII, 16', 1), ('Nahum I, 7', 1), ('John XII, 35', 1), ('Cartwright, Christopher, 1602-1658', 1), ('Harley, Robert,', 1), ('Sir, 1579-1656', 1), ('Barrington, Judith', 1), ('Corinthians, 1st, IV, 18', 1), ('Psalms CXXII, 8-9', 1), ('Timothy, 2nd, I, 13', 1), ('Dalston, George,', 1), ('Sir, d. 1657', 1), ('Harvey, Elisabeth', 1), ('Dethick, John, d. 1657', 1), ('Cromwell, Oliver, 1599-1658', 1), ('Ordination sermons', 1), ('Sommerton', 1), ('Courts', 1), ('Officials and employees', 1), ('Example', 1), ('Mark VIII, 37', 1), ('Psalms CXXX', 1), ('Matthew XXII, 1-14', 1), ('Hymns, English', 1), ('Texts', 1), ('John, 1st V, 12', 1), ('Youth sermons', 1), ('Proverbs XIV, 34', 1), ('Virtue', 1), ('Luke XII, 15', 1), ('Hosea XI, 12', 1), ('Song of Solomon III, 2', 1), ('Ferne, H', 1), ('(Henry), 1602-1662', 1), ('Resolving of conscience', 1), ('Samuel, 2nd, XIX, 30', 1), ('Archer, John', 1), ('Roundheads', 1), ('Hebrews XI, 30', 1), ('Psalms LII, 1', 1), ('Church renewal', 1), ('Jeremiah XLVII, 6-7', 1), ('Liturgy', 1), ('Luke XI, 2', 1), ('Hebrews XII, 1', 1), ('Solemn League and Covenant (1643)', 1), ('Leviticus XXVI, 25', 1), ('Jeremiah L, 5', 1), ('Jeremiah IV, 21-22', 1), ('Revelation XV, 2-4', 1), ('Bishops', 1), ('Romans I, 14', 1), ('Jeremiah VIII, 22', 1), ('Matthew IV', 1), ('Man (Christian theology)', 1), ('Matthew XXII', 1), ('Matthew XVI, 24', 1), ('Walcot, Humphrey, 1586-1650', 1), ('John XII, 8', 1), ('Apologetic works', 1), ('Infant baptism', 1), ('Bond, Samson', 1), ('Righteousness', 1), ('Revelation XXI, 2', 1), ('Astrology', 1), ('Gurnall, William, 1617-1679', 1), ('Croke, Francis, d. 1672', 1), ('Croke, Alexander, d. 1672', 1), ('Hickeringill, Edmund, 1631-1708', 1), ('Curse ye Meroz', 1), ('Ecclesiastes III, 10', 1), ('Philippians III, 16', 1), ('Relations', 1), ('Congregational authors', 1), ('Byam, Henry, 1580-1669', 1), ('Christian ethics', 1), ('Hacket, John, 1592-1670', 1), ('Compton, Henry, 1632-1713', 1), ('Saints', 1), ('Liberty of conscience', 1), ('Psalms CXLVIII, 14', 1), ('Lucy, Alice,', 1), ('Lady, d. 1648', 1), ('Genesis XVI', 1), ('Religious tolerance', 1), ('Haggai', 1), ('Lordel, James, d. 1694', 1), ('Kings, 2nd, IV, 38', 1), ('Battell, Ralph, 1649-1713', 1), ('Vulgar errors in divinity removed', 1), ('Ephesians I, 5', 1), ('Heriot, George, 1563-1624', 1), ('Grand Alliance, War of the, 1689-1697', 1), ('William and Mary, 1689-1702', 1), ('Ladson, William', 1), ('Lamentations V, 16', 1), ('Warrington, Henry Booth,', 1), ('Earl of, 1652-1694', 1), ('Matthew XXV, 46', 1), ('Proverbs XIV, 9', 1), ('Revelation XXII, 14', 1), ('Acts II, 24', 1), ('Rainbowe, Edward, 1608-1684', 1), ('Corinthians, 1st, II, 9', 1), ('Legh, Richard, d. 1687', 1), ('Corinthians, 1st, XI, 23-28', 1), ('Thessalonians, 1st, IV, 17', 1), ('Luke X, 21', 1), ('Philippians I, 21', 1), ('John VIII, 46', 1), ('Catholic authors', 1), ('Kingdom of God', 1), ('Cottle, Mark, d. 1681 or 2', 1), ('John I, 47', 1), ('Acts VIII, 1', 1), ('Sheppey, Thomas', 1), ('Several weighty considerations', 1), ('Thessalonians, 1st, IV, 10-11', 1), ('Temperance', 1), ('Alcoholics', 1), ('Gouge, Thomas, 1605-1681', 1), ('Luke XX, 37-38', 1), ('Hebrews XIII, 13', 1), ('Christian union', 1), ('Jude I, 8', 1), ('Procrastination', 1), ('Last words', 1), ('Brereton, William,', 1), ('Sir, 1604-1661', 1), ('Genesis XLVIII', 1), ('Colossians IV, 12-13', 1), ('Mayors', 1), ('Election', 1), ('Dering, Elizabeth, d. 1640', 1), ('Psalms CXXIV, 6-8', 1), ('Education, Higher', 1), ('Free will and determinism', 1), ('Law and gospel', 1), ('Vincent, Humfrey', 1), (\"Cobler's end\", 1), ('Coblers sermon', 1), ('Isaiah XXX, 33', 1), ('Executions and executioners', 1), ('Job II, 13', 1), ('Charles I, 1625-1649', 1), ('Chronicles, 1st, XXVIII, 10', 1), ('Isaiah IX, 15', 1), ('Matthew XIX, 24', 1), ('Wealth', 1), ('Matthew VII, 14', 1), ('Duppa, Brian, 1588-1662', 1), ('Henchman, Humphrey, 1592-1675', 1), ('Acts VIII, 17', 1), ('Confirmation', 1), ('Langham, Mary,', 1), ('Lady, d. 1660', 1), ('Isaiah XXVI, 18-19', 1), ('Corinthians, 2nd, IV, 5', 1), ('Jackson, Joseph, d. 1661', 1), ('Taylor, William, 1616-1661', 1), ('Revelation I, 10', 1), ('Psalms XIV, 7', 1), ('Lamentations IIII, 20', 1), ('Isaiah I, 26', 1), ('Malachi III, 16-18', 1), ('Ashe, Simeon, d. 1662', 1), ('Carter, John, 1554-1635', 1), ('Revelation V, 5', 1), ('Regeneration (Theology)', 1), ('Judgement of God', 1), ('Matthew XXVI, 29', 1), ('Predestination', 1), ('Psalms CXVI, 9', 1), ('Ascension', 1), ('Poor', 1), ('Agriculture', 1), ('Weald of Kent', 1), ('Hebrews VI, 12', 1), ('Pelagianism', 1), ('Philippians IV, 5', 1), ('Epidemics', 1), ('Church year sermons', 1), ('Norton, Anne, d. 1671', 1), ('Romans VIII, 2', 1), ('Timothy, 1st, VI, 3-5', 1), ('Matthew VI, 19-21', 1), ('Hell', 1), ('Future punishment', 1), ('Ezekiel XVIII, 31-32', 1), ('Brotherliness', 1), ('Ephesians IV, 15', 1), ('Timothy, 2nd, II, 1', 1), ('Langdale, Marmaduke Langdale,', 1), ('Baron, 1598?-1661', 1), ('Courage', 1), ('Tudors, 1485-1603', 1), ('Early Stuarts, 1603-1649', 1), ('Levellers', 1), ('Justification (Christian theology)', 1), ('John, 1st, V', 1), ('England and Wales', 1), ('Army', 1)]\n"
     ]
    }
   ],
   "source": [
    "tcpIDs = []\n",
    "for date, dictionary in results.items(): \n",
    "    tcpIDs.extend(dictionary.keys())\n",
    "subjects = []\n",
    "exclude = ['Sermons, English','17th century','Sermons','Bible','Early works to 1800','16th century']\n",
    "for tcpID in tcpIDs: \n",
    "    for s in all_subjects[tcpID]: \n",
    "        if s not in exclude: \n",
    "            subjects.append(s)\n",
    "print(Counter(subjects).most_common())"
   ]
  },
  {
   "cell_type": "code",
   "execution_count": 323,
   "metadata": {},
   "outputs": [
    {
     "name": "stdout",
     "output_type": "stream",
     "text": [
      "[(1688, 3), (1694, 3), (1650, 2), (1682, 2), (1642, 2), (1613, 2), (1654, 2), (1692, 2), (1681, 2), (1683, 2), (1649, 1)]\n"
     ]
    }
   ],
   "source": [
    "dictionary = {}\n",
    "# for date,item in results.values(): \n",
    "#     for key, value in item.items(): \n",
    "        # dictionary[key] = len(value)\n",
    "dictionary = {k:len(v) for k,v in results.items()}\n",
    "print(sorted(dictionary.items(), key=lambda x:x[1],reverse=True)[:11])"
   ]
  },
  {
   "cell_type": "code",
   "execution_count": 336,
   "metadata": {},
   "outputs": [
    {
     "name": "stdout",
     "output_type": "stream",
     "text": [
      "1652 {'A14760': ['marginal', 'in-text', 'marginal']}\n"
     ]
    }
   ],
   "source": [
    "for k, v in results.items(): \n",
    "    if \"A14760\" in v.keys(): \n",
    "        print(k, v)"
   ]
  },
  {
   "cell_type": "code",
   "execution_count": 329,
   "metadata": {},
   "outputs": [
    {
     "name": "stdout",
     "output_type": "stream",
     "text": [
      "London An explanation of the generall Epistle of Saint Iude. Delivered in one and forty sermons, by that learned, reverend, and faithfull servant of Christ, Master Samuel Otes, parson of Sowthreps in Norfolke. Preached in the parish church of Northwalsham, in the same county, in a publike lecture. And now published for the benefit of Gods church, by Samuel Otes, his sonne, minister of the Word of God at Marsham ['Bible', 'N.T', 'Jude', 'Commentaries', 'Early works to 1800']\n",
      "London Ten sermons preached I. Ad clerum. 3. II. Ad magistratum. 3. III. Ad populum. 4. By Robert Saunderson Bachellor in Diuinitie, sometimes fellow of Lincolne Colledge in Oxford. ['Sermons, English', '17th century']\n"
     ]
    }
   ],
   "source": [
    "tcpIDs = []\n",
    "target_date = 1642\n",
    "for date, dictionary in results.items(): \n",
    "    if date == target_date:\n",
    "        tcpIDs.extend(dictionary.keys())\n",
    "subjects = []\n",
    "exclude = ['Sermons, English','17th century','Sermons','Bible','Early works to 1800','16th century']\n",
    "for tcpID in tcpIDs: \n",
    "    print(pubplace[tcpID],titles[tcpID],all_subjects[tcpID])\n",
    "#     for s in all_subjects[tcpID]: \n",
    "#         if s not in exclude: \n",
    "#             subjects.append(s)\n",
    "# print(Counter(subjects).most_common())"
   ]
  },
  {
   "cell_type": "markdown",
   "metadata": {},
   "source": [
    "## Misc"
   ]
  },
  {
   "cell_type": "code",
   "execution_count": null,
   "metadata": {},
   "outputs": [],
   "source": [
    "# for tcpID, dict in catalog.items():\n",
    "#     corrupt_verses = dict[\"all_corrupt\"] + dict[\"corrupted_v_only\"]\n",
    "#     corrupt_chapters = dict[\"corrupted_ch_only\"]\n",
    "#     total_verses = dict[\"verse\"]+corrupt_verses\n",
    "#     total_chapters = dict[\"only_chapter\"]+corrupt_chapters\n",
    "#     if total_verses > 0: \n",
    "#         v_ratio = corrupt_verses/total_verses\n",
    "#     if total_chapters > 0: \n",
    "#         c_ratio = corrupt_chapters/total_chapters\n",
    "#     catalog[tcpID]['corrupt_ch_ratio'] = c_ratio \n",
    "#     catalog[tcpID]['corrupt_v_ratio'] = v_ratio \n",
    "# sorted_catalog = sorted(catalog, key= lambda x: (catalog[x]['corrupt_ch_ratio'], \n",
    "#                                                 catalog[x]['corrupt_v_ratio']))\n",
    "# for tcpID in reversed(sorted_catalog): \n",
    "#     print(catalog[tcpID])"
   ]
  },
  {
   "cell_type": "code",
   "execution_count": 108,
   "metadata": {},
   "outputs": [
    {
     "name": "stdout",
     "output_type": "stream",
     "text": [
      "amos 8 4 5-11\n",
      "nehemiah 2 4-4 4-4 9-5 19-6 14-13 14-22-29\n",
      "nehemiah 1 8-6 14-13 14-22-29-31\n",
      "john 19 1-6-15\n",
      "acts 14 14 15-8\n",
      "revelation 7 7 8-10 11\n",
      "11 4, 5, 7 8, 20, 21, 33-34\n",
      "acts 2 24 32 3 15, 26 4 10 5 30 13-30, 33\n",
      "john 5 24 3-18\n",
      "hebrews 10 32-34 11 24-26\n",
      "onepeter onepeter 4 12-19 3 14-17\n",
      "twothessalonians 3 7 9-8\n",
      "psalms 113 5 *-7\n",
      "psalms 62 11-2-79 12\n",
      "unknownpeter 2 19 20-26\n",
      "onecorinthians onecorinthians 5 1 9-11 6 9-18 7 1\n",
      "leviticus 4 3 29 33-5 6, 7 9 11-9 22-12 6, 8-14 13-16 16\n",
      "matthew 17 10 11-11 14\n",
      "psalms 42 3-10-69 19 80 5 6-89 50, 51-123 3, 4\n",
      "onetimothy 1 4 6-2 7\n",
      "genesis 30 35-37 13 14-42 1, 2, 3-43 15-47 1, 2, 3\n",
      "john 14 1 15 11-16 33\n",
      "onesamuel 20 30 33-22 8\n",
      "psalms 25-94-55-42 143 2, 3\n",
      "psalms 62 11-12-79 12\n",
      "3 24 5, 15-17\n",
      "revelation 3 5 21-21 7-22 5\n",
      "90 5, 7, 8,-11\n",
      "ecclesiasticus 33 5 7-13\n",
      "jeremiah 9 5 2-8\n",
      "james 2 5 1-4\n",
      "twocorinthians 2 17-,\n",
      "luke 24 9 10-50 51\n",
      "2 12, 14,-19\n",
      "onecorinthians onecorinthians 51 9-11 6 9-18 7 1,\n"
     ]
    }
   ],
   "source": [
    "for item in formatting_outliers: \n",
    "    if len(item.split(\" \")) > 2: \n",
    "        print(item)"
   ]
  },
  {
   "cell_type": "code",
   "execution_count": 57,
   "metadata": {},
   "outputs": [],
   "source": [
    "# from collections import Counter\n",
    "# from difflib import SequenceMatcher\n",
    "# possible_abbrev = []\n",
    "# for o in outliers: \n",
    "#     possible_abbrev.append(o.split(\" \")[0]) \n",
    "\n",
    "# possible_abbrev = Counter(possible_abbrev).items()\n",
    "# possible_matches = {k:[] for k in abbrev}\n",
    "# for word,freq in possible_abbrev:\n",
    "#     # print(word)\n",
    "#     # finding possible matches to any of the known abbreviations for each book\n",
    "#     if word not in abbrev_to_book: \n",
    "#         for ab, book in abbrev_to_book.items():\n",
    "#             similarity = SequenceMatcher(None, ab, word).ratio()\n",
    "#             if similarity >= 0.8:\n",
    "#                 possible_matches[book].append((word,freq))\n",
    "#                 break"
   ]
  },
  {
   "cell_type": "code",
   "execution_count": 58,
   "metadata": {},
   "outputs": [],
   "source": [
    "# clean_format = []\n",
    "# for book, variants in possible_matches.items(): \n",
    "#     for v,freq in variants:\n",
    "#         clean_format.append(f\"{book}: {v} {freq}\\n\") \n",
    "#     clean_format.append(\"\\n\")\n",
    "# with open(f\"../assets/possible_variants_2.txt\",\"w+\") as file: \n",
    "#     file.writelines(clean_format)"
   ]
  },
  {
   "cell_type": "code",
   "execution_count": null,
   "metadata": {},
   "outputs": [],
   "source": [
    "# with open(f\"../assets/possible_variants_2 copy.txt\",\"r\") as file: \n",
    "#     lines = file.readlines() \n",
    "# for line in lines: \n",
    "#     line = line.split(\" \")\n",
    "#     b, ab = line[0].strip(\":\"), line[1]\n",
    "#     abbrev[b].append(ab)\n",
    "# count = 0 \n",
    "# for b,ab_list in abbrev.items(): \n",
    "#     print(f\"'{b}':\")\n",
    "#     print(\"[\")\n",
    "#     for ab in sorted(set(ab_list)): \n",
    "#         print(f\"\\t'{ab}',\")\n",
    "#     print(f\"],\")"
   ]
  }
 ],
 "metadata": {
  "kernelspec": {
   "display_name": "base",
   "language": "python",
   "name": "python3"
  },
  "language_info": {
   "codemirror_mode": {
    "name": "ipython",
    "version": 3
   },
   "file_extension": ".py",
   "mimetype": "text/x-python",
   "name": "python",
   "nbconvert_exporter": "python",
   "pygments_lexer": "ipython3",
   "version": "3.9.undefined"
  }
 },
 "nbformat": 4,
 "nbformat_minor": 2
}
