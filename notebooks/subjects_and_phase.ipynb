{
 "cells": [
  {
   "cell_type": "markdown",
   "metadata": {},
   "source": [
    "# Re-extract subject headings "
   ]
  },
  {
   "cell_type": "code",
   "execution_count": 2,
   "metadata": {},
   "outputs": [],
   "source": [
    "import sys, re, os \n",
    "from bs4 import BeautifulSoup, SoupStrainer\n",
    "from tqdm import tqdm  \n",
    "import pandas as pd \n",
    "TCP = '/Users/amycweng/DH/TCP'\n",
    "sys.path.append('../')\n",
    "\n",
    "def findTextTCP(id):\n",
    "    if re.match('B1|B4',id[0:2]):\n",
    "        path = f'{TCP}/P2{id[0:2]}/{id}.P4.xml'\n",
    "    else: \n",
    "        if f'{id}.P4.xml' in os.listdir(f'{TCP}/P1{id[0:2]}'):\n",
    "            path = f'{TCP}/P1{id[0:2]}/{id}.P4.xml'\n",
    "        elif f'{id}.P4.xml' in os.listdir(f'{TCP}/P2{id[0:2]}'): \n",
    "            path = f'{TCP}/P2{id[0:2]}/{id}.P4.xml'\n",
    "    return path "
   ]
  },
  {
   "cell_type": "code",
   "execution_count": 16,
   "metadata": {},
   "outputs": [
    {
     "name": "stderr",
     "output_type": "stream",
     "text": [
      "A28857: 100%|██████████| 5822/5822 [04:11<00:00, 23.16it/s]\n"
     ]
    }
   ],
   "source": [
    "sermons = list(pd.read_csv(\"../assets/sermons.csv\")['id'])\n",
    "sermons.extend(list(pd.read_csv(\"../assets/sermons_missing.csv\")[\"id\"]))\n",
    "tcpID_subjects = {}\n",
    "progress_bar = tqdm(sermons)\n",
    "for file in progress_bar:\n",
    "    progress_bar.set_description(file)\n",
    "    tcpID = file.split(\".\")[0]\n",
    "    tcpID_subjects[tcpID] = []\n",
    "    filepath = findTextTCP(tcpID)\n",
    "\n",
    "    # read the input XML file \n",
    "    with open(filepath,'r',encoding='utf-8') as file: \n",
    "        data = file.read()\n",
    "    # use soupstrainer to only parse the main body\n",
    "    tag = SoupStrainer(\"KEYWORDS\")\n",
    "    soup = BeautifulSoup(data,features=\"xml\",parse_only=tag)\n",
    "    \n",
    "    subjects = soup.find_all(['TERM'])\n",
    "    for s in subjects: \n",
    "        tcpID_subjects[tcpID].append(s)"
   ]
  },
  {
   "cell_type": "code",
   "execution_count": 21,
   "metadata": {},
   "outputs": [],
   "source": [
    "tcpID_subjects = {k:[item.string for item in v] for k,v in tcpID_subjects.items()}"
   ]
  },
  {
   "cell_type": "code",
   "execution_count": 8,
   "metadata": {},
   "outputs": [],
   "source": [
    "from tqdm import tqdm \n",
    "def correct_metadata_file(filepath):\n",
    "    sermons = pd.read_csv(filepath)\n",
    "    sermons = sermons.to_dict(orient='records')\n",
    "    new_sermons = []\n",
    "    for info_dict in tqdm(sermons):\n",
    "        tcpID = info_dict['id']\n",
    "        filepath = findTextTCP(tcpID)\n",
    "        if re.search(f'TCP/P1',filepath): \n",
    "            phase = \"1\"\n",
    "        else: phase = \"2\"\n",
    "        info_dict['phase'] = phase\n",
    "        new_sermons.append(info_dict)\n",
    "    sermons = pd.DataFrame(new_sermons)\n",
    "    sermons.to_csv(filepath,index=False)"
   ]
  },
  {
   "cell_type": "code",
   "execution_count": null,
   "metadata": {},
   "outputs": [],
   "source": [
    "correct_metadata_file(\"../assets/sermons.csv\")"
   ]
  },
  {
   "cell_type": "code",
   "execution_count": null,
   "metadata": {},
   "outputs": [],
   "source": [
    "correct_metadata_file(\"../assets/sermons_missing.csv\")"
   ]
  },
  {
   "cell_type": "code",
   "execution_count": 34,
   "metadata": {},
   "outputs": [
    {
     "name": "stderr",
     "output_type": "stream",
     "text": [
      "100%|██████████| 5858/5858 [00:00<00:00, 539601.90it/s]\n"
     ]
    },
    {
     "data": {
      "text/plain": [
       "(3979,\n",
       " [('Sermons, English', 4269),\n",
       "  ('Funeral sermons', 570),\n",
       "  ('Church of England', 313),\n",
       "  ('Fast-day sermons', 247),\n",
       "  ('Christian life', 144),\n",
       "  ('Catholic Church -- Controversial literature', 72),\n",
       "  ('Civil War, 1642-1649', 67),\n",
       "  ('Sermons, American', 62),\n",
       "  (\"Lord's Supper\", 55),\n",
       "  ('Salvation', 54),\n",
       "  ('Dissenters, Religious -- England', 48),\n",
       "  ('Early works to 1800', 45),\n",
       "  ('Sin', 45),\n",
       "  ('Visitation sermons', 44),\n",
       "  ('Charles -- I, -- King of England, 1600-1649', 44),\n",
       "  ('Faith', 43),\n",
       "  ('Repentance', 40),\n",
       "  ('Charles -- II, -- King of England, 1630-1685', 36),\n",
       "  ('Death', 35),\n",
       "  ('Theology, Doctrinal', 33),\n",
       "  ('Providence and government of God', 30),\n",
       "  ('Grace (Theology)', 30),\n",
       "  ('Jesus Christ', 26),\n",
       "  ('Mary -- II, -- Queen of England, 1662-1694', 25),\n",
       "  ('Justification', 25),\n",
       "  ('Church and state -- England', 24),\n",
       "  ('Conduct of life', 23),\n",
       "  ('Judgment Day', 23),\n",
       "  ('Charity', 22),\n",
       "  ('Prayer', 22),\n",
       "  ('Gunpowder Plot, 1605', 21),\n",
       "  ('Charles II, 1660-1685', 21),\n",
       "  ('Lenten sermons', 20),\n",
       "  ('Atheism', 20),\n",
       "  ('Congregational churches', 19),\n",
       "  ('Theology', 18),\n",
       "  ('Bible', 18),\n",
       "  ('Infant baptism', 18),\n",
       "  ('Christian literature', 17),\n",
       "  ('Divine right of kings', 17),\n",
       "  ('Future life', 17),\n",
       "  ('Society of Friends', 17),\n",
       "  ('God -- Worship and love', 17),\n",
       "  ('Farewell sermons', 16),\n",
       "  ('Conversion', 16),\n",
       "  ('Great Britain -- Church history', 16),\n",
       "  ('Covenant theology', 16),\n",
       "  ('Church of England -- Apologetic works', 15),\n",
       "  ('Christmas sermons', 15),\n",
       "  ('William and Mary, 1689-1702', 15),\n",
       "  ('Church of Scotland', 15),\n",
       "  ('Soul', 14),\n",
       "  ('God -- Love', 14),\n",
       "  ('Funeral sermons, English', 13),\n",
       "  ('Commonwealth and Protectorate, 1649-1660', 13),\n",
       "  ('William -- III, -- King of England, 1650-1702', 13),\n",
       "  ('Church polity', 13),\n",
       "  ('Marriage', 13),\n",
       "  ('God -- Attributes', 12),\n",
       "  ('Sermons, Scottish', 12),\n",
       "  ('Restoration, 1660-1688', 12),\n",
       "  ('Commentaries', 11),\n",
       "  ('Sermons, Irish', 11),\n",
       "  ('Church of England -- Controversial literature', 11),\n",
       "  (\"Lord's prayer\", 11),\n",
       "  ('Church of England -- Doctrines', 11),\n",
       "  ('Holy Spirit', 11),\n",
       "  ('Sermons', 11),\n",
       "  ('Kings and rulers', 11),\n",
       "  ('Easter', 10),\n",
       "  ('Bible. -- N.T. -- Revelation XIV, 13', 10),\n",
       "  ('Love -- Religious aspects', 10),\n",
       "  ('Revelation', 10),\n",
       "  ('Baptism', 10),\n",
       "  ('Sabbath', 10),\n",
       "  ('Popish Plot, 1678', 10),\n",
       "  ('Redemption', 10),\n",
       "  ('Church of England -- Clergy', 10),\n",
       "  ('Music in churches', 10),\n",
       "  ('Schism', 10),\n",
       "  ('Thanksgiving Day addresses', 9),\n",
       "  ('Sermons -- England -- London', 9),\n",
       "  ('Bible. -- N.T. -- Romans XIII, 1', 9),\n",
       "  ('Sermons -- England', 9),\n",
       "  ('N.T.', 9),\n",
       "  ('Presbyterian Church', 9),\n",
       "  ('Church and state -- Church of England', 9),\n",
       "  ('Episcopacy', 9),\n",
       "  ('Catholic Church', 9),\n",
       "  ('Spiritual life', 9),\n",
       "  ('Persecution', 9),\n",
       "  ('Resurrection', 9),\n",
       "  ('Peace', 9),\n",
       "  ('Charles I, 1625-1649', 9),\n",
       "  ('Broadsides -- England', 8),\n",
       "  ('Festival-day sermons', 8),\n",
       "  ('Bible. -- N.T. -- Acts XIII, 36', 8),\n",
       "  ('Bible. -- O.T. -- Psalms XXXVII, 37', 8),\n",
       "  ('Theology -- History', 8),\n",
       "  ('Prayers', 8)])"
      ]
     },
     "execution_count": 34,
     "metadata": {},
     "output_type": "execute_result"
    }
   ],
   "source": [
    "import pandas as pd \n",
    "from collections import Counter \n",
    "from tqdm import tqdm \n",
    "\n",
    "sermons = pd.read_csv(\"../assets/sermons.csv\")\n",
    "sermons = sermons.to_dict(orient='records')\n",
    "\n",
    "missing = pd.read_csv(\"../assets/sermons_missing.csv\")\n",
    "missing = missing.to_dict(orient='records')\n",
    "sermons.extend(missing)\n",
    "\n",
    "\n",
    "all_subjects = []\n",
    "\n",
    "for info_dict in tqdm(sermons):\n",
    "    subjects = info_dict['subject_headings']\n",
    "    if not isinstance(subjects,str): continue  \n",
    "    \n",
    "    for w in subjects.split(\"; \"): \n",
    "        if w == \"No Keywords\": continue\n",
    "        if w != 'O.T.' and w!= 'N.T.': \n",
    "            w = w.strip(\".\") \n",
    "        all_subjects.append(w)\n",
    "\n",
    "processed = {}\n",
    "for w, freq in sorted(dict(Counter(all_subjects)).items(),key=lambda x:x[1],reverse=True):\n",
    "    w = re.sub(r\"\\s+\",\" \",w)\n",
    "    w = re.sub(\" -- Early works to 1800\",\"\",w)\n",
    "    w = re.sub(r\"\\s+\",\" \",w)\n",
    "    w = re.sub(\" -- 16th century| -- 17th century\",\"\",w)\n",
    "    w = re.sub(r\"\\s+\",\" \",w)\n",
    "    w = re.sub(\" -- Sermons\",\"\",w)\n",
    "    w = re.sub(r\"\\s+\",\" \",w)\n",
    "    w = re.sub(\"Great Britain -- History -- \",\"\",w)\n",
    "    w = re.sub(r\"\\s+\",\" \",w)\n",
    "    if w not in processed: processed[w] = freq\n",
    "    else: processed[w] += freq\n",
    "\n",
    "\n",
    "len(processed), sorted(processed.items(),key=lambda x:x[1],reverse=True)[:100]"
   ]
  }
 ],
 "metadata": {
  "kernelspec": {
   "display_name": "sermons_env",
   "language": "python",
   "name": "python3"
  },
  "language_info": {
   "codemirror_mode": {
    "name": "ipython",
    "version": 3
   },
   "file_extension": ".py",
   "mimetype": "text/x-python",
   "name": "python",
   "nbconvert_exporter": "python",
   "pygments_lexer": "ipython3",
   "version": "3.11.5"
  }
 },
 "nbformat": 4,
 "nbformat_minor": 2
}
