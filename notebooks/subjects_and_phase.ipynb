{
 "cells": [
  {
   "cell_type": "markdown",
   "metadata": {},
   "source": [
    "# Re-extract subject headings "
   ]
  },
  {
   "cell_type": "code",
   "execution_count": 2,
   "metadata": {},
   "outputs": [],
   "source": [
    "import sys, re, os \n",
    "from bs4 import BeautifulSoup, SoupStrainer\n",
    "from tqdm import tqdm  \n",
    "import pandas as pd \n",
    "TCP = '/Users/amycweng/DH/TCP'\n",
    "sys.path.append('../')\n",
    "\n",
    "def findTextTCP(id):\n",
    "    if re.match('B1|B4',id[0:2]):\n",
    "        path = f'{TCP}/P2{id[0:2]}/{id}.P4.xml'\n",
    "    else: \n",
    "        if f'{id}.P4.xml' in os.listdir(f'{TCP}/P1{id[0:2]}'):\n",
    "            path = f'{TCP}/P1{id[0:2]}/{id}.P4.xml'\n",
    "        elif f'{id}.P4.xml' in os.listdir(f'{TCP}/P2{id[0:2]}'): \n",
    "            path = f'{TCP}/P2{id[0:2]}/{id}.P4.xml'\n",
    "    return path "
   ]
  },
  {
   "cell_type": "code",
   "execution_count": 16,
   "metadata": {},
   "outputs": [
    {
     "name": "stderr",
     "output_type": "stream",
     "text": [
      "A28857: 100%|██████████| 5822/5822 [04:11<00:00, 23.16it/s]\n"
     ]
    }
   ],
   "source": [
    "sermons = list(pd.read_csv(\"../assets/sermons.csv\")['id'])\n",
    "sermons.extend(list(pd.read_csv(\"../assets/sermons_missing.csv\")[\"id\"]))\n",
    "tcpID_subjects = {}\n",
    "progress_bar = tqdm(sermons)\n",
    "for file in progress_bar:\n",
    "    progress_bar.set_description(file)\n",
    "    tcpID = file.split(\".\")[0]\n",
    "    tcpID_subjects[tcpID] = []\n",
    "    filepath = findTextTCP(tcpID)\n",
    "\n",
    "    # read the input XML file \n",
    "    with open(filepath,'r',encoding='utf-8') as file: \n",
    "        data = file.read()\n",
    "    # use soupstrainer to only parse the main body\n",
    "    tag = SoupStrainer(\"KEYWORDS\")\n",
    "    soup = BeautifulSoup(data,features=\"xml\",parse_only=tag)\n",
    "    \n",
    "    subjects = soup.find_all(['TERM'])\n",
    "    for s in subjects: \n",
    "        tcpID_subjects[tcpID].append(s)"
   ]
  },
  {
   "cell_type": "code",
   "execution_count": 21,
   "metadata": {},
   "outputs": [],
   "source": [
    "tcpID_subjects = {k:[item.string for item in v] for k,v in tcpID_subjects.items()}"
   ]
  },
  {
   "cell_type": "code",
   "execution_count": 26,
   "metadata": {},
   "outputs": [],
   "source": [
    "from tqdm import tqdm \n",
    "def correct_metadata_file(filepath):\n",
    "    sermons = pd.read_csv(filepath)\n",
    "    sermons = sermons.to_dict(orient='records')\n",
    "    new_sermons = []\n",
    "    for info_dict in tqdm(sermons): \n",
    "        # sermons['subject_headings'][idx] = \"; \".join(tcpID_subjects[tcpID])\n",
    "        tcpID = info_dict['id']\n",
    "        filepath = findTextTCP(tcpID)\n",
    "        if re.search(f'TCP/P1',filepath): \n",
    "            phase = \"1\"\n",
    "        else: phase = \"2\"\n",
    "        info_dict['phase'] = phase\n",
    "        new_sermons.append(info_dict)\n",
    "    sermons = pd.DataFrame(new_sermons)\n",
    "    sermons.to_csv(\"sermons.csv\",index=False)"
   ]
  },
  {
   "cell_type": "code",
   "execution_count": 27,
   "metadata": {},
   "outputs": [
    {
     "name": "stderr",
     "output_type": "stream",
     "text": [
      "100%|██████████| 4215/4215 [00:31<00:00, 132.82it/s]\n"
     ]
    }
   ],
   "source": [
    "correct_metadata_file(\"../assets/sermons.csv\")"
   ]
  },
  {
   "cell_type": "code",
   "execution_count": 28,
   "metadata": {},
   "outputs": [
    {
     "name": "stderr",
     "output_type": "stream",
     "text": [
      "100%|██████████| 1649/1649 [00:11<00:00, 149.09it/s]\n"
     ]
    }
   ],
   "source": [
    "correct_metadata_file(\"../assets/sermons_missing.csv\")"
   ]
  }
 ],
 "metadata": {
  "kernelspec": {
   "display_name": "sermons_env",
   "language": "python",
   "name": "python3"
  },
  "language_info": {
   "codemirror_mode": {
    "name": "ipython",
    "version": 3
   },
   "file_extension": ".py",
   "mimetype": "text/x-python",
   "name": "python",
   "nbconvert_exporter": "python",
   "pygments_lexer": "ipython3",
   "version": "3.11.5"
  }
 },
 "nbformat": 4,
 "nbformat_minor": 2
}
