{
 "cells": [
  {
   "cell_type": "code",
   "execution_count": 1,
   "metadata": {},
   "outputs": [],
   "source": [
    "import os \n",
    "import time \n",
    "import json,math,sys,re\n",
    "import pandas as pd "
   ]
  },
  {
   "cell_type": "code",
   "execution_count": null,
   "metadata": {},
   "outputs": [],
   "source": [
    "folder = \"../..\"\n",
    "from dotenv import load_dotenv\n",
    "env_path = f'{folder}/deepseek.env'\n",
    "load_dotenv(dotenv_path=env_path)\n",
    "DEEPSEEK_KEY = os.getenv('DEEPSEEK_KEY')\n",
    "from openai import OpenAI\n",
    "client = OpenAI(api_key=DEEPSEEK_KEY, base_url=\"https://api.deepseek.com\")"
   ]
  },
  {
   "cell_type": "code",
   "execution_count": 69,
   "metadata": {},
   "outputs": [
    {
     "data": {
      "text/plain": [
       "1523"
      ]
     },
     "execution_count": 69,
     "metadata": {},
     "output_type": "execute_result"
    }
   ],
   "source": [
    "inputfname = \"GOLDEN_SET\"\n",
    "inputfname = \"GOLDEN_SET_additions\"\n",
    "inputfname = \"preE_additions\"\n",
    "inputfname = \"cross_refs_missing_CHECK\"\n",
    "\n",
    "# prompt = \"P1\"\n",
    "prompt = \"P0\"\n",
    "fname = f\"{inputfname}_DSV3_{prompt}\" \n",
    "data = pd.read_csv(f\"{folder}/Early-Modern-Sermons/assets/QP_Datasets/{inputfname}.csv\")\n",
    "data['index'] = range(0, len(data))\n",
    "data = data[(data['score'] >= 0.98)]\n",
    "data = data.to_dict(orient=\"records\")\n",
    "\n",
    "labels = {}\n",
    "\n",
    "len(data)"
   ]
  },
  {
   "cell_type": "code",
   "execution_count": null,
   "metadata": {},
   "outputs": [],
   "source": [
    "with open(f\"{folder}/QP/predictions/{fname}.json\",'r') as f: \n",
    "    labels = json.load(f)\n",
    "len(labels)"
   ]
  },
  {
   "cell_type": "code",
   "execution_count": 73,
   "metadata": {},
   "outputs": [
    {
     "name": "stderr",
     "output_type": "stream",
     "text": [
      "  0%|          | 0/1523 [00:00<?, ?it/s]"
     ]
    },
    {
     "name": "stderr",
     "output_type": "stream",
     "text": [
      "100%|██████████| 1523/1523 [2:05:25<00:00,  4.94s/it]  \n"
     ]
    }
   ],
   "source": [
    "from tqdm import tqdm \n",
    "start = 0 #\n",
    "end = len(data) \n",
    "my_qp = data[start:end] \n",
    "\n",
    "for idx, qp_pair in enumerate(tqdm(my_qp)):\n",
    "    if idx <= (len(labels) -1 ): continue \n",
    "    \n",
    "    response = client.chat.completions.create(\n",
    "        model='deepseek-chat',\n",
    "        messages=[ \n",
    "            {\"role\": \"user\",  \n",
    "             \"content\": f\"You are an English and Latin scholar who determines whether the given sentence contains a quotation/paraphrase of a given Biblical verse. You give a single True or False output without any reasoning. \\nSENTENCE: '{qp_pair['text']}' \\n 'VERSE: {qp_pair['verse_text']}'\\n True/False:\"}\n",
    "        ],\n",
    "        stream=False\n",
    "    )\n",
    "    labels[str(qp_pair['index'])] = response.choices[0].message.content\n",
    "    if (idx+1) % 100 == 0: \n",
    "        with open(f\"{folder}/QP/predictions/{fname}.json\",'w') as f: \n",
    "            json.dump(labels,f) \n",
    "\n",
    "with open(f\"{folder}/QP/predictions/{fname}.json\",'w') as f: \n",
    "    json.dump(labels,f) \n",
    "    # 100%|██████████| 956/956 [2:30:22<00:00,  9.44s/it] \n",
    "    # 100%|██████████| 1044/1044 [2:36:31<00:00,  9.00s/it] \n",
    "    # 100%|██████████| 4566/4566 [2:51:16<00:00,  2.25s/it]  "
   ]
  },
  {
   "cell_type": "code",
   "execution_count": 91,
   "metadata": {},
   "outputs": [],
   "source": [
    "for idx, entry in labels.items(): \n",
    "    entry = entry.strip()\n",
    "    if entry not in [\"TRUE\",\"FALSE\"]: \n",
    "        qp_pair = data[int(idx)]\n",
    "        print(idx)\n",
    "        print(qp_pair)\n",
    "        print(entry)\n",
    "        # response = client.chat.completions.create(\n",
    "        #     model=\"deepseek-chat\",\n",
    "        #     messages=[\n",
    "        #         {\"role\": \"system\", \"content\": \"You are an English and Latin scholar working on Biblical language in early modern texts. You determine whether the first sentence is a quotation/paraphrase of a given Biblical verse in the SAME LANGUAGE. You give a single TRUE or FALSE output FOR EACH USER MESSAGE without any reasoning.\"},\n",
    "        #         {\"role\": \"user\",  \"content\": f\"SENTENCE: '{qp_pair['text']}'; 'VERSE: {qp_pair['verse_text']}'\"}\n",
    "        #     ],\n",
    "        #     stream=False\n",
    "        # )\n",
    "        # labels[str(qp_pair['index'])] = response.choices[0].message.content\n",
    "        # print(response.choices[0].message.content)"
   ]
  },
  {
   "cell_type": "code",
   "execution_count": 86,
   "metadata": {},
   "outputs": [
    {
     "data": {
      "text/plain": [
       "3001"
      ]
     },
     "execution_count": 86,
     "metadata": {},
     "output_type": "execute_result"
    }
   ],
   "source": [
    "with open(f\"../../DH/Early-Modern-Sermons/assets/QP_labels/{fname}.json\",'w') as f: \n",
    "    json.dump(labels,f)\n",
    "\n",
    "len(labels)"
   ]
  }
 ],
 "metadata": {
  "kernelspec": {
   "display_name": "openai",
   "language": "python",
   "name": "python3"
  },
  "language_info": {
   "codemirror_mode": {
    "name": "ipython",
    "version": 3
   },
   "file_extension": ".py",
   "mimetype": "text/x-python",
   "name": "python",
   "nbconvert_exporter": "python",
   "pygments_lexer": "ipython3",
   "version": "3.9.19"
  }
 },
 "nbformat": 4,
 "nbformat_minor": 2
}
