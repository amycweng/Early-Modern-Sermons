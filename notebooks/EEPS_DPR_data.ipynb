{
 "cells": [
  {
   "cell_type": "markdown",
   "id": "d6502d6e",
   "metadata": {},
   "source": [
    "# Setup"
   ]
  },
  {
   "cell_type": "code",
   "execution_count": null,
   "id": "bf64de92",
   "metadata": {},
   "outputs": [],
   "source": [
    "import os, json,re\n",
    "from tqdm import tqdm "
   ]
  },
  {
   "cell_type": "markdown",
   "id": "3f350208",
   "metadata": {},
   "source": [
    "## Bible books "
   ]
  },
  {
   "cell_type": "code",
   "execution_count": null,
   "id": "da58dd76",
   "metadata": {},
   "outputs": [],
   "source": [
    "corrected_books = {\n",
    "    'Gen': 'Genesis',\n",
    "    'Exo': 'Exodus',\n",
    "    'Lev': 'Leviticus',\n",
    "    'Num': 'Numbers',\n",
    "    'Deu': 'Deuteronomy',\n",
    "    'Jos': 'Joshua',\n",
    "    'Jdg': 'Judges',\n",
    "    'Rut': 'Ruth',\n",
    "    '1Sa': '1 Samuel',\n",
    "    '2Sa': '2 Samuel',\n",
    "    '1Ki': '1 Kings',\n",
    "    '2Ki': '2 Kings',\n",
    "    '1Ch': '1 Chronicles',\n",
    "    '2Ch': '2 Chronicles',\n",
    "    'Ezr': 'Ezra',\n",
    "    'Neh':'Nehemiah',\n",
    "    'Est': 'Esther',\n",
    "    'Job': 'Job',\n",
    "    'Psa': 'Psalms',\n",
    "    'Pro': 'Proverbs',\n",
    "    'Ecc': 'Ecclesiastes',\n",
    "    'Sng': 'Canticles',\n",
    "    'Isa': 'Isaiah',\n",
    "    'Jer': 'Jeremiah',\n",
    "    'Lam': 'Lamentations',\n",
    "    'Ezk': 'Ezekiel',\n",
    "    'Dan': 'Daniel',\n",
    "    'Hos': 'Hosea',\n",
    "    'Jol': 'Joel',\n",
    "    'Amo': 'Amos',\n",
    "    'Oba': 'Obadiah',\n",
    "    'Jon': 'Jonah',\n",
    "    'Mic': 'Micah',\n",
    "    'Nam': 'Nahum',\n",
    "    'Hab': 'Habakkuk',\n",
    "    'Zep': 'Zephaniah',\n",
    "    'Hag': 'Haggai',\n",
    "    'Zec': 'Zechariah',\n",
    "    'Mal': 'Malachi',\n",
    "    'Mat': 'Matthew',\n",
    "    'Mrk': 'Mark',\n",
    "    'Luk': 'Luke',\n",
    "    'Jhn': 'John',\n",
    "    'Act': 'Acts',\n",
    "    'Rom': 'Romans',\n",
    "    '1Co': '1 Corinthians',\n",
    "    '2Co': '2 Corinthians',\n",
    "    'Gal': 'Galatians',\n",
    "    'Eph': 'Ephesians',\n",
    "    'Php': 'Philippians',\n",
    "    'Col': 'Colossians',\n",
    "    '1Th': '1 Thessalonians',\n",
    "    '2Th': '2 Thessalonians',\n",
    "    '1Ti': '1 Timothy',\n",
    "    '2Ti': '2 Timothy',\n",
    "    'Tit': 'Titus',\n",
    "    'Phm': 'Philemon',\n",
    "    'Heb': 'Hebrews',\n",
    "    'Jas': 'James',\n",
    "    '1Pe': '1 Peter',\n",
    "    '2Pe': '2 Peter',\n",
    "    '1Jn': '1 John',\n",
    "    '2Jn': '2 John',\n",
    "    '3Jn': '3 John',\n",
    "    'Jud': 'Jude',\n",
    "    'Rev': 'Revelation',\n",
    "    'Sus': \"Susanna\",\n",
    "    'Bel':\"Bel and the Dragon\",\n",
    "    'Bar':'Baruch',\n",
    "    'Sir':'Ecclesiasticus',\n",
    "    'Wis':'Wisdom',\n",
    "    '1Ma':'1 Maccabees',\n",
    "    '2Ma':'2 Maccabees',\n",
    "    '1Es':\"1 Esdras\",\n",
    "    '2Es':'2 Esdras',\n",
    "    '3Es': '3 Esdras',\n",
    "    '4Es': '4 Esdras',\n",
    "    'Tob':'Tobit',\n",
    "    'Jdt':'Judith',\n",
    "    '4Ma':'4 Maccabees',\n",
    "    'Man':'Manasseh',\n",
    "    'S3Y':\"Song of the Three Young Men\",\n",
    "    'Oda':'Obadiah'\n",
    "}"
   ]
  },
  {
   "cell_type": "markdown",
   "id": "8b14b0c9",
   "metadata": {},
   "source": [
    "# Versification"
   ]
  },
  {
   "cell_type": "markdown",
   "id": "8d2c7e96",
   "metadata": {},
   "source": [
    "## Get verse mappings"
   ]
  },
  {
   "cell_type": "code",
   "execution_count": null,
   "id": "5a1fd4d6",
   "metadata": {},
   "outputs": [],
   "source": [
    "def convert_test(expression):\n",
    "    # Replace abbreviations with full names in the start and end references\n",
    "    def replace_match(match):\n",
    "        abbrev = match.group(1)\n",
    "        chapter = match.group(2)\n",
    "        verse = match.group(3)\n",
    "        full_book = corrected_books.get(abbrev, abbrev)\n",
    "        return f\"{full_book} {chapter}.{verse}\"\n",
    "\n",
    "    # Split the expression by logical operators (including '>', '<', '=', etc.)\n",
    "    expression = re.sub(r'([\\d\\w]+)\\.(\\d+):(\\d+(\\.\\d+)?)', replace_match, expression)\n",
    "\n",
    "    # Identify the logical operator and split accordingly\n",
    "    if '=' in expression:\n",
    "        parts = expression.split('=')\n",
    "        operation = 'LAST' if 'Last' in parts[1] else 'E' if 'Exist' in parts[1] else 'NE'\n",
    "        start = parts[0].strip()\n",
    "        end = None\n",
    "    elif '>' in expression:\n",
    "        parts = expression.split('>')\n",
    "        start = parts[0].strip()\n",
    "        end = parts[1].strip()\n",
    "        operation = 'GT'\n",
    "    elif '<' in expression:\n",
    "        parts = expression.split('<')\n",
    "        start = parts[0].strip()\n",
    "        end = parts[1].strip()\n",
    "        operation = 'LT'\n",
    "    else:\n",
    "        # If no operator, assume it's a single reference with an operator\n",
    "        start = expression.strip()\n",
    "        end = None\n",
    "        operation = 'E'\n",
    "\n",
    "    return (start, end, operation)"
   ]
  },
  {
   "cell_type": "code",
   "execution_count": 508,
   "id": "9c78b5d8",
   "metadata": {},
   "outputs": [],
   "source": [
    "with open(f\"../../Bibles/TVTMS - Translators Versification Traditions with Methodology for Standardisation for Eng+Heb+Lat+Grk+Others - STEPBible.org CC BY.txt\") as file: \n",
    "    data = file.readlines()\n",
    "\n",
    "in_section = False \n",
    "tradition_tests = {} # AKJV to Latin and Hebrew  \n",
    "mapping = {}\n",
    "test_key = None \n",
    "def convert_name(item): \n",
    "    if \"Ps2\" in item or 'Esg' in item or \"LJe\" in item or \"Absent\" in item: return None \n",
    "    if \".\" not in item: return None \n",
    "    book, nums = item.split(\".\")[:2]\n",
    "    book = corrected_books[book]\n",
    "    nums = re.sub(\":\",\".\",nums)\n",
    "    return f\"{book} {nums}\"\n",
    "\n",
    "for idx, line in enumerate(data): \n",
    "    line = line.strip()\n",
    "    if not line:\n",
    "        continue\n",
    "    if re.search(r'\\$Rom.14:22-23', line): continue \n",
    "    if re.search(r\"\\$[\\d\\w]+\\.\\d+\\:\",line):\n",
    "        if \"English KJV\" not in line: continue \n",
    "        line = line.split(\"\\t\")\n",
    "        key = line[0]\n",
    "        if \"-\" in key: # across chapter division \n",
    "            if \"--\" in key: \n",
    "                start, end = key.strip(\"$#\").split(\"--\")\n",
    "            else: \n",
    "                start, end = key.strip(\"$#\").split(\"-\")\n",
    "            # print(start,end)\n",
    "            book,start = start.split(\".\")[:2]\n",
    "            if book not in corrected_books: \n",
    "                in_section = False \n",
    "                continue \n",
    "            in_section = True \n",
    "            book = corrected_books[book]\n",
    "            start = re.sub(\":\",\".\",start)            \n",
    "            end = re.sub(\":\",\".\", end)\n",
    "            test_key = \";\".join([book, start, end])\n",
    "            tradition_tests[test_key] = {k:[] for k in line[1:]} \n",
    "        else: \n",
    "            key = key.strip(\"$#$\")\n",
    "            book,start = key.split(\".\")[:2]\n",
    "            if book not in corrected_books: \n",
    "                in_section = False \n",
    "                continue \n",
    "            in_section = True \n",
    "            book = corrected_books[book]\n",
    "            start = re.sub(\":\",\".\",start)\n",
    "            test_key = \";\".join([book, start, start])\n",
    "            tradition_tests[test_key] = {k:[] for k in line[1:]} \n",
    "    if \"TEST: If...\" in line and in_section: \n",
    "        line = line.split(\"\\t\")[1:]\n",
    "        if len(line) != len(tradition_tests[test_key]): continue \n",
    "        for idx, key in enumerate(tradition_tests[test_key]):\n",
    "            test = line[idx]\n",
    "            tradition_tests[test_key][key].append(convert_test(line[idx]))\n",
    "    elif (\"To\" in line or \"Verse\" in line) and in_section: \n",
    "        line = line.split(\"\\t\")[1:]\n",
    "        if len(line) != len(tradition_tests[test_key]): continue \n",
    "        verse_key = None \n",
    "        for idx, key in enumerate(tradition_tests[test_key]): \n",
    "            if key == \"English KJV\": \n",
    "                verse_key = convert_name(line[idx])\n",
    "        if verse_key is None: continue\n",
    "        if \"Title\" in verse_key: continue  \n",
    "        for idx, key in enumerate(tradition_tests[test_key]): \n",
    "            if verse_key not in mapping: \n",
    "                mapping[verse_key] = {}\n",
    "            if \"Absent\" in line[idx] or 'NoVerse' in line[idx]: \n",
    "                mapping[verse_key][key] = None\n",
    "            else: \n",
    "                mapping[verse_key][key] = convert_name(line[idx])"
   ]
  },
  {
   "cell_type": "code",
   "execution_count": 510,
   "id": "4bf18fec",
   "metadata": {},
   "outputs": [
    {
     "data": {
      "text/plain": [
       "{'English KJV': [('Exodus 39.43', None, 'LAST'),\n",
       "  ('Exodus 36.38', None, 'LAST'),\n",
       "  ('Exodus 39.19', 'Exodus 39.21', 'LT')],\n",
       " 'Hebrew': [('Exodus 39.43', None, 'LAST'),\n",
       "  ('Exodus 36.38', None, 'LAST'),\n",
       "  ('Exodus 39.19', 'Exodus 39.21', 'LT')],\n",
       " 'Latin': [('Exodus 39.43', None, 'LAST'),\n",
       "  ('Exodus 36.38', None, 'LAST'),\n",
       "  ('Exodus 39.19', 'Exodus 39.21', 'GT')],\n",
       " 'Greek*': [('Exodus 39.23', None, 'LAST'),\n",
       "  ('Exodus 36.38', None, 'LAST'),\n",
       "  ('Exodus 39.19', 'Exodus 39.21', 'LT')],\n",
       " 'Greek2 (eg NETS)*': [('Exodus 39.23', None, 'LAST'),\n",
       "  ('Exodus 36.40', None, 'LAST'),\n",
       "  ('Exodus 39.19', 'Exodus 39.21', 'LT')]}"
      ]
     },
     "execution_count": 510,
     "metadata": {},
     "output_type": "execute_result"
    }
   ],
   "source": [
    "tradition_tests['Exodus;39.1;39.43']"
   ]
  },
  {
   "cell_type": "code",
   "execution_count": 493,
   "id": "a3231763",
   "metadata": {},
   "outputs": [],
   "source": [
    "def expand_references(reference_list):\n",
    "    book = reference_list[0]\n",
    "    start_ref = reference_list[1]\n",
    "    end_ref = reference_list[2]\n",
    "\n",
    "    # Split start_ref and end_ref into chapter and verse\n",
    "    start_chapter, start_verse = map(int, start_ref.split('.'))\n",
    "    if \".\" not in end_ref: \n",
    "        end_chapter, end_verse = start_chapter, int(end_ref) \n",
    "    else: \n",
    "        end_chapter, end_verse = map(int, end_ref.split('.'))\n",
    "\n",
    "    result = []\n",
    "\n",
    "    # Iterate through chapters and verses\n",
    "    for chapter in range(start_chapter, end_chapter + 1):\n",
    "        # Set start and end verses depending on the chapter\n",
    "        start_v = start_verse if chapter == start_chapter else 1\n",
    "        end_v = end_verse if chapter == end_chapter else 151  # Assuming 151 is a safe upper bound\n",
    "\n",
    "        for verse in range(start_v, end_v + 1):\n",
    "            full_ref = f'{book} {chapter}.{verse}'\n",
    "            result.append(full_ref)\n",
    "    return result\n"
   ]
  },
  {
   "cell_type": "code",
   "execution_count": 494,
   "id": "ce6f025b",
   "metadata": {},
   "outputs": [],
   "source": [
    "final_mapping = {}\n",
    "for v_id, mlist in mapping.items(): \n",
    "    if \"-\" in v_id: \n",
    "        book = \" \".join(v_id.split()[:-1])\n",
    "        cv = v_id.split()[-1]\n",
    "        cv1, cv2 = v_id.split()[-1].split(\"-\")\n",
    "        refs = expand_references([book,cv1,cv2])\n",
    "        for ref in refs: \n",
    "            final_mapping[ref] = {}\n",
    "        for trad, v_id2 in mlist.items():\n",
    "            if v_id2 is None: \n",
    "                for idx, ref in enumerate(refs): \n",
    "                    final_mapping[ref][trad] = None \n",
    "            else: \n",
    "                book = \" \".join(v_id2.split()[:-1])\n",
    "                cv = v_id2.split()[-1].split(\"-\")\n",
    "                if len(cv) == 2: \n",
    "                    cv1, cv2 = cv\n",
    "                    refs2 = expand_references([book,cv1,cv2])\n",
    "                    for idx, ref in enumerate(refs): \n",
    "                        if len(refs2) > idx: \n",
    "                            final_mapping[ref][trad] = refs2[idx]\n",
    "                else: \n",
    "                    for ref in refs: \n",
    "                        final_mapping[ref][trad] = v_id2\n",
    "    else: \n",
    "        final_mapping[v_id] = mlist\n",
    "mapping = final_mapping "
   ]
  },
  {
   "cell_type": "code",
   "execution_count": 495,
   "id": "a3a198d6",
   "metadata": {},
   "outputs": [],
   "source": [
    "with open(\"../../Bibles/versification.json\",'w+') as file: \n",
    "    json.dump([tradition_tests, mapping],file)"
   ]
  },
  {
   "cell_type": "markdown",
   "id": "e2081909",
   "metadata": {},
   "source": [
    "## Get Parallel Verses"
   ]
  },
  {
   "cell_type": "code",
   "execution_count": 496,
   "id": "3282638d",
   "metadata": {},
   "outputs": [
    {
     "name": "stderr",
     "output_type": "stream",
     "text": [
      "100%|██████████| 36702/36702 [00:01<00:00, 25282.31it/s]\n",
      "100%|██████████| 31090/31090 [00:01<00:00, 19408.27it/s]\n",
      "100%|██████████| 14737/14737 [00:00<00:00, 28210.41it/s]\n",
      "100%|██████████| 35811/35811 [00:01<00:00, 33344.85it/s]\n",
      "100%|██████████| 7954/7954 [00:00<00:00, 29038.63it/s]\n",
      "100%|██████████| 9622/9622 [00:00<00:00, 28295.60it/s]\n",
      "100%|██████████| 35809/35809 [00:01<00:00, 28843.56it/s]\n"
     ]
    },
    {
     "data": {
      "text/plain": [
       "276627"
      ]
     },
     "execution_count": 496,
     "metadata": {},
     "output_type": "execute_result"
    }
   ],
   "source": [
    "bible = {}\n",
    "import pandas as pd \n",
    "b_versions = ['AKJV','Geneva', 'ODRV','Douay-Rheims', 'Tyndale', 'Wycliffe','Vulgate']\n",
    "for bname in b_versions:\n",
    "    data = pd.read_csv(f\"../../Bibles/{bname}.csv\",header=None)\n",
    "    data = data.to_dict(orient=\"records\")\n",
    "    for entry in tqdm(data):\n",
    "        key = entry[0]\n",
    "        v_id = key.split(\" (\")[0]\n",
    "        text = entry[6]\n",
    "        if re.search(\"Douay-Rheims\",key):\n",
    "            if re.sub(\"Douay-Rheims\",\"ODRV\",key) in bible: continue\n",
    "        if len(text.split(\" \")) < 200:\n",
    "            bible[key] = f\"{v_id} {text}\"\n",
    "\n",
    "        parts = re.split(r'(?<=[\\.\\?]) (?=[A-Z])|(?<=[\\!\\:\\;])', text)\n",
    "        parts = [re.sub(r'\\s+', ' ', p).strip() for p in parts if len(p.strip(\" \")) > 0]\n",
    "        if (len(parts[0].split(\" \")) <= 5 or len(parts[-1].split(\" \")) <= 5 or re.search(r\"\\&\\w+\\;\",parts[0])): \n",
    "            for pidx, p in enumerate(parts): continue\n",
    "        elif len(parts) > 1:  \n",
    "            for pidx, p in enumerate(parts):\n",
    "              p_id = f\"{key} - {pidx}\"\n",
    "              if len(p) == 0: continue\n",
    "              if re.search(r\"\\&\\w+\\;\",p) or len(p.split(\" \")) <= 5: continue\n",
    "              bible[p_id] = f\"Part {pidx+1} of {v_id}: {p}\"\n",
    "bible_verses = list(bible.values())\n",
    "bible_ids = list(bible.keys())\n",
    "id_to_idx = {v_id:idx for idx, v_id in enumerate(bible_ids)}\n",
    "len(bible_verses)"
   ]
  },
  {
   "cell_type": "code",
   "execution_count": 581,
   "id": "1c1b07f8",
   "metadata": {},
   "outputs": [],
   "source": [
    "def fix_name(v_id):\n",
    "  if \"1 Kings\" in v_id: v_id = \"3 Kings\" + v_id.split(\"1 Kings\")[-1]\n",
    "  elif \"2 Kings\" in v_id: v_id = \"4 Kings\" + v_id.split(\"2 Kings\")[-1]\n",
    "  elif \"1 Samuel\" in v_id: v_id = \"1 Kings\" + v_id.split(\"1 Samuel\")[-1]\n",
    "  elif \"2 Samuel\" in v_id: v_id = \"2 Kings\" + v_id.split(\"2 Samuel\")[-1]\n",
    "  elif re.search(r\"^\\d+ Chronicles\",v_id): v_id = re.sub(r\"Chronicles\",\"Paralipomenon\",v_id)\n",
    "  return v_id\n",
    "\n",
    "def expand_test_id(reference_list, version):\n",
    "    book = reference_list[0]\n",
    "    if version in ['Douay-Rheims','Vulgate','ODRV']: \n",
    "        book = fix_name(book)\n",
    "    start_ref = reference_list[1].strip(\"abc\")\n",
    "    end_ref = reference_list[2].strip('abc')\n",
    "    start_chapter, start_verse = map(int, start_ref.split('.'))\n",
    "    if \".\" not in end_ref: \n",
    "        end_chapter, end_verse = start_chapter, int(end_ref) \n",
    "    else: \n",
    "        end_chapter, end_verse = map(int, end_ref.split('.'))\n",
    "\n",
    "    result = []\n",
    "\n",
    "    for chapter in range(start_chapter, end_chapter + 1):\n",
    "        start_v = start_verse if chapter == start_chapter else 1\n",
    "        end_v = end_verse if chapter == end_chapter else 151\n",
    "\n",
    "        for verse in range(start_v, end_v + 1):\n",
    "            full_ref = f'{book} {chapter}.{verse} ({version})'\n",
    "            if full_ref in bible: \n",
    "                result.append(full_ref)\n",
    "    return result\n",
    "\n",
    "def normalize_cv(cv):\n",
    "    cv = cv.split(\"*\")[0]\n",
    "    parts = cv.split(\".\")\n",
    "    return \".\".join(parts[:2])\n",
    "\n",
    "def E(book, cv, version):\n",
    "    ref = f\"{book} {normalize_cv(cv)} ({version})\"\n",
    "    return ref in bible\n",
    "\n",
    "def NE(book, cv, version):\n",
    "    ref = f\"{book} {normalize_cv(cv)} ({version})\"\n",
    "    return ref not in bible\n",
    "\n",
    "def LT(book1, cv1, book2, cv2, version):\n",
    "    ref1 = f\"{book1} {normalize_cv(cv1)} ({version})\"\n",
    "    ref2 = f\"{book2} {normalize_cv(cv2)} ({version})\"\n",
    "    return ref1 in bible and ref2 in bible and len(bible[ref1].split()) < len(bible[ref2].split())\n",
    "\n",
    "def GT(book1, cv1, book2, cv2,  version):\n",
    "    ref1 = f\"{book1} {normalize_cv(cv1)} ({version})\"\n",
    "    ref2 = f\"{book2} {normalize_cv(cv2)} ({version})\"\n",
    "    return ref1 in bible and ref2 in bible and len(bible[ref1].split()) > len(bible[ref2].split())\n",
    "\n",
    "def LAST(book, cv,  version):\n",
    "    chapter, verse = map(int, normalize_cv(cv).split(\".\"))\n",
    "    v = 1\n",
    "    while f\"{book} {chapter}.{v} ({version})\" in bible:\n",
    "        v += 1\n",
    "    return int(verse) == v - 1"
   ]
  },
  {
   "cell_type": "code",
   "execution_count": 572,
   "id": "b8300b62",
   "metadata": {},
   "outputs": [],
   "source": [
    "def verse_comparison(bcv_list,cv1): \n",
    "    if \".\" not in bcv_list[-1]: \n",
    "        v = bcv_list[-1]\n",
    "        c = bcv_list[-2].split(\".\")[0]\n",
    "        cv = f\"{c}.{v}\"\n",
    "    else: \n",
    "        cv = normalize_cv(bcv_list[-1])\n",
    "        c, v = cv.split(\".\")\n",
    "\n",
    "    cv1 = normalize_cv(cv1)\n",
    "    c1, v1 = cv1.split(\".\")\n",
    "    if \"-\" in v1:\n",
    "        v1 = v1.split(\"-\")[-1] \n",
    "\n",
    "    v = v.strip('abc')\n",
    "    v1 = v1.strip(\"abc\")\n",
    "    c,v,c1,v1 = int(c), int(v), int(c1), int(v1)\n",
    "    if c>=c1 and v>=v1: \n",
    "        return cv\n",
    "    else: \n",
    "        return cv1 "
   ]
  },
  {
   "cell_type": "code",
   "execution_count": 578,
   "id": "b2a0ffc6",
   "metadata": {},
   "outputs": [],
   "source": [
    "PV = {}\n",
    "\n",
    "for ref, tests in tradition_tests.items(): \n",
    "    if \"Title\" in ref: continue\n",
    "    ref = ref.split(\";\")\n",
    "    \n",
    "    for trad, tlist in tests.items(): \n",
    "        if \"English KJV\" not in trad: \n",
    "            continue\n",
    "        for test in tlist: \n",
    "            if test is None: continue \n",
    "            if test[1] is None: \n",
    "                if 'Title' in test[0]: continue \n",
    "                ref[-1] = verse_comparison(ref,test[0].split()[-1])\n",
    "            else: \n",
    "                ref[-1] =  verse_comparison(ref,test[1].split()[-1])\n",
    "    ref[-1] = normalize_cv(ref[-1])\n",
    "    ref[-2] = normalize_cv(ref[-2])   \n",
    "     \n",
    "    if \"-\" in ref[-1]: \n",
    "        c,v = re.findall(r'(\\d+).\\d+-(\\d+)',ref[-1])[0]\n",
    "        ref[-1] = f\"{c}.{v}\"\n",
    "    all_refs = expand_test_id(ref,'AKJV')\n",
    "    for r in all_refs: \n",
    "        PV[r] = []\n",
    "\n",
    "    for ver in b_versions: \n",
    "        if ver == 'AKJV': continue \n",
    "        for trad, tlist in tests.items():\n",
    "            passed = True  \n",
    "            for test in tlist:  \n",
    "                if test is None: \n",
    "                    continue \n",
    "                cv = test[0].split()[-1]\n",
    "                book = \" \".join(test[0].split()[:-1])\n",
    "                if ver in ['Douay-Rheims','ODRV','Vulgate']: \n",
    "                    book = fix_name(book)\n",
    "                if test[1] is not None: \n",
    "                    cv2 = test[1].split()[-1]\n",
    "                    book2 = \" \".join(test[1].split()[:-1])\n",
    "                    if ver in ['Douay-Rheims','ODRV','Vulgate']: \n",
    "                        book2 = fix_name(book2)\n",
    "                if test[-1] == 'LAST':\n",
    "                    result = LAST(book, cv, ver)\n",
    "                elif test[-1] == \"E\": \n",
    "                    result = E(book, cv, ver)\n",
    "                elif test[-1] == \"NE\": \n",
    "                    result = NE(book,cv,ver)\n",
    "                elif test[-1] == \"LT\": \n",
    "                    result = LT(book, cv, book2, cv2, ver)\n",
    "                if not result: \n",
    "                    passed = False \n",
    "            \n",
    "            if passed: \n",
    "                for r in all_refs:\n",
    "                    new_key = r.split(\" (\")[0]\n",
    "                    if new_key not in mapping: \n",
    "                        continue \n",
    "                    new_id = mapping[new_key][trad]\n",
    "                    if new_id is None: \n",
    "                        continue \n",
    "\n",
    "                    if \"-\" in new_id: \n",
    "                        b = \" \".join(new_id.split()[:-1])\n",
    "                        cv1,cv2 = new_id.split()[-1].split(\"-\")\n",
    "                        new_ids = expand_test_id([b,cv1,cv2],ver) \n",
    "                    else: \n",
    "                        if ver in ['Douay-Rheims','ODRV','Vulgate']: \n",
    "                            new_id = fix_name(new_id)\n",
    "                        new_ids = [new_id + f\" ({ver})\"]\n",
    "                    for new_id in new_ids: \n",
    "                        if new_id in bible:  \n",
    "                            PV[r].append(new_id)\n",
    "                break"
   ]
  },
  {
   "cell_type": "code",
   "execution_count": 579,
   "id": "463d882c",
   "metadata": {},
   "outputs": [
    {
     "name": "stdout",
     "output_type": "stream",
     "text": [
      "8548\n",
      "35440\n"
     ]
    }
   ],
   "source": [
    "print(len(PV))\n",
    "AKJV = [v_id for v_id in bible if \"AKJV\" in v_id and \"-\" not in v_id]\n",
    "for v_id in AKJV: \n",
    "    if v_id in PV: continue \n",
    "    for ver in b_versions: \n",
    "        if ver == \"AKJV\": continue \n",
    "        key = v_id.split(\" (\")[0]\n",
    "        if f\"{key} ({ver})\" in bible: \n",
    "            if v_id not in PV: PV[v_id] = []\n",
    "            PV[v_id].append(f\"{key} ({ver})\")\n",
    "print(len(PV))"
   ]
  },
  {
   "cell_type": "code",
   "execution_count": 580,
   "id": "ef938e3a",
   "metadata": {},
   "outputs": [],
   "source": [
    "with open(f\"../../Bibles/PARALLEL_VERSES.json\",'w+') as file: \n",
    "    json.dump(PV, file)"
   ]
  },
  {
   "cell_type": "code",
   "execution_count": 501,
   "id": "df31dd47",
   "metadata": {},
   "outputs": [
    {
     "data": {
      "text/plain": [
       "['Daniel 4.9 (Geneva)', 'Daniel 4.9 (ODRV)', 'Daniel 4.9 (Vulgate)']"
      ]
     },
     "execution_count": 501,
     "metadata": {},
     "output_type": "execute_result"
    }
   ],
   "source": [
    "PV['Daniel 4.12 (AKJV)']"
   ]
  },
  {
   "cell_type": "code",
   "execution_count": 502,
   "id": "92465e84",
   "metadata": {},
   "outputs": [
    {
     "data": {
      "text/plain": [
       "['1 Kings 22.53 (Geneva)',\n",
       " '3 Kings 22.54 (Douay-Rheims)',\n",
       " '3 Kings 22.54 (Vulgate)']"
      ]
     },
     "execution_count": 502,
     "metadata": {},
     "output_type": "execute_result"
    }
   ],
   "source": [
    "PV['1 Kings 22.53 (AKJV)']"
   ]
  },
  {
   "cell_type": "code",
   "execution_count": 575,
   "id": "44daed97",
   "metadata": {},
   "outputs": [
    {
     "data": {
      "text/plain": [
       "['Exodus 39.30 (Geneva)',\n",
       " 'Exodus 39.29 (ODRV)',\n",
       " 'Exodus 39.29 (Wycliffe)',\n",
       " 'Exodus 39.29 (Vulgate)']"
      ]
     },
     "execution_count": 575,
     "metadata": {},
     "output_type": "execute_result"
    }
   ],
   "source": [
    "PV['Exodus 39.30 (AKJV)']"
   ]
  },
  {
   "cell_type": "code",
   "execution_count": 507,
   "id": "6acd19ec",
   "metadata": {},
   "outputs": [
    {
     "data": {
      "text/plain": [
       "{'English KJV': 'Exodus 39.30',\n",
       " 'Hebrew': 'Exodus 39.30',\n",
       " 'Latin': 'Exodus 39.29',\n",
       " 'Greek*': 'Exodus 36.37',\n",
       " 'Greek2 (eg NETS)*': 'Exodus 36.38-39'}"
      ]
     },
     "execution_count": 507,
     "metadata": {},
     "output_type": "execute_result"
    }
   ],
   "source": [
    "mapping['Exodus 39.30']"
   ]
  },
  {
   "cell_type": "markdown",
   "id": "81001a95",
   "metadata": {},
   "source": [
    "# Proper Nouns "
   ]
  },
  {
   "cell_type": "code",
   "execution_count": null,
   "id": "3c0dd0f6",
   "metadata": {},
   "outputs": [],
   "source": [
    "# Biblical entities \n",
    "with open(f\"../assets/Bibles/TIPNR - Translators Individualised Proper Names with all References - STEPBible.org CC BY.txt\") as file: \n",
    "    data = file.readlines()\n",
    "in_entities_section = False\n",
    "e_to_v = {}\n",
    "for idx, line in enumerate(data): \n",
    "    line = line.strip()\n",
    "    if not line:\n",
    "        continue\n",
    "    \n",
    "    if line.startswith('$========== '):\n",
    "        in_entities_section = True\n",
    "        continue  \n",
    "    \n",
    "    if idx < 112: continue\n",
    "    if idx > 14394: continue\n",
    "    if in_entities_section:\n",
    "        if line[0] != \"–\": continue \n",
    "        if not re.search(\"@\",line): continue \n",
    "        name = re.findall(\"^(.*?)@\",line)[0]\n",
    "        refs = line.split(\"reference=\")[-1].split(\"\\t\")[-1]\n",
    "        name = name.split(\"\\t\")[-1].split(\"|\")\n",
    "        KJV_name = re.findall(r\"KJV\\s*=\\s*(.*?)[);,]\",line)\n",
    "        if len(KJV_name) > 0: \n",
    "            KJV_name = KJV_name[0]\n",
    "            name.append(KJV_name)\n",
    "        for n in name: \n",
    "            n = re.sub(\"_\",\" \",n)\n",
    "            if n not in e_to_v: e_to_v[n] = []\n",
    "            ref_list = [re.findall(\"([\\d\\w]+)\\.(\\d+\\.\\d+)\",r) for r in refs.split(\"; \")]\n",
    "            ref_list = [f\"{corrected_books[r[0][0]]} {r[0][1]}\" for r in ref_list if len(r) > 0 if r[0][0] != 'Etc']\n",
    "            e_to_v[n].extend(sorted(list(set(ref_list))))\n",
    "    else:\n",
    "        continue"
   ]
  },
  {
   "cell_type": "code",
   "execution_count": null,
   "id": "a6022bad",
   "metadata": {},
   "outputs": [],
   "source": [
    "with open(f\"../assets/Bibles/proper_nouns.json\",'w+') as file: \n",
    "    json.dump(e_to_v, file)"
   ]
  },
  {
   "cell_type": "markdown",
   "id": "c5a284a1",
   "metadata": {},
   "source": [
    "# Citations "
   ]
  },
  {
   "cell_type": "code",
   "execution_count": null,
   "id": "ae92a355",
   "metadata": {},
   "outputs": [],
   "source": [
    "import pandas as pd\n",
    "from tqdm import tqdm  \n",
    "def clean_text(s): \n",
    "    s = re.sub(r\"\\<\\/i\\>|\\<NOTE\\>|NONLATINALPHABET|\\<i\\>|\\d+\\^PAGE[S]*\\^MISSING\",\"\",s)\n",
    "    s = re.sub(r\"\\s+\",\" \",s)\n",
    "    s = s.strip(\" \")\n",
    "    return s \n",
    "all_c = {}\n",
    "c_repo = \"../../CITATIONS\"\n",
    "c_files = sorted(k for k in os.listdir(c_repo) if \".csv\" in k)\n",
    "for file in tqdm(c_files): \n",
    "    era, prefix = file.split(\"_citations.csv\")[0].split(\"_\")\n",
    "    # print(era,prefix)\n",
    "    data = pd.read_csv(f\"{c_repo}/{file}\",header=None).to_dict(orient='records')\n",
    "    data = {(d[0],d[1],d[2]):d for d in data}\n",
    "    text = pd.read_csv(f\"../../SERMONS_APP/db/data/{era}/{prefix}_body.csv\",header=None).to_dict(orient='records')\n",
    "    text = {(d[0],d[1],\"In-Text\"):clean_text(d[6]) for d in text}\n",
    "    for key, t in text.items(): \n",
    "        if key in data: \n",
    "            data[key]['text'] = t \n",
    "    if f\"{prefix}_margin.csv\" in os.listdir(f\"../../SERMONS_APP/db/data/{era}\"): \n",
    "        text = pd.read_csv(f\"../../SERMONS_APP/db/data/{era}/{prefix}_margin.csv\",header=None).to_dict(orient='records')\n",
    "        text = {(d[0],d[1],\"Note \" + str(d[2])):clean_text(d[3]) for d in text}\n",
    "        for key, t in text.items(): \n",
    "            if key in data: \n",
    "                data[key]['text'] = t\n",
    "    for d in data.values(): \n",
    "        all_c[d[6]] = d[4] \n",
    "    # data = pd.DataFrame(list(data.values()))\n",
    "    # data.to_csv(f\"{c_repo}/{file}\",index=False)"
   ]
  },
  {
   "cell_type": "code",
   "execution_count": null,
   "id": "240ed15f",
   "metadata": {},
   "outputs": [],
   "source": [
    "list(all_c.items())[1:10]"
   ]
  },
  {
   "cell_type": "code",
   "execution_count": null,
   "id": "7d3335a8",
   "metadata": {},
   "outputs": [],
   "source": [
    "import sys \n",
    "sys.path.append('../')\n",
    "from lib.EEPS_helper import isNumeral\n",
    "from collections import Counter"
   ]
  },
  {
   "cell_type": "code",
   "execution_count": null,
   "id": "02df1368",
   "metadata": {},
   "outputs": [],
   "source": [
    "formats = {}\n",
    "\n",
    "def space_punctuation(text):\n",
    "    text = re.sub(r'([\\.\\,\\:\\;\\!\\?\\(\\)\\-\\&])(?=\\w)', r'\\1 ', text)\n",
    "    text = re.sub(r'(?<=\\w)([\\.\\,\\:\\;\\!\\?\\(\\)\\-\\&])', r' \\1', text)\n",
    "    text = re.sub(r'\\s+', ' ', text)\n",
    "    return text.strip()\n",
    "\n",
    "for orig in tqdm(all_c): \n",
    "    if orig == '6': continue \n",
    "    text = space_punctuation(orig)\n",
    "    tokens = text.split(\" \")\n",
    "    format = []\n",
    "    for t in tokens: \n",
    "        if isNumeral(t): \n",
    "            format.append('N')\n",
    "        elif re.search(r\"[\\.\\,\\:\\;\\!\\?\\(\\)\\-\\&]\",t):  \n",
    "            format.append(t)\n",
    "        else: \n",
    "            format.append('W')\n",
    "    format = \" \".join(format)\n",
    "    if format not in formats: formats[format] = 0\n",
    "    formats[format] += 1       "
   ]
  },
  {
   "cell_type": "code",
   "execution_count": null,
   "id": "da430f86",
   "metadata": {},
   "outputs": [],
   "source": [
    "Counter(formats).most_common(n=10)"
   ]
  },
  {
   "cell_type": "code",
   "execution_count": null,
   "id": "97b0e5d9",
   "metadata": {},
   "outputs": [],
   "source": [
    "all_books = {}\n",
    "for orig, std in all_c.items(): \n",
    "    if orig == '6' and std == '4': continue \n",
    "    words = re.findall(r\"([A-Za-z]+)\",orig)\n",
    "    book = re.findall(r\"[A-Za-z]+\",std)[0].lower()\n",
    "    if book not in all_books: \n",
    "        all_books[book] = {}\n",
    "    for w in words: \n",
    "        if isNumeral(w): \n",
    "            continue \n",
    "        w = w.lower()\n",
    "        if w in ['of','cap','chap','verse','vers','chapter','ch']:\n",
    "            continue \n",
    "        if w not in all_books[book]: \n",
    "            all_books[book][w] = 0 \n",
    "        all_books[book][w] += 1 \n",
    "\n",
    "common_abbrev = {}\n",
    "for book, abbrevs in all_books.items(): \n",
    "    if book == \"children\": continue \n",
    "    top = Counter(abbrevs).most_common(n=1)[0]\n",
    "    common_abbrev[book] = top[0] \n",
    "\n",
    "with open(f\"../assets/Bibles/top_abbrev.json\",'w+') as file: \n",
    "    json.dump(common_abbrev, file)\n",
    "common_abbrev "
   ]
  }
 ],
 "metadata": {
  "kernelspec": {
   "display_name": "sermons_app",
   "language": "python",
   "name": "python3"
  },
  "language_info": {
   "codemirror_mode": {
    "name": "ipython",
    "version": 3
   },
   "file_extension": ".py",
   "mimetype": "text/x-python",
   "name": "python",
   "nbconvert_exporter": "python",
   "pygments_lexer": "ipython3",
   "version": "3.11.9"
  }
 },
 "nbformat": 4,
 "nbformat_minor": 5
}
