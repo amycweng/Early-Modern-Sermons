{
 "cells": [
  {
   "cell_type": "markdown",
   "id": "d6502d6e",
   "metadata": {},
   "source": [
    "# Setup"
   ]
  },
  {
   "cell_type": "code",
   "execution_count": 1,
   "id": "bf64de92",
   "metadata": {},
   "outputs": [],
   "source": [
    "import os, json,re\n",
    "from tqdm import tqdm "
   ]
  },
  {
   "cell_type": "markdown",
   "id": "3f350208",
   "metadata": {},
   "source": [
    "## Bible books "
   ]
  },
  {
   "cell_type": "code",
   "execution_count": 2,
   "id": "da58dd76",
   "metadata": {},
   "outputs": [],
   "source": [
    "corrected_books = {\n",
    "    'Gen': 'Genesis',\n",
    "    'Exo': 'Exodus',\n",
    "    'Lev': 'Leviticus',\n",
    "    'Num': 'Numbers',\n",
    "    'Deu': 'Deuteronomy',\n",
    "    'Jos': 'Joshua',\n",
    "    'Jdg': 'Judges',\n",
    "    'Rut': 'Ruth',\n",
    "    '1Sa': '1 Samuel',\n",
    "    '2Sa': '2 Samuel',\n",
    "    '1Ki': '1 Kings',\n",
    "    '2Ki': '2 Kings',\n",
    "    '1Ch': '1 Chronicles',\n",
    "    '2Ch': '2 Chronicles',\n",
    "    'Ezr': 'Ezra',\n",
    "    'Neh':'Nehemiah',\n",
    "    'Est': 'Esther',\n",
    "    'Job': 'Job',\n",
    "    'Psa': 'Psalms',\n",
    "    'Pro': 'Proverbs',\n",
    "    'Ecc': 'Ecclesiastes',\n",
    "    'Sng': 'Canticles',\n",
    "    'Isa': 'Isaiah',\n",
    "    'Jer': 'Jeremiah',\n",
    "    'Lam': 'Lamentations',\n",
    "    'Ezk': 'Ezekiel',\n",
    "    'Dan': 'Daniel',\n",
    "    'Hos': 'Hosea',\n",
    "    'Jol': 'Joel',\n",
    "    'Amo': 'Amos',\n",
    "    'Oba': 'Obadiah',\n",
    "    'Jon': 'Jonah',\n",
    "    'Mic': 'Micah',\n",
    "    'Nam': 'Nahum',\n",
    "    'Hab': 'Habakkuk',\n",
    "    'Zep': 'Zephaniah',\n",
    "    'Hag': 'Haggai',\n",
    "    'Zec': 'Zechariah',\n",
    "    'Mal': 'Malachi',\n",
    "    'Mat': 'Matthew',\n",
    "    'Mrk': 'Mark',\n",
    "    'Luk': 'Luke',\n",
    "    'Jhn': 'John',\n",
    "    'Act': 'Acts',\n",
    "    'Rom': 'Romans',\n",
    "    '1Co': '1 Corinthians',\n",
    "    '2Co': '2 Corinthians',\n",
    "    'Gal': 'Galatians',\n",
    "    'Eph': 'Ephesians',\n",
    "    'Php': 'Philippians',\n",
    "    'Col': 'Colossians',\n",
    "    '1Th': '1 Thessalonians',\n",
    "    '2Th': '2 Thessalonians',\n",
    "    '1Ti': '1 Timothy',\n",
    "    '2Ti': '2 Timothy',\n",
    "    'Tit': 'Titus',\n",
    "    'Phm': 'Philemon',\n",
    "    'Heb': 'Hebrews',\n",
    "    'Jas': 'James',\n",
    "    '1Pe': '1 Peter',\n",
    "    '2Pe': '2 Peter',\n",
    "    '1Jn': '1 John',\n",
    "    '2Jn': '2 John',\n",
    "    '3Jn': '3 John',\n",
    "    'Jud': 'Jude',\n",
    "    'Rev': 'Revelation',\n",
    "    'Sus': \"Susanna\",\n",
    "    'Bel':\"Bel and the Dragon\",\n",
    "    'Bar':'Baruch',\n",
    "    'Sir':'Ecclesiasticus',\n",
    "    'Wis':'Wisdom',\n",
    "    '1Ma':'1 Maccabees',\n",
    "    '2Ma':'2 Maccabees',\n",
    "    '1Es':\"1 Esdras\",\n",
    "    '2Es':'2 Esdras',\n",
    "    '3Es': '3 Esdras',\n",
    "    '4Es': '4 Esdras',\n",
    "    'Tob':'Tobit',\n",
    "    'Jdt':'Judith',\n",
    "    '4Ma':'4 Maccabees',\n",
    "    'Man':'Manasseh',\n",
    "    'S3Y':\"Song of the Three Young Men\",\n",
    "    'Oda':'Obadiah',\n",
    "    'Mrk':'Mark'\n",
    "}"
   ]
  },
  {
   "cell_type": "markdown",
   "id": "8b14b0c9",
   "metadata": {},
   "source": [
    "# Versification"
   ]
  },
  {
   "cell_type": "markdown",
   "id": "8d2c7e96",
   "metadata": {},
   "source": [
    "## Get verse mappings"
   ]
  },
  {
   "cell_type": "code",
   "execution_count": 6,
   "id": "5a1fd4d6",
   "metadata": {},
   "outputs": [],
   "source": [
    "def convert_test(expression):\n",
    "    def replace_match(match):\n",
    "        abbrev = match.group(1)\n",
    "        chapter = match.group(2)\n",
    "        verse = match.group(3)\n",
    "        full_book = corrected_books.get(abbrev, abbrev)\n",
    "        return f\"{full_book} {chapter}.{verse}\"\n",
    "\n",
    "    expression = re.sub(r'([\\d\\w]+)\\.(\\d+):(\\d+(\\.\\d+)?)', replace_match, expression)\n",
    "\n",
    "    if '=' in expression:\n",
    "        parts = expression.split('=')\n",
    "        operation = 'LAST' if 'Last' in parts[1] else 'E' if 'Exist' == parts[1] else 'NE'\n",
    "        start = parts[0].strip()\n",
    "        end = None\n",
    "    elif '>' in expression:\n",
    "        parts = expression.split('>')\n",
    "        start = parts[0].strip()\n",
    "        end = parts[1].strip()\n",
    "        operation = 'GT'\n",
    "    elif '<' in expression:\n",
    "        parts = expression.split('<')\n",
    "        start = parts[0].strip()\n",
    "        end = parts[1].strip()\n",
    "        operation = 'LT'\n",
    "    else:\n",
    "        start = expression.strip()\n",
    "        end = None\n",
    "        operation = 'E'\n",
    "\n",
    "    return (start, end, operation)"
   ]
  },
  {
   "cell_type": "code",
   "execution_count": 7,
   "id": "9c78b5d8",
   "metadata": {},
   "outputs": [
    {
     "data": {
      "text/plain": [
       "(429, 7287)"
      ]
     },
     "execution_count": 7,
     "metadata": {},
     "output_type": "execute_result"
    }
   ],
   "source": [
    "with open(f\"../../Bibles/TVTMS - Translators Versification Traditions with Methodology for Standardisation for Eng+Heb+Lat+Grk+Others - STEPBible.org CC BY.txt\") as file: \n",
    "    data = file.readlines()\n",
    "\n",
    "in_section = False \n",
    "tradition_tests = {} \n",
    "mapping = {}\n",
    "test_key = None \n",
    "def convert_name(item): \n",
    "    if \"Ps2\" in item or 'Esg' in item or \"LJe\" in item or \"Absent\" in item: return None \n",
    "    if \".\" not in item: return None \n",
    "    book, nums = item.split(\".\")[:2]\n",
    "    book = corrected_books[book]\n",
    "    nums = re.sub(\":\",\".\",nums)\n",
    "    return f\"{book} {nums}\"\n",
    "\n",
    "for idx, line in enumerate(data): \n",
    "    if idx >= 3718: break\n",
    "    line = line.strip()\n",
    "    if not line:\n",
    "        continue\n",
    "    if re.search(r'\\$Rom.14:22-23', line): \n",
    "        in_section =False\n",
    "        continue \n",
    "    if re.search(r\"\\$[\\d\\w]+\\.\\d+[\\:]*\",line):\n",
    "        if \"English\" not in line: continue \n",
    "        line = line.split(\"\\t\")\n",
    "        key = line[0]\n",
    "        found_new_test_key = False\n",
    "        if \":\" not in key: # $Dan.13\tEnglish KJV\tHebrew\tLatin*\tGreek\tGreek2-NETS \n",
    "            book, start = key.strip(\"$#\").split(\".\")\n",
    "            book = corrected_books[book]\n",
    "            test_key = \";\".join([book, start, start])\n",
    "            tradition_tests[test_key] = {k:[] for k in line[1:]} \n",
    "            found_new_test_key=True\n",
    "        elif \"-\" in key: # across chapter division \n",
    "            if \"--\" in key: \n",
    "                start, end = key.strip(\"$#\").split(\"--\")\n",
    "            else: \n",
    "                start, end = key.strip(\"$#\").split(\"-\")\n",
    "            # print(start,end)\n",
    "            book,start = start.split(\".\")[:2]\n",
    "            if book not in corrected_books: \n",
    "                in_section = False \n",
    "                continue \n",
    "            in_section = True \n",
    "            book = corrected_books[book]\n",
    "            start = re.sub(\":\",\".\",start)            \n",
    "            end = re.sub(\":\",\".\", end)\n",
    "            test_key = \";\".join([book, start, end])\n",
    "            found_new_test_key=True\n",
    "            tradition_tests[test_key] = {k:[] for k in line[1:]} \n",
    "        else: \n",
    "            key = key.strip(\"$#$\")\n",
    "            book,start = key.split(\".\")[:2]\n",
    "            if book not in corrected_books: \n",
    "                in_section = False \n",
    "                continue \n",
    "            in_section = True \n",
    "            book = corrected_books[book]\n",
    "            start = re.sub(\":\",\".\",start)\n",
    "            test_key = \";\".join([book, start, start])\n",
    "            found_new_test_key=True\n",
    "            tradition_tests[test_key] = {k:[] for k in line[1:]} \n",
    "        \n",
    "        if not found_new_test_key: \n",
    "            in_section = False \n",
    "\n",
    "    if \"TEST: \" in line and in_section: \n",
    "        line = line.split(\"\\t\")[1:]\n",
    "        if len(line) != len(tradition_tests[test_key]): \n",
    "            print(test_key)\n",
    "            # print(tradition_tests[test_key])\n",
    "            print(line)\n",
    "            continue \n",
    "        for idx, key in enumerate(tradition_tests[test_key]):\n",
    "            test = line[idx]\n",
    "            tradition_tests[test_key][key].append(convert_test(line[idx]))\n",
    "    elif (\"To\" in line or \"Verse\" in line or \"TextMayBeMissing\" in line) and in_section: \n",
    "        line = line.split(\"\\t\")[1:]\n",
    "        if len(line) != len(tradition_tests[test_key]): continue \n",
    "        verse_key = None \n",
    "        for idx, key in enumerate(tradition_tests[test_key]): \n",
    "            if  \"English KJV\" in key: \n",
    "                verse_key = convert_name(line[idx])\n",
    "        if verse_key is None: continue\n",
    "        if \"Title\" in verse_key: continue  \n",
    "        for idx, key in enumerate(tradition_tests[test_key]): \n",
    "            if verse_key not in mapping: \n",
    "                mapping[verse_key] = {}\n",
    "            if \"Absent [=\" in line[idx]: \n",
    "                mapping[verse_key][key] = convert_name(line[idx].split(\"[=\")[-1].strip(\"]\"))\n",
    "            elif 'NoVerse' in line[idx] or \"Absent\" in line[idx]: \n",
    "                mapping[verse_key][key] = None\n",
    "            else: \n",
    "                mapping[verse_key][key] = convert_name(line[idx])\n",
    "\n",
    "def expand_references(reference_list):\n",
    "    book = reference_list[0]\n",
    "    start_ref = reference_list[1]\n",
    "    end_ref = reference_list[2]\n",
    "\n",
    "    start_chapter, start_verse = map(int, start_ref.split('.'))\n",
    "    if \".\" not in end_ref: \n",
    "        end_chapter, end_verse = start_chapter, int(end_ref) \n",
    "    else: \n",
    "        end_chapter, end_verse = map(int, end_ref.split('.'))\n",
    "\n",
    "    result = []\n",
    "\n",
    "    for chapter in range(start_chapter, end_chapter + 1):\n",
    "        start_v = start_verse if chapter == start_chapter else 1\n",
    "        end_v = end_verse if chapter == end_chapter else 151  \n",
    "\n",
    "        for verse in range(start_v, end_v + 1):\n",
    "            full_ref = f'{book} {chapter}.{verse}'\n",
    "            result.append(full_ref)\n",
    "    return result\n",
    "\n",
    "final_mapping = {}\n",
    "for v_id, mlist in mapping.items(): \n",
    "    if \"-\" in v_id: \n",
    "        book = \" \".join(v_id.split()[:-1])\n",
    "        cv = v_id.split()[-1]\n",
    "        cv1, cv2 = v_id.split()[-1].split(\"-\")\n",
    "        refs = expand_references([book,cv1,cv2])\n",
    "        for ref in refs: \n",
    "            if ref not in final_mapping: \n",
    "                final_mapping[ref] = {}\n",
    "        for trad, v_id2 in mlist.items():\n",
    "            if v_id2 is None: \n",
    "                for idx, ref in enumerate(refs): \n",
    "                    final_mapping[ref][trad] = None \n",
    "            else: \n",
    "                book = \" \".join(v_id2.split()[:-1])\n",
    "                cv = v_id2.split()[-1].split(\"-\")\n",
    "                if len(cv) == 2: \n",
    "                    cv1, cv2 = cv\n",
    "                    refs2 = expand_references([book,cv1,cv2])\n",
    "                    for idx, ref in enumerate(refs): \n",
    "                        if len(refs2) > idx: \n",
    "                            final_mapping[ref][trad] = refs2[idx]\n",
    "                else: \n",
    "                    for ref in refs: \n",
    "                        final_mapping[ref][trad] = v_id2\n",
    "    else: \n",
    "        if v_id not in final_mapping: \n",
    "            final_mapping[v_id] = {}\n",
    "        for trad, v_id2 in mlist.items():\n",
    "            final_mapping[v_id][trad] = v_id2\n",
    "mapping = final_mapping \n",
    "len(tradition_tests), len(mapping)"
   ]
  },
  {
   "cell_type": "code",
   "execution_count": 8,
   "id": "e7e31eed",
   "metadata": {},
   "outputs": [
    {
     "name": "stdout",
     "output_type": "stream",
     "text": [
      "Daniel;3.23;4.3 {'English KJV': [('Daniel 3.30', None, 'LAST')], 'Hebrew': [('Daniel 3.33', None, 'LAST')], 'Latin*': [('Daniel 3.100', None, 'LAST')], 'Greek*': [('Daniel 3.97', None, 'LAST')]}\n",
      "Daniel;4.4;37 {'English KJV': [('Daniel 4.37', None, 'LAST'), ('', None, 'E'), ('Daniel 3.30', None, 'LAST')], 'Hebrew': [('Daniel 4.34', None, 'LAST'), ('', None, 'E'), ('Daniel 3.33', None, 'LAST')], 'Latin': [('Daniel 4.34', None, 'LAST'), ('', None, 'E'), ('Daniel 3.100', None, 'LAST')], 'Greek': [('Daniel 4.34', None, 'LAST'), ('Daniel 4.34.3', None, 'E'), ('Daniel 3.97', None, 'LAST')], 'Greek2': [('Daniel 4.37', None, 'LAST'), ('Daniel 4.37.3', None, 'E'), ('Daniel 3.97', None, 'LAST')], 'Greek Undivided': [('Daniel 4.34', None, 'LAST'), ('Daniel 4.34.3', None, 'NE'), ('Daniel 3.97', None, 'LAST')], 'Greek2 Undivided': [('Daniel 4.37', None, 'LAST'), ('Daniel 4.37.3', None, 'NE'), ('Daniel 3.97', None, 'LAST')]}\n",
      "Daniel;5.31;6.28 {'English KJV': [('Daniel 6.28', None, 'LAST')], 'Hebrew': [('Daniel 6.29', None, 'LAST')], 'Latin': [('Daniel 6.28', None, 'LAST')], 'Greek': [('Daniel 6.29', None, 'LAST')]}\n",
      "Susanna;1.1;64 {'English KJV': [('Susanna 1.64', None, 'LAST'), ('Daniel 13.1', None, 'NE')], 'Hebrew': [('Susanna 1.10', None, 'NE'), ('Daniel 13.1', None, 'NE')], 'Latin*': [('Susanna 1.10', None, 'NE'), ('Daniel 13.1', None, 'E')], 'Greek': [('Susanna 1.64', None, 'LAST'), ('Daniel 13.1', None, 'NE')], 'Greek2-NETS': [('Susanna 1.62', None, 'LAST'), ('Daniel 13.1', None, 'NE')]}\n",
      "Bel and the Dragon;1.2;42 {'English KJV': [('Bel and the Dragon 1.42', None, 'LAST'), ('Daniel 14.1', None, 'NE')], 'Hebrew': [('Bel and the Dragon 1.10', None, 'NE'), ('Daniel 14.1', None, 'NE')], 'Latin*': [('Bel and the Dragon 1.10', None, 'NE'), ('Daniel 14.1', None, 'E')], 'Greek': [('Bel and the Dragon 1.42', None, 'LAST'), ('Daniel 14.1', None, 'NE')]}\n"
     ]
    }
   ],
   "source": [
    "for key, tests in tradition_tests.items(): \n",
    "    if \"Susanna\" not in key and \"Daniel\" not in key and \"Bel and the Dragon\" not in key: \n",
    "        continue \n",
    "    print(key, tests)"
   ]
  },
  {
   "cell_type": "code",
   "execution_count": 9,
   "id": "3a58b8a9",
   "metadata": {},
   "outputs": [
    {
     "name": "stdout",
     "output_type": "stream",
     "text": [
      "3 John;1.14;1.14 {'English KJV': [('3 John 1.14', None, 'LAST')], 'Greek+NRSV': [('3 John 1.15', None, 'LAST')], 'Greek2': [('3 John 1.14', None, 'LAST')]}\n"
     ]
    }
   ],
   "source": [
    "for key, tests in tradition_tests.items(): \n",
    "    if \"3 John;\" not in key: \n",
    "        continue \n",
    "    print(key, tests)"
   ]
  },
  {
   "cell_type": "code",
   "execution_count": 10,
   "id": "4bf18fec",
   "metadata": {},
   "outputs": [
    {
     "data": {
      "text/plain": [
       "({'English KJV': [('Canticles 7.13', None, 'LAST'),\n",
       "   ('Canticles 6.13', None, 'LAST')],\n",
       "  'Hebrew': [('Canticles 7.14', None, 'LAST'),\n",
       "   ('Canticles 6.12', None, 'LAST')],\n",
       "  'Latin': [('Canticles 7.13', None, 'LAST'),\n",
       "   ('Canticles 6.12', None, 'LAST')],\n",
       "  'Greek': [('Canticles 7.14', None, 'LAST'),\n",
       "   ('Canticles 6.12', None, 'LAST')]},\n",
       " {'English KJV': 'Canticles 6.13',\n",
       "  'Hebrew': 'Canticles 7.1',\n",
       "  'Latin': 'Canticles 6.12',\n",
       "  'Greek': 'Canticles 7.1'})"
      ]
     },
     "execution_count": 10,
     "metadata": {},
     "output_type": "execute_result"
    }
   ],
   "source": [
    "tradition_tests['Canticles;6.1;7.13'], mapping['Canticles 6.13']"
   ]
  },
  {
   "cell_type": "code",
   "execution_count": 11,
   "id": "a3a198d6",
   "metadata": {},
   "outputs": [],
   "source": [
    "with open(\"../../Bibles/versification.json\",'w+') as file: \n",
    "    json.dump([tradition_tests, mapping],file)"
   ]
  },
  {
   "cell_type": "markdown",
   "id": "e2081909",
   "metadata": {},
   "source": [
    "## Get Parallel Verses"
   ]
  },
  {
   "cell_type": "code",
   "execution_count": 3,
   "id": "3282638d",
   "metadata": {},
   "outputs": [
    {
     "name": "stderr",
     "output_type": "stream",
     "text": [
      "100%|██████████| 36702/36702 [00:01<00:00, 25015.54it/s]\n",
      "100%|██████████| 31090/31090 [00:01<00:00, 26828.48it/s]\n",
      "100%|██████████| 14736/14736 [00:00<00:00, 27352.72it/s]\n",
      "100%|██████████| 35811/35811 [00:00<00:00, 37786.47it/s]\n",
      "100%|██████████| 7954/7954 [00:00<00:00, 30214.86it/s]\n",
      "100%|██████████| 9622/9622 [00:00<00:00, 28633.60it/s]\n",
      "100%|██████████| 35809/35809 [00:01<00:00, 27563.55it/s]\n"
     ]
    },
    {
     "data": {
      "text/plain": [
       "276624"
      ]
     },
     "execution_count": 3,
     "metadata": {},
     "output_type": "execute_result"
    }
   ],
   "source": [
    "bible = {}\n",
    "import pandas as pd \n",
    "b_versions = ['AKJV','Geneva', 'ODRV','Douay-Rheims', 'Tyndale', 'Wycliffe','Vulgate']\n",
    "for bname in b_versions:\n",
    "    data = pd.read_csv(f\"../../Bibles/{bname}.csv\",header=None)\n",
    "    data = data.to_dict(orient=\"records\")\n",
    "    for entry in tqdm(data):\n",
    "        key = entry[0]\n",
    "        v_id = key.split(\" (\")[0]\n",
    "        text = entry[6]\n",
    "        if re.search(\"Douay-Rheims\",key):\n",
    "            if re.sub(\"Douay-Rheims\",\"ODRV\",key) in bible: continue\n",
    "        if len(text.split(\" \")) < 200:\n",
    "            bible[key] = text # f\"{v_id} {text}\"\n",
    "\n",
    "        parts = re.split(r'(?<=[\\.\\?]) (?=[A-Z])|(?<=[\\!\\:\\;])', text)\n",
    "        parts = [re.sub(r'\\s+', ' ', p).strip() for p in parts if len(p.strip(\" \")) > 0]\n",
    "        if (len(parts[0].split(\" \")) <= 5 or len(parts[-1].split(\" \")) <= 5 or re.search(r\"\\&\\w+\\;\",parts[0])): \n",
    "            for pidx, p in enumerate(parts): continue\n",
    "        elif len(parts) > 1:  \n",
    "            for pidx, p in enumerate(parts):\n",
    "              p_id = f\"{key} - {pidx}\"\n",
    "              if len(p) == 0: continue\n",
    "              if re.search(r\"\\&\\w+\\;\",p) or len(p.split(\" \")) <= 5: continue\n",
    "              bible[p_id] = p # f\"Part {pidx+1} of {v_id}: {p}\"\n",
    "bible_verses = list(bible.values())\n",
    "bible_ids = list(bible.keys())\n",
    "id_to_idx = {v_id:idx for idx, v_id in enumerate(bible_ids)}\n",
    "len(bible_verses)"
   ]
  },
  {
   "cell_type": "code",
   "execution_count": 13,
   "id": "1c1b07f8",
   "metadata": {},
   "outputs": [],
   "source": [
    "def fix_name(v_id):\n",
    "  if \"1 Kings\" in v_id: v_id = \"3 Kings\" + v_id.split(\"1 Kings\")[-1]\n",
    "  elif \"2 Kings\" in v_id: v_id = \"4 Kings\" + v_id.split(\"2 Kings\")[-1]\n",
    "  elif \"1 Samuel\" in v_id: v_id = \"1 Kings\" + v_id.split(\"1 Samuel\")[-1]\n",
    "  elif \"2 Samuel\" in v_id: v_id = \"2 Kings\" + v_id.split(\"2 Samuel\")[-1]\n",
    "  elif re.search(r\"^\\d+ Chronicles\",v_id): v_id = re.sub(r\"Chronicles\",\"Paralipomenon\",v_id)\n",
    "  return v_id\n",
    "\n",
    "def expand_test_id(reference_list, version):\n",
    "    book = reference_list[0]\n",
    "    if version in ['Douay-Rheims','Vulgate','ODRV']: \n",
    "        book = fix_name(book)\n",
    "    start_ref = reference_list[1].strip(\"abc\")\n",
    "    end_ref = reference_list[2].strip('abc')\n",
    "    start_chapter, start_verse = map(int, start_ref.split('.'))\n",
    "    if \".\" not in end_ref: \n",
    "        end_chapter, end_verse = start_chapter, int(end_ref) \n",
    "    else: \n",
    "        end_chapter, end_verse = map(int, end_ref.split('.'))\n",
    "\n",
    "    result = []\n",
    "\n",
    "    for chapter in range(start_chapter, end_chapter + 1):\n",
    "        start_v = start_verse if chapter == start_chapter else 1\n",
    "        end_v = end_verse if chapter == end_chapter else 151\n",
    "\n",
    "        for verse in range(start_v, end_v + 1):\n",
    "            full_ref = f'{book} {chapter}.{verse} ({version})'\n",
    "            if full_ref in bible: \n",
    "                result.append(full_ref)\n",
    "    return result\n",
    "\n",
    "def normalize_cv(cv):\n",
    "    cv = cv.split(\"*\")[0]\n",
    "    parts = cv.split(\".\")\n",
    "    return \".\".join(parts[:2])\n",
    "\n",
    "def E(book, cv, version):\n",
    "    ref = f\"{book} {normalize_cv(cv)} ({version})\"\n",
    "    return ref in bible\n",
    "\n",
    "def LENGTH(v1, version):\n",
    "    if \"+\" in v1: \n",
    "        v1,v2 = v1.split(\"+\")\n",
    "        v1key, v2key = v1.split(\"*\")[0],v2.split(\"*\")[0]\n",
    "        ref1 = f\"{v1key} ({version})\"\n",
    "        ref2 = f\"{v2key} ({version})\"\n",
    "        mult1,mult2 = 1, 1 \n",
    "        if \"*2\" in v1: mult1 = 2 \n",
    "        if \"*2\" in v2: mult2 = 2 \n",
    "        if ref1 in bible and ref2 in bible: \n",
    "            return len(bible[ref1].split())*mult1 + len(bible[ref2].split())*mult2\n",
    "        return False \n",
    "    else: \n",
    "        v1key = v1.split(\"*\")[0]\n",
    "        ref1 = f\"{v1key} ({version})\"\n",
    "        mult1 = 1 \n",
    "        if \"*2\" in v1: mult1 = 2 \n",
    "        if ref1 in bible: \n",
    "            return len(bible[ref1].split())*mult1\n",
    "        return False  \n",
    "\n",
    "def LT(v1, v2, version): \n",
    "    left = LENGTH(v1, version)\n",
    "    right = LENGTH(v2, version)\n",
    "    if not left or not right: \n",
    "        return False \n",
    "    return left < right \n",
    "\n",
    "def GT(v1, v2, version): \n",
    "    left = LENGTH(v1, version)\n",
    "    right = LENGTH(v2, version)\n",
    "    if not left or not right: \n",
    "        return False \n",
    "    return left > right \n",
    "    \n",
    "def LAST(book, cv,  version):\n",
    "    chapter, verse = map(int, normalize_cv(cv).split(\".\"))\n",
    "    if f\"{book} {chapter}.{verse} ({version})\" not in bible: \n",
    "        return False \n",
    "    elif f\"{book} {chapter}.{int(verse)+1} ({version})\" in bible: \n",
    "        return False \n",
    "    return True "
   ]
  },
  {
   "cell_type": "code",
   "execution_count": 15,
   "id": "b8300b62",
   "metadata": {},
   "outputs": [],
   "source": [
    "def verse_comparison(bcv_list,cv1,larger=True): \n",
    "    book = bcv_list[0]\n",
    "    if larger: \n",
    "        if \".\" not in bcv_list[-1]: \n",
    "            v = bcv_list[-1]\n",
    "            c = bcv_list[-2].split(\".\")[0]\n",
    "            cv = f\"{c}.{v}\"\n",
    "        else: \n",
    "            cv = normalize_cv(bcv_list[-1])\n",
    "            c, v = cv.split(\".\")\n",
    "    else: \n",
    "        cv = normalize_cv(bcv_list[-2])\n",
    "        c, v = cv.split(\".\")\n",
    "\n",
    "    cv1 = normalize_cv(cv1)\n",
    "    c1, v1 = cv1.split(\".\")\n",
    "    if \"-\" in v1:\n",
    "        v1 = v1.split(\"-\")[-1] \n",
    "    v = v.strip('abc')\n",
    "    v1 = v1.strip(\"abc\")\n",
    "    c,v,c1,v1 = int(c), int(v), int(c1), int(v1)\n",
    "    \n",
    "    if larger: \n",
    "        if c == c1: \n",
    "            if v1 > v: \n",
    "                return cv1 \n",
    "            else: \n",
    "                return cv \n",
    "        elif c > c1: \n",
    "            return cv \n",
    "        else: \n",
    "            return cv1 \n",
    "    else: \n",
    "        if c == c1: \n",
    "            if v1 < v: \n",
    "                return cv1 \n",
    "            else: \n",
    "                return cv \n",
    "        elif c < c1: \n",
    "            return cv \n",
    "        else: \n",
    "            return cv1 \n",
    "# verse_comparison(['Job','40.1','41.34'], '39.30',False)"
   ]
  },
  {
   "cell_type": "code",
   "execution_count": 16,
   "id": "b2a0ffc6",
   "metadata": {},
   "outputs": [
    {
     "name": "stdout",
     "output_type": "stream",
     "text": [
      "8999\n"
     ]
    }
   ],
   "source": [
    "PV = {}\n",
    "chap_trad = {}\n",
    "\n",
    "for ref, tests in tradition_tests.items(): \n",
    "    if \"Title\" in ref: continue\n",
    "\n",
    "    ref = ref.split(\";\")\n",
    "    for trad, tlist in tests.items(): \n",
    "        if \"Eng\" not in trad: \n",
    "            continue\n",
    "        for test in tlist: \n",
    "            if test[0] == \"\": continue \n",
    "            # if 'Title' not in test[0]: \n",
    "            #     ref[-2] = verse_comparison(ref,test[0].split()[-1],False)\n",
    "            if test[1] is None: \n",
    "                if 'Title' in test[0]: continue \n",
    "                ref[-1] = verse_comparison(ref,test[0].split()[-1])\n",
    "            else: \n",
    "                ref[-1] =  verse_comparison(ref,test[1].split()[-1])\n",
    "    ref[-1] = normalize_cv(ref[-1])\n",
    "    ref[-2] = normalize_cv(ref[-2])   \n",
    "\n",
    "    if \"-\" in ref[-1]: \n",
    "        c,v = re.findall(r'(\\d+).\\d+-(\\d+)',ref[-1])[0]\n",
    "        ref[-1] = f\"{c}.{v}\"\n",
    "    all_refs = expand_test_id(ref,'AKJV')\n",
    "    for r in all_refs:  \n",
    "        if r not in PV: \n",
    "            PV[r] = []\n",
    "    # print(ref)\n",
    "    # print(all_refs)\n",
    "    \n",
    "    for ver in b_versions: \n",
    "        for tradition, tlist in tests.items(): \n",
    "            passed = True \n",
    "            for test in tlist:  \n",
    "                if test[0] == \"\": \n",
    "                    continue \n",
    "                if \"Title\" in test[0]: continue \n",
    "                if re.search(\"\\d+\\.\\d+\\.\\d+\", test[0]): \n",
    "                    continue \n",
    "                if len(test[0].split()) == 0: \n",
    "                    print(tradition, test, all_refs)\n",
    "                cv = test[0].split()[-1]\n",
    "                book = \" \".join(test[0].split()[:-1])\n",
    "                first, second = test[0], test[1]\n",
    "\n",
    "                if ver in ['Douay-Rheims','ODRV','Vulgate']: \n",
    "                    book = fix_name(book)\n",
    "                    first = fix_name(test[0])\n",
    "\n",
    "                if test[1] is not None: \n",
    "                    cv2 = test[1].split()[-1]\n",
    "                    book2 = \" \".join(test[1].split()[:-1])\n",
    "                    if ver in ['Douay-Rheims','ODRV','Vulgate']: \n",
    "                        book2 = fix_name(book2)\n",
    "                        second = fix_name(test[1])\n",
    "                \n",
    "                if test[-1] == 'LAST':\n",
    "                    result = LAST(book, cv, ver)\n",
    "                elif test[-1] == \"E\": \n",
    "                    result = E(book, cv, ver)\n",
    "                elif test[-1] == \"NE\": \n",
    "                    exists = E(book, cv, ver)\n",
    "                    if exists: \n",
    "                        result = False \n",
    "                    else: \n",
    "                        result = True \n",
    "                elif test[-1] == \"LT\": \n",
    "                    result = LT(first,second, ver)\n",
    "                elif test[-1] == \"GT\": \n",
    "                    result = GT(first,second, ver)\n",
    "                \n",
    "                if result == False: \n",
    "                    passed = False \n",
    "                # print(ver, tradition, result, test)\n",
    "            if 'Vulgate' == ver and tradition == 'Latin':\n",
    "                passed = True \n",
    "            elif ver in ['Geneva','AKJV'] and tradition == 'EngTitleMerged' and ref[0] == 'Psalms' and passed is False: \n",
    "                passed =True \n",
    "            elif ver in ['Wycliffe'] and ref[0] == 'Numbers':\n",
    "                if tradition != 'Latin': \n",
    "                    passed = False\n",
    "                else: \n",
    "                    passed = True \n",
    "            \n",
    "            # print(ver, tradition, passed)\n",
    "            if passed: \n",
    "                # print(ver, tradition)\n",
    "                for r in all_refs:\n",
    "                    new_key = r.split(\" (\")[0]\n",
    "                    if new_key not in mapping: \n",
    "                        continue \n",
    "                    if tradition not in mapping[new_key]: \n",
    "                        continue \n",
    "                    new_id = mapping[new_key][tradition]\n",
    "                    if new_id is None: \n",
    "                        continue \n",
    "                    \n",
    "                    if \"-\" in new_id: \n",
    "                        b = \" \".join(new_id.split()[:-1])\n",
    "                        cv1,cv2 = new_id.split()[-1].split(\"-\")\n",
    "                        new_ids = expand_test_id([b,cv1,cv2],ver) \n",
    "                    elif \"; \" in new_id: \n",
    "                        if ver in ['Douay-Rheims','ODRV','Vulgate']: \n",
    "                            new_id = fix_name(new_id)\n",
    "                        b = \" \".join(new_id.split()[:-1])\n",
    "                        CVs = new_id.split()[-1].split(\"; \")\n",
    "                        new_ids = []\n",
    "                        for cv in CVs: \n",
    "                            new_ids.append(f\"{b} {cv} ({ver})\")\n",
    "                    else: \n",
    "                        if ver in ['Douay-Rheims','ODRV','Vulgate']: \n",
    "                            new_id = fix_name(new_id)\n",
    "                        new_ids = [new_id + f\" ({ver})\"]\n",
    "                    \n",
    "                    for new_id in new_ids: \n",
    "                        if new_id in bible:  \n",
    "                            book_chap = new_id.split(\".\")[0]\n",
    "                            chap_trad[(book_chap,ver)] = tradition \n",
    "                            PV[r].append(new_id)\n",
    "                break\n",
    "print(len(PV))"
   ]
  },
  {
   "cell_type": "code",
   "execution_count": 17,
   "id": "b41c6bf9",
   "metadata": {},
   "outputs": [
    {
     "data": {
      "text/plain": [
       "'French NEG 1979 '"
      ]
     },
     "execution_count": 17,
     "metadata": {},
     "output_type": "execute_result"
    }
   ],
   "source": [
    "chap_trad[('Job 40','Geneva')]"
   ]
  },
  {
   "cell_type": "code",
   "execution_count": 18,
   "id": "2fe1e26c",
   "metadata": {},
   "outputs": [
    {
     "name": "stdout",
     "output_type": "stream",
     "text": [
      "36633\n"
     ]
    }
   ],
   "source": [
    "def chap_length(v_id,version): \n",
    "    bc = v_id.split(\".\")[0]\n",
    "    for i in range(1,1000): \n",
    "        if f\"{bc}.{i} ({version})\" not in bible: \n",
    "            return i-1 \n",
    "        \n",
    "AKJV = [v_id for v_id in bible if \"AKJV\" in v_id and \"-\" not in v_id]\n",
    "for v_id in AKJV:\n",
    "    key = v_id.split(\" (\")[0] \n",
    "    if v_id in PV: \n",
    "        if len(PV[v_id]) > 0: \n",
    "            continue \n",
    "    \n",
    "    if key in mapping: \n",
    "        b,c = re.findall(r\"([\\w\\d\\s]+) (\\d+)\\.\",key)[0]\n",
    "        c = int(c) \n",
    "        for ver in b_versions: \n",
    "            for i in range(c-1, c+2): \n",
    "                trad_key = f\"{b} {i}\"\n",
    "                if (trad_key,ver) in chap_trad: \n",
    "                    trad = chap_trad[(trad_key,ver)]\n",
    "                    new_id = mapping[key][trad]\n",
    "                    if ver in ['Douay-Rheims','ODRV','Vulgate']: \n",
    "                        new_id = fix_name(new_id)\n",
    "                    if \"-\" in new_id: \n",
    "                        b = \" \".join(new_id.split()[:-1])\n",
    "                        cv1,cv2 = new_id.split()[-1].split(\"-\")\n",
    "                        new_ids = expand_test_id([b,cv1,cv2],ver) \n",
    "                    elif \"; \" in new_id: \n",
    "                        b = \" \".join(new_id.split()[:-1])\n",
    "                        CVs = new_id.split()[-1].split(\"; \")\n",
    "                        new_ids = []\n",
    "                        for cv in CVs: \n",
    "                            new_ids.append(f\"{b} {cv} ({ver})\")\n",
    "                    else: \n",
    "                        new_ids = [new_id + f\" ({ver})\"]\n",
    "                    # print(v_id, new_ids)\n",
    "                    for new_id in new_ids: \n",
    "                        if new_id in bible:  \n",
    "                            if v_id not in PV: PV[v_id] = []\n",
    "                            PV[v_id].append(new_id)\n",
    "                    break\n",
    "    else: \n",
    "        for ver in b_versions: \n",
    "            if ver in ['Douay-Rheims','ODRV','Vulgate']: \n",
    "                new_key = fix_name(key)\n",
    "            else: \n",
    "                new_key = key \n",
    "            if f\"{new_key} ({ver})\" in bible: \n",
    "                AKJV_len = chap_length(key, 'AKJV')\n",
    "                ver_len =  chap_length(new_key, ver)\n",
    "                if AKJV_len == ver_len:\n",
    "                    if v_id not in PV: PV[v_id] = []\n",
    "                    PV[v_id].append(f\"{new_key} ({ver})\")\n",
    "                elif AKJV_len == (ver_len+1): \n",
    "                    last_verse = key.split(\".\")[0] + \".\" + str(AKJV_len)\n",
    "                    if last_verse + f\" (AKJV)\" in PV: \n",
    "                        if v_id not in PV: PV[v_id] = []\n",
    "                        PV[v_id].append(f\"{new_key} ({ver})\")\n",
    "                        # print(v_id, f\"{new_key} ({ver})\")\n",
    "                elif AKJV_len == (ver_len-1): \n",
    "                    last_verse = key.split(\".\")[0] + \".\" + str(AKJV_len)\n",
    "                    if last_verse + f\" (AKJV)\" in PV: \n",
    "                        # print(v_id, f\"{new_key} ({ver})\", last_verse)\n",
    "                        PV[v_id].append(f\"{new_key} ({ver})\")\n",
    "print(len(PV))"
   ]
  },
  {
   "cell_type": "code",
   "execution_count": 19,
   "id": "ee171090",
   "metadata": {},
   "outputs": [
    {
     "data": {
      "text/plain": [
       "['1 Chronicles 11.22 (AKJV)',\n",
       " '1 Chronicles 11.22 (Geneva)',\n",
       " '1 Paralipomenon 11.22 (Douay-Rheims)',\n",
       " '1 Paralipomenon 11.22 (Vulgate)']"
      ]
     },
     "execution_count": 19,
     "metadata": {},
     "output_type": "execute_result"
    }
   ],
   "source": [
    "PV['1 Chronicles 11.22 (AKJV)']"
   ]
  },
  {
   "cell_type": "code",
   "execution_count": 20,
   "id": "277e187a",
   "metadata": {},
   "outputs": [
    {
     "data": {
      "text/plain": [
       "['1 Samuel 20.42 (AKJV)',\n",
       " '1 Samuel 20.42 (Geneva)',\n",
       " '1 Samuel 20.43 (Geneva)',\n",
       " '1 Kings 20.42 (Douay-Rheims)',\n",
       " '1 Kings 20.43 (Douay-Rheims)',\n",
       " '1 Kings 20.42 (Vulgate)',\n",
       " '1 Kings 20.43 (Vulgate)']"
      ]
     },
     "execution_count": 20,
     "metadata": {},
     "output_type": "execute_result"
    }
   ],
   "source": [
    "PV['1 Samuel 20.42 (AKJV)']"
   ]
  },
  {
   "cell_type": "code",
   "execution_count": 21,
   "id": "737e12d5",
   "metadata": {},
   "outputs": [
    {
     "data": {
      "text/plain": [
       "['Judges 5.1 (AKJV)',\n",
       " 'Judges 5.1 (Geneva)',\n",
       " 'Judges 5.1 (Douay-Rheims)',\n",
       " 'Judges 5.1 (Vulgate)']"
      ]
     },
     "execution_count": 21,
     "metadata": {},
     "output_type": "execute_result"
    }
   ],
   "source": [
    "PV['Judges 5.1 (AKJV)']"
   ]
  },
  {
   "cell_type": "code",
   "execution_count": 22,
   "id": "b9f528b4",
   "metadata": {},
   "outputs": [
    {
     "data": {
      "text/plain": [
       "['Mark 4.41 (AKJV)',\n",
       " 'Mark 4.41 (Geneva)',\n",
       " 'Mark 4.40 (ODRV)',\n",
       " 'Mark 4.41 (Tyndale)',\n",
       " 'Mark 4.41 (Wycliffe)',\n",
       " 'Mark 4.40 (Vulgate)']"
      ]
     },
     "execution_count": 22,
     "metadata": {},
     "output_type": "execute_result"
    }
   ],
   "source": [
    "PV['Mark 4.41 (AKJV)']"
   ]
  },
  {
   "cell_type": "code",
   "execution_count": 23,
   "id": "c848b2c5",
   "metadata": {},
   "outputs": [
    {
     "data": {
      "text/plain": [
       "['Psalms 1.1 (AKJV)', 'Psalms 1.1 (Geneva)', 'Psalms 1.1 (Vulgate)']"
      ]
     },
     "execution_count": 23,
     "metadata": {},
     "output_type": "execute_result"
    }
   ],
   "source": [
    "PV['Psalms 1.1 (AKJV)']"
   ]
  },
  {
   "cell_type": "code",
   "execution_count": 24,
   "id": "b7784b4f",
   "metadata": {},
   "outputs": [
    {
     "data": {
      "text/plain": [
       "['Judith 15.3 (AKJV)',\n",
       " 'Judith 15.3 (Douay-Rheims)',\n",
       " 'Judith 15.4 (Douay-Rheims)',\n",
       " 'Judith 15.3 (Vulgate)',\n",
       " 'Judith 15.4 (Vulgate)']"
      ]
     },
     "execution_count": 24,
     "metadata": {},
     "output_type": "execute_result"
    }
   ],
   "source": [
    "PV['Judith 15.3 (AKJV)']"
   ]
  },
  {
   "cell_type": "code",
   "execution_count": 25,
   "id": "179c3c9d",
   "metadata": {},
   "outputs": [
    {
     "data": {
      "text/plain": [
       "['Numbers 12.16 (AKJV)',\n",
       " 'Numbers 13.1 (Geneva)',\n",
       " 'Numbers 13.1 (Douay-Rheims)',\n",
       " 'Numbers 13.1 (Wycliffe)',\n",
       " 'Numbers 13.1 (Vulgate)']"
      ]
     },
     "execution_count": 25,
     "metadata": {},
     "output_type": "execute_result"
    }
   ],
   "source": [
    "PV['Numbers 12.16 (AKJV)']"
   ]
  },
  {
   "cell_type": "code",
   "execution_count": 26,
   "id": "a0ea92e9",
   "metadata": {},
   "outputs": [
    {
     "data": {
      "text/plain": [
       "['Job 39.30 (AKJV)',\n",
       " 'Job 39.33 (Geneva)',\n",
       " 'Job 39.30 (Douay-Rheims)',\n",
       " 'Job 39.30 (Vulgate)']"
      ]
     },
     "execution_count": 26,
     "metadata": {},
     "output_type": "execute_result"
    }
   ],
   "source": [
    "PV['Job 39.30 (AKJV)']"
   ]
  },
  {
   "cell_type": "code",
   "execution_count": 10,
   "id": "f3067622",
   "metadata": {},
   "outputs": [
    {
     "data": {
      "text/plain": [
       "54498"
      ]
     },
     "execution_count": 10,
     "metadata": {},
     "output_type": "execute_result"
    }
   ],
   "source": [
    "from collections import defaultdict\n",
    "bible_parts = defaultdict(list)\n",
    "for key in bible:\n",
    "    if \" - \" not in key:\n",
    "        continue\n",
    "    v_id = key.split(\" - \")[0]\n",
    "    if not bible_parts[v_id]:\n",
    "        bible_parts[v_id].append(v_id)\n",
    "    bible_parts[v_id].append(key)\n",
    "len(bible_parts)"
   ]
  },
  {
   "cell_type": "code",
   "execution_count": 4,
   "id": "61dfd480",
   "metadata": {},
   "outputs": [],
   "source": [
    "with open(f\"../../Bibles/PARALLEL_VERSES.json\",'r') as file: \n",
    "    PV, _ = json.load(file)"
   ]
  },
  {
   "cell_type": "code",
   "execution_count": 7,
   "id": "ec516079",
   "metadata": {},
   "outputs": [],
   "source": [
    "apoc = {\"Susanna\",\n",
    "    \"Bel and the Dragon\",\n",
    "    'Baruch',\n",
    "    'Ecclesiasticus',\n",
    "    'Wisdom',\n",
    "    '1 Maccabees',\n",
    "    '2 Maccabees',\n",
    "    \"1 Esdras\",\n",
    "    '2 Esdras',\n",
    "    '3 Esdras',\n",
    "    '4 Esdras',\n",
    "    'Tobit',\n",
    "    'Judith',\n",
    "    '4 Maccabees',\n",
    "    'Manasseh',\n",
    "    \"Song of the Three Young Men\"}\n",
    "\n",
    "exclude = {\n",
    "    ('John 18', 'Tyndale'),\n",
    "    ('Mark 11','Tyndale'),\n",
    "    ('Psalms','Douay-Rheims'),\n",
    "    ('Psalms','ODRV')\n",
    "}"
   ]
  },
  {
   "cell_type": "code",
   "execution_count": 13,
   "id": "d539a47d",
   "metadata": {},
   "outputs": [
    {
     "name": "stdout",
     "output_type": "stream",
     "text": [
      "31175\n",
      "251257 {'1 Samuel 1.1': True}\n"
     ]
    }
   ],
   "source": [
    "p_data = {}\n",
    "for v_id, vlist in PV.items():\n",
    "    key = v_id.split(\" (\")[0]\n",
    "    bc = key.split(\".\")[0]\n",
    "    version = v_id.split(\" (\")[-1].strip(\")\")\n",
    "    book = re.findall(r\"(.*?) \\d+\\.\\d+\",key)[0]\n",
    "    if book in apoc: continue \n",
    "    if (bc,version) in exclude or (book,version) in exclude: \n",
    "       continue\n",
    "    p_data[key] = { 'q_id': key,\n",
    "                    'queries':{},\n",
    "                    'pos':list(vlist),\n",
    "                }\n",
    "    for q_id in vlist:\n",
    "        for part_id in bible_parts.get(q_id, []):\n",
    "            p_data[key]['queries'][part_id] = None \n",
    "            p_data[key]['pos'].append(part_id)\n",
    "        p_data[key]['queries'][q_id] = None \n",
    "        p_data[key]['pos'].append(q_id)\n",
    "    p_data[key]['pos'] = list(set(p_data[key]['pos']))\n",
    "    \n",
    "print(len(p_data))\n",
    "PV_dict = defaultdict(dict)\n",
    "for master_id, item in p_data.items():\n",
    "  for child_id in item['pos']:\n",
    "    PV_dict[child_id][master_id] = True\n",
    "print(len(PV_dict), PV_dict['1 Kings 1.1 (Vulgate)'])\n",
    "\n",
    "with open(f\"../../Bibles/PARALLEL_VERSES.json\",'w+') as file: \n",
    "    json.dump([p_data,PV_dict], file)"
   ]
  },
  {
   "cell_type": "code",
   "execution_count": 66,
   "id": "650c56eb",
   "metadata": {},
   "outputs": [
    {
     "data": {
      "text/plain": [
       "'sed hoc est quod dictum est per prophetam Joël:'"
      ]
     },
     "execution_count": 66,
     "metadata": {},
     "output_type": "execute_result"
    }
   ],
   "source": [
    "bible['Acts 2.16 (Vulgate)']"
   ]
  },
  {
   "cell_type": "code",
   "execution_count": 67,
   "id": "bf16dbf5",
   "metadata": {},
   "outputs": [
    {
     "data": {
      "text/plain": [
       "['Susanna 1.1 (AKJV)', 'Daniel 13.1 (ODRV)', 'Daniel 13.1 (Vulgate)']"
      ]
     },
     "execution_count": 67,
     "metadata": {},
     "output_type": "execute_result"
    }
   ],
   "source": [
    "PV['Susanna 1.1 (AKJV)']"
   ]
  },
  {
   "cell_type": "code",
   "execution_count": 68,
   "id": "f224e2a8",
   "metadata": {},
   "outputs": [
    {
     "data": {
      "text/plain": [
       "['Judges 5.31 (AKJV)',\n",
       " 'Judges 5.31 (Geneva)',\n",
       " 'Judges 5.31 (Douay-Rheims)',\n",
       " 'Judges 5.32 (Douay-Rheims)',\n",
       " 'Judges 5.31 (Vulgate)',\n",
       " 'Judges 5.32 (Vulgate)']"
      ]
     },
     "execution_count": 68,
     "metadata": {},
     "output_type": "execute_result"
    }
   ],
   "source": [
    "PV['Judges 5.31 (AKJV)']"
   ]
  },
  {
   "cell_type": "code",
   "execution_count": 69,
   "id": "a1b86fb7",
   "metadata": {},
   "outputs": [
    {
     "data": {
      "text/plain": [
       "['1 Chronicles 11.22 (AKJV)',\n",
       " '1 Chronicles 11.22 (Geneva)',\n",
       " '1 Paralipomenon 11.22 (Douay-Rheims)',\n",
       " '1 Paralipomenon 11.22 (Vulgate)']"
      ]
     },
     "execution_count": 69,
     "metadata": {},
     "output_type": "execute_result"
    }
   ],
   "source": [
    "PV['1 Chronicles 11.22 (AKJV)']"
   ]
  },
  {
   "cell_type": "code",
   "execution_count": 70,
   "id": "45d9b0e9",
   "metadata": {},
   "outputs": [
    {
     "data": {
      "text/plain": [
       "['1 Esdras 8.1 (AKJV)']"
      ]
     },
     "execution_count": 70,
     "metadata": {},
     "output_type": "execute_result"
    }
   ],
   "source": [
    "PV['1 Esdras 8.1 (AKJV)']"
   ]
  },
  {
   "cell_type": "code",
   "execution_count": 71,
   "id": "e4be7382",
   "metadata": {},
   "outputs": [
    {
     "data": {
      "text/plain": [
       "['Genesis 2.24 (AKJV)',\n",
       " 'Genesis 2.24 (Geneva)',\n",
       " 'Genesis 2.24 (ODRV)',\n",
       " 'Genesis 2.24 (Wycliffe)',\n",
       " 'Genesis 2.24 (Vulgate)']"
      ]
     },
     "execution_count": 71,
     "metadata": {},
     "output_type": "execute_result"
    }
   ],
   "source": [
    "PV['Genesis 2.24 (AKJV)']"
   ]
  },
  {
   "cell_type": "code",
   "execution_count": 72,
   "id": "f38886ba",
   "metadata": {},
   "outputs": [
    {
     "data": {
      "text/plain": [
       "['2 Samuel 1.27 (AKJV)',\n",
       " '2 Kings 1.27 (Douay-Rheims)',\n",
       " '2 Kings 1.27 (Vulgate)']"
      ]
     },
     "execution_count": 72,
     "metadata": {},
     "output_type": "execute_result"
    }
   ],
   "source": [
    "PV['2 Samuel 1.27 (AKJV)']"
   ]
  },
  {
   "cell_type": "code",
   "execution_count": 73,
   "id": "df31dd47",
   "metadata": {},
   "outputs": [
    {
     "data": {
      "text/plain": [
       "['Daniel 4.12 (AKJV)',\n",
       " 'Daniel 4.9 (Geneva)',\n",
       " 'Daniel 4.9 (ODRV)',\n",
       " 'Daniel 4.9 (Vulgate)']"
      ]
     },
     "execution_count": 73,
     "metadata": {},
     "output_type": "execute_result"
    }
   ],
   "source": [
    "PV['Daniel 4.12 (AKJV)']"
   ]
  },
  {
   "cell_type": "code",
   "execution_count": 37,
   "id": "92465e84",
   "metadata": {},
   "outputs": [
    {
     "data": {
      "text/plain": [
       "['1 Kings 22.53 (AKJV)',\n",
       " '1 Kings 22.53 (Geneva)',\n",
       " '3 Kings 22.54 (Douay-Rheims)',\n",
       " '3 Kings 22.54 (Vulgate)']"
      ]
     },
     "execution_count": 37,
     "metadata": {},
     "output_type": "execute_result"
    }
   ],
   "source": [
    "PV['1 Kings 22.53 (AKJV)']"
   ]
  },
  {
   "cell_type": "code",
   "execution_count": 38,
   "id": "44daed97",
   "metadata": {},
   "outputs": [
    {
     "data": {
      "text/plain": [
       "['Exodus 39.30 (AKJV)',\n",
       " 'Exodus 39.30 (Geneva)',\n",
       " 'Exodus 39.29 (ODRV)',\n",
       " 'Exodus 39.29 (Wycliffe)',\n",
       " 'Exodus 39.29 (Vulgate)']"
      ]
     },
     "execution_count": 38,
     "metadata": {},
     "output_type": "execute_result"
    }
   ],
   "source": [
    "PV['Exodus 39.30 (AKJV)']"
   ]
  },
  {
   "cell_type": "markdown",
   "id": "81001a95",
   "metadata": {},
   "source": [
    "# Proper Nouns "
   ]
  },
  {
   "cell_type": "code",
   "execution_count": null,
   "id": "3c0dd0f6",
   "metadata": {},
   "outputs": [],
   "source": [
    "# Biblical entities \n",
    "with open(f\"../assets/Bibles/TIPNR - Translators Individualised Proper Names with all References - STEPBible.org CC BY.txt\") as file: \n",
    "    data = file.readlines()\n",
    "in_entities_section = False\n",
    "e_to_v = {}\n",
    "for idx, line in enumerate(data): \n",
    "    line = line.strip()\n",
    "    if not line:\n",
    "        continue\n",
    "    \n",
    "    if line.startswith('$========== '):\n",
    "        in_entities_section = True\n",
    "        continue  \n",
    "    \n",
    "    if idx < 112: continue\n",
    "    if idx > 14394: continue\n",
    "    if in_entities_section:\n",
    "        if line[0] != \"–\": continue \n",
    "        if not re.search(\"@\",line): continue \n",
    "        name = re.findall(\"^(.*?)@\",line)[0]\n",
    "        refs = line.split(\"reference=\")[-1].split(\"\\t\")[-1]\n",
    "        name = name.split(\"\\t\")[-1].split(\"|\")\n",
    "        KJV_name = re.findall(r\"KJV\\s*=\\s*(.*?)[);,]\",line)\n",
    "        if len(KJV_name) > 0: \n",
    "            KJV_name = KJV_name[0]\n",
    "            name.append(KJV_name)\n",
    "        for n in name: \n",
    "            n = re.sub(\"_\",\" \",n)\n",
    "            if n not in e_to_v: e_to_v[n] = []\n",
    "            ref_list = [re.findall(\"([\\d\\w]+)\\.(\\d+\\.\\d+)\",r) for r in refs.split(\"; \")]\n",
    "            ref_list = [f\"{corrected_books[r[0][0]]} {r[0][1]}\" for r in ref_list if len(r) > 0 if r[0][0] != 'Etc']\n",
    "            e_to_v[n].extend(sorted(list(set(ref_list))))\n",
    "    else:\n",
    "        continue"
   ]
  },
  {
   "cell_type": "code",
   "execution_count": null,
   "id": "a6022bad",
   "metadata": {},
   "outputs": [],
   "source": [
    "with open(f\"../assets/Bibles/proper_nouns.json\",'w+') as file: \n",
    "    json.dump(e_to_v, file)"
   ]
  },
  {
   "cell_type": "markdown",
   "id": "c5a284a1",
   "metadata": {},
   "source": [
    "# Citations "
   ]
  },
  {
   "cell_type": "code",
   "execution_count": 3,
   "id": "ae92a355",
   "metadata": {},
   "outputs": [
    {
     "name": "stderr",
     "output_type": "stream",
     "text": [
      "  4%|▍         | 3/76 [00:16<07:06,  5.84s/it]/var/folders/3_/ylrg8wdj20l755p4921q0wg80000gp/T/ipykernel_15999/2553457035.py:16: DtypeWarning: Columns (3) have mixed types. Specify dtype option on import or set low_memory=False.\n",
      "  text = pd.read_csv(f\"../../SERMONS_APP/db/data/{era}/{prefix}_body.csv\",header=None).to_dict(orient='records')\n",
      " 36%|███▌      | 27/76 [01:40<01:27,  1.78s/it]/var/folders/3_/ylrg8wdj20l755p4921q0wg80000gp/T/ipykernel_15999/2553457035.py:16: DtypeWarning: Columns (3) have mixed types. Specify dtype option on import or set low_memory=False.\n",
      "  text = pd.read_csv(f\"../../SERMONS_APP/db/data/{era}/{prefix}_body.csv\",header=None).to_dict(orient='records')\n",
      " 84%|████████▍ | 64/76 [03:23<00:38,  3.24s/it]/var/folders/3_/ylrg8wdj20l755p4921q0wg80000gp/T/ipykernel_15999/2553457035.py:16: DtypeWarning: Columns (3) have mixed types. Specify dtype option on import or set low_memory=False.\n",
      "  text = pd.read_csv(f\"../../SERMONS_APP/db/data/{era}/{prefix}_body.csv\",header=None).to_dict(orient='records')\n",
      "100%|██████████| 76/76 [03:42<00:00,  2.93s/it]\n"
     ]
    }
   ],
   "source": [
    "import pandas as pd\n",
    "from tqdm import tqdm  \n",
    "def clean_text(s): \n",
    "    s = re.sub(r\"\\<\\/i\\>|\\<NOTE\\>|NONLATINALPHABET|\\<i\\>|\\d+\\^PAGE[S]*\\^MISSING\",\"\",s)\n",
    "    s = re.sub(r\"\\s+\",\" \",s)\n",
    "    s = s.strip(\" \")\n",
    "    return s \n",
    "all_c = {}\n",
    "c_repo = \"../../CITATIONS\"\n",
    "c_files = sorted(k for k in os.listdir(c_repo) if \".csv\" in k)\n",
    "for file in tqdm(c_files): \n",
    "    era, prefix = file.split(\"_citations.csv\")[0].split(\"_\")\n",
    "    # print(era,prefix)\n",
    "    data = pd.read_csv(f\"{c_repo}/{file}\",header=None).to_dict(orient='records')\n",
    "    data = {(d[0],d[1],d[2]):d for d in data}\n",
    "    text = pd.read_csv(f\"../../SERMONS_APP/db/data/{era}/{prefix}_body.csv\",header=None).to_dict(orient='records')\n",
    "    text = {(d[0],d[1],\"In-Text\"):clean_text(d[6]) for d in text}\n",
    "    for key, t in text.items(): \n",
    "        if key in data: \n",
    "            data[key]['text'] = t \n",
    "    if f\"{prefix}_margin.csv\" in os.listdir(f\"../../SERMONS_APP/db/data/{era}\"): \n",
    "        text = pd.read_csv(f\"../../SERMONS_APP/db/data/{era}/{prefix}_margin.csv\",header=None).to_dict(orient='records')\n",
    "        text = {(d[0],d[1],\"Note \" + str(d[2])):clean_text(d[3]) for d in text}\n",
    "        for key, t in text.items(): \n",
    "            if key in data: \n",
    "                data[key]['text'] = t\n",
    "    for d in data.values(): \n",
    "        all_c[d[6]] = d[4] \n",
    "    # data = pd.DataFrame(list(data.values()))\n",
    "    # data.to_csv(f\"{c_repo}/{file}\",index=False)"
   ]
  },
  {
   "cell_type": "code",
   "execution_count": 4,
   "id": "240ed15f",
   "metadata": {},
   "outputs": [
    {
     "data": {
      "text/plain": [
       "[('Hosea 11. 11.', 'Hosea 11.11'),\n",
       " ('Zek. 16.', 'Ezekiel 16'),\n",
       " ('Cant. 5.', 'Canticles 5'),\n",
       " ('Psalms 18.', 'Psalms 18'),\n",
       " ('Psalms 91.', 'Psalms 91'),\n",
       " ('John 15. 4:', 'John 15.4'),\n",
       " ('Psalms 18. 2.', 'Psalms 18.2'),\n",
       " ('Heb. 1.', 'Hebrews 1'),\n",
       " ('Isaiah 56.', 'Isaiah 56')]"
      ]
     },
     "execution_count": 4,
     "metadata": {},
     "output_type": "execute_result"
    }
   ],
   "source": [
    "list(all_c.items())[1:10]"
   ]
  },
  {
   "cell_type": "code",
   "execution_count": 5,
   "id": "7d3335a8",
   "metadata": {},
   "outputs": [],
   "source": [
    "import sys \n",
    "sys.path.append('../')\n",
    "from lib.EEPS_helper import isNumeral\n",
    "from collections import Counter"
   ]
  },
  {
   "cell_type": "code",
   "execution_count": 6,
   "id": "02df1368",
   "metadata": {},
   "outputs": [
    {
     "name": "stderr",
     "output_type": "stream",
     "text": [
      "100%|██████████| 304499/304499 [00:14<00:00, 21340.45it/s]\n"
     ]
    }
   ],
   "source": [
    "formats = {}\n",
    "\n",
    "def space_punctuation(text):\n",
    "    text = re.sub(r'([\\.\\,\\:\\;\\!\\?\\(\\)\\-\\&])(?=\\w)', r'\\1 ', text)\n",
    "    text = re.sub(r'(?<=\\w)([\\.\\,\\:\\;\\!\\?\\(\\)\\-\\&])', r' \\1', text)\n",
    "    text = re.sub(r'\\s+', ' ', text)\n",
    "    return text.strip()\n",
    "\n",
    "for orig in tqdm(all_c): \n",
    "    if orig == '6': continue \n",
    "    text = space_punctuation(orig)\n",
    "    tokens = text.split(\" \")\n",
    "    format = []\n",
    "    for t in tokens: \n",
    "        if isNumeral(t): \n",
    "            format.append('N')\n",
    "        elif re.search(r\"[\\.\\,\\:\\;\\!\\?\\(\\)\\-\\&]\",t):  \n",
    "            format.append(t)\n",
    "        else: \n",
    "            format.append('W')\n",
    "    format = \" \".join(format)\n",
    "    if format not in formats: formats[format] = 0\n",
    "    formats[format] += 1       "
   ]
  },
  {
   "cell_type": "code",
   "execution_count": 7,
   "id": "da430f86",
   "metadata": {},
   "outputs": [
    {
     "data": {
      "text/plain": [
       "[('W . N . N .', 77019),\n",
       " ('W N . N .', 26893),\n",
       " ('W . N . N , N .', 15401),\n",
       " ('W . N . N', 12563),\n",
       " ('W . N . N . N .', 12353),\n",
       " ('N W . N . N .', 11008),\n",
       " ('W . N .', 8755),\n",
       " ('N . W . N . N .', 6687),\n",
       " ('W . N . N .)', 4893),\n",
       " ('W . N N .', 4877)]"
      ]
     },
     "execution_count": 7,
     "metadata": {},
     "output_type": "execute_result"
    }
   ],
   "source": [
    "Counter(formats).most_common(n=10)"
   ]
  },
  {
   "cell_type": "code",
   "execution_count": 9,
   "id": "97b0e5d9",
   "metadata": {},
   "outputs": [
    {
     "data": {
      "text/plain": [
       "{'canticles': 'cant',\n",
       " 'hosea': 'hos',\n",
       " 'ezekiel': 'ezek',\n",
       " 'psalms': 'psal',\n",
       " 'john': 'john',\n",
       " 'hebrews': 'heb',\n",
       " 'isaiah': 'isa',\n",
       " 'romans': 'rom',\n",
       " 'philippians': 'phil',\n",
       " 'corinthians': 'cor',\n",
       " 'matthew': 'mat',\n",
       " 'jeremiah': 'jer',\n",
       " 'proverbs': 'prov',\n",
       " 'acts': 'acts',\n",
       " 'kings': 'king',\n",
       " 'verse': 'ver',\n",
       " 'revelation': 'rev',\n",
       " 'luke': 'luke',\n",
       " 'chronicles': 'chron',\n",
       " 'timothy': 'tim',\n",
       " 'james': 'jam',\n",
       " 'peter': 'pet',\n",
       " 'titus': 'tit',\n",
       " 'jude': 'iud',\n",
       " 'ephesians': 'eph',\n",
       " 'colossians': 'col',\n",
       " 'galatians': 'gal',\n",
       " 'deuteronomy': 'deut',\n",
       " 'samuel': 'sam',\n",
       " 'job': 'job',\n",
       " 'genesis': 'gen',\n",
       " 'micah': 'micah',\n",
       " 'lamentations': 'lam',\n",
       " 'leviticus': 'levit',\n",
       " 'exodus': 'exod',\n",
       " 'zephaniah': 'zeph',\n",
       " 'wisdom': 'wisd',\n",
       " 'daniel': 'dan',\n",
       " 'judges': 'judg',\n",
       " 'joshua': 'josh',\n",
       " 'mark': 'mark',\n",
       " 'habakkuk': 'hab',\n",
       " 'thessalonians': 'thes',\n",
       " 'esther': 'es',\n",
       " 'ecclesiastes': 'eccles',\n",
       " 'zechariah': 'zach',\n",
       " 'ezra': 'ezra',\n",
       " 'amos': 'amos',\n",
       " 'malachi': 'mal',\n",
       " 'numbers': 'numb',\n",
       " 'haggai': 'hag',\n",
       " 'jonah': 'ionah',\n",
       " 'joel': 'ioel',\n",
       " 'nehemiah': 'neh',\n",
       " 'epistle': 'epist',\n",
       " 'manasseh': 'manasseh',\n",
       " 'ruth': 'ruth',\n",
       " 'obadiah': 'obad',\n",
       " 'philemon': 'philem',\n",
       " 'nahum': 'nahum',\n",
       " 'baruch': 'baruch',\n",
       " 'ibidem': 'ibid',\n",
       " 'ecclesiasticus': 'ecclus',\n",
       " 'maccabees': 'maccab',\n",
       " 'judith': 'iudith',\n",
       " 'tobit': 'tob',\n",
       " 'azariah': 'azariah',\n",
       " 'esdras': 'esd',\n",
       " 'paralipomenon': 'paral',\n",
       " 'susanna': 'susanna'}"
      ]
     },
     "execution_count": 9,
     "metadata": {},
     "output_type": "execute_result"
    }
   ],
   "source": [
    "all_books = {}\n",
    "for orig, std in all_c.items(): \n",
    "    if orig == '6' and std == '4': continue \n",
    "    words = re.findall(r\"([A-Za-z]+)\",orig)\n",
    "    book = re.findall(r\"[A-Za-z]+\",std)[0].lower()\n",
    "    if book not in all_books: \n",
    "        all_books[book] = {}\n",
    "    for w in words: \n",
    "        if isNumeral(w): \n",
    "            continue \n",
    "        w = w.lower()\n",
    "        if w in ['of','cap','chap','verse','vers','chapter','ch']:\n",
    "            continue \n",
    "        if w not in all_books[book]: \n",
    "            all_books[book][w] = 0 \n",
    "        all_books[book][w] += 1 \n",
    "\n",
    "common_abbrev = {}\n",
    "for book, abbrevs in all_books.items(): \n",
    "    if book == \"children\": continue \n",
    "    top = Counter(abbrevs).most_common(n=1)[0]\n",
    "    common_abbrev[book] = top[0] \n",
    "\n",
    "with open(f\"../../Bibles/top_abbrev.json\",'w+') as file: \n",
    "    json.dump(common_abbrev, file)\n",
    "common_abbrev "
   ]
  }
 ],
 "metadata": {
  "kernelspec": {
   "display_name": "base",
   "language": "python",
   "name": "python3"
  },
  "language_info": {
   "codemirror_mode": {
    "name": "ipython",
    "version": 3
   },
   "file_extension": ".py",
   "mimetype": "text/x-python",
   "name": "python",
   "nbconvert_exporter": "python",
   "pygments_lexer": "ipython3",
   "version": "3.11.5"
  }
 },
 "nbformat": 4,
 "nbformat_minor": 5
}
