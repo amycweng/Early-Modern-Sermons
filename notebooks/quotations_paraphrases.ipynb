{
 "cells": [
  {
   "cell_type": "code",
   "execution_count": 1,
   "metadata": {},
   "outputs": [],
   "source": [
    "import sys,re,csv\n",
    "sys.path.append('../')\n",
    "from collections import defaultdict\n",
    "outputfolder = \"/Users/amycweng/DH/SERMONS_APP/db/data\""
   ]
  },
  {
   "cell_type": "code",
   "execution_count": 8,
   "metadata": {},
   "outputs": [],
   "source": [
    "import re\n",
    "bible = {}\n",
    "with open(f'../assets/bible/bible_parts.txt','r') as file:\n",
    "    lines = file.readlines()\n",
    "    for idx, line in enumerate(lines):\n",
    "      if len(re.findall(\"-\",line)) >= 2 and not re.search(\" \", line.strip(\"\\n\")):\n",
    "        verse = line.strip(\"\\n\")\n",
    "        text = lines[idx+1].strip(\"\\n\").strip(\" \")\n",
    "        if re.search(r\"^or else$|^yea$|^moreover$|^[lL]o$|^if otherwise$|^wait$|^and yet true$\",text): continue\n",
    "        if verse not in bible: bible[verse] = []\n",
    "        bible[verse].append(text)"
   ]
  },
  {
   "cell_type": "code",
   "execution_count": 15,
   "metadata": {},
   "outputs": [],
   "source": [
    "unique = []\n",
    "for p_list in bible.values(): \n",
    "    unique.extend(p_list)\n",
    "unique = {phrase:idx for idx, phrase in enumerate(set(all_phrases))}"
   ]
  },
  {
   "cell_type": "code",
   "execution_count": 16,
   "metadata": {},
   "outputs": [],
   "source": [
    "unique_bible = {idx:[] for idx in unique.values()}\n",
    "for label, v_list in bible.items():\n",
    "    for verse in v_list:\n",
    "        vidx = unique[verse]\n",
    "        unique_bible[vidx].append(label)"
   ]
  },
  {
   "cell_type": "code",
   "execution_count": 17,
   "metadata": {},
   "outputs": [],
   "source": [
    "phrases_csv = []\n",
    "for phrase, vidx in unique.items(): \n",
    "    phrases_csv.append({\"vidx\":vidx, \"phrase\":phrase})"
   ]
  },
  {
   "cell_type": "code",
   "execution_count": 19,
   "metadata": {},
   "outputs": [],
   "source": [
    "bible_vindices = []\n",
    "for label, vlist in bible.items(): \n",
    "    seen = []\n",
    "    label = re.sub(\"-\",\" \",label).split(\" \")\n",
    "    label = \" \".join(label[:-2]) + \" \" + label[-2] + \":\" + label[-1] + \" (KJV)\"\n",
    "    for v in vlist: \n",
    "        vidx = unique[v]\n",
    "        if vidx in seen: continue\n",
    "        bible_vindices.append({'vidx':vidx, 'verse_id':label})\n",
    "        seen.append(vidx)"
   ]
  },
  {
   "cell_type": "code",
   "execution_count": 20,
   "metadata": {},
   "outputs": [],
   "source": [
    "with open(f\"{outputfolder}/bible_phrase_indices.csv\",\"w+\") as outfile: \n",
    "    writer = csv.DictWriter(outfile, fieldnames=bible_vindices[0].keys())\n",
    "    writer.writerows(bible_vindices)"
   ]
  },
  {
   "cell_type": "code",
   "execution_count": 21,
   "metadata": {},
   "outputs": [],
   "source": [
    "with open(f\"{outputfolder}/bible_phrases.csv\",\"w+\") as outfile: \n",
    "    writer = csv.DictWriter(outfile, fieldnames=phrases_csv[0].keys())\n",
    "    writer.writerows(phrases_csv)"
   ]
  },
  {
   "cell_type": "code",
   "execution_count": 22,
   "metadata": {},
   "outputs": [],
   "source": [
    "verse_hits = {}\n",
    "with open('../assets/quotes_paraphrases/pre-Elizabethan.txt','r') as file:\n",
    "    lines = file.readlines()\n",
    "    for idx, line in enumerate(lines): \n",
    "        if len(re.findall(\"-\",line)) >= 2: \n",
    "            phrase = lines[idx+1].strip(\"\\n\")\n",
    "            vidx = unique[phrase]\n",
    "        elif re.search(\"\\t\",line): \n",
    "            score, meta, doc = line.strip(\"\\n\").split(\"\\t\")[1:]\n",
    "            score = float(score)\n",
    "            meta = meta.strip(\"(|)\").split(\", \")\n",
    "            tcpID = meta[-1].strip(\"'\")\n",
    "            sidx = meta[0]\n",
    "            if meta[1] == '-1': loc = \"In-Text\" \n",
    "            else: loc = f\"Note {meta[1]}\"\n",
    "            key = (tcpID,sidx,loc,vidx)\n",
    "            if key in verse_hits: \n",
    "                freq = verse_hits[key][1]+1\n",
    "                verse_hits[key] = (score, freq)\n",
    "            else: \n",
    "                verse_hits[(tcpID,sidx,loc,vidx)] = (score,1)\n",
    "hit_csv = []\n",
    "for hit, info in verse_hits.items(): \n",
    "    hit_csv.append({\"tcpID\":hit[0], \"sidx\": hit[1], 'loc':hit[2],\n",
    "                    \"vidx\":hit[3] , \"score\":info[0],\"freq\":info[1]})"
   ]
  },
  {
   "cell_type": "code",
   "execution_count": 23,
   "metadata": {},
   "outputs": [],
   "source": [
    "with open(f\"{outputfolder}/possible_quotes_paraphrases.csv\",\"w+\") as outfile: \n",
    "    writer = csv.DictWriter(outfile, fieldnames=hit_csv[0].keys())\n",
    "    writer.writerows(hit_csv)"
   ]
  }
 ],
 "metadata": {
  "kernelspec": {
   "display_name": "base",
   "language": "python",
   "name": "python3"
  },
  "language_info": {
   "codemirror_mode": {
    "name": "ipython",
    "version": 3
   },
   "file_extension": ".py",
   "mimetype": "text/x-python",
   "name": "python",
   "nbconvert_exporter": "python",
   "pygments_lexer": "ipython3",
   "version": "3.11.5"
  }
 },
 "nbformat": 4,
 "nbformat_minor": 2
}
