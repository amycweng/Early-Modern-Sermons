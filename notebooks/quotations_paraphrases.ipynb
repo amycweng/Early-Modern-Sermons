{
 "cells": [
  {
   "cell_type": "code",
   "execution_count": 56,
   "metadata": {},
   "outputs": [],
   "source": [
    "import sys,re,csv\n",
    "sys.path.append('../')\n",
    "from collections import defaultdict\n",
    "outputfolder = \"/Users/amycweng/DH/SERMONS_APP/db/data\""
   ]
  },
  {
   "cell_type": "code",
   "execution_count": 64,
   "metadata": {},
   "outputs": [],
   "source": [
    "import re\n",
    "bible = {}\n",
    "with open(f'../assets/bible/bible_parts.txt','r') as file:\n",
    "    lines = file.readlines()\n",
    "    for idx, line in enumerate(lines):\n",
    "      if len(re.findall(\"-\",line)) >= 2 and not re.search(\" \", line.strip(\"\\n\")):\n",
    "        verse = line.strip(\"\\n\")\n",
    "        text = lines[idx+1].strip(\"\\n\")\n",
    "        if verse not in bible: bible[verse] = []\n",
    "        bible[verse].append(text)"
   ]
  },
  {
   "cell_type": "code",
   "execution_count": 65,
   "metadata": {},
   "outputs": [],
   "source": [
    "unique_bible = {}\n",
    "vidx = -1 \n",
    "for label, v_list in bible.items():\n",
    "    for verse in v_list:\n",
    "        if verse not in unique_bible:\n",
    "            vidx += 1 \n",
    "            unique_bible[vidx] = (verse, [])\n",
    "        unique_bible[vidx][1].append(label)"
   ]
  },
  {
   "cell_type": "code",
   "execution_count": 70,
   "metadata": {},
   "outputs": [],
   "source": [
    "phrase_to_idx = {}\n",
    "phrases_csv = []\n",
    "for vidx, vtuple in unique_bible.items(): \n",
    "    phrase_to_idx[vtuple[0]] = vidx\n",
    "    phrases_csv.append({\"vidx\":vidx, \"phrase\":unique_bible[vidx][0]})"
   ]
  },
  {
   "cell_type": "code",
   "execution_count": 81,
   "metadata": {},
   "outputs": [],
   "source": [
    "bible_vindices = []\n",
    "for label, vlist in bible.items(): \n",
    "    label = re.sub(\"-\",\" \",label).split(\" \")\n",
    "    label = \" \".join(label[:-2]) + \" \" + label[-2] + \":\" + label[-1] + \" (KJV)\"\n",
    "    for v in vlist: \n",
    "        vidx = phrase_to_idx[v]\n",
    "        bible_vindices.append({'vidx':vidx, 'verse_id':label})"
   ]
  },
  {
   "cell_type": "code",
   "execution_count": 82,
   "metadata": {},
   "outputs": [],
   "source": [
    "with open(f\"{outputfolder}/bible_phrase_indices.csv\",\"w+\") as outfile: \n",
    "    writer = csv.DictWriter(outfile, fieldnames=bible_vindices[0].keys())\n",
    "    writer.writerows(bible_vindices)"
   ]
  },
  {
   "cell_type": "code",
   "execution_count": 71,
   "metadata": {},
   "outputs": [],
   "source": [
    "with open(f\"{outputfolder}/bible_phrases.csv\",\"w+\") as outfile: \n",
    "    writer = csv.DictWriter(outfile, fieldnames=phrases_csv[0].keys())\n",
    "    writer.writerows(phrases_csv)"
   ]
  },
  {
   "cell_type": "code",
   "execution_count": 90,
   "metadata": {},
   "outputs": [],
   "source": [
    "verse_hits = defaultdict(list)\n",
    "with open('../assets/quotes_paraphrases/pre-Elizabethan.txt','r') as file:\n",
    "    lines = file.readlines()\n",
    "    for idx, line in enumerate(lines): \n",
    "        if len(re.findall(\"-\",line)) >= 2: \n",
    "            phrase = lines[idx+1].strip(\"\\n\")\n",
    "            vidx = phrase_to_idx[phrase]\n",
    "        elif re.search(\"\\t\",line): \n",
    "            score, meta, doc = line.strip(\"\\n\").split(\"\\t\")[1:]\n",
    "            score = float(score)\n",
    "            meta = meta.strip(\"(|)\").split(\", \")\n",
    "            tcpID = meta[-1].strip(\"'\")\n",
    "            sidx = meta[0]\n",
    "            if meta[1] == '-1': loc = \"In-Text\" \n",
    "            else: loc = f\"Note {meta[1]}\"\n",
    "            verse_hits[(tcpID,sidx)].append((score, vidx, loc))\n",
    "hit_csv = []\n",
    "for meta, hit_list in verse_hits.items(): \n",
    "    for h in hit_list: \n",
    "        hit_csv.append({\"tcpID\":meta[0], \"sidx\": meta[1], 'loc':h[2],\n",
    "                        \"vidx\":h[1] , \"score\":h[0]})"
   ]
  },
  {
   "cell_type": "code",
   "execution_count": 91,
   "metadata": {},
   "outputs": [],
   "source": [
    "with open(f\"{outputfolder}/possible_quotes_paraphrases.csv\",\"w+\") as outfile: \n",
    "    writer = csv.DictWriter(outfile, fieldnames=hit_csv[0].keys())\n",
    "    writer.writerows(hit_csv)"
   ]
  }
 ],
 "metadata": {
  "kernelspec": {
   "display_name": "base",
   "language": "python",
   "name": "python3"
  },
  "language_info": {
   "codemirror_mode": {
    "name": "ipython",
    "version": 3
   },
   "file_extension": ".py",
   "mimetype": "text/x-python",
   "name": "python",
   "nbconvert_exporter": "python",
   "pygments_lexer": "ipython3",
   "version": "3.11.5"
  }
 },
 "nbformat": 4,
 "nbformat_minor": 2
}
