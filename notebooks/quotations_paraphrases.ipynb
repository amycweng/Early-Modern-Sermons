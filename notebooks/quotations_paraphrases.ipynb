{
 "cells": [
  {
   "cell_type": "code",
   "execution_count": 1,
   "metadata": {},
   "outputs": [],
   "source": [
    "import sys,re,csv\n",
    "sys.path.append('../')\n",
    "from collections import defaultdict\n"
   ]
  },
  {
   "cell_type": "code",
   "execution_count": 6,
   "metadata": {},
   "outputs": [],
   "source": [
    "verse_hits = {}\n",
    "with open('../assets/quotes_paraphrases/pre-Elizabethan_gospel.txt','r') as file:\n",
    "    lines = file.readlines()\n",
    "    for idx, line in enumerate(lines): \n",
    "        line = line.strip(\"\\n\")\n",
    "        if line.isdigit(): \n",
    "            vidx = line\n",
    "        elif re.search(\"\\t\",line): \n",
    "            score, meta, doc = line.strip(\"\\n\").split(\"\\t\")[1:]\n",
    "            score = float(score)\n",
    "            if score < 4: continue\n",
    "            meta = meta.strip(\"(|)\").split(\", \")\n",
    "            tcpID = meta[-1].strip(\"'\")\n",
    "            sidx = meta[0]\n",
    "            if meta[1] == '-1': loc = \"In-Text\" \n",
    "            else: loc = f\"Note {meta[1]}\"\n",
    "            key = (tcpID,sidx,loc,vidx)\n",
    "            if key in verse_hits: \n",
    "                oldscore, freq = verse_hits[key]\n",
    "                freq = freq+1\n",
    "                if score < oldscore: \n",
    "                    score = oldscore # only log the highest score \n",
    "                verse_hits[key] = (score, freq)\n",
    "            else: \n",
    "                verse_hits[key] = (score,1)\n",
    "hit_csv = []\n",
    "for hit, info in verse_hits.items(): \n",
    "    hit_csv.append({\"tcpID\":hit[0], \"sidx\": hit[1], 'loc':hit[2],\n",
    "                    \"vidx\":hit[3] , \"score\":info[0],\"freq\":info[1]})"
   ]
  },
  {
   "cell_type": "code",
   "execution_count": 7,
   "metadata": {},
   "outputs": [],
   "source": [
    "with open(f\"{outputfolder}/pre-Elizabethan/gospel.csv\",\"w+\") as outfile: \n",
    "    writer = csv.DictWriter(outfile, fieldnames=hit_csv[0].keys())\n",
    "    writer.writerows(hit_csv)"
   ]
  }
 ],
 "metadata": {
  "kernelspec": {
   "display_name": "base",
   "language": "python",
   "name": "python3"
  },
  "language_info": {
   "codemirror_mode": {
    "name": "ipython",
    "version": 3
   },
   "file_extension": ".py",
   "mimetype": "text/x-python",
   "name": "python",
   "nbconvert_exporter": "python",
   "pygments_lexer": "ipython3",
   "version": "3.11.5"
  }
 },
 "nbformat": 4,
 "nbformat_minor": 2
}
