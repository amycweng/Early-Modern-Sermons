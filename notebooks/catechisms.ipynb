{
 "cells": [
  {
   "cell_type": "code",
   "execution_count": 3,
   "metadata": {},
   "outputs": [],
   "source": [
    "import csv, os, re, sys\n",
    "import pandas as pd \n",
    "from bs4 import BeautifulSoup, SoupStrainer\n",
    "TCP = '/Users/amycweng/DH/TCP'\n",
    "sys.path.append('../')\n",
    "\n",
    "def findTextTCP(id):\n",
    "    if re.match('B1|B4',id[0:2]):\n",
    "        path = f'{TCP}/P2{id[0:2]}/{id}.P4.xml'\n",
    "    else: \n",
    "        if f'{id}.P4.xml' in os.listdir(f'{TCP}/P1{id[0:2]}'):\n",
    "            path = f'{TCP}/P1{id[0:2]}/{id}.P4.xml'\n",
    "        elif f'{id}.P4.xml' in os.listdir(f'{TCP}/P2{id[0:2]}'): \n",
    "            path = f'{TCP}/P2{id[0:2]}/{id}.P4.xml'\n",
    "    return path "
   ]
  },
  {
   "cell_type": "code",
   "execution_count": 19,
   "metadata": {},
   "outputs": [
    {
     "name": "stdout",
     "output_type": "stream",
     "text": [
      "P1B0.csv\n",
      "P1A9.csv\n",
      "P1A8.csv\n",
      "P2B2.csv\n",
      "P2B3.csv\n",
      "P2B1.csv\n",
      "P2B0.csv\n",
      "P2B4.csv\n",
      "P2A8.csv\n",
      "P2A9.csv\n",
      "P2A7.csv\n",
      "P2A6.csv\n",
      "P2A4.csv\n",
      "P2A5.csv\n",
      "P2A1.csv\n",
      "P2A0.csv\n",
      "P2A2.csv\n",
      "P2A3.csv\n",
      "P1A6.csv\n",
      "P1A7.csv\n",
      "P1A5.csv\n",
      "P1A4.csv\n",
      "P1A0.csv\n",
      "P1A1.csv\n",
      "P1A3.csv\n",
      "P1A2.csv\n"
     ]
    }
   ],
   "source": [
    "metadataFolder = '/Users/amycweng/DH/ECBC-Data-2022/TCP metadata'\n",
    "entries = []\n",
    "for csvFile in os.listdir(metadataFolder):\n",
    "    data = pd.read_csv(os.path.join(metadataFolder,csvFile))\n",
    "    dates = list(data['date'])\n",
    "    titles = list(data['title'])\n",
    "    authors = list(data['author'])\n",
    "    publishers = list(data['publisher']) \n",
    "    pubplaces = list(data['pubplace'])\n",
    "    subjects = list(data['keywords'])\n",
    "\n",
    "    for idx,tcpID in enumerate(data['id']):\n",
    "        if tcpID == \"id\": continue\n",
    "        date = re.findall(r'\\d+',str(dates[idx]))\n",
    "        if len(date) == 0: continue\n",
    "        if int(date[0]) > 1557: continue\n",
    "        filepath = findTextTCP(tcpID)\n",
    "        with open(filepath,'r') as file: \n",
    "            data = file.read()\n",
    "        # use soupstrainer to only parse the main body\n",
    "        tag = SoupStrainer(\"DIV1\")\n",
    "        soup = BeautifulSoup(data,features=\"xml\",parse_only=tag)\n",
    "        divs = soup.findAll(attrs={\"TYPE\": \"catechism\"})\n",
    "        if len(divs) > 0:      \n",
    "            entries.append( {\"id\": tcpID, \n",
    "                            \"title\": titles[idx],\n",
    "                            \"authors\": authors[idx],\n",
    "                            \"publisher\": publishers[idx],\n",
    "                            \"pubplace\":pubplaces[idx],\n",
    "                            \"subject_headings\":subjects[idx],\n",
    "                            \"date\":dates[idx]\n",
    "                            }\n",
    "            )\n",
    "    print(csvFile)"
   ]
  },
  {
   "cell_type": "code",
   "execution_count": 20,
   "metadata": {},
   "outputs": [
    {
     "data": {
      "text/plain": [
       "7"
      ]
     },
     "execution_count": 20,
     "metadata": {},
     "output_type": "execute_result"
    }
   ],
   "source": [
    "# store relevant metadata in a CSV file \n",
    "with open(\"../assets/preE_catechisms.csv\",\"w+\") as outfile: \n",
    "    writer = csv.DictWriter(outfile, fieldnames=entries[0].keys())\n",
    "    writer.writeheader()\n",
    "    writer.writerows(entries)\n",
    "\n",
    "len(entries)"
   ]
  },
  {
   "cell_type": "code",
   "execution_count": 22,
   "metadata": {},
   "outputs": [],
   "source": [
    "import shutil\n",
    "for t in entries: \n",
    "    t = t[\"id\"]\n",
    "    path = findTextTCP(t)\n",
    "    shutil.copy(path,'/Users/amycweng/DH/catechisms')"
   ]
  }
 ],
 "metadata": {
  "kernelspec": {
   "display_name": "sermons_env",
   "language": "python",
   "name": "python3"
  },
  "language_info": {
   "codemirror_mode": {
    "name": "ipython",
    "version": 3
   },
   "file_extension": ".py",
   "mimetype": "text/x-python",
   "name": "python",
   "nbconvert_exporter": "python",
   "pygments_lexer": "ipython3",
   "version": "3.11.5"
  }
 },
 "nbformat": 4,
 "nbformat_minor": 2
}
