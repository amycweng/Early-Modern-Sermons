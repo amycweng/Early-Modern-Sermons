{
 "cells": [
  {
   "cell_type": "code",
   "execution_count": 39,
   "metadata": {},
   "outputs": [],
   "source": [
    "import json \n",
    "\n",
    "with open(f\"../assets/corpora.json\",'r') as file: \n",
    "    corpora = json.load(file)"
   ]
  },
  {
   "cell_type": "code",
   "execution_count": 52,
   "metadata": {},
   "outputs": [
    {
     "data": {
      "text/plain": [
       "({'pre-Elizabethan': 2.9553264604810994,\n",
       "  'Elizabethan': 10.996563573883162,\n",
       "  'Jacobean': 23.195876288659793,\n",
       "  'Carolinian': 18.31615120274914,\n",
       "  'CivilWar': 21.40893470790378,\n",
       "  'Interregnum': 19.725085910652922,\n",
       "  'CharlesII': 52.19931271477664,\n",
       "  'JamesII': 9.140893470790378,\n",
       "  'WilliamAndMary': 42.06185567010309},\n",
       " 200.0)"
      ]
     },
     "execution_count": 52,
     "metadata": {},
     "output_type": "execute_result"
    }
   ],
   "source": [
    "era_proportion = {}\n",
    "sample_size = 200\n",
    "smooth = 0\n",
    "for era, corpus in corpora.items(): \n",
    "    count = sum([len(_) for _ in corpus.values()])\n",
    "    era_proportion[era] = count \n",
    "total = sum(era_proportion.values()) + len(era_proportion) * smooth\n",
    "era_proportion = {k: ((v+smooth)/total)*sample_size for k,v in era_proportion.items()}\n",
    "era_proportion, sum(era_proportion.values())"
   ]
  },
  {
   "cell_type": "code",
   "execution_count": 53,
   "metadata": {},
   "outputs": [
    {
     "data": {
      "text/plain": [
       "({'pre-Elizabethan': 4,\n",
       "  'Elizabethan': 11,\n",
       "  'Jacobean': 23,\n",
       "  'Carolinian': 18,\n",
       "  'CivilWar': 21,\n",
       "  'Interregnum': 20,\n",
       "  'CharlesII': 52,\n",
       "  'JamesII': 9,\n",
       "  'WilliamAndMary': 42},\n",
       " 200)"
      ]
     },
     "execution_count": 53,
     "metadata": {},
     "output_type": "execute_result"
    }
   ],
   "source": [
    "rounded = {k: round(v) for k,v in era_proportion.items()}\n",
    "rounded['pre-Elizabethan'] += 1 \n",
    "rounded, sum(rounded.values())"
   ]
  }
 ],
 "metadata": {
  "kernelspec": {
   "display_name": "sermons_env",
   "language": "python",
   "name": "python3"
  },
  "language_info": {
   "codemirror_mode": {
    "name": "ipython",
    "version": 3
   },
   "file_extension": ".py",
   "mimetype": "text/x-python",
   "name": "python",
   "nbconvert_exporter": "python",
   "pygments_lexer": "ipython3",
   "version": "3.12.2"
  }
 },
 "nbformat": 4,
 "nbformat_minor": 2
}
