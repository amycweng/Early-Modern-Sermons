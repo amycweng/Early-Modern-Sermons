{
 "cells": [
  {
   "cell_type": "markdown",
   "metadata": {},
   "source": [
    "Find possible instances of scriptural and apocryphal citations "
   ]
  },
  {
   "cell_type": "code",
   "execution_count": 1,
   "metadata": {},
   "outputs": [],
   "source": [
    "import sys \n",
    "sys.path.append('../')\n",
    "from lib.standardization import * "
   ]
  },
  {
   "cell_type": "code",
   "execution_count": null,
   "metadata": {},
   "outputs": [],
   "source": [
    "def replaceBook(note): \n",
    "    note = note.split(\" \")\n",
    "    for idx, word in enumerate(note): \n",
    "        word = re.sub(\"v\",\"u\",word)\n",
    "        word = re.sub(r\"^i\",\"j\",word)\n",
    "        if word in bible_dict:\n",
    "            note[idx] = bible_dict[word]\n",
    "    return \" \".join(note) \n",
    "\n",
    "'''Converts numbered books into a single string, e.g., '1 corinthians' to '1corinthians' for ease of processing'''\n",
    "def replaceNumBook(text):\n",
    "    book = \" \".join(text.split(\" \")[0:2])\n",
    "    if book in numBook:  \n",
    "        text = re.sub(rf'{book}', numBook[book], text)\n",
    "    return text"
   ]
  },
  {
   "cell_type": "code",
   "execution_count": null,
   "metadata": {},
   "outputs": [],
   "source": [
    "import csv, re\n",
    "\n",
    "# outfile = open(\"sermons_possible_citations.csv\",\"w+\")\n",
    "# writer = csv.DictWriter(outfile, fieldnames=[\"tcp_id\",\"div_path\",\"sourceline\",\"sourcepos\",\"note\"])\n",
    "# writer.writeheader()\n",
    "\n",
    "with open('sermons_marginalia.csv', 'r') as file:          # Read lines separately\n",
    "    notes = csv.reader(file, delimiter=',')\n",
    "    # find instances of possible numbered books\n",
    "    known, unknown = {}, {}  \n",
    "    for idx, entry in enumerate(notes):\n",
    "        # get note text \n",
    "        n = entry[-1]\n",
    "        # replace all periods with spaces and convert to lower case \n",
    "        n = re.sub(r'(\\.)',r' ',n).lower()\n",
    "        # replace all instances of two or more spaces with a single space. \n",
    "        n = re.sub(r'\\s+',' ',n)\n",
    "        possible = re.findall(r'\\b([a-z]+)\\b \\b[0-9•]+\\b \\b[0-9•v]+\\b', n)"
   ]
  }
 ],
 "metadata": {
  "kernelspec": {
   "display_name": "base",
   "language": "python",
   "name": "python3"
  },
  "language_info": {
   "codemirror_mode": {
    "name": "ipython",
    "version": 3
   },
   "file_extension": ".py",
   "mimetype": "text/x-python",
   "name": "python",
   "nbconvert_exporter": "python",
   "pygments_lexer": "ipython3",
   "version": "3.9.18"
  }
 },
 "nbformat": 4,
 "nbformat_minor": 2
}
