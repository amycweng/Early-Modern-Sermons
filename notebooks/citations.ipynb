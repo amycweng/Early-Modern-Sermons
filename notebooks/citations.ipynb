{
 "cells": [
  {
   "cell_type": "markdown",
   "metadata": {},
   "source": [
    "Find possible instances of scriptural and apocryphal citations "
   ]
  },
  {
   "cell_type": "code",
   "execution_count": null,
   "metadata": {},
   "outputs": [],
   "source": [
    "import sys \n",
    "sys.path.append('../')\n",
    "from lib.standardization import * "
   ]
  },
  {
   "cell_type": "code",
   "execution_count": 2,
   "metadata": {},
   "outputs": [
    {
     "name": "stdout",
     "output_type": "stream",
     "text": [
      "Processed 100000 entries\n",
      "Processed 200000 entries\n",
      "Processed 300000 entries\n",
      "Processed 400000 entries\n",
      "Processed 500000 entries\n",
      "Processed 600000 entries\n"
     ]
    }
   ],
   "source": [
    "outputs = []\n",
    "with open('../assets/sermons_marginalia.csv', 'r') as file:          \n",
    "    notes = csv.reader(file, delimiter=',')\n",
    "\n",
    "    formatting_outliers = []\n",
    "    citations, outliers = [],[]\n",
    "    for idx, entry in enumerate(notes):\n",
    "        # output dictionary \n",
    "        info_dict = {'idx':idx, 'tcpID':entry[0],'citations':None, 'outliers':None,'original':entry[-1]}\n",
    "        # get note text \n",
    "        n = entry[-1]\n",
    "        n = clean_text(n)\n",
    "        # find possible citations \n",
    "        n = replaceBook(n)\n",
    "        match = re.findall(r'([a-z*]+ [\\d*\\,\\&\\-\\— ]+)', n)\n",
    "        c,o = [],[]\n",
    "        if len(match) > 0: \n",
    "            for item in match:\n",
    "                item = item.strip(\" \")\n",
    "                item = item.split(\" \")\n",
    "                book = item[0]\n",
    "                if len(item) == 2 and item[1] == \"&\":\n",
    "                    continue # trivial case of \"<word> &\"\n",
    "                if len(item) == 1: \n",
    "                    continue \n",
    "                item = \" \".join(item)\n",
    "                if book not in abbrev and book not in numBook.values():\n",
    "                    o.append(item)\n",
    "                else: \n",
    "                    decomposed = findCitations(item)\n",
    "                    c.extend(decomposed[0])\n",
    "                    o.extend(decomposed[1])\n",
    "                    formatting_outliers.extend(decomposed[1])                     \n",
    "            info_dict['citations'] = \"; \".join(c) \n",
    "            info_dict['outliers'] = \"; \".join(o)\n",
    "            outputs.append(info_dict)\n",
    "            citations.extend(c)\n",
    "            outliers.extend(o)\n",
    "        if (idx+1) % 100000 == 0: \n",
    "            print(f\"Processed {idx+1} entries\")\n",
    "\n",
    "\n",
    "outfile = open(\"../outputs/citations.csv\",\"w+\")\n",
    "writer = csv.DictWriter(outfile, fieldnames=[\"idx\",\"tcpID\",\"citations\",\"outliers\",\"original\"])\n",
    "writer.writeheader()\n",
    "for dict in outputs: \n",
    "    writer.writerow(dict)\n",
    "outfile.close()"
   ]
  },
  {
   "cell_type": "code",
   "execution_count": 38,
   "metadata": {},
   "outputs": [],
   "source": [
    "from collections import defaultdict\n",
    "\n",
    "catalog = {}\n",
    "for dict in outputs: \n",
    "    c = dict[\"citations\"].split(\" \")\n",
    "    if len(c[0]) == 0: \n",
    "        continue\n",
    "    tcpID = dict[\"tcpID\"]\n",
    "    if tcpID not in catalog: \n",
    "        catalog[tcpID] = {'only_chapter':0,'verse':0,'corrupted_ch_only':0,'corrupted_v_only':0,'all_corrupt':0}\n",
    "    if re.match(r'[\\d\\*]',c[0]): \n",
    "        book = f\"{c[0]} {c[1]}\"\n",
    "        ref = c[2]\n",
    "    else: \n",
    "        book = c[0]\n",
    "        ref = c[1]\n",
    "    ref = ref.split(\".\")\n",
    "    chapter = ref[0]\n",
    "    if \"*\" in chapter and len(ref) < 2: \n",
    "        catalog[tcpID]['corrupted_ch_only'] += 1 \n",
    "    elif len(ref) == 2: \n",
    "        verse = ref[1] \n",
    "        if \"*\" in verse: \n",
    "            if '*' in chapter: \n",
    "                catalog[tcpID]['all_corrupt'] += 1 \n",
    "            else: \n",
    "                catalog[tcpID]['corrupted_v_only'] += 1 \n",
    "        else: \n",
    "            catalog[tcpID]['verse'] += 1 \n",
    "    else: \n",
    "        catalog[tcpID]['only_chapter'] += 1 "
   ]
  },
  {
   "cell_type": "code",
   "execution_count": 65,
   "metadata": {},
   "outputs": [],
   "source": [
    "for tcpID, dict in catalog.items():\n",
    "    corrupt = dict[\"all_corrupt\"] + dict[\"corrupted_v_only\"] + dict[\"corrupted_ch_only\"]\n",
    "    total = dict[\"verse\"]+corrupt + dict[\"only_chapter\"]\n",
    "    corrupt_ratio = 0 \n",
    "    if total > 0: \n",
    "        corrupt_ratio = corrupt/total\n",
    "    catalog[tcpID]['corrupt_ratio'] = corrupt_ratio \n",
    "    catalog[tcpID]['total'] = total\n",
    "    \n",
    "sorted_catalog = sorted(catalog, key= lambda x: (catalog[x]['corrupt_ratio'],\n",
    "                                                 catalog[x]['total']),reverse=True)"
   ]
  },
  {
   "cell_type": "code",
   "execution_count": 73,
   "metadata": {},
   "outputs": [
    {
     "name": "stdout",
     "output_type": "stream",
     "text": [
      "B00422 42 total 9 corrupted chapters 13 corrupted verses 1 completely corrupted\n",
      "A02461 20 total 9 corrupted chapters 0 corrupted verses 0 completely corrupted\n",
      "A10353 442 total 71 corrupted chapters 79 corrupted verses 44 completely corrupted\n",
      "B22963 30 total 2 corrupted chapters 11 corrupted verses 0 completely corrupted\n",
      "A04214 181 total 59 corrupted chapters 15 corrupted verses 1 completely corrupted\n",
      "A05143 365 total 136 corrupted chapters 5 corrupted verses 1 completely corrupted\n",
      "A02242 31 total 12 corrupted chapters 0 corrupted verses 0 completely corrupted\n",
      "A79477 21 total 4 corrupted chapters 4 corrupted verses 0 completely corrupted\n",
      "A01331 17 total 0 corrupted chapters 5 corrupted verses 1 completely corrupted\n",
      "A15453 37 total 3 corrupted chapters 6 corrupted verses 4 completely corrupted\n",
      "A17338 20 total 4 corrupted chapters 3 corrupted verses 0 completely corrupted\n",
      "A04085 18 total 1 corrupted chapters 3 corrupted verses 2 completely corrupted\n",
      "A02359 19 total 6 corrupted chapters 0 corrupted verses 0 completely corrupted\n",
      "A95973 16 total 1 corrupted chapters 4 corrupted verses 0 completely corrupted\n",
      "A45546 17 total 0 corrupted chapters 5 corrupted verses 0 completely corrupted\n",
      "A10341 22 total 6 corrupted chapters 0 corrupted verses 0 completely corrupted\n",
      "A06329 97 total 26 corrupted chapters 0 corrupted verses 0 completely corrupted\n",
      "A47416 30 total 7 corrupted chapters 1 corrupted verses 0 completely corrupted\n",
      "A08528 34 total 9 corrupted chapters 0 corrupted verses 0 completely corrupted\n",
      "A14664 53 total 9 corrupted chapters 5 corrupted verses 0 completely corrupted\n",
      "A07819 19 total 0 corrupted chapters 3 corrupted verses 2 completely corrupted\n",
      "A15462 27 total 2 corrupted chapters 3 corrupted verses 2 completely corrupted\n",
      "A45206 31 total 0 corrupted chapters 6 corrupted verses 2 completely corrupted\n",
      "A16091 117 total 30 corrupted chapters 0 corrupted verses 0 completely corrupted\n",
      "A11010 12 total 2 corrupted chapters 0 corrupted verses 1 completely corrupted\n",
      "A16366 88 total 21 corrupted chapters 0 corrupted verses 0 completely corrupted\n",
      "B26664 26 total 2 corrupted chapters 4 corrupted verses 0 completely corrupted\n",
      "A04924 40 total 6 corrupted chapters 2 corrupted verses 1 completely corrupted\n",
      "A02186 370 total 18 corrupted chapters 42 corrupted verses 23 completely corrupted\n",
      "A15556 27 total 6 corrupted chapters 0 corrupted verses 0 completely corrupted\n",
      "A94068 51 total 3 corrupted chapters 7 corrupted verses 1 completely corrupted\n",
      "A08050 42 total 9 corrupted chapters 0 corrupted verses 0 completely corrupted\n",
      "A06004 14 total 2 corrupted chapters 1 corrupted verses 0 completely corrupted\n",
      "A61614 33 total 6 corrupted chapters 0 corrupted verses 1 completely corrupted\n",
      "A55875 33 total 6 corrupted chapters 1 corrupted verses 0 completely corrupted\n",
      "A00769 24 total 5 corrupted chapters 0 corrupted verses 0 completely corrupted\n",
      "A57963 53 total 8 corrupted chapters 2 corrupted verses 1 completely corrupted\n",
      "A80759 39 total 2 corrupted chapters 4 corrupted verses 2 completely corrupted\n",
      "2110 with citations not corrupted and 1316 texts with small ratios of corrupted citations\n",
      "82 texts with high corruption ratios\n",
      "185 texts with moderate corruption ratios\n"
     ]
    }
   ],
   "source": [
    "not_corrupted = []\n",
    "low_corruption = []\n",
    "high_corruption = []\n",
    "for tcpID in sorted_catalog: \n",
    "    if catalog[tcpID]['corrupt_ratio'] == 0: \n",
    "        not_corrupted.append(tcpID)\n",
    "    elif catalog[tcpID]['corrupt_ratio'] < 0.1: \n",
    "        low_corruption.append(tcpID)\n",
    "    elif catalog[tcpID]['corrupt_ratio'] > 0.2: \n",
    "        high_corruption.append(tcpID)\n",
    "        if catalog[tcpID]['total'] > 10: \n",
    "            print(tcpID, catalog[tcpID]['total'], \"total\",\n",
    "                catalog[tcpID]['corrupted_ch_only'],'corrupted chapters',\n",
    "                catalog[tcpID]['corrupted_v_only'],'corrupted verses',\n",
    "                catalog[tcpID]['all_corrupt'],'completely corrupted' )\n",
    "print(len(not_corrupted), \"with citations not corrupted and\",len(low_corruption),\"texts with small ratios of corrupted citations\")\n",
    "print(len(high_corruption), \"texts with high corruption ratios\")\n",
    "print(len(sorted_catalog) - (len(not_corrupted) + len(low_corruption) + len(high_corruption)),'texts with moderate corruption ratios')"
   ]
  },
  {
   "cell_type": "code",
   "execution_count": 78,
   "metadata": {},
   "outputs": [
    {
     "data": {
      "text/plain": [
       "<matplotlib.collections.PathCollection at 0x7f7b3e67baf0>"
      ]
     },
     "execution_count": 78,
     "metadata": {},
     "output_type": "execute_result"
    },
    {
     "data": {
      "image/png": "[encoded data removed]",
      "text/plain": [
       "<Figure size 640x480 with 1 Axes>"
      ]
     },
     "metadata": {},
     "output_type": "display_data"
    }
   ],
   "source": [
    "from matplotlib.pyplot import scatter \n",
    "from collections import Counter\n",
    "counts = Counter(([catalog[tcpID]['total'] for tcpID in sorted_catalog]))\n",
    "scatter(counts.keys(),counts.values())"
   ]
  },
  {
   "cell_type": "code",
   "execution_count": null,
   "metadata": {},
   "outputs": [],
   "source": [
    "for tcpID, dict in catalog.items():\n",
    "    corrupt_verses = dict[\"all_corrupt\"] + dict[\"corrupted_v_only\"]\n",
    "    corrupt_chapters = dict[\"corrupted_ch_only\"]\n",
    "    total_verses = dict[\"verse\"]+corrupt_verses\n",
    "    total_chapters = dict[\"only_chapter\"]+corrupt_chapters\n",
    "    if total_verses > 0: \n",
    "        v_ratio = corrupt_verses/total_verses\n",
    "    if total_chapters > 0: \n",
    "        c_ratio = corrupt_chapters/total_chapters\n",
    "    catalog[tcpID]['corrupt_ch_ratio'] = c_ratio \n",
    "    catalog[tcpID]['corrupt_v_ratio'] = v_ratio \n",
    "sorted_catalog = sorted(catalog, key= lambda x: (catalog[x]['corrupt_ch_ratio'], \n",
    "                                                catalog[x]['corrupt_v_ratio']))\n",
    "for tcpID in reversed(sorted_catalog): \n",
    "    print(catalog[tcpID])"
   ]
  },
  {
   "cell_type": "code",
   "execution_count": 4,
   "metadata": {},
   "outputs": [
    {
     "name": "stdout",
     "output_type": "stream",
     "text": [
      "amos 8 4 5-11\n",
      "nehemiah 2 4-4 4-4 9-5 19-6 14-13 14-22-29\n",
      "nehemiah 1 8-6 14-13 14-22-29-31\n",
      "john 19 1-6-15\n",
      "acts 14 14 15-8\n",
      "revelation 7 7 8-10 11\n",
      "11 4, 5, 7 8, 20, 21, 33-34\n",
      "acts 2 24 32 3 15, 26 4 10 5 30 13-30, 33\n",
      "john 5 24 3-18\n",
      "hebrews 10 32-34 11 24-26\n",
      "onepeter onepeter 4 12-19 3 14-17\n",
      "twothessalonians 3 7 9-8\n",
      "psalms 113 5 *-7\n",
      "psalms 62 11-2-79 12\n",
      "unknownpeter 2 19 20-26\n",
      "onecorinthians onecorinthians 5 1 9-11 6 9-18 7 1\n",
      "leviticus 4 3 29 33-5 6, 7 9 11-9 22-12 6, 8-14 13-16 16\n",
      "matthew 17 10 11-11 14\n",
      "psalms 42 3-10-69 19 80 5 6-89 50, 51-123 3, 4\n",
      "onetimothy 1 4 6-2 7\n",
      "genesis 30 35-37 13 14-42 1, 2, 3-43 15-47 1, 2, 3\n",
      "john 14 1 15 11-16 33\n",
      "onesamuel 20 30 33-22 8\n",
      "psalms 25-94-55-42 143 2, 3\n",
      "psalms 62 11-12-79 12\n",
      "3 24 5, 15-17\n",
      "revelation 3 5 21-21 7-22 5\n",
      "90 5, 7, 8,-11\n",
      "ecclesiasticus 33 5 7-13\n",
      "jeremiah 9 5 2-8\n",
      "james 2 5 1-4\n",
      "twocorinthians 2 17-,\n",
      "luke 24 9 10-50 51\n",
      "2 12, 14,-19\n",
      "onecorinthians onecorinthians 51 9-11 6 9-18 7 1,\n"
     ]
    }
   ],
   "source": [
    "for item in formatting_outliers: \n",
    "    if len(item.split(\" \")) > 2: \n",
    "        print(item)"
   ]
  },
  {
   "cell_type": "code",
   "execution_count": 57,
   "metadata": {},
   "outputs": [],
   "source": [
    "# from collections import Counter\n",
    "# from difflib import SequenceMatcher\n",
    "# possible_abbrev = []\n",
    "# for o in outliers: \n",
    "#     possible_abbrev.append(o.split(\" \")[0]) \n",
    "\n",
    "# possible_abbrev = Counter(possible_abbrev).items()\n",
    "# possible_matches = {k:[] for k in abbrev}\n",
    "# for word,freq in possible_abbrev:\n",
    "#     # print(word)\n",
    "#     # finding possible matches to any of the known abbreviations for each book\n",
    "#     if word not in abbrev_to_book: \n",
    "#         for ab, book in abbrev_to_book.items():\n",
    "#             similarity = SequenceMatcher(None, ab, word).ratio()\n",
    "#             if similarity >= 0.8:\n",
    "#                 possible_matches[book].append((word,freq))\n",
    "#                 break"
   ]
  },
  {
   "cell_type": "code",
   "execution_count": 58,
   "metadata": {},
   "outputs": [],
   "source": [
    "# clean_format = []\n",
    "# for book, variants in possible_matches.items(): \n",
    "#     for v,freq in variants:\n",
    "#         clean_format.append(f\"{book}: {v} {freq}\\n\") \n",
    "#     clean_format.append(\"\\n\")\n",
    "# with open(f\"../assets/possible_variants_2.txt\",\"w+\") as file: \n",
    "#     file.writelines(clean_format)"
   ]
  },
  {
   "cell_type": "code",
   "execution_count": null,
   "metadata": {},
   "outputs": [],
   "source": [
    "# with open(f\"../assets/possible_variants_2 copy.txt\",\"r\") as file: \n",
    "#     lines = file.readlines() \n",
    "# for line in lines: \n",
    "#     line = line.split(\" \")\n",
    "#     b, ab = line[0].strip(\":\"), line[1]\n",
    "#     abbrev[b].append(ab)\n",
    "# count = 0 \n",
    "# for b,ab_list in abbrev.items(): \n",
    "#     print(f\"'{b}':\")\n",
    "#     print(\"[\")\n",
    "#     for ab in sorted(set(ab_list)): \n",
    "#         print(f\"\\t'{ab}',\")\n",
    "#     print(f\"],\")"
   ]
  }
 ],
 "metadata": {
  "kernelspec": {
   "display_name": "base",
   "language": "python",
   "name": "python3"
  },
  "language_info": {
   "codemirror_mode": {
    "name": "ipython",
    "version": 3
   },
   "file_extension": ".py",
   "mimetype": "text/x-python",
   "name": "python",
   "nbconvert_exporter": "python",
   "pygments_lexer": "ipython3",
   "version": "3.9.18"
  }
 },
 "nbformat": 4,
 "nbformat_minor": 2
}
