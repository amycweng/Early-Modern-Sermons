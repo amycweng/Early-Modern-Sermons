{
 "cells": [
  {
   "cell_type": "code",
   "execution_count": 2,
   "metadata": {},
   "outputs": [],
   "source": [
    "import pandas as pd \n",
    "import json \n",
    "import re \n",
    "import warnings\n",
    "warnings.filterwarnings(\"ignore\", category=pd.errors.SettingWithCopyWarning)"
   ]
  },
  {
   "cell_type": "code",
   "execution_count": 3,
   "metadata": {},
   "outputs": [
    {
     "data": {
      "text/plain": [
       "'Genesis 1.1 (Douay-Rheims)'"
      ]
     },
     "execution_count": 3,
     "metadata": {},
     "output_type": "execute_result"
    }
   ],
   "source": [
    "# get Bibles \n",
    "bible_dir = \"/Users/amycweng/DH/SERMONS_APP/db/data/Bibles\"\n",
    "bibles = ['Douay-Rheims','Geneva','KJV','Tyndale','Wycliffe','Vulgate']\n",
    "bible_verses = {}\n",
    "for b in bibles: \n",
    "    with open(f\"{bible_dir}/{b}.json\",'r') as f: \n",
    "        verses = json.load(f)\n",
    "    for v in verses: \n",
    "        bible_verses[f'{v} ({b})'] = verses[v]\n",
    "list(bible_verses.keys())[0]\n"
   ]
  },
  {
   "cell_type": "code",
   "execution_count": 4,
   "metadata": {},
   "outputs": [
    {
     "name": "stdout",
     "output_type": "stream",
     "text": [
      "pre-Elizabethan\n"
     ]
    }
   ],
   "source": [
    "with open('../assets/corpora.json','r') as file: \n",
    "    corpora = json.load(file)\n",
    "\n",
    "main_dir = \"/Users/amycweng/DH/EEPS\"\n",
    "for era in corpora: \n",
    "    qp_file = f\"/Users/amycweng/DH/SERMONS_APP/db/data/{era}/paraphrases.csv\"\n",
    "    qp = pd.read_csv(qp_file,header=None)\n",
    "    qp = qp.sort_values(by=3,ignore_index=True)\n",
    "    qp[8] = ''\n",
    "    for idx, qp_label in enumerate(qp[3]): \n",
    "        qp[8][idx] = bible_verses[qp_label] \n",
    "    qp.to_csv(f\"{main_dir}/qp/{era}_qp.csv\",index=False)\n",
    "    print(era)\n",
    "    break"
   ]
  },
  {
   "cell_type": "code",
   "execution_count": null,
   "metadata": {},
   "outputs": [],
   "source": [
    "import os \n",
    "valid_files = os.listdir(f\"{main_dir}/encodings_new\")\n",
    "for era in corpora: \n",
    "    qp_file = f\"/Users/amycweng/DH/SERMONS_APP/db/data/{era}/paraphrases.csv\"\n",
    "    qp = pd.read_csv(qp_file,header=None)\n",
    "    tcpIDs = qp[0].unique()\n",
    "    all_dfs = []\n",
    "    for tcpID in tcpIDs:\n",
    "        if f\"{tcpID}_encoded.csv\" not in valid_files: \n",
    "            continue \n",
    "        df = pd.read_csv(f\"{main_dir}/encodings_new/{tcpID}_encoded.csv\")\n",
    "        df['qp_tag'] = df['qp_tag'].apply(lambda x: x != \"True\")\n",
    "        df = df.groupby('sent_idx').agg({\n",
    "                'token': lambda x: ' '.join(x),  \n",
    "                'cite_label':lambda x: list(set(x)),\n",
    "            }).reset_index()\n",
    "        df['tcpID'] = tcpID\n",
    "        df['cite_label'] = df['cite_label'].apply(lambda x: [v for v in x if not pd.isna(v)])\n",
    "        df = df[df['cite_label'].apply(lambda x: x != [])]        \n",
    "        new_order = ['tcpID','sent_idx','token']\n",
    "        df = df[new_order]\n",
    "        all_dfs.append(df)\n",
    "    all_dfs = pd.concat(all_dfs)\n",
    "    print(era)\n",
    "    all_dfs.to_csv(f\"{main_dir}/qp/{era}_citations.csv\",index=False)"
   ]
  }
 ],
 "metadata": {
  "kernelspec": {
   "display_name": "base",
   "language": "python",
   "name": "python3"
  },
  "language_info": {
   "codemirror_mode": {
    "name": "ipython",
    "version": 3
   },
   "file_extension": ".py",
   "mimetype": "text/x-python",
   "name": "python",
   "nbconvert_exporter": "python",
   "pygments_lexer": "ipython3",
   "version": "3.11.5"
  }
 },
 "nbformat": 4,
 "nbformat_minor": 2
}
